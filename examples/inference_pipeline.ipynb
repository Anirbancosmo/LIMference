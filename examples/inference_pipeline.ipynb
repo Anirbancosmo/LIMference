{
 "cells": [
  {
   "cell_type": "code",
   "execution_count": 1,
   "id": "cc56c2ac",
   "metadata": {},
   "outputs": [
    {
     "name": "stderr",
     "output_type": "stream",
     "text": [
      "OMP: Info #276: omp_set_nested routine deprecated, please use omp_set_max_active_levels instead.\n"
     ]
    }
   ],
   "source": [
    "import numpy as np\n",
    "import torch\n",
    "import matplotlib.pyplot as plt\n",
    "from pathlib import Path\n",
    "import warnings\n",
    "from scipy import stats\n",
    "from scipy.optimize import minimize_scalar\n",
    "from typing import Dict, List, Optional, Tuple, Any\n",
    "\n",
    "from limference import (\n",
    "    LIMference, \n",
    "    LIMConfig,\n",
    "    ParameterConfig,\n",
    "    calculate_statistics,\n",
    "    create_corner_plot\n",
    ")\n",
    "\n",
    "class SBIConvergenceTester:\n",
    "    \"\"\"\n",
    "    General class for testing any SBI method with convergence analysis.\n",
    "    Works with any set of parameters specified by the user.\n",
    "    \n",
    "    Data Split Strategy:\n",
    "    -------------------\n",
    "    - Training: indices [0:n_train]\n",
    "    - Test (calibration): indices [n_train:n_train+n_calibration]\n",
    "    - Test (validation): indices [n_train+n_calibration:n_train+n_test]\n",
    "    \n",
    "    Dependencies:\n",
    "    ------------\n",
    "    Required: numpy, torch, scipy, matplotlib, limference\n",
    "    Optional: arviz (for MCMC diagnostics), sklearn (for isotonic calibration)\n",
    "    \"\"\"\n",
    "    \n",
    "    def __init__(\n",
    "        self,\n",
    "        param_names: List[str],\n",
    "        param_labels: Optional[Dict[str, str]] = None,\n",
    "        inference_methods: List[str] = [\"NPE\"],\n",
    "        analysis_methods: List[str] = [\"pdf\"],\n",
    "        n_train: int = 2000,\n",
    "        n_test: int = 500,\n",
    "        n_calibration: int = 50,\n",
    "        config_kwargs: Optional[Dict] = None,\n",
    "        test_obs_idx: int = 0,\n",
    "        check_dependencies: bool = True\n",
    "    ):\n",
    "        \"\"\"Initialize tester with flexible parameter specification.\"\"\"\n",
    "        self.param_names = param_names\n",
    "        self.n_params = len(param_names)\n",
    "        \n",
    "        if param_labels is None:\n",
    "            self.param_labels = self._create_default_labels(param_names)\n",
    "        else:\n",
    "            self.param_labels = param_labels\n",
    "            for name in param_names:\n",
    "                if name not in self.param_labels:\n",
    "                    self.param_labels[name] = self._create_default_labels([name])[name]\n",
    "        \n",
    "        self.inference_methods = inference_methods\n",
    "        self.analysis_methods = analysis_methods\n",
    "        self.n_train = n_train\n",
    "        self.n_test = n_test\n",
    "        self.n_calibration = n_calibration\n",
    "        self.config_kwargs = config_kwargs or {}\n",
    "        \n",
    "        self.data_loaded = False\n",
    "        self.models_trained = False\n",
    "        self.results = {}\n",
    "        self.test_obs_idx = test_obs_idx\n",
    "        \n",
    "        # Check optional dependencies if requested\n",
    "        if check_dependencies:\n",
    "            self._check_dependencies()\n",
    "    \n",
    "    def _check_dependencies(self):\n",
    "        \"\"\"Check for optional dependencies and warn if missing.\"\"\"\n",
    "        optional_deps = {\n",
    "            'arviz': 'MCMC diagnostics (run_mcmc_diagnostics)',\n",
    "            'sklearn': 'Isotonic calibration (calibrate_posteriors with method=\"isotonic\")',\n",
    "            'sbi.diagnostics.lc2st': 'LC2ST diagnostics (run_lc2st_diagnostic)',\n",
    "            'sbi.analysis': 'Advanced analysis (active subspace, conditional distributions)'\n",
    "        }\n",
    "        \n",
    "        self.available_features = {}\n",
    "        \n",
    "        for dep, feature in optional_deps.items():\n",
    "            try:\n",
    "                if '.' in dep:\n",
    "                    # Handle nested imports\n",
    "                    parts = dep.split('.')\n",
    "                    mod = __import__(parts[0])\n",
    "                    for part in parts[1:]:\n",
    "                        mod = getattr(mod, part)\n",
    "                else:\n",
    "                    __import__(dep)\n",
    "                self.available_features[dep] = True\n",
    "            except ImportError:\n",
    "                self.available_features[dep] = False\n",
    "                print(f\"Optional dependency '{dep}' not found. Feature disabled: {feature}\")\n",
    "    \n",
    "    def _create_default_labels(self, names: List[str]) -> Dict[str, str]:\n",
    "        \"\"\"Create default LaTeX labels for common parameter names.\"\"\"\n",
    "        default_labels = {\n",
    "            'omega_m': r'$\\Omega_m$',\n",
    "            'Omega_m': r'$\\Omega_m$',\n",
    "            'h': r'$h$',\n",
    "            'sigma8': r'$\\sigma_8$',\n",
    "            'sigma_8': r'$\\sigma_8$',\n",
    "        }\n",
    "        \n",
    "        labels = {}\n",
    "        for name in names:\n",
    "            if name in default_labels:\n",
    "                labels[name] = default_labels[name]\n",
    "            else:\n",
    "                labels[name] = name.replace('_', ' ')\n",
    "        \n",
    "        return labels\n",
    "    \n",
    "    def load_data(self, sim_root: str, seed: int = 1, param_file_keys: Optional[Dict[str, str]] = None):\n",
    "        \"\"\"Load simulation data with flexible parameter extraction.\"\"\"\n",
    "        print(f\"Loading data from {sim_root}...\")\n",
    "        \n",
    "        ps_file = np.load(sim_root + f\"ps_80_256.npz\", allow_pickle=True)\n",
    "        pdf_file = np.load(sim_root + f\"pdf_80_256.npz\", allow_pickle=True)\n",
    "        \n",
    "        self.params_sims = ps_file[\"parameters\"]\n",
    "        self.k_sim = ps_file[\"k_2d\"]\n",
    "        self.pk_sim = ps_file[\"pk_2d\"]\n",
    "        self.bin_sim_linear = pdf_file[\"lim_bin_edges_linear_2d\"]\n",
    "        self.pdf_sim_linear = pdf_file[\"lim_pdf_linear_2d\"]\n",
    "        \n",
    "        self.params_array = self._extract_parameters(self.params_sims, param_file_keys)\n",
    "        \n",
    "        # Keep all data accessible\n",
    "        self.all_params = self.params_array\n",
    "        self.all_pk = self.pk_sim\n",
    "        self.all_pdf = self.pdf_sim_linear\n",
    "        \n",
    "        # Split data according to documented strategy\n",
    "        self.train_params = self.params_array[:self.n_train]\n",
    "        self.train_pk = self.pk_sim[:self.n_train]\n",
    "        self.train_pdf = self.pdf_sim_linear[:self.n_train]\n",
    "        \n",
    "        self.test_params = self.params_array[self.n_train:self.n_train+self.n_test]\n",
    "        self.test_pk = self.pk_sim[self.n_train:self.n_train+self.n_test]\n",
    "        self.test_pdf = self.pdf_sim_linear[self.n_train:self.n_train+self.n_test]\n",
    "        \n",
    "        self.data_loaded = True\n",
    "        \n",
    "        print(f\"Data loaded: {len(self.params_sims)} total simulations\")\n",
    "        print(f\"Training set: {self.n_train} samples (indices 0:{self.n_train})\")\n",
    "        print(f\"Test set: {self.n_test} samples (indices {self.n_train}:{self.n_train+self.n_test})\")\n",
    "        print(f\"  - Calibration: {self.n_calibration} samples\")\n",
    "        print(f\"  - Validation: {self.n_test - self.n_calibration} samples\")\n",
    "        print(f\"Parameters being constrained: {', '.join(self.param_names)}\")\n",
    "        print(f\"Parameter ranges:\")\n",
    "        for i, name in enumerate(self.param_names):\n",
    "            print(f\"  {name}: [{self.params_array[:, i].min():.3f}, {self.params_array[:, i].max():.3f}]\")\n",
    "    \n",
    "    def _extract_parameters(self, params_sims: Any, param_file_keys: Optional[Dict[str, str]] = None) -> np.ndarray:\n",
    "        \"\"\"Extract specified parameters from simulation data.\"\"\"\n",
    "        if param_file_keys is None:\n",
    "            param_file_keys = {}\n",
    "        \n",
    "        params_list = []\n",
    "        \n",
    "        if hasattr(params_sims, 'dtype') and params_sims.dtype.names:\n",
    "            for sim_params in params_sims:\n",
    "                param_values = []\n",
    "                \n",
    "                for param_name in self.param_names:\n",
    "                    if param_name == \"sigma8\":\n",
    "                        if \"sigma_8\" in params_sims.dtype.names:\n",
    "                            value = sim_params[\"sigma_8\"]\n",
    "                        elif \"sigma8\" in params_sims.dtype.names:\n",
    "                            value = sim_params[\"sigma8\"]\n",
    "                        else:\n",
    "                            raise KeyError(f\"Could not find sigma8. Available: {params_sims.dtype.names}\")\n",
    "                    \n",
    "                    elif param_name == \"omega_m\":\n",
    "                        if \"omega_m\" in params_sims.dtype.names:\n",
    "                            value = sim_params[\"omega_m\"]\n",
    "                        elif \"Omega_m\" in params_sims.dtype.names:\n",
    "                            value = sim_params[\"Omega_m\"]\n",
    "                        else:\n",
    "                            raise KeyError(f\"Could not find omega_m. Available: {params_sims.dtype.names}\")\n",
    "                    \n",
    "                    else:\n",
    "                        file_key = param_file_keys.get(param_name, param_name)\n",
    "                        if file_key in params_sims.dtype.names:\n",
    "                            value = sim_params[file_key]\n",
    "                        elif param_name in params_sims.dtype.names:\n",
    "                            value = sim_params[param_name]\n",
    "                        else:\n",
    "                            raise KeyError(f\"Could not find '{param_name}'. Available: {params_sims.dtype.names}\")\n",
    "                    \n",
    "                    param_values.append(float(value))\n",
    "                \n",
    "                params_list.append(param_values)\n",
    "        else:\n",
    "            for sim_params in params_sims:\n",
    "                param_values = []\n",
    "                for param_name in self.param_names:\n",
    "                    file_key = param_file_keys.get(param_name, param_name)\n",
    "                    if file_key in sim_params:\n",
    "                        value = sim_params[file_key]\n",
    "                    elif param_name in sim_params:\n",
    "                        value = sim_params[param_name]\n",
    "                    else:\n",
    "                        raise KeyError(f\"Could not find parameter '{param_name}'\")\n",
    "                    param_values.append(value)\n",
    "                params_list.append(param_values)\n",
    "        \n",
    "        return np.array(params_list)\n",
    "    \n",
    "    def setup_limference(self, output_root: str, training_kwargs: Optional[Dict] = None):\n",
    "        \"\"\"Initialize LIMference with configuration.\"\"\"\n",
    "        if not self.data_loaded:\n",
    "            raise ValueError(\"Load data first using load_data()\")\n",
    "        \n",
    "        default_training = {\n",
    "            \"max_num_epochs\": 400,\n",
    "            \"stop_after_epochs\": 30,\n",
    "            \"training_batch_size\": 100,\n",
    "            \"learning_rate\": 5e-4,\n",
    "            \"validation_fraction\": 0.2,\n",
    "        }\n",
    "        \n",
    "        if training_kwargs:\n",
    "            default_training.update(training_kwargs)\n",
    "        \n",
    "        default_config = {\n",
    "            \"root\": output_root,\n",
    "            \"n_signal_sims\": self.n_train + self.n_test,\n",
    "            \"num_noise_simulations\": 1,\n",
    "            \"inference_methods\": self.inference_methods,\n",
    "            \"analysis_methods\": self.analysis_methods,\n",
    "            \"device\": \"cuda\" if torch.cuda.is_available() else \"cpu\",\n",
    "            **default_training\n",
    "        }\n",
    "        default_config.update(self.config_kwargs)\n",
    "        \n",
    "        self.config = LIMConfig(**default_config)\n",
    "        \n",
    "        param_ranges = {}\n",
    "        for i, name in enumerate(self.param_names):\n",
    "            param_ranges[name] = (\n",
    "                float(self.params_array[:, i].min()),\n",
    "                float(self.params_array[:, i].max())\n",
    "            )\n",
    "        \n",
    "        self.param_config = ParameterConfig(\n",
    "            param_names=self.param_names,\n",
    "            param_ranges=param_ranges,\n",
    "            param_labels=self.param_labels\n",
    "        )\n",
    "        \n",
    "        self.lim = LIMference(self.config, param_config=self.param_config)\n",
    "        \n",
    "        # Load ALL data (train + test) into LIMference\n",
    "        self.lim.parameters = np.vstack([self.train_params, self.test_params])\n",
    "        \n",
    "        simulations = {}\n",
    "        \n",
    "        # Handle combined PS+PDF\n",
    "        if \"combined_ps_pdf\" in self.analysis_methods:\n",
    "            # Ensure we have k array\n",
    "            if len(self.k_sim.shape) == 1:\n",
    "                k_array = self.k_sim\n",
    "            else:\n",
    "                k_array = self.k_sim[0] if len(self.k_sim.shape) > 1 else self.k_sim\n",
    "            \n",
    "            # Store individual components for later use\n",
    "            simulations[\"power_spectrum\"] = {\n",
    "                \"k\": k_array,\n",
    "                \"pk\": np.vstack([self.train_pk, self.test_pk])\n",
    "            }\n",
    "            \n",
    "            simulations[\"pdf\"] = {\n",
    "                \"bins_linear\": self.bin_sim_linear,\n",
    "                \"pdf_linear\": np.vstack([self.train_pdf, self.test_pdf])\n",
    "            }\n",
    "            \n",
    "            # Create combined data\n",
    "            combined_data = np.concatenate([\n",
    "                simulations[\"power_spectrum\"][\"pk\"],\n",
    "                simulations[\"pdf\"][\"pdf_linear\"]\n",
    "            ], axis=1)\n",
    "            \n",
    "            simulations[\"combined_ps_pdf\"] = combined_data\n",
    "        \n",
    "        # Load individual methods if requested\n",
    "        for method in self.analysis_methods:\n",
    "            if method == \"pdf\" and method not in simulations:\n",
    "                simulations[\"pdf\"] = {\n",
    "                    \"bins_linear\": self.bin_sim_linear,\n",
    "                    \"pdf_linear\": np.vstack([self.train_pdf, self.test_pdf])\n",
    "                }\n",
    "            elif method == \"power_spectrum\" and method not in simulations:\n",
    "                if len(self.k_sim.shape) == 1:\n",
    "                    k_array = self.k_sim\n",
    "                else:\n",
    "                    k_array = self.k_sim[0] if len(self.k_sim.shape) > 1 else self.k_sim\n",
    "                \n",
    "                simulations[\"power_spectrum\"] = {\n",
    "                    \"k\": k_array,\n",
    "                    \"pk\": np.vstack([self.train_pk, self.test_pk])\n",
    "                }\n",
    "        \n",
    "        self.lim.simulations = simulations\n",
    "        \n",
    "        print(f\"LIMference initialized for methods: {self.inference_methods}\")\n",
    "        print(f\"Analysis methods: {self.analysis_methods}\")\n",
    "        print(f\"Parameters to constrain: {', '.join(self.param_names)}\")\n",
    "    \n",
    "    def train_models(self):\n",
    "        \"\"\"Train SBI models.\"\"\"\n",
    "        if not hasattr(self, 'lim'):\n",
    "            raise ValueError(\"Setup LIMference first using setup_limference()\")\n",
    "        \n",
    "        print(\"\\n\" + \"=\"*70)\n",
    "        print(\"TRAINING MODELS\")\n",
    "        print(\"=\"*70)\n",
    "        \n",
    "        # FIXED: Use self.test_obs_idx instead of test_obs_idx\n",
    "        combined_test_idx = self.n_train + self.test_obs_idx\n",
    "        self.test_true_params = self.test_params[self.test_obs_idx]\n",
    "        \n",
    "        print(f\"\\nTest observation index: {self.test_obs_idx}\")\n",
    "        print(f\"Test observation true parameters:\")\n",
    "        for i, name in enumerate(self.param_names):\n",
    "            print(f\"  {name} = {self.test_true_params[i]:.3f}\")\n",
    "        \n",
    "        try:\n",
    "            self.lim_results = self.lim.run_inference_comparison(\n",
    "                observation_index=combined_test_idx,\n",
    "                analysis_methods=self.analysis_methods,\n",
    "                inference_methods=self.inference_methods,\n",
    "                n_posterior_samples=10000,\n",
    "                verbose=True\n",
    "            )\n",
    "            \n",
    "            self.models_trained = True\n",
    "            self.lim.results = self.lim_results\n",
    "            \n",
    "        except Exception as e:\n",
    "            print(f\"Error during training: {e}\")\n",
    "            import traceback\n",
    "            traceback.print_exc()\n",
    "            self.models_trained = False\n",
    "    \n",
    "    def compare_estimation_methods(self):\n",
    "        \"\"\"Compare different parameter estimation methods across all trained models\"\"\"\n",
    "        \n",
    "        if not self.models_trained:\n",
    "            print(\"No trained models to analyze\")\n",
    "            return None\n",
    "        \n",
    "        # Standardized test index usage\n",
    "        test_idx = self.test_obs_idx\n",
    "        \n",
    "        print(\"\\n\" + \"=\"*70)\n",
    "        print(\"COMPARING PARAMETER ESTIMATION METHODS\")\n",
    "        print(f\"Using test observation index: {test_idx}\")\n",
    "        print(\"=\"*70)\n",
    "        \n",
    "        comparison_results = {}\n",
    "        \n",
    "        for method_key, result in self.lim.results.items():\n",
    "            if \"error\" in result:\n",
    "                continue\n",
    "            \n",
    "            print(f\"\\n{method_key}:\")\n",
    "            print(\"-\"*50)\n",
    "            \n",
    "            # Get observation for this method\n",
    "            if \"combined\" in method_key:\n",
    "                test_obs = np.concatenate([self.test_pk[test_idx], self.test_pdf[test_idx]])\n",
    "            elif \"power\" in method_key:\n",
    "                test_obs = self.test_pk[test_idx]\n",
    "            elif \"pdf\" in method_key:\n",
    "                test_obs = self.test_pdf[test_idx]\n",
    "            else:\n",
    "                continue\n",
    "            \n",
    "            # Get comprehensive estimates\n",
    "            estimates, samples = self.estimate_parameters_comprehensive(\n",
    "                result['posterior'], test_obs, n_samples=10000\n",
    "            )\n",
    "            \n",
    "            # Store results\n",
    "            comparison_results[method_key] = estimates\n",
    "            \n",
    "            # Print comparison\n",
    "            true_params = self.test_params[test_idx]\n",
    "            \n",
    "            print(f\"\\nTrue values:     {self.param_names[0]}={true_params[0]:.4f}, \"\n",
    "                  f\"{self.param_names[1]}={true_params[1]:.4f}\")\n",
    "            \n",
    "            print(\"\\nPoint Estimates:\")\n",
    "            for estimator in ['mean', 'median', 'mode_kde', 'map']:\n",
    "                if estimates[estimator] is not None:\n",
    "                    est_vals = estimates[estimator]\n",
    "                    errors = est_vals - true_params\n",
    "                    print(f\"  {estimator:8s}: {self.param_names[0]}={est_vals[0]:.4f} (err={errors[0]:+.4f}), \"\n",
    "                          f\"{self.param_names[1]}={est_vals[1]:.4f} (err={errors[1]:+.4f})\")\n",
    "            \n",
    "            print(\"\\nUncertainties:\")\n",
    "            print(f\"  Std Dev:  {self.param_names[0]}={estimates['std'][0]:.4f}, \"\n",
    "                  f\"{self.param_names[1]}={estimates['std'][1]:.4f}\")\n",
    "            print(f\"  MAD:      {self.param_names[0]}={estimates['mad'][0]:.4f}, \"\n",
    "                  f\"{self.param_names[1]}={estimates['mad'][1]:.4f}\")\n",
    "            \n",
    "            print(\"\\n68% HPD Intervals:\")\n",
    "            for i, name in enumerate(self.param_names):\n",
    "                hpd = estimates['hpd_68'][i]\n",
    "                width = hpd[1] - hpd[0]\n",
    "                print(f\"  {name}: [{hpd[0]:.4f}, {hpd[1]:.4f}] (width={width:.4f})\")\n",
    "            \n",
    "            print(\"\\nMultimodality Check:\")\n",
    "            for i, name in enumerate(self.param_names):\n",
    "                status = \"Yes ⚠️\" if estimates['is_multimodal'][i] else \"No ✓\"\n",
    "                print(f\"  {name}: {status}\")\n",
    "            \n",
    "            # Calculate RMSE for each estimator\n",
    "            print(\"\\nRMSE by Estimator:\")\n",
    "            for estimator in ['mean', 'median', 'mode_kde', 'map']:\n",
    "                if estimates[estimator] is not None:\n",
    "                    rmse = np.sqrt(np.mean((estimates[estimator] - true_params)**2))\n",
    "                    print(f\"  {estimator:8s}: {rmse:.4f}\")\n",
    "        \n",
    "        return comparison_results\n",
    "    \n",
    "    def plot_estimation_comparison(self):\n",
    "        \"\"\"Visualize different estimation methods\"\"\"\n",
    "        \n",
    "        # Standardized test index usage\n",
    "        test_idx = self.test_obs_idx\n",
    "        \n",
    "        comparison = self.compare_estimation_methods()\n",
    "        if not comparison:\n",
    "            return\n",
    "        \n",
    "        n_methods = len(comparison)\n",
    "        n_params = len(self.param_names)\n",
    "        \n",
    "        # FIXED: Use constrained_layout in figure creation\n",
    "        fig, axes = plt.subplots(n_params, n_methods, \n",
    "                                 figsize=(5*n_methods, 4*n_params),\n",
    "                                 constrained_layout=True)\n",
    "        \n",
    "        if n_methods == 1:\n",
    "            axes = axes.reshape(-1, 1)\n",
    "        if n_params == 1:\n",
    "            axes = axes.reshape(1, -1)\n",
    "        \n",
    "        for j, (method_key, estimates) in enumerate(comparison.items()):\n",
    "            # Get samples for this method\n",
    "            if \"combined\" in method_key:\n",
    "                test_obs = np.concatenate([self.test_pk[test_idx], self.test_pdf[test_idx]])\n",
    "            elif \"power\" in method_key:\n",
    "                test_obs = self.test_pk[test_idx]\n",
    "            elif \"pdf\" in method_key:\n",
    "                test_obs = self.test_pdf[test_idx]\n",
    "            else:\n",
    "                continue\n",
    "            \n",
    "            x_obs_tensor = torch.tensor(test_obs, dtype=torch.float32)\n",
    "            samples = self.lim.results[method_key]['posterior'].sample(\n",
    "                (5000,), x=x_obs_tensor\n",
    "            ).numpy()\n",
    "            \n",
    "            for i, param_name in enumerate(self.param_names):\n",
    "                ax = axes[i, j] if n_params > 1 else axes[j]\n",
    "                \n",
    "                # Plot histogram\n",
    "                ax.hist(samples[:, i], bins=50, density=True, \n",
    "                       alpha=0.5, color='gray', edgecolor='black')\n",
    "                \n",
    "                # Add KDE\n",
    "                from scipy.stats import gaussian_kde\n",
    "                kde = gaussian_kde(samples[:, i])\n",
    "                x_grid = np.linspace(samples[:, i].min(), samples[:, i].max(), 200)\n",
    "                ax.plot(x_grid, kde(x_grid), 'k-', linewidth=2, label='KDE')\n",
    "                \n",
    "                # Mark different estimates\n",
    "                true_val = self.test_params[test_idx][i]\n",
    "                ax.axvline(true_val, color='red', linestyle='--', \n",
    "                          linewidth=2, label='True')\n",
    "                \n",
    "                colors = {'mean': 'blue', 'median': 'green', \n",
    "                         'mode_kde': 'orange', 'map': 'purple'}\n",
    "                \n",
    "                for est_name, color in colors.items():\n",
    "                    if estimates[est_name] is not None:\n",
    "                        ax.axvline(estimates[est_name][i], color=color, \n",
    "                                  linestyle=':', linewidth=1.5, label=est_name)\n",
    "                \n",
    "                ax.set_xlabel(self.param_labels[param_name])\n",
    "                ax.set_ylabel('Density')\n",
    "                ax.set_title(f'{method_key}\\n{param_name}')\n",
    "                \n",
    "                if i == 0 and j == 0:\n",
    "                    ax.legend(fontsize=8, loc='best')\n",
    "                \n",
    "                # Add text box with stats\n",
    "                multimodal = \"Multi\" if estimates['is_multimodal'][i] else \"Uni\"\n",
    "                textstr = f\"{multimodal}modal\"\n",
    "                ax.text(0.05, 0.95, textstr, transform=ax.transAxes, \n",
    "                       fontsize=9, verticalalignment='top',\n",
    "                       bbox=dict(boxstyle='round', facecolor='wheat', alpha=0.5))\n",
    "        \n",
    "        plt.suptitle('Parameter Estimation Methods Comparison', fontsize=14)\n",
    "        plt.show()\n",
    "    \n",
    "    def calibrate_posteriors(self, target_coverage: float = 0.68, method: str = \"temperature\"):\n",
    "        \"\"\"\n",
    "        Calibrate posteriors using temperature scaling and/or isotonic regression.\n",
    "\n",
    "        Parameters:\n",
    "        -----------\n",
    "        target_coverage : float\n",
    "            Target coverage level for calibration (default 0.68)\n",
    "        method : str\n",
    "            Calibration method:\n",
    "            - \"temperature\": Scale uncertainties using temperature parameter\n",
    "            - \"isotonic\": Use isotonic regression for calibration curve\n",
    "            - \"both\": Apply both methods sequentially (temperature first, then isotonic)\n",
    "            \n",
    "        Note: \"isotonic\" requires sklearn to be installed.\n",
    "        \"\"\"\n",
    "        if not self.models_trained:\n",
    "            raise ValueError(\"Train models first\")\n",
    "\n",
    "        print(\"\\n\" + \"=\"*50)\n",
    "        print(\"CALIBRATING POSTERIORS\")\n",
    "        print(f\"Method: {method}\")\n",
    "        print(\"=\"*50)\n",
    "\n",
    "        # Check isotonic availability\n",
    "        if method in [\"isotonic\", \"both\"]:\n",
    "            if not self.available_features.get('sklearn', False):\n",
    "                print(\"WARNING: sklearn not available. Falling back to temperature-only calibration.\")\n",
    "                method = \"temperature\"\n",
    "\n",
    "        # Helper function for temperature scaling\n",
    "        def calibrate_temperature(posterior, cal_data, cal_params, target=0.68):\n",
    "            def coverage_error(temp):\n",
    "                coverage = 0\n",
    "                n_cal = min(30, len(cal_data))\n",
    "\n",
    "                for i in range(n_cal):\n",
    "                    try:\n",
    "                        x_obs = torch.tensor(cal_data[i], dtype=torch.float32)\n",
    "                        samples = posterior.sample((300,), x=x_obs).numpy()\n",
    "\n",
    "                        mean = np.mean(samples, axis=0)\n",
    "                        scaled = mean + (samples - mean) * temp\n",
    "\n",
    "                        q16, q84 = np.percentile(scaled, [16, 84], axis=0)\n",
    "                        if np.all((cal_params[i] >= q16) & (cal_params[i] <= q84)):\n",
    "                            coverage += 1\n",
    "                    except:\n",
    "                        continue\n",
    "\n",
    "                return abs(coverage/n_cal - target) if n_cal > 0 else 1.0\n",
    "\n",
    "            result = minimize_scalar(coverage_error, bounds=(0.5, 3.0), method='bounded')\n",
    "            return result.x\n",
    "\n",
    "        # Helper function for isotonic regression\n",
    "        def calibrate_isotonic(posterior, cal_data, cal_params):\n",
    "            from sklearn.isotonic import IsotonicRegression\n",
    "\n",
    "            print(\"  Building isotonic calibration curve...\")\n",
    "\n",
    "            # Collect calibration data at different confidence levels\n",
    "            confidence_levels = np.linspace(0.1, 0.99, 20)\n",
    "            predicted_coverages = []\n",
    "            empirical_coverages = []\n",
    "\n",
    "            for conf_level in confidence_levels:\n",
    "                coverage_count = 0\n",
    "                n_valid = 0\n",
    "\n",
    "                for i in range(min(50, len(cal_data))):\n",
    "                    try:\n",
    "                        x_obs = torch.tensor(cal_data[i], dtype=torch.float32)\n",
    "                        samples = posterior.sample((500,), x=x_obs).numpy()\n",
    "\n",
    "                        # Calculate confidence interval\n",
    "                        lower_percentile = (1 - conf_level) / 2 * 100\n",
    "                        upper_percentile = (1 + conf_level) / 2 * 100\n",
    "                        ci_low = np.percentile(samples, lower_percentile, axis=0)\n",
    "                        ci_high = np.percentile(samples, upper_percentile, axis=0)\n",
    "\n",
    "                        # Check if true parameter is within CI\n",
    "                        if np.all((cal_params[i] >= ci_low) & (cal_params[i] <= ci_high)):\n",
    "                            coverage_count += 1\n",
    "                        n_valid += 1\n",
    "                    except:\n",
    "                        continue\n",
    "\n",
    "                if n_valid > 0:\n",
    "                    predicted_coverages.append(conf_level)\n",
    "                    empirical_coverages.append(coverage_count / n_valid)\n",
    "\n",
    "            # Fit isotonic regression\n",
    "            iso_reg = IsotonicRegression(out_of_bounds='clip', increasing=True)\n",
    "            iso_reg.fit(predicted_coverages, empirical_coverages)\n",
    "\n",
    "            # Create calibration function\n",
    "            def apply_isotonic_calibration(samples, confidence_level):\n",
    "                \"\"\"Apply isotonic calibration to adjust confidence intervals.\"\"\"\n",
    "                target_empirical = confidence_level\n",
    "\n",
    "                # Binary search for the right nominal level\n",
    "                low, high = 0.01, 0.99\n",
    "                for _ in range(20):\n",
    "                    mid = (low + high) / 2\n",
    "                    empirical = iso_reg.predict([mid])[0]\n",
    "                    if empirical < target_empirical:\n",
    "                        low = mid\n",
    "                    else:\n",
    "                        high = mid\n",
    "\n",
    "                # Use the calibrated confidence level\n",
    "                calibrated_level = mid\n",
    "                lower_percentile = (1 - calibrated_level) / 2 * 100\n",
    "                upper_percentile = (1 + calibrated_level) / 2 * 100\n",
    "\n",
    "                return np.percentile(samples, [lower_percentile, upper_percentile], axis=0)\n",
    "\n",
    "            return iso_reg, apply_isotonic_calibration\n",
    "\n",
    "        # Apply calibration to each method\n",
    "        for method_key, result in self.lim.results.items():\n",
    "            if \"error\" not in result:\n",
    "                # Prepare calibration data\n",
    "                if \"combined\" in method_key:\n",
    "                    cal_pk = self.test_pk[:self.n_calibration]\n",
    "                    cal_pdf = self.test_pdf[:self.n_calibration]\n",
    "                    cal_data = np.concatenate([cal_pk, cal_pdf], axis=1)\n",
    "                elif \"power\" in method_key:\n",
    "                    cal_data = self.test_pk[:self.n_calibration]\n",
    "                elif \"pdf\" in method_key:\n",
    "                    cal_data = self.test_pdf[:self.n_calibration]\n",
    "                else:\n",
    "                    continue\n",
    "\n",
    "                cal_params = self.test_params[:self.n_calibration]\n",
    "\n",
    "                # Apply temperature scaling\n",
    "                if method in [\"temperature\", \"both\"]:\n",
    "                    try:\n",
    "                        temp = calibrate_temperature(\n",
    "                            result['posterior'], cal_data, cal_params, target_coverage\n",
    "                        )\n",
    "                        result['calibration_temp'] = temp\n",
    "                        print(f\"{method_key} - Temperature scaling: T = {temp:.3f}\")\n",
    "\n",
    "                        if temp > 1.2:\n",
    "                            print(f\"  → Model was overconfident, widening by {(temp-1)*100:.1f}%\")\n",
    "                        elif temp < 0.8:\n",
    "                            print(f\"  → Model was underconfident, narrowing by {(1-temp)*100:.1f}%\")\n",
    "                        else:\n",
    "                            print(f\"  → Model was well-calibrated\")\n",
    "                    except Exception as e:\n",
    "                        print(f\"{method_key} - Temperature calibration failed: {e}\")\n",
    "                        result['calibration_temp'] = 1.0\n",
    "\n",
    "                # Apply isotonic regression\n",
    "                if method in [\"isotonic\", \"both\"]:\n",
    "                    try:\n",
    "                        iso_reg, iso_apply = calibrate_isotonic(\n",
    "                            result['posterior'], cal_data, cal_params\n",
    "                        )\n",
    "                        result['isotonic_calibrator'] = iso_reg\n",
    "                        result['isotonic_apply'] = iso_apply\n",
    "\n",
    "                        # Test the calibration\n",
    "                        test_levels = [0.68, 0.95]\n",
    "                        calibrated_levels = iso_reg.predict(test_levels)\n",
    "                        print(f\"{method_key} - Isotonic regression calibration:\")\n",
    "                        for nominal, empirical in zip(test_levels, calibrated_levels):\n",
    "                            print(f\"  → {nominal*100:.0f}% nominal → {empirical*100:.1f}% empirical\")\n",
    "\n",
    "                    except Exception as e:\n",
    "                        print(f\"{method_key} - Isotonic calibration failed: {e}\")\n",
    "                        result['isotonic_calibrator'] = None\n",
    "    \n",
    "    def test_recovery(self):\n",
    "        \"\"\"Test posterior recovery on test set.\"\"\"\n",
    "        if not self.models_trained:\n",
    "            raise ValueError(\"Train models first\")\n",
    "        \n",
    "        print(\"\\n\" + \"=\"*50)\n",
    "        print(\"TESTING POSTERIOR RECOVERY\")\n",
    "        print(\"=\"*50)\n",
    "        \n",
    "        recovery_results = {}\n",
    "        \n",
    "        for method_key, result in self.lim.results.items():\n",
    "            if \"error\" not in result:\n",
    "                print(f\"\\n{method_key}:\")\n",
    "                \n",
    "                if \"combined\" in method_key:\n",
    "                    test_pk = self.test_pk[self.n_calibration:]\n",
    "                    test_pdf = self.test_pdf[self.n_calibration:]\n",
    "                    test_data = np.concatenate([test_pk, test_pdf], axis=1)\n",
    "                elif \"power\" in method_key:\n",
    "                    test_data = self.test_pk[self.n_calibration:]\n",
    "                elif \"pdf\" in method_key:\n",
    "                    test_data = self.test_pdf[self.n_calibration:]\n",
    "                else:\n",
    "                    continue\n",
    "                \n",
    "                test_params_subset = self.test_params[self.n_calibration:]\n",
    "                \n",
    "                n_test_samples = min(50, len(test_data))\n",
    "                coverage_68 = 0\n",
    "                coverage_95 = 0\n",
    "                errors = []\n",
    "                \n",
    "                temp = result.get('calibration_temp', 1.0)\n",
    "                \n",
    "                for i in range(n_test_samples):\n",
    "                    try:\n",
    "                        x_obs = torch.tensor(test_data[i], dtype=torch.float32)\n",
    "                        samples = result['posterior'].sample((1000,), x=x_obs).numpy()\n",
    "                        \n",
    "                        mean = np.mean(samples, axis=0)\n",
    "                        samples = mean + (samples - mean) * temp\n",
    "                        \n",
    "                        post_mean = np.mean(samples, axis=0)\n",
    "                        errors.append(post_mean - test_params_subset[i])\n",
    "                        \n",
    "                        q16, q84 = np.percentile(samples, [16, 84], axis=0)\n",
    "                        q2_5, q97_5 = np.percentile(samples, [2.5, 97.5], axis=0)\n",
    "                        \n",
    "                        if np.all((test_params_subset[i] >= q16) & (test_params_subset[i] <= q84)):\n",
    "                            coverage_68 += 1\n",
    "                        if np.all((test_params_subset[i] >= q2_5) & (test_params_subset[i] <= q97_5)):\n",
    "                            coverage_95 += 1\n",
    "                            \n",
    "                    except Exception as e:\n",
    "                        continue\n",
    "                \n",
    "                if len(errors) > 0:\n",
    "                    errors = np.array(errors)\n",
    "                    metrics = {\n",
    "                        'coverage_68_rate': coverage_68 / n_test_samples,\n",
    "                        'coverage_95_rate': coverage_95 / n_test_samples,\n",
    "                        'mean_rmse': np.sqrt(np.mean(errors**2)),\n",
    "                        'mean_bias': np.mean(np.abs(errors)),\n",
    "                        'well_calibrated_68': abs(coverage_68/n_test_samples - 0.68) < 0.1,\n",
    "                        'well_calibrated_95': abs(coverage_95/n_test_samples - 0.95) < 0.1,\n",
    "                        'calibration_temp': temp\n",
    "                    }\n",
    "                    recovery_results[method_key] = metrics\n",
    "                    \n",
    "                    print(f\"  Temperature: {metrics['calibration_temp']:.3f}\")\n",
    "                    print(f\"  68% coverage: {metrics['coverage_68_rate']:.1%}\")\n",
    "                    print(f\"  95% coverage: {metrics['coverage_95_rate']:.1%}\")\n",
    "                    print(f\"  RMSE: {metrics['mean_rmse']:.4f}\")\n",
    "        \n",
    "        self.recovery_results = recovery_results\n",
    "    \n",
    "    def plot_results(self):\n",
    "        \"\"\"Create comprehensive visualization of results.\"\"\"\n",
    "        if not self.models_trained:\n",
    "            raise ValueError(\"Train models first\")\n",
    "        \n",
    "        self._plot_parameter_recovery()\n",
    "        self._plot_coverage_curves()\n",
    "    \n",
    "    def _plot_coverage_curves(self):\n",
    "        \"\"\"Plot coverage calibration curves.\"\"\"\n",
    "        confidence_levels = np.array([50, 60, 70, 80, 90, 95, 99])\n",
    "        \n",
    "        n_methods = len([k for k in self.lim.results.keys() if \"error\" not in self.lim.results[k]])\n",
    "        if n_methods == 0:\n",
    "            return\n",
    "        \n",
    "        # FIXED: Use constrained_layout\n",
    "        fig, axes = plt.subplots(1, n_methods, figsize=(5*n_methods, 4),\n",
    "                                constrained_layout=True)\n",
    "        if n_methods == 1:\n",
    "            axes = [axes]\n",
    "        \n",
    "        plot_idx = 0\n",
    "        \n",
    "        for method_key, result in self.lim.results.items():\n",
    "            if \"error\" not in result:\n",
    "                ax = axes[plot_idx]\n",
    "                \n",
    "                start_idx = self.n_calibration\n",
    "                end_idx = min(self.n_calibration + 30, self.n_test)\n",
    "                \n",
    "                if \"combined\" in method_key:\n",
    "                    test_pk = self.test_pk[start_idx:end_idx]\n",
    "                    test_pdf = self.test_pdf[start_idx:end_idx]\n",
    "                    test_data = np.concatenate([test_pk, test_pdf], axis=1)\n",
    "                elif \"power\" in method_key:\n",
    "                    test_data = self.test_pk[start_idx:end_idx]\n",
    "                elif \"pdf\" in method_key:\n",
    "                    test_data = self.test_pdf[start_idx:end_idx]\n",
    "                else:\n",
    "                    continue\n",
    "                \n",
    "                test_params_subset = self.test_params[start_idx:end_idx]\n",
    "                \n",
    "                coverage_rates_orig = []\n",
    "                coverage_rates_cal = []\n",
    "                \n",
    "                temp = result.get('calibration_temp', 1.0)\n",
    "                \n",
    "                for conf in confidence_levels:\n",
    "                    coverage_orig = 0\n",
    "                    coverage_cal = 0\n",
    "                    n_samples = len(test_data)\n",
    "                    \n",
    "                    for i in range(n_samples):\n",
    "                        try:\n",
    "                            x_obs = torch.tensor(test_data[i], dtype=torch.float32)\n",
    "                            samples = result['posterior'].sample((500,), x=x_obs).numpy()\n",
    "                            \n",
    "                            lower = (100-conf)/2\n",
    "                            upper = 100-lower\n",
    "                            \n",
    "                            ci_low_orig = np.percentile(samples, lower, axis=0)\n",
    "                            ci_high_orig = np.percentile(samples, upper, axis=0)\n",
    "                            \n",
    "                            mean = np.mean(samples, axis=0)\n",
    "                            samples_cal = mean + (samples - mean) * temp\n",
    "                            ci_low_cal = np.percentile(samples_cal, lower, axis=0)\n",
    "                            ci_high_cal = np.percentile(samples_cal, upper, axis=0)\n",
    "                            \n",
    "                            if np.all((test_params_subset[i] >= ci_low_orig) & \n",
    "                                     (test_params_subset[i] <= ci_high_orig)):\n",
    "                                coverage_orig += 1\n",
    "                            if np.all((test_params_subset[i] >= ci_low_cal) & \n",
    "                                     (test_params_subset[i] <= ci_high_cal)):\n",
    "                                coverage_cal += 1\n",
    "                        except:\n",
    "                            continue\n",
    "                    \n",
    "                    if n_samples > 0:\n",
    "                        coverage_rates_orig.append(100 * coverage_orig/n_samples)\n",
    "                        coverage_rates_cal.append(100 * coverage_cal/n_samples)\n",
    "                \n",
    "                if coverage_rates_orig:\n",
    "                    ax.plot(confidence_levels[:len(coverage_rates_orig)], coverage_rates_orig, 'o-', \n",
    "                           label='Original', linewidth=2, color='red')\n",
    "                    ax.plot(confidence_levels[:len(coverage_rates_cal)], coverage_rates_cal, 's-', \n",
    "                           label='Calibrated', linewidth=2, color='green')\n",
    "                    ax.plot([0, 100], [0, 100], 'k--', alpha=0.5, label='Perfect')\n",
    "                    \n",
    "                    ax.set_xlabel('Nominal Coverage (%)')\n",
    "                    ax.set_ylabel('Empirical Coverage (%)')\n",
    "                    ax.set_title(f'{method_key} (T={temp:.2f})')\n",
    "                    ax.legend(fontsize=8)\n",
    "                    ax.grid(True, alpha=0.3)\n",
    "                    ax.set_xlim(45, 100)\n",
    "                    ax.set_ylim(45, 100)\n",
    "                \n",
    "                plot_idx += 1\n",
    "        \n",
    "        if plot_idx > 0:\n",
    "            plt.suptitle('Coverage Calibration', fontsize=14)\n",
    "            plt.show()\n",
    "    \n",
    "    def _plot_parameter_recovery(self):\n",
    "        \"\"\"Plot parameter recovery scatter plots.\"\"\"\n",
    "        n_methods = len([k for k in self.lim.results.keys() if \"error\" not in self.lim.results[k]])\n",
    "        n_params = len(self.param_names)\n",
    "        \n",
    "        if n_methods == 0:\n",
    "            return\n",
    "        \n",
    "        # FIXED: Use constrained_layout\n",
    "        fig, axes = plt.subplots(n_methods, n_params, \n",
    "                                figsize=(5*n_params, 4*n_methods),\n",
    "                                constrained_layout=True)\n",
    "        \n",
    "        if n_methods == 1 and n_params == 1:\n",
    "            axes = np.array([[axes]])\n",
    "        elif n_methods == 1:\n",
    "            axes = axes.reshape(1, -1)\n",
    "        elif n_params == 1:\n",
    "            axes = axes.reshape(-1, 1)\n",
    "        \n",
    "        method_idx = 0\n",
    "        for method_key, result in self.lim.results.items():\n",
    "            if \"error\" not in result:\n",
    "                start_idx = self.n_calibration\n",
    "                end_idx = min(self.n_calibration + 50, self.n_test)\n",
    "                \n",
    "                if \"combined\" in method_key:\n",
    "                    test_pk = self.test_pk[start_idx:end_idx]\n",
    "                    test_pdf = self.test_pdf[start_idx:end_idx]\n",
    "                    test_data = np.concatenate([test_pk, test_pdf], axis=1)\n",
    "                elif \"power\" in method_key:\n",
    "                    test_data = self.test_pk[start_idx:end_idx]\n",
    "                elif \"pdf\" in method_key:\n",
    "                    test_data = self.test_pdf[start_idx:end_idx]\n",
    "                else:\n",
    "                    continue\n",
    "                \n",
    "                test_params_subset = self.test_params[start_idx:end_idx]\n",
    "                temp = result.get('calibration_temp', 1.0)\n",
    "                \n",
    "                predictions_mean = []\n",
    "                predictions_16 = []\n",
    "                predictions_84 = []\n",
    "                true_vals = []\n",
    "                \n",
    "                for i in range(len(test_data)):\n",
    "                    try:\n",
    "                        x_obs = torch.tensor(test_data[i], dtype=torch.float32)\n",
    "                        samples = result['posterior'].sample((1000,), x=x_obs).numpy()\n",
    "                        \n",
    "                        mean = np.mean(samples, axis=0)\n",
    "                        samples_cal = mean + (samples - mean) * temp\n",
    "                        \n",
    "                        predictions_mean.append(np.mean(samples_cal, axis=0))\n",
    "                        predictions_16.append(np.percentile(samples_cal, 16, axis=0))\n",
    "                        predictions_84.append(np.percentile(samples_cal, 84, axis=0))\n",
    "                        true_vals.append(test_params_subset[i])\n",
    "                    except:\n",
    "                        continue\n",
    "                \n",
    "                if len(predictions_mean) == 0:\n",
    "                    continue\n",
    "                \n",
    "                predictions_mean = np.array(predictions_mean)\n",
    "                predictions_16 = np.array(predictions_16)\n",
    "                predictions_84 = np.array(predictions_84)\n",
    "                true_vals = np.array(true_vals)\n",
    "                \n",
    "                for param_idx in range(n_params):\n",
    "                    ax = axes[method_idx, param_idx] if (n_methods > 1 or n_params > 1) else axes\n",
    "                    \n",
    "                    yerr_lower = predictions_mean[:, param_idx] - predictions_16[:, param_idx]\n",
    "                    yerr_upper = predictions_84[:, param_idx] - predictions_mean[:, param_idx]\n",
    "                    yerr = np.array([yerr_lower, yerr_upper])\n",
    "                    \n",
    "                    ax.errorbar(true_vals[:, param_idx], \n",
    "                               predictions_mean[:, param_idx],\n",
    "                               yerr=yerr,\n",
    "                               fmt='o', alpha=0.6, markersize=4,\n",
    "                               elinewidth=0.5, capsize=2, capthick=0.5)\n",
    "                    \n",
    "                    lims = [true_vals[:, param_idx].min(), true_vals[:, param_idx].max()]\n",
    "                    ax.plot(lims, lims, 'r--', alpha=0.7, linewidth=2)\n",
    "                    \n",
    "                    from scipy.stats import pearsonr\n",
    "                    if len(true_vals[:, param_idx]) > 1:\n",
    "                        r2 = pearsonr(true_vals[:, param_idx], predictions_mean[:, param_idx])[0]**2\n",
    "                        rmse = np.sqrt(np.mean((true_vals[:, param_idx] - predictions_mean[:, param_idx])**2))\n",
    "                    else:\n",
    "                        r2 = 0\n",
    "                        rmse = 0\n",
    "                    \n",
    "                    ax.set_xlabel(f'True {self.param_labels[self.param_names[param_idx]]}')\n",
    "                    ax.set_ylabel(f'Predicted {self.param_labels[self.param_names[param_idx]]}')\n",
    "                    ax.set_title(f'{method_key}\\nR²={r2:.3f}, RMSE={rmse:.4f}')\n",
    "                    ax.grid(True, alpha=0.3)\n",
    "                \n",
    "                method_idx += 1\n",
    "        \n",
    "        if method_idx > 0:\n",
    "            plt.suptitle('Parameter Recovery', fontsize=14)\n",
    "            plt.show()\n",
    "    \n",
    "    def estimate_parameters_comprehensive(self, posterior, x_obs, n_samples=10000):\n",
    "        \"\"\"Get multiple estimates for non-Gaussian posterior\"\"\"\n",
    "\n",
    "        # Sample from posterior\n",
    "        x_obs_tensor = torch.tensor(x_obs, dtype=torch.float32)\n",
    "        samples = posterior.sample((n_samples,), x=x_obs_tensor).numpy()\n",
    "\n",
    "        # Get various estimates\n",
    "        estimates = {\n",
    "            'mean': np.mean(samples, axis=0),\n",
    "            'median': np.median(samples, axis=0),\n",
    "            'mode_kde': self._get_mode_estimate(samples),\n",
    "            'map': self._get_map_estimate(posterior, x_obs),\n",
    "        }\n",
    "\n",
    "        # Add uncertainties\n",
    "        estimates['std'] = np.std(samples, axis=0)\n",
    "        estimates['mad'] = np.median(np.abs(samples - estimates['median']), axis=0)\n",
    "\n",
    "        # HPD intervals\n",
    "        try:\n",
    "            import arviz as az\n",
    "            estimates['hpd_68'] = az.hdi(samples, hdi_prob=0.68)\n",
    "            estimates['hpd_95'] = az.hdi(samples, hdi_prob=0.95)\n",
    "        except ImportError:\n",
    "            estimates['hpd_68'] = np.percentile(samples, [16, 84], axis=0).T\n",
    "            estimates['hpd_95'] = np.percentile(samples, [2.5, 97.5], axis=0).T\n",
    "\n",
    "        # Check for multimodality\n",
    "        estimates['is_multimodal'] = self._check_multimodality(samples)\n",
    "\n",
    "        return estimates, samples\n",
    "\n",
    "    def _get_map_estimate(self, posterior, x_obs, n_init=50):\n",
    "        \"\"\"Find MAP estimate using optimization\"\"\"\n",
    "        x_obs_tensor = torch.tensor(x_obs, dtype=torch.float32)\n",
    "\n",
    "        # Sample initial points\n",
    "        init_samples = posterior.sample((n_init,), x=x_obs_tensor)\n",
    "\n",
    "        best_log_prob = -np.inf\n",
    "        best_params = None\n",
    "\n",
    "        for i in range(n_init):\n",
    "            init = init_samples[i].clone().detach().requires_grad_(True)\n",
    "\n",
    "            try:\n",
    "                optimizer = torch.optim.LBFGS([init], lr=0.01, max_iter=100)\n",
    "\n",
    "                def closure():\n",
    "                    optimizer.zero_grad()\n",
    "                    log_prob = posterior.log_prob(init.unsqueeze(0), x=x_obs_tensor)\n",
    "                    loss = -log_prob\n",
    "                    loss.backward()\n",
    "                    return loss\n",
    "\n",
    "                for _ in range(10):\n",
    "                    optimizer.step(closure)\n",
    "\n",
    "                final_log_prob = posterior.log_prob(init.unsqueeze(0), x=x_obs_tensor).item()\n",
    "                if final_log_prob > best_log_prob:\n",
    "                    best_log_prob = final_log_prob\n",
    "                    best_params = init.detach().numpy()\n",
    "            except:\n",
    "                continue\n",
    "\n",
    "        return best_params if best_params is not None else init_samples[0].numpy()\n",
    "\n",
    "    def _get_mode_estimate(self, samples, n_grid=1000):\n",
    "        \"\"\"Estimate mode using kernel density estimation\"\"\"\n",
    "        from scipy.stats import gaussian_kde\n",
    "\n",
    "        modes = []\n",
    "        for param_idx in range(samples.shape[1]):\n",
    "            param_samples = samples[:, param_idx]\n",
    "\n",
    "            # Fit KDE\n",
    "            kde = gaussian_kde(param_samples)\n",
    "\n",
    "            # Create grid and evaluate\n",
    "            x_grid = np.linspace(param_samples.min(), param_samples.max(), n_grid)\n",
    "            density = kde(x_grid)\n",
    "\n",
    "            # Find mode\n",
    "            mode_idx = np.argmax(density)\n",
    "            modes.append(x_grid[mode_idx])\n",
    "\n",
    "        return np.array(modes)\n",
    "\n",
    "    def _check_multimodality(self, samples, threshold=0.1):\n",
    "        \"\"\"Check if posterior is multimodal\"\"\"\n",
    "        from scipy.stats import gaussian_kde\n",
    "        from scipy.signal import find_peaks\n",
    "\n",
    "        is_multimodal = []\n",
    "\n",
    "        for i in range(samples.shape[1]):\n",
    "            kde = gaussian_kde(samples[:, i])\n",
    "            x = np.linspace(samples[:, i].min(), samples[:, i].max(), 200)\n",
    "            density = kde(x)\n",
    "\n",
    "            # Find peaks\n",
    "            peaks, properties = find_peaks(density, height=threshold*np.max(density))\n",
    "            is_multimodal.append(len(peaks) > 1)\n",
    "\n",
    "        return is_multimodal\n",
    "    \n",
    "    def run_sbc_analysis(self, n_sbc_runs: int = 100, n_posterior_samples: int = 1000):\n",
    "        \"\"\"Run proper SBC analysis with rank statistics.\"\"\"\n",
    "        ranks = {method: [] for method in self.lim.results.keys() if \"error\" not in self.lim.results[method]}\n",
    "\n",
    "        for method_key, result in self.lim.results.items():\n",
    "            if \"error\" in result:\n",
    "                continue\n",
    "\n",
    "            for _ in range(n_sbc_runs):\n",
    "                # Sample from prior (using training data as approximation)\n",
    "                idx = np.random.randint(0, self.n_train)\n",
    "                true_param = self.train_params[idx]\n",
    "\n",
    "                # Get corresponding observation based on method type\n",
    "                if \"combined\" in method_key:\n",
    "                    pk_obs = self.train_pk[idx]\n",
    "                    pdf_obs = self.train_pdf[idx]\n",
    "                    observation = np.concatenate([pk_obs, pdf_obs])\n",
    "                elif \"power\" in method_key or \"ps\" in method_key:\n",
    "                    observation = self.train_pk[idx]\n",
    "                elif \"pdf\" in method_key:\n",
    "                    observation = self.train_pdf[idx]\n",
    "                else:\n",
    "                    continue\n",
    "\n",
    "                # Get posterior samples\n",
    "                x_obs = torch.tensor(observation, dtype=torch.float32)\n",
    "                samples = result['posterior'].sample((n_posterior_samples,), x=x_obs).numpy()\n",
    "\n",
    "                # Calculate ranks for each parameter\n",
    "                rank = np.sum(samples < true_param[None, :], axis=0) / n_posterior_samples\n",
    "                ranks[method_key].append(rank)\n",
    "    \n",
    "        # Convert to arrays\n",
    "        for method_key, method_ranks in ranks.items():\n",
    "            ranks[method_key] = np.array(method_ranks)\n",
    "\n",
    "        return ranks\n",
    "    \n",
    "    def plot_sbc_ranks(self, n_sbc_runs: int = 100, n_posterior_samples: int = 1000):\n",
    "        \"\"\"Run SBC analysis and create rank plots.\"\"\"\n",
    "\n",
    "        # First run the SBC analysis\n",
    "        ranks = self.run_sbc_analysis(n_sbc_runs, n_posterior_samples)\n",
    "\n",
    "        # Create plots for each method\n",
    "        for method_key, method_ranks in ranks.items():\n",
    "            if len(method_ranks) == 0:\n",
    "                continue\n",
    "\n",
    "            n_params = method_ranks.shape[1]\n",
    "            # FIXED: Use constrained_layout\n",
    "            fig, axes = plt.subplots(1, n_params, figsize=(6*n_params, 5),\n",
    "                                    constrained_layout=True)\n",
    "\n",
    "            if n_params == 1:\n",
    "                axes = [axes]\n",
    "\n",
    "            for param_idx, param_name in enumerate(self.param_names):\n",
    "                ax = axes[param_idx]\n",
    "\n",
    "                # Plot histogram of ranks\n",
    "                n_bins = int(np.sqrt(n_sbc_runs)) if n_sbc_runs > 100 else 10\n",
    "                counts, bins, _ = ax.hist(method_ranks[:, param_idx], \n",
    "                                         bins=n_bins, \n",
    "                                         density=True,\n",
    "                                         alpha=0.7, \n",
    "                                         edgecolor='black',\n",
    "                                         label='SBC ranks')\n",
    "\n",
    "                # Add uniform reference line\n",
    "                ax.axhline(1.0, color='red', linestyle='--', \n",
    "                          label='Expected (uniform)', linewidth=2)\n",
    "\n",
    "                # Add confidence bands for uniform distribution\n",
    "                n_samples = len(method_ranks[:, param_idx])\n",
    "                std_uniform = 1 / np.sqrt(12)\n",
    "                ci_width = 1.96 * std_uniform / np.sqrt(n_samples)\n",
    "                ax.axhspan(1.0 - ci_width, 1.0 + ci_width, \n",
    "                          alpha=0.2, color='red', label='95% CI')\n",
    "\n",
    "                # Run Kolmogorov-Smirnov test\n",
    "                ks_stat, p_value = stats.kstest(method_ranks[:, param_idx], 'uniform')\n",
    "\n",
    "                # Interpret the shape\n",
    "                mean_rank = np.mean(method_ranks[:, param_idx])\n",
    "                interpretation = \"\"\n",
    "                if p_value < 0.05:\n",
    "                    if mean_rank < 0.45:\n",
    "                        interpretation = \"Underconfident\"\n",
    "                    elif mean_rank > 0.55:\n",
    "                        interpretation = \"Overconfident\"\n",
    "                    else:\n",
    "                        q1 = np.percentile(method_ranks[:, param_idx], 25)\n",
    "                        q3 = np.percentile(method_ranks[:, param_idx], 75)\n",
    "                        if q1 < 0.2 and q3 > 0.8:\n",
    "                            interpretation = \"Overconfident (U-shape)\"\n",
    "                        elif q1 > 0.3 and q3 < 0.7:\n",
    "                            interpretation = \"Underconfident (∩-shape)\"\n",
    "                        else:\n",
    "                            interpretation = \"Miscalibrated\"\n",
    "                else:\n",
    "                    interpretation = \"Well calibrated ✓\"\n",
    "\n",
    "                ax.set_xlabel('Rank statistic')\n",
    "                ax.set_ylabel('Density')\n",
    "                ax.set_title(f'{self.param_labels[param_name]}\\nKS p={p_value:.3f}\\n{interpretation}')\n",
    "                ax.legend(loc='upper right')\n",
    "                ax.grid(True, alpha=0.3)\n",
    "                ax.set_xlim(0, 1)\n",
    "\n",
    "            plt.suptitle(f'SBC Rank Plot - {method_key}\\n(n={n_sbc_runs} runs)', \n",
    "                        fontsize=14)\n",
    "            plt.show()\n",
    "    \n",
    "    def run_mcmc_diagnostics(self, method_key: str = None, n_samples: int = 1000, \n",
    "                         n_chains: int = 4, thin: int = 5, warmup_steps: int = 100):\n",
    "        \"\"\"\n",
    "        Run MCMC diagnostics using arviz for likelihood-based methods.\n",
    "        \"\"\"\n",
    "        # Check dependencies\n",
    "        if not self.available_features.get('arviz', False):\n",
    "            print(\"ERROR: arviz not installed. Install with: pip install arviz\")\n",
    "            return None\n",
    "        \n",
    "        try:\n",
    "            import arviz as az\n",
    "            from sbi.inference import NLE, MCMCPosterior, likelihood_estimator_based_potential\n",
    "        except ImportError as e:\n",
    "            print(f\"ERROR: Required package not found: {e}\")\n",
    "            return None\n",
    "\n",
    "        # Get method to analyze\n",
    "        if method_key is None:\n",
    "            method_key = next(k for k in self.lim.results.keys() if \"error\" not in self.lim.results[k])\n",
    "\n",
    "        print(f\"\\nRunning MCMC diagnostics for {method_key}\")\n",
    "        print(\"=\"*50)\n",
    "        \n",
    "        # Standardized test index usage\n",
    "        test_idx = self.test_obs_idx\n",
    "\n",
    "        # Prepare training data\n",
    "        if \"combined\" in method_key:\n",
    "            train_data = np.concatenate([self.train_pk, self.train_pdf], axis=1)\n",
    "            test_obs = np.concatenate([self.test_pk[test_idx], self.test_pdf[test_idx]])\n",
    "        elif \"power\" in method_key or \"ps\" in method_key:\n",
    "            train_data = self.train_pk\n",
    "            test_obs = self.test_pk[test_idx]\n",
    "        elif \"pdf\" in method_key:\n",
    "            train_data = self.train_pdf\n",
    "            test_obs = self.test_pdf[test_idx]\n",
    "        else:\n",
    "            print(f\"Method {method_key} not supported for MCMC\")\n",
    "            return None\n",
    "\n",
    "        # Check for NaN/Inf values\n",
    "        if np.any(np.isnan(train_data)) or np.any(np.isinf(train_data)):\n",
    "            print(\"Warning: NaN or Inf values detected in training data\")\n",
    "            valid_mask = ~(np.any(np.isnan(train_data), axis=1) | np.any(np.isinf(train_data), axis=1))\n",
    "            train_data = train_data[valid_mask]\n",
    "            train_params_clean = self.train_params[valid_mask]\n",
    "        else:\n",
    "            train_params_clean = self.train_params\n",
    "\n",
    "        print(f\"Using {len(train_data)} valid training samples\")\n",
    "\n",
    "        # Train NLE\n",
    "        print(\"Training NLE for likelihood estimation...\")\n",
    "        from sbi.utils import BoxUniform\n",
    "\n",
    "        # Create prior from parameter bounds\n",
    "        min_vals = train_params_clean.min(axis=0)\n",
    "        max_vals = train_params_clean.max(axis=0)\n",
    "        prior = BoxUniform(\n",
    "            low=torch.tensor(min_vals, dtype=torch.float32),\n",
    "            high=torch.tensor(max_vals, dtype=torch.float32)\n",
    "        )\n",
    "\n",
    "        # Convert to tensors\n",
    "        theta_tensor = torch.tensor(train_params_clean, dtype=torch.float32)\n",
    "        x_tensor = torch.tensor(train_data, dtype=torch.float32)\n",
    "        x_obs_tensor = torch.tensor(test_obs, dtype=torch.float32).unsqueeze(0)\n",
    "\n",
    "        # Train NLE\n",
    "        trainer = NLE(prior, density_estimator=\"maf\")\n",
    "        trainer = trainer.append_simulations(theta_tensor, x_tensor)\n",
    "        likelihood_estimator = trainer.train(\n",
    "            max_num_epochs=200,\n",
    "            stop_after_epochs=20,\n",
    "            training_batch_size=50,\n",
    "            show_train_summary=True\n",
    "        )\n",
    "\n",
    "        # Set up MCMC\n",
    "        print(f\"\\nRunning MCMC with {n_chains} chains...\")\n",
    "        mcmc_parameters = dict(\n",
    "            num_chains=n_chains,\n",
    "            thin=thin,\n",
    "            warmup_steps=warmup_steps,\n",
    "            init_strategy=\"proposal\",\n",
    "            method=\"slice_np_vectorized\"\n",
    "        )\n",
    "\n",
    "        # Get potential function and parameter transform\n",
    "        potential_fn, parameter_transform = likelihood_estimator_based_potential(\n",
    "            likelihood_estimator, prior, x_obs_tensor\n",
    "        )\n",
    "\n",
    "        # Create MCMC posterior\n",
    "        mnle_posterior = MCMCPosterior(\n",
    "            potential_fn, \n",
    "            proposal=prior, \n",
    "            theta_transform=parameter_transform,\n",
    "            **mcmc_parameters\n",
    "        )\n",
    "\n",
    "        # Sample and get arviz InferenceData\n",
    "        mnle_samples = mnle_posterior.sample(\n",
    "            (n_samples,), \n",
    "            x=x_obs_tensor, \n",
    "            show_progress_bars=True\n",
    "        )\n",
    "\n",
    "        # Get arviz InferenceData object\n",
    "        inference_data = mnle_posterior.get_arviz_inference_data()\n",
    "\n",
    "        # Store for later use\n",
    "        self.mcmc_results = {\n",
    "            'inference_data': inference_data,\n",
    "            'samples': mnle_samples,\n",
    "            'posterior': mnle_posterior,\n",
    "            'method': method_key\n",
    "        }\n",
    "\n",
    "        # Create diagnostic plots\n",
    "        self._plot_mcmc_diagnostics(inference_data, method_key)\n",
    "\n",
    "        return inference_data\n",
    "    \n",
    "    def _plot_mcmc_diagnostics(self, inference_data, method_key: str):\n",
    "        \"\"\"Create comprehensive MCMC diagnostic plots using arviz.\"\"\"\n",
    "        try:\n",
    "            import arviz as az\n",
    "            az.style.use(\"arviz-darkgrid\")\n",
    "        except ImportError:\n",
    "            print(\"Cannot create plots without arviz\")\n",
    "            return\n",
    "\n",
    "        print(\"\\nGenerating MCMC diagnostic plots...\")\n",
    "\n",
    "        # 1. Rank plots\n",
    "        try:\n",
    "            axes = az.plot_rank(inference_data, var_names=[\"theta\"])\n",
    "            if axes is not None:\n",
    "                if isinstance(axes, np.ndarray):\n",
    "                    fig = axes.flat[0].get_figure()\n",
    "                else:\n",
    "                    fig = axes.get_figure()\n",
    "                fig.suptitle(f'Rank Plots - {method_key}', fontsize=14)\n",
    "                plt.show()\n",
    "        except Exception as e:\n",
    "            print(f\"Could not create rank plot: {e}\")\n",
    "\n",
    "        # 2. Trace plots\n",
    "        try:\n",
    "            axes = az.plot_trace(inference_data, var_names=[\"theta\"])\n",
    "            if axes is not None:\n",
    "                if isinstance(axes, np.ndarray):\n",
    "                    fig = axes.flat[0].get_figure()\n",
    "                else:\n",
    "                    fig = axes.get_figure()\n",
    "                fig.suptitle(f'Trace Plots - {method_key}', fontsize=14)\n",
    "                plt.show()\n",
    "        except Exception as e:\n",
    "            print(f\"Could not create trace plot: {e}\")\n",
    "\n",
    "        # 3. Posterior plots\n",
    "        try:\n",
    "            axes = az.plot_posterior(\n",
    "                inference_data, \n",
    "                var_names=[\"theta\"],\n",
    "                hdi_prob=0.95,\n",
    "                point_estimate=\"mean\"\n",
    "            )\n",
    "            if axes is not None:\n",
    "                if isinstance(axes, np.ndarray):\n",
    "                    fig = axes.flat[0].get_figure()\n",
    "                else:\n",
    "                    fig = axes.get_figure()\n",
    "                fig.suptitle(f'Posterior Distributions - {method_key}', fontsize=14)\n",
    "                plt.show()\n",
    "        except Exception as e:\n",
    "            print(f\"Could not create posterior plot: {e}\")\n",
    "\n",
    "        # 4. Autocorrelation plots\n",
    "        try:\n",
    "            axes = az.plot_autocorr(inference_data, var_names=[\"theta\"])\n",
    "            if axes is not None:\n",
    "                if isinstance(axes, np.ndarray):\n",
    "                    fig = axes.flat[0].get_figure()\n",
    "                else:\n",
    "                    fig = axes.get_figure()\n",
    "                fig.suptitle(f'Autocorrelation - {method_key}', fontsize=14)\n",
    "                plt.show()\n",
    "        except Exception as e:\n",
    "            print(f\"Could not create autocorrelation plot: {e}\")\n",
    "\n",
    "        # 5. Energy plot\n",
    "        try:\n",
    "            axes = az.plot_energy(inference_data)\n",
    "            if axes is not None:\n",
    "                if isinstance(axes, np.ndarray):\n",
    "                    fig = axes.flat[0].get_figure()\n",
    "                else:\n",
    "                    fig = axes.get_figure()\n",
    "                fig.suptitle(f'Energy Plot - {method_key}', fontsize=14)\n",
    "                plt.show()\n",
    "        except Exception as e:\n",
    "            print(f\"Energy plot not available: {e}\")\n",
    "\n",
    "        # 6. Print summary statistics\n",
    "        print(\"\\nMCMC Summary Statistics:\")\n",
    "        print(\"=\"*50)\n",
    "\n",
    "        try:\n",
    "            summary = az.summary(inference_data, var_names=[\"theta\"])\n",
    "\n",
    "            # Rename index for our parameters\n",
    "            if len(self.param_names) == summary.shape[0]:\n",
    "                summary.index = [f'theta[{i}] ({name})' for i, name in enumerate(self.param_names)]\n",
    "            print(summary)\n",
    "\n",
    "            # Check convergence criteria\n",
    "            print(\"\\nConvergence Diagnostics:\")\n",
    "            print(\"-\"*40)\n",
    "\n",
    "            # R-hat\n",
    "            if 'r_hat' in summary.columns:\n",
    "                r_hats = summary['r_hat'].values\n",
    "                for i, (param, r_hat) in enumerate(zip(self.param_names, r_hats)):\n",
    "                    if not np.isnan(r_hat):\n",
    "                        status = \"✅\" if r_hat < 1.01 else \"⚠️\"\n",
    "                        print(f\"{param}: R-hat = {r_hat:.3f} {status}\")\n",
    "                    else:\n",
    "                        print(f\"{param}: R-hat = NaN (single chain or insufficient samples)\")\n",
    "\n",
    "            # ESS\n",
    "            if 'ess_bulk' in summary.columns and 'ess_tail' in summary.columns:\n",
    "                ess_bulk = summary['ess_bulk'].values\n",
    "                ess_tail = summary['ess_tail'].values\n",
    "\n",
    "                try:\n",
    "                    n_chains = len(inference_data.posterior.chain) if hasattr(inference_data.posterior, 'chain') else 4\n",
    "                except:\n",
    "                    n_chains = 4\n",
    "\n",
    "                for i, param in enumerate(self.param_names):\n",
    "                    if not np.isnan(ess_bulk[i]) and not np.isnan(ess_tail[i]):\n",
    "                        bulk_ok = \"✅\" if ess_bulk[i] > 100 * n_chains else \"⚠️\"\n",
    "                        tail_ok = \"✅\" if ess_tail[i] > 100 * n_chains else \"⚠️\"\n",
    "                        print(f\"{param}: ESS_bulk = {ess_bulk[i]:.0f} {bulk_ok}, ESS_tail = {ess_tail[i]:.0f} {tail_ok}\")\n",
    "                    else:\n",
    "                        print(f\"{param}: ESS not available\")\n",
    "\n",
    "        except Exception as e:\n",
    "            print(f\"Could not generate summary statistics: {e}\")\n",
    "\n",
    "        # 7. Check for divergences\n",
    "        print(\"\\nDivergence Check:\")\n",
    "        print(\"-\"*40)\n",
    "\n",
    "        try:\n",
    "            divergences_found = False\n",
    "\n",
    "            if hasattr(inference_data, 'sample_stats'):\n",
    "                sample_stats = inference_data.sample_stats\n",
    "\n",
    "                if hasattr(sample_stats, 'diverging'):\n",
    "                    try:\n",
    "                        n_divergences = int(sample_stats.diverging.sum().values)\n",
    "                        divergences_found = True\n",
    "                        print(f\"Number of divergent transitions: {n_divergences}\")\n",
    "\n",
    "                        if n_divergences > 0:\n",
    "                            total_samples = sample_stats.diverging.size\n",
    "                            pct_divergent = 100 * n_divergences / total_samples\n",
    "                            print(f\"⚠️ Warning: {n_divergences}/{total_samples} ({pct_divergent:.1f}%) divergent transitions\")\n",
    "                        else:\n",
    "                            print(\"✅ No divergent transitions detected\")\n",
    "                    except Exception as e:\n",
    "                        print(f\"Could not process diverging data: {e}\")\n",
    "\n",
    "            if not divergences_found:\n",
    "                try:\n",
    "                    groups_list = inference_data.groups() if hasattr(inference_data, 'groups') else []\n",
    "\n",
    "                    if 'sample_stats' in groups_list:\n",
    "                        diverging = az.extract(inference_data, group=\"sample_stats\", var_names=[\"diverging\"])\n",
    "                        if diverging is not None:\n",
    "                            n_div = int(diverging.sum().values)\n",
    "                            print(f\"Number of divergent transitions: {n_div}\")\n",
    "                            divergences_found = True\n",
    "\n",
    "                            if n_div > 0:\n",
    "                                print(f\"⚠️ Warning: {n_div} divergent transitions detected\")\n",
    "                except:\n",
    "                    pass\n",
    "\n",
    "            if not divergences_found:\n",
    "                print(\"Divergence information not available for this sampler\")\n",
    "\n",
    "        except Exception as e:\n",
    "            print(f\"Could not check for divergences: {e}\")\n",
    "\n",
    "        print(\"\\n\" + \"=\"*50)\n",
    "        print(\"MCMC Diagnostics Complete\")\n",
    "        print(\"=\"*50)\n",
    "    \n",
    "    def generate_report(self):\n",
    "        \"\"\"Generate comprehensive summary report.\"\"\"\n",
    "        print(\"\\n\" + \"=\"*70)\n",
    "        print(f\"SBI CONVERGENCE TEST SUMMARY\")\n",
    "        print(f\"Methods tested: {', '.join(self.inference_methods)}\")\n",
    "        print(f\"Analysis types: {', '.join(self.analysis_methods)}\")\n",
    "        print(f\"Parameters constrained: {', '.join(self.param_names)}\")\n",
    "        print(\"=\"*70)\n",
    "        \n",
    "        for method_key in self.lim.results:\n",
    "            if \"error\" not in self.lim.results[method_key]:\n",
    "                print(f\"\\n{method_key}:\")\n",
    "                print(\"-\"*40)\n",
    "                \n",
    "                result = self.lim.results[method_key]\n",
    "                if 'calibration_temp' in result:\n",
    "                    print(f\"Calibration:\")\n",
    "                    print(f\"  Temperature: {result['calibration_temp']:.3f}\")\n",
    "                \n",
    "                if hasattr(self, 'recovery_results') and method_key in self.recovery_results:\n",
    "                    rec = self.recovery_results[method_key]\n",
    "                    print(f\"Performance:\")\n",
    "                    print(f\"  RMSE: {rec['mean_rmse']:.4f}\")\n",
    "                    print(f\"  68% coverage: {rec['coverage_68_rate']:.1%}\")\n",
    "                    print(f\"  95% coverage: {rec['coverage_95_rate']:.1%}\")\n",
    "                    \n",
    "                    if rec['well_calibrated_68'] and rec['well_calibrated_95']:\n",
    "                        print(\"  ✅ Well calibrated\")\n",
    "                    else:\n",
    "                        print(\"  ⚠️ Needs adjustment\")\n",
    "    \n",
    "    def run_lc2st_diagnostic(self, n_cal: int = None, n_eval: int = 10000, \n",
    "                         n_trials: int = 100, alpha: float = 0.05):\n",
    "        \"\"\"\n",
    "        Run proper LC2ST diagnostics following SBI implementation.\n",
    "        \"\"\"\n",
    "        # Check dependencies\n",
    "        if not self.available_features.get('sbi.diagnostics.lc2st', False):\n",
    "            print(\"ERROR: sbi.diagnostics.lc2st not available\")\n",
    "            return None\n",
    "        \n",
    "        from sbi.diagnostics.lc2st import LC2ST\n",
    "\n",
    "        if n_cal is None:\n",
    "            n_cal = int(0.1 * self.n_train)\n",
    "\n",
    "        print(\"\\n\" + \"=\"*70)\n",
    "        print(\"LOCAL CLASSIFIER TWO-SAMPLE TEST (L-C2ST)\")\n",
    "        print(\"=\"*70)\n",
    "\n",
    "        results = {}\n",
    "\n",
    "        for method_key, result in self.lim.results.items():\n",
    "            if \"error\" in result:\n",
    "                continue\n",
    "\n",
    "            print(f\"\\n{method_key}:\")\n",
    "            print(\"-\"*50)\n",
    "\n",
    "            # Get calibration data\n",
    "            cal_indices = np.random.choice(self.n_train, n_cal, replace=False)\n",
    "            theta_cal = self.train_params[cal_indices]\n",
    "\n",
    "            if \"combined\" in method_key:\n",
    "                x_cal = np.concatenate([\n",
    "                    self.train_pk[cal_indices],\n",
    "                    self.train_pdf[cal_indices]\n",
    "                ], axis=1)\n",
    "            elif \"power\" in method_key:\n",
    "                x_cal = self.train_pk[cal_indices]\n",
    "            elif \"pdf\" in method_key:\n",
    "                x_cal = self.train_pdf[cal_indices]\n",
    "            else:\n",
    "                continue\n",
    "\n",
    "            # Sample from posterior for calibration data\n",
    "            post_samples_cal = []\n",
    "            for x in x_cal:\n",
    "                x_tensor = torch.tensor(x, dtype=torch.float32)\n",
    "                samples = result['posterior'].sample((1,), x=x_tensor)\n",
    "                post_samples_cal.append(samples.numpy()[0])\n",
    "            post_samples_cal = np.array(post_samples_cal)\n",
    "\n",
    "            # Convert to tensors for LC2ST\n",
    "            theta_cal_tensor = torch.tensor(theta_cal, dtype=torch.float32)\n",
    "            x_cal_tensor = torch.tensor(x_cal, dtype=torch.float32)\n",
    "            post_samples_cal_tensor = torch.tensor(post_samples_cal, dtype=torch.float32)\n",
    "\n",
    "            # Initialize LC2ST\n",
    "            lc2st = LC2ST(\n",
    "                thetas=theta_cal_tensor,\n",
    "                xs=x_cal_tensor,\n",
    "                posterior_samples=post_samples_cal_tensor,\n",
    "                classifier=\"mlp\",\n",
    "                num_ensemble=5\n",
    "            )\n",
    "\n",
    "            # Train under null hypothesis and on observed data\n",
    "            print(\"Training classifiers...\")\n",
    "            lc2st.train_under_null_hypothesis()\n",
    "            lc2st.train_on_observed_data()\n",
    "\n",
    "            # Test on specific observations\n",
    "            # FIXED: Removed unnecessary None check\n",
    "            test_idx = self.test_obs_idx\n",
    "\n",
    "            if \"combined\" in method_key:\n",
    "                x_test = np.concatenate([self.test_pk[test_idx], self.test_pdf[test_idx]])\n",
    "            elif \"power\" in method_key:\n",
    "                x_test = self.test_pk[test_idx]\n",
    "            else:\n",
    "                x_test = self.test_pdf[test_idx]\n",
    "\n",
    "            x_test_tensor = torch.tensor(x_test, dtype=torch.float32)\n",
    "\n",
    "            # Sample from posterior for test observation\n",
    "            post_samples_test = result['posterior'].sample((n_eval,), x=x_test_tensor)\n",
    "\n",
    "            # Compute diagnostics\n",
    "            p_value = lc2st.p_value(post_samples_test, x_test_tensor)\n",
    "            reject = lc2st.reject_test(post_samples_test, x_test_tensor, alpha=alpha)\n",
    "\n",
    "            # Get statistics for visualization\n",
    "            T_obs = lc2st.get_statistic_on_observed_data(post_samples_test, x_test_tensor)\n",
    "            T_null = lc2st.get_statistics_under_null_hypothesis(\n",
    "                post_samples_test, x_test_tensor\n",
    "            )\n",
    "\n",
    "            results[method_key] = {\n",
    "                'p_value': p_value,\n",
    "                'reject': reject,\n",
    "                'T_obs': T_obs,\n",
    "                'T_null': T_null,\n",
    "                'lc2st': lc2st\n",
    "            }\n",
    "\n",
    "            print(f\"p-value: {p_value:.4f}\")\n",
    "            print(f\"Reject H0 (at α={alpha}): {reject}\")\n",
    "\n",
    "            if reject:\n",
    "                print(\"⚠️ Significant discrepancy detected between true and estimated posterior\")\n",
    "            else:\n",
    "                print(\"✅ No significant discrepancy detected\")\n",
    "\n",
    "        self.lc2st_results = results\n",
    "        return results\n",
    "\n",
    "    def plot_lc2st_diagnostics(self):\n",
    "        \"\"\"Create comprehensive diagnostic plots for LC2ST results.\"\"\"\n",
    "        # Check dependencies\n",
    "        if not self.available_features.get('sbi.analysis', False):\n",
    "            print(\"ERROR: sbi.analysis not available for plotting\")\n",
    "            return\n",
    "        \n",
    "        from sbi.analysis.plot import pp_plot_lc2st, marginal_plot_with_probs_intensity\n",
    "        from sbi.utils.analysis_utils import get_probs_per_marginal\n",
    "\n",
    "        if not hasattr(self, 'lc2st_results'):\n",
    "            print(\"Run LC2ST diagnostic first\")\n",
    "            return\n",
    "\n",
    "        for method_key, result in self.lc2st_results.items():\n",
    "            # FIXED: Use constrained_layout\n",
    "            fig = plt.figure(figsize=(18, 12), constrained_layout=True)\n",
    "\n",
    "            # Get test observation\n",
    "            test_idx = self.test_obs_idx\n",
    "\n",
    "            # Prepare test observation\n",
    "            if \"combined\" in method_key:\n",
    "                x_test = np.concatenate([self.test_pk[test_idx], self.test_pdf[test_idx]])\n",
    "            elif \"power\" in method_key:\n",
    "                x_test = self.test_pk[test_idx]\n",
    "            else:\n",
    "                x_test = self.test_pdf[test_idx]\n",
    "\n",
    "            x_test_tensor = torch.tensor(x_test, dtype=torch.float32)\n",
    "            lc2st = result['lc2st']\n",
    "\n",
    "            # Get posterior samples for visualization\n",
    "            post_samples = self.lim.results[method_key]['posterior'].sample(\n",
    "                (1000,), x=x_test_tensor\n",
    "            )\n",
    "\n",
    "            # 1. Test Statistic Distribution\n",
    "            ax1 = plt.subplot(3, 3, 1)\n",
    "            T_null = result['T_null']\n",
    "            T_obs = result['T_obs']\n",
    "\n",
    "            quantiles = np.quantile(T_null, [0.025, 0.975])\n",
    "            ax1.hist(T_null, bins=50, density=True, alpha=0.5, label=\"Null\")\n",
    "            ax1.axvline(T_obs, color=\"red\", label=\"Observed\", linewidth=2)\n",
    "            ax1.axvline(quantiles[0], color=\"black\", linestyle=\"--\", label=\"95% CI\")\n",
    "            ax1.axvline(quantiles[1], color=\"black\", linestyle=\"--\")\n",
    "            ax1.set_xlabel(\"Test statistic\")\n",
    "            ax1.set_ylabel(\"Density\")\n",
    "            ax1.set_xlim(-0.01, max(0.25, T_obs*1.2))\n",
    "            ax1.set_title(f\"Test Statistic\\np-value = {result['p_value']:.3f}, reject = {result['reject']}\")\n",
    "            ax1.legend(fontsize=8)\n",
    "\n",
    "            # 2. P-P Plot\n",
    "            ax2 = plt.subplot(3, 3, 2)\n",
    "\n",
    "            probs_obs, _ = lc2st.get_scores(\n",
    "                theta_o=post_samples,\n",
    "                x_o=x_test_tensor,\n",
    "                return_probs=True,\n",
    "                trained_clfs=lc2st.trained_clfs\n",
    "            )\n",
    "\n",
    "            probs_null, _ = lc2st.get_statistics_under_null_hypothesis(\n",
    "                theta_o=post_samples,\n",
    "                x_o=x_test_tensor,\n",
    "                return_probs=True\n",
    "            )\n",
    "\n",
    "            pp_plot_lc2st(\n",
    "                probs=[probs_obs],\n",
    "                probs_null=probs_null,\n",
    "                conf_alpha=0.05,\n",
    "                labels=[\"Observed\"],\n",
    "                colors=[\"red\"],\n",
    "                ax=ax2\n",
    "            )\n",
    "            ax2.set_title('P-P Plot\\n(Confidence Assessment)')\n",
    "\n",
    "            # 3. Probability Heatmaps\n",
    "            dict_probs_marginals = get_probs_per_marginal(\n",
    "                probs_obs[0],\n",
    "                post_samples.numpy()\n",
    "            )\n",
    "\n",
    "            # 2D heatmap (if 2 parameters)\n",
    "            if len(self.param_names) >= 2:\n",
    "                ax3 = plt.subplot(3, 3, 3)\n",
    "                marginal_plot_with_probs_intensity(\n",
    "                    dict_probs_marginals['0_1'],\n",
    "                    marginal_dim=2,\n",
    "                    ax=ax3,\n",
    "                    n_bins=50,\n",
    "                    label=\"Classifier Prob\"\n",
    "                )\n",
    "                ax3.set_xlabel(self.param_labels[self.param_names[0]])\n",
    "                ax3.set_ylabel(self.param_labels[self.param_names[1]])\n",
    "                ax3.set_title('2D Probability Heatmap')\n",
    "\n",
    "                # Add true value\n",
    "                true_params = self.test_params[test_idx]\n",
    "                ax3.scatter(true_params[0], true_params[1], \n",
    "                           color='red', s=100, marker='*', \n",
    "                           label='True', zorder=5)\n",
    "                ax3.legend(fontsize=8)\n",
    "\n",
    "            # Marginal 1 heatmap\n",
    "            ax4 = plt.subplot(3, 3, 4)\n",
    "            marginal_plot_with_probs_intensity(\n",
    "                dict_probs_marginals['0'],\n",
    "                marginal_dim=1,\n",
    "                ax=ax4,\n",
    "                n_bins=50,\n",
    "                label=\"Classifier Prob\"\n",
    "            )\n",
    "            ax4.set_xlabel(self.param_labels[self.param_names[0]])\n",
    "            ax4.set_title(f'{self.param_names[0]} Marginal')\n",
    "            ax4.axvline(self.test_params[test_idx][0], \n",
    "                       color='red', linestyle='--', label='True')\n",
    "            ax4.legend(fontsize=8)\n",
    "\n",
    "            # Marginal 2 heatmap\n",
    "            if len(self.param_names) > 1:\n",
    "                ax5 = plt.subplot(3, 3, 5)\n",
    "                marginal_plot_with_probs_intensity(\n",
    "                    dict_probs_marginals['1'],\n",
    "                    marginal_dim=1,\n",
    "                    ax=ax5,\n",
    "                    n_bins=50,\n",
    "                    label=\"Classifier Prob\"\n",
    "                )\n",
    "                ax5.set_xlabel(self.param_labels[self.param_names[1]])\n",
    "                ax5.set_title(f'{self.param_names[1]} Marginal')\n",
    "                ax5.axvline(self.test_params[test_idx][1], \n",
    "                           color='red', linestyle='--', label='True')\n",
    "                ax5.legend(fontsize=8)\n",
    "\n",
    "            # 4. Summary statistics box\n",
    "            ax6 = plt.subplot(3, 3, 6)\n",
    "            ax6.axis('off')\n",
    "\n",
    "            summary_text = f\"LC2ST Summary for {method_key}\\n\\n\"\n",
    "            summary_text += f\"Test observation index: {test_idx}\\n\"\n",
    "            summary_text += f\"True params: \"\n",
    "            for i, name in enumerate(self.param_names[:2]):\n",
    "                summary_text += f\"{name}={self.test_params[test_idx][i]:.3f}\"\n",
    "                if i < min(1, len(self.param_names)-1):\n",
    "                    summary_text += \", \"\n",
    "            summary_text += f\"\\n\\np-value: {result['p_value']:.4f}\\n\"\n",
    "            summary_text += f\"Reject H0 (α=0.05): {result['reject']}\\n\\n\"\n",
    "\n",
    "            # Interpret probabilities\n",
    "            mean_prob = np.mean(probs_obs[0])\n",
    "            if mean_prob > 0.55:\n",
    "                summary_text += \"⚠️ Overconfident posterior\\n(high classifier confidence)\"\n",
    "            elif mean_prob < 0.45:\n",
    "                summary_text += \"⚠️ Underconfident posterior\\n(low classifier confidence)\"\n",
    "            else:\n",
    "                summary_text += \"✓ Well-calibrated confidence\"\n",
    "\n",
    "            ax6.text(0.1, 0.5, summary_text, transform=ax6.transAxes,\n",
    "                    fontsize=11, va='center',\n",
    "                    bbox=dict(boxstyle='round', facecolor='wheat', alpha=0.5))\n",
    "\n",
    "            # 5. Probability distribution\n",
    "            ax7 = plt.subplot(3, 3, 7)\n",
    "            ax7.hist(probs_obs[0], bins=30, density=True, alpha=0.7, color='blue')\n",
    "            ax7.axvline(0.5, color='red', linestyle='--', label='Ideal (0.5)')\n",
    "            ax7.set_xlabel('Classifier Probability')\n",
    "            ax7.set_ylabel('Density')\n",
    "            ax7.set_title('Distribution of Classifier Probabilities')\n",
    "            ax7.legend()\n",
    "\n",
    "            plt.suptitle(f'LC2ST Complete Diagnostics - {method_key}', fontsize=14)\n",
    "            plt.show()\n",
    "    \n",
    "    def run_posterior_predictive_check(self, n_posterior_samples: int = 5000, add_noise: bool = False, noise_scale: float = 0.01):\n",
    "        \"\"\"\n",
    "        Run Posterior Predictive Check to verify if the inference is consistent.\n",
    "        \n",
    "        Parameters:\n",
    "        -----------\n",
    "        n_posterior_samples : int\n",
    "            Number of samples to draw from posterior\n",
    "        add_noise : bool\n",
    "            Whether to add noise to synthetic observations (FIXED: Now configurable)\n",
    "        noise_scale : float\n",
    "            Scale of noise relative to std dev (default 0.01 = 1%)\n",
    "        \"\"\"\n",
    "        print(\"\\n\" + \"=\"*70)\n",
    "        print(\"POSTERIOR PREDICTIVE CHECK (PPC)\")\n",
    "        print(\"=\"*70)\n",
    "\n",
    "        if not self.models_trained:\n",
    "            print(\"No trained models to check\")\n",
    "            return None\n",
    "\n",
    "        ppc_results = {}\n",
    "\n",
    "        for method_key, result in self.lim.results.items():\n",
    "            if \"error\" in result:\n",
    "                continue\n",
    "\n",
    "            print(f\"\\n{method_key}:\")\n",
    "            print(\"-\"*50)\n",
    "\n",
    "            # Standardized test index usage\n",
    "            test_idx = self.test_obs_idx\n",
    "\n",
    "            # Get observation data\n",
    "            if \"combined\" in method_key:\n",
    "                x_obs = np.concatenate([self.test_pk[test_idx], self.test_pdf[test_idx]])\n",
    "            elif \"power\" in method_key:\n",
    "                x_obs = self.test_pk[test_idx]\n",
    "            elif \"pdf\" in method_key:\n",
    "                x_obs = self.test_pdf[test_idx]\n",
    "            else:\n",
    "                continue\n",
    "\n",
    "            x_obs_tensor = torch.tensor(x_obs, dtype=torch.float32)\n",
    "\n",
    "            # Sample from posterior\n",
    "            print(f\"Sampling {n_posterior_samples} from posterior...\")\n",
    "            posterior_samples = result['posterior'].sample(\n",
    "                (n_posterior_samples,), x=x_obs_tensor\n",
    "            ).numpy()\n",
    "\n",
    "            # Generate synthetic observations using posterior samples\n",
    "            print(\"Generating synthetic observations from posterior samples...\")\n",
    "            x_pp = self._simulate_from_parameters(\n",
    "                posterior_samples, method_key, n_samples=min(1000, n_posterior_samples),\n",
    "                add_noise=add_noise, noise_scale=noise_scale\n",
    "            )\n",
    "\n",
    "            # Compute statistics for comparison\n",
    "            ppc_stats = self._compute_ppc_statistics(x_obs, x_pp)\n",
    "\n",
    "            ppc_results[method_key] = {\n",
    "                'posterior_samples': posterior_samples,\n",
    "                'x_observed': x_obs,\n",
    "                'x_predictive': x_pp,\n",
    "                'statistics': ppc_stats,\n",
    "                'true_params': self.test_params[test_idx]\n",
    "            }\n",
    "\n",
    "            # Print results\n",
    "            print(f\"PPC Statistics:\")\n",
    "            print(f\"  Observation within support: {ppc_stats['obs_in_support']}\")\n",
    "            print(f\"  Percentile of obs in predictive: {ppc_stats['obs_percentile']:.1f}%\")\n",
    "            print(f\"  KS test p-value: {ppc_stats['ks_pvalue']:.4f}\")\n",
    "\n",
    "            if ppc_stats['obs_in_support']:\n",
    "                print(\"✅ Observation falls within posterior predictive distribution\")\n",
    "            else:\n",
    "                print(\"⚠️ Observation outside typical posterior predictive range\")\n",
    "\n",
    "        self.ppc_results = ppc_results\n",
    "        return ppc_results\n",
    "\n",
    "    def _simulate_from_parameters(self, parameters, method_key, n_samples=1000, add_noise=False, noise_scale=0.01):\n",
    "        \"\"\"\n",
    "        Simulate observations from given parameters.\n",
    "        \n",
    "        FIXED: Added configurable noise addition\n",
    "        \"\"\"\n",
    "        from scipy.spatial import KDTree\n",
    "\n",
    "        # Build KDTree from training parameters\n",
    "        kdtree = KDTree(self.train_params)\n",
    "\n",
    "        # Find closest training simulations for each posterior sample\n",
    "        synthetic_obs = []\n",
    "        for i in range(min(n_samples, len(parameters))):\n",
    "            # Find nearest neighbor in training set\n",
    "            _, idx = kdtree.query(parameters[i])\n",
    "\n",
    "            # Get corresponding observation\n",
    "            if \"combined\" in method_key:\n",
    "                obs = np.concatenate([self.train_pk[idx], self.train_pdf[idx]])\n",
    "            elif \"power\" in method_key:\n",
    "                obs = self.train_pk[idx]\n",
    "            elif \"pdf\" in method_key:\n",
    "                obs = self.train_pdf[idx]\n",
    "            else:\n",
    "                continue\n",
    "\n",
    "            # FIXED: Made noise addition configurable\n",
    "            if add_noise:\n",
    "                obs = obs + np.random.normal(0, noise_scale * np.std(obs), obs.shape)\n",
    "            \n",
    "            synthetic_obs.append(obs)\n",
    "\n",
    "        return np.array(synthetic_obs)\n",
    "\n",
    "    def _compute_ppc_statistics(self, x_obs, x_pp):\n",
    "        \"\"\"Compute statistics comparing observed and predictive data.\"\"\"\n",
    "        from scipy import stats\n",
    "\n",
    "        # Check if observation is within support of predictive distribution\n",
    "        percentiles = []\n",
    "        for i in range(len(x_obs)):\n",
    "            percentile = stats.percentileofscore(x_pp[:, i], x_obs[i])\n",
    "            percentiles.append(percentile)\n",
    "\n",
    "        mean_percentile = np.mean(percentiles)\n",
    "\n",
    "        # KS test for each dimension\n",
    "        ks_pvalues = []\n",
    "        for i in range(min(10, len(x_obs))):\n",
    "            _, pval = stats.ks_2samp(x_pp[:, i], \n",
    "                                      np.repeat(x_obs[i], len(x_pp)))\n",
    "            ks_pvalues.append(pval)\n",
    "\n",
    "        return {\n",
    "            'obs_in_support': 5 < mean_percentile < 95,\n",
    "            'obs_percentile': mean_percentile,\n",
    "            'ks_pvalue': np.mean(ks_pvalues),\n",
    "            'dimension_percentiles': percentiles[:10]\n",
    "        }\n",
    "\n",
    "    def plot_ppc(self):\n",
    "        \"\"\"Create visualization for Posterior Predictive Check.\"\"\"\n",
    "        # Check dependencies\n",
    "        if not self.available_features.get('sbi.analysis', False):\n",
    "            print(\"ERROR: sbi.analysis not available for pairplot\")\n",
    "            return\n",
    "        \n",
    "        from sbi.analysis import pairplot\n",
    "\n",
    "        if not hasattr(self, 'ppc_results'):\n",
    "            print(\"Run PPC first\")\n",
    "            return\n",
    "\n",
    "        for method_key, result in self.ppc_results.items():\n",
    "            x_obs = result['x_observed']\n",
    "            x_pp = result['x_predictive']\n",
    "\n",
    "            # For high-dimensional data, plot first few dimensions\n",
    "            n_dims_to_plot = min(5, x_obs.shape[0])\n",
    "\n",
    "            # Reshape x_obs to be 2D if it's 1D\n",
    "            if x_obs.ndim == 1:\n",
    "                x_obs_reshaped = x_obs.reshape(1, -1)\n",
    "            else:\n",
    "                x_obs_reshaped = x_obs\n",
    "\n",
    "            # Create pairplot\n",
    "            fig = pairplot(\n",
    "                samples=torch.tensor(x_pp[:, :n_dims_to_plot], dtype=torch.float32),\n",
    "                points=torch.tensor(x_obs_reshaped[:, :n_dims_to_plot], dtype=torch.float32),\n",
    "                limits=None,\n",
    "                figsize=(10, 10),\n",
    "                upper=\"scatter\",\n",
    "                diag=\"kde\",\n",
    "                fig_kwargs=dict(\n",
    "                    points_offdiag=dict(marker=\"+\", markersize=20),\n",
    "                    points_colors=\"red\",\n",
    "                ),\n",
    "                labels=[f\"$x_{{{d}}}$\" for d in range(n_dims_to_plot)],\n",
    "            )\n",
    "\n",
    "            plt.suptitle(f'Posterior Predictive Check - {method_key}\\n'\n",
    "                        f'Red + shows observed data', fontsize=14)\n",
    "            plt.tight_layout()\n",
    "            plt.show()\n",
    "\n",
    "            # Additional summary plot\n",
    "            # FIXED: Use constrained_layout\n",
    "            fig, axes = plt.subplots(1, 2, figsize=(12, 5), constrained_layout=True)\n",
    "\n",
    "            # Plot 1: Percentiles\n",
    "            ax = axes[0]\n",
    "            percentiles = result['statistics']['dimension_percentiles']\n",
    "            ax.hist(percentiles, bins=20, alpha=0.7, edgecolor='black')\n",
    "            ax.axvline(50, color='red', linestyle='--', label='Ideal (50%)')\n",
    "            ax.axvspan(5, 95, alpha=0.2, color='green', label='Expected range')\n",
    "            ax.set_xlabel('Percentile of observed in predictive')\n",
    "            ax.set_ylabel('Count (dimensions)')\n",
    "            ax.set_title('Distribution of Observation Percentiles')\n",
    "            ax.legend()\n",
    "\n",
    "            # Plot 2: Summary\n",
    "            ax = axes[1]\n",
    "            ax.axis('off')\n",
    "\n",
    "            stats = result['statistics']\n",
    "            summary_text = f\"PPC Summary for {method_key}\\n\\n\"\n",
    "            summary_text += f\"Mean percentile: {stats['obs_percentile']:.1f}%\\n\"\n",
    "            summary_text += f\"Within support: {stats['obs_in_support']}\\n\"\n",
    "            summary_text += f\"KS p-value: {stats['ks_pvalue']:.4f}\\n\\n\"\n",
    "\n",
    "            if stats['obs_in_support']:\n",
    "                summary_text += \"✅ PPC PASSED\\nObservation consistent with posterior\"\n",
    "            else:\n",
    "                summary_text += \"⚠️ PPC WARNING\\nObservation may be inconsistent\"\n",
    "\n",
    "            ax.text(0.5, 0.5, summary_text, transform=ax.transAxes,\n",
    "                   fontsize=12, ha='center', va='center',\n",
    "                   bbox=dict(boxstyle='round', facecolor='wheat', alpha=0.5))\n",
    "\n",
    "            plt.suptitle(f'PPC Diagnostics - {method_key}', fontsize=14)\n",
    "            plt.show()\n",
    "    \n",
    "    def analyze_conditional_distributions(self, n_conditions: int = 5):\n",
    "        \"\"\"\n",
    "        Analyze conditional distributions to identify parameter compensation mechanisms.\n",
    "        \"\"\"\n",
    "        # Check dependencies\n",
    "        if not self.available_features.get('sbi.analysis', False):\n",
    "            print(\"ERROR: sbi.analysis not available\")\n",
    "            return None\n",
    "        \n",
    "        from sbi.analysis import conditional_corrcoeff, conditional_pairplot\n",
    "\n",
    "        print(\"\\n\" + \"=\"*70)\n",
    "        print(\"CONDITIONAL DISTRIBUTION ANALYSIS\")\n",
    "        print(\"=\"*70)\n",
    "\n",
    "        if not self.models_trained:\n",
    "            print(\"No trained models to analyze\")\n",
    "            return None\n",
    "\n",
    "        cond_results = {}\n",
    "\n",
    "        for method_key, result in self.lim.results.items():\n",
    "            if \"error\" in result:\n",
    "                continue\n",
    "\n",
    "            print(f\"\\n{method_key}:\")\n",
    "            print(\"-\"*50)\n",
    "\n",
    "            # Standardized test index usage\n",
    "            test_idx = self.test_obs_idx\n",
    "\n",
    "            if \"combined\" in method_key:\n",
    "                x_obs = np.concatenate([self.test_pk[test_idx], self.test_pdf[test_idx]])\n",
    "            elif \"power\" in method_key:\n",
    "                x_obs = self.test_pk[test_idx]\n",
    "            elif \"pdf\" in method_key:\n",
    "                x_obs = self.test_pdf[test_idx]\n",
    "            else:\n",
    "                continue\n",
    "\n",
    "            x_obs_tensor = torch.tensor(x_obs, dtype=torch.float32)\n",
    "\n",
    "            # Set observation for posterior\n",
    "            posterior = result['posterior']\n",
    "            posterior.set_default_x(x_obs_tensor)\n",
    "\n",
    "            # Sample conditions from posterior\n",
    "            conditions = posterior.sample((n_conditions,))\n",
    "\n",
    "            # Calculate conditional correlation matrices\n",
    "            print(f\"Computing conditional correlations at {n_conditions} conditions...\")\n",
    "\n",
    "            # Define parameter limits from prior\n",
    "            param_limits = []\n",
    "            for i, name in enumerate(self.param_names):\n",
    "                param_min = self.params_array[:, i].min()\n",
    "                param_max = self.params_array[:, i].max()\n",
    "                param_limits.append([param_min, param_max])\n",
    "            param_limits = torch.tensor(param_limits)\n",
    "\n",
    "            # Compute correlation matrices for each condition\n",
    "            cond_corr_matrices = []\n",
    "            for i, condition in enumerate(conditions):\n",
    "                try:\n",
    "                    cond_corr = conditional_corrcoeff(\n",
    "                        density=posterior,\n",
    "                        condition=condition.unsqueeze(0),\n",
    "                        limits=param_limits\n",
    "                    )\n",
    "                    cond_corr_matrices.append(cond_corr)\n",
    "                except Exception as e:\n",
    "                    print(f\"  Warning: Could not compute conditional correlation for condition {i}: {e}\")\n",
    "\n",
    "            if cond_corr_matrices:\n",
    "                # Average correlation matrix\n",
    "                avg_cond_corr = np.mean(cond_corr_matrices, axis=0)\n",
    "\n",
    "                # Marginal correlation from samples\n",
    "                samples = posterior.sample((5000,)).numpy()\n",
    "                marginal_corr = np.corrcoef(samples.T)\n",
    "\n",
    "                cond_results[method_key] = {\n",
    "                    'conditions': conditions,\n",
    "                    'cond_corr_matrices': cond_corr_matrices,\n",
    "                    'avg_cond_corr': avg_cond_corr,\n",
    "                    'marginal_corr': marginal_corr,\n",
    "                    'param_limits': param_limits\n",
    "                }\n",
    "\n",
    "                # Print summary\n",
    "                print(\"\\nCorrelation Analysis:\")\n",
    "                print(f\"  Marginal correlations:\")\n",
    "                for i in range(len(self.param_names)):\n",
    "                    for j in range(i+1, len(self.param_names)):\n",
    "                        print(f\"    {self.param_names[i]}-{self.param_names[j]}: \"\n",
    "                              f\"{marginal_corr[i,j]:.3f}\")\n",
    "\n",
    "                print(f\"  Average conditional correlations:\")\n",
    "                for i in range(len(self.param_names)):\n",
    "                    for j in range(i+1, len(self.param_names)):\n",
    "                        print(f\"    {self.param_names[i]}-{self.param_names[j]}: \"\n",
    "                              f\"{avg_cond_corr[i,j]:.3f}\")\n",
    "\n",
    "                # Check for compensation mechanisms\n",
    "                compensation_pairs = []\n",
    "                for i in range(len(self.param_names)):\n",
    "                    for j in range(i+1, len(self.param_names)):\n",
    "                        if abs(avg_cond_corr[i,j]) > 0.7:\n",
    "                            compensation_pairs.append((self.param_names[i], self.param_names[j]))\n",
    "\n",
    "                if compensation_pairs:\n",
    "                    print(\"\\n⚠️ Potential compensation mechanisms detected:\")\n",
    "                    for p1, p2 in compensation_pairs:\n",
    "                        print(f\"    {p1} ↔ {p2}\")\n",
    "                else:\n",
    "                    print(\"\\n✓ No strong compensation mechanisms detected\")\n",
    "\n",
    "        self.cond_results = cond_results\n",
    "        return cond_results\n",
    "\n",
    "    def plot_conditional_analysis(self):\n",
    "        \"\"\"Create visualizations for conditional distribution analysis.\"\"\"\n",
    "        # Check dependencies\n",
    "        if not self.available_features.get('sbi.analysis', False):\n",
    "            print(\"ERROR: sbi.analysis not available\")\n",
    "            return\n",
    "        \n",
    "        from sbi.analysis import conditional_pairplot\n",
    "\n",
    "        if not hasattr(self, 'cond_results'):\n",
    "            print(\"Run conditional analysis first\")\n",
    "            return\n",
    "\n",
    "        for method_key, result in self.cond_results.items():\n",
    "            # Plot 1: Compare marginal vs conditional correlations\n",
    "            # FIXED: Use constrained_layout\n",
    "            fig, axes = plt.subplots(1, 2, figsize=(12, 5), constrained_layout=True)\n",
    "\n",
    "            # Marginal correlation\n",
    "            ax = axes[0]\n",
    "            im1 = ax.imshow(result['marginal_corr'], clim=[-1, 1], cmap='PiYG')\n",
    "            ax.set_title('Marginal Correlations')\n",
    "            ax.set_xticks(range(len(self.param_names)))\n",
    "            ax.set_yticks(range(len(self.param_names)))\n",
    "            ax.set_xticklabels(self.param_names)\n",
    "            ax.set_yticklabels(self.param_names)\n",
    "            plt.colorbar(im1, ax=ax)\n",
    "\n",
    "            # Add correlation values\n",
    "            for i in range(len(self.param_names)):\n",
    "                for j in range(len(self.param_names)):\n",
    "                    text = ax.text(j, i, f'{result[\"marginal_corr\"][i, j]:.2f}',\n",
    "                                 ha=\"center\", va=\"center\", color=\"black\", fontsize=10)\n",
    "\n",
    "            # Average conditional correlation\n",
    "            ax = axes[1]\n",
    "            im2 = ax.imshow(result['avg_cond_corr'], clim=[-1, 1], cmap='PiYG')\n",
    "            ax.set_title('Average Conditional Correlations')\n",
    "            ax.set_xticks(range(len(self.param_names)))\n",
    "            ax.set_yticks(range(len(self.param_names)))\n",
    "            ax.set_xticklabels(self.param_names)\n",
    "            ax.set_yticklabels(self.param_names)\n",
    "            plt.colorbar(im2, ax=ax)\n",
    "\n",
    "            # Add correlation values\n",
    "            for i in range(len(self.param_names)):\n",
    "                for j in range(len(self.param_names)):\n",
    "                    text = ax.text(j, i, f'{result[\"avg_cond_corr\"][i, j]:.2f}',\n",
    "                                 ha=\"center\", va=\"center\", color=\"black\", fontsize=10)\n",
    "\n",
    "            plt.suptitle(f'Correlation Analysis - {method_key}', fontsize=14)\n",
    "            plt.show()\n",
    "\n",
    "            # Plot 2: Conditional pairplot at first condition\n",
    "            print(f\"\\nConditional pairplot for {method_key}:\")\n",
    "\n",
    "            # Get posterior and set observation\n",
    "            posterior = self.lim.results[method_key]['posterior']\n",
    "            test_idx = self.test_obs_idx\n",
    "\n",
    "            if \"combined\" in method_key:\n",
    "                x_obs = np.concatenate([self.test_pk[test_idx], self.test_pdf[test_idx]])\n",
    "            elif \"power\" in method_key:\n",
    "                x_obs = self.test_pk[test_idx]\n",
    "            else:\n",
    "                x_obs = self.test_pdf[test_idx]\n",
    "\n",
    "            x_obs_tensor = torch.tensor(x_obs, dtype=torch.float32)\n",
    "            posterior.set_default_x(x_obs_tensor)\n",
    "\n",
    "            # Plot conditional distributions\n",
    "            try:\n",
    "                _ = conditional_pairplot(\n",
    "                    density=posterior,\n",
    "                    condition=result['conditions'][0].unsqueeze(0),\n",
    "                    limits=result['param_limits'],\n",
    "                    figsize=(8, 8)\n",
    "                )\n",
    "                plt.suptitle(f'Conditional Distributions - {method_key}', fontsize=14)\n",
    "                plt.show()\n",
    "            except Exception as e:\n",
    "                print(f\"Could not create conditional pairplot: {e}\")\n",
    "    \n",
    "    def run_active_subspace_analysis(self, n_samples: int = 5000):\n",
    "        \"\"\"\n",
    "        Perform active subspace analysis to identify sensitive parameter directions.\n",
    "        \n",
    "        FIXED: Added eigenvalue ordering verification\n",
    "        \"\"\"\n",
    "        # Check dependencies\n",
    "        if not self.available_features.get('sbi.analysis', False):\n",
    "            print(\"ERROR: sbi.analysis not available\")\n",
    "            return None\n",
    "        \n",
    "        from sbi.analysis import ActiveSubspace\n",
    "\n",
    "        print(\"\\n\" + \"=\"*70)\n",
    "        print(\"ACTIVE SUBSPACE SENSITIVITY ANALYSIS\")\n",
    "        print(\"=\"*70)\n",
    "\n",
    "        if not self.models_trained:\n",
    "            print(\"No trained models to analyze\")\n",
    "            return None\n",
    "\n",
    "        active_results = {}\n",
    "\n",
    "        for method_key, result in self.lim.results.items():\n",
    "            if \"error\" in result:\n",
    "                continue\n",
    "\n",
    "            print(f\"\\n{method_key}:\")\n",
    "            print(\"-\"*50)\n",
    "\n",
    "            # Standardized test index usage\n",
    "            test_idx = self.test_obs_idx\n",
    "\n",
    "            if \"combined\" in method_key:\n",
    "                x_obs = np.concatenate([self.test_pk[test_idx], self.test_pdf[test_idx]])\n",
    "            elif \"power\" in method_key:\n",
    "                x_obs = self.test_pk[test_idx]\n",
    "            elif \"pdf\" in method_key:\n",
    "                x_obs = self.test_pdf[test_idx]\n",
    "            else:\n",
    "                continue\n",
    "\n",
    "            x_obs_tensor = torch.tensor(x_obs, dtype=torch.float32)\n",
    "\n",
    "            # Set observation for posterior\n",
    "            posterior = result['posterior']\n",
    "            posterior.set_default_x(x_obs_tensor)\n",
    "\n",
    "            # Initialize active subspace\n",
    "            sensitivity = ActiveSubspace(posterior)\n",
    "\n",
    "            # Find active directions\n",
    "            print(\"Computing active directions...\")\n",
    "            e_vals, e_vecs = sensitivity.find_directions(\n",
    "                posterior_log_prob_as_property=True,\n",
    "                num_monte_carlo_samples=1000\n",
    "            )\n",
    "\n",
    "            # Sample from posterior for projection\n",
    "            posterior_samples = posterior.sample((n_samples,))\n",
    "\n",
    "            # Project data onto active dimensions\n",
    "            projected_1d = sensitivity.project(posterior_samples, num_dimensions=1)\n",
    "\n",
    "            active_results[method_key] = {\n",
    "                'eigenvalues': e_vals.numpy(),\n",
    "                'eigenvectors': e_vecs.numpy(),\n",
    "                'posterior_samples': posterior_samples.numpy(),\n",
    "                'projected_1d': projected_1d.numpy(),\n",
    "                'sensitivity': sensitivity\n",
    "            }\n",
    "\n",
    "            # Analyze results\n",
    "            e_vals_np = e_vals.numpy()\n",
    "            print(f\"\\nEigenvalues (descending order): {e_vals_np}\")\n",
    "            print(f\"Eigenvectors:\\n{e_vecs.numpy()}\")\n",
    "\n",
    "            # FIXED: Verify eigenvalue ordering and interpret correctly\n",
    "            # Eigenvalues from sbi are typically in descending order\n",
    "            # Index 0 = largest (most sensitive), Index -1 = smallest (least sensitive)\n",
    "            if len(e_vals_np) > 1:\n",
    "                ratio = e_vals_np[0] / e_vals_np[-1] if e_vals_np[-1] > 0 else float('inf')\n",
    "                \n",
    "                if ratio > 10:\n",
    "                    print(f\"\\n⚠️ Strong sensitivity anisotropy (ratio: {ratio:.1f})\")\n",
    "                    print(f\"   Most sensitive direction (eigenvector 0): {e_vecs[0].numpy()}\")\n",
    "                    print(f\"   Least sensitive direction (eigenvector {len(e_vals_np)-1}): {e_vecs[-1].numpy()}\")\n",
    "                else:\n",
    "                    print(f\"\\n✓ Relatively isotropic sensitivity (ratio: {ratio:.1f})\")\n",
    "\n",
    "            # Map to parameter space - use largest eigenvalue direction\n",
    "            print(\"\\nParameter sensitivity interpretation (from most sensitive direction):\")\n",
    "            for i, param_name in enumerate(self.param_names):\n",
    "                contribution = np.abs(e_vecs[0, i].item())  # Most sensitive = index 0\n",
    "                if contribution > 0.7:\n",
    "                    print(f\"  {param_name}: HIGH sensitivity (contribution: {contribution:.2f})\")\n",
    "                elif contribution > 0.3:\n",
    "                    print(f\"  {param_name}: MEDIUM sensitivity (contribution: {contribution:.2f})\")\n",
    "                else:\n",
    "                    print(f\"  {param_name}: LOW sensitivity (contribution: {contribution:.2f})\")\n",
    "\n",
    "        self.active_results = active_results\n",
    "        return active_results\n",
    "    \n",
    "    def plot_active_subspace(self):\n",
    "        \"\"\"Visualize active subspace analysis results.\"\"\"\n",
    "\n",
    "        if not hasattr(self, 'active_results'):\n",
    "            print(\"Run active subspace analysis first\")\n",
    "            return\n",
    "\n",
    "        for method_key, result in self.active_results.items():\n",
    "            # FIXED: Use constrained_layout\n",
    "            fig, axes = plt.subplots(2, 2, figsize=(12, 10), constrained_layout=True)\n",
    "\n",
    "            # Plot 1: Eigenvalue spectrum\n",
    "            ax = axes[0, 0]\n",
    "            eigenvalues = result['eigenvalues']\n",
    "            ax.bar(range(len(eigenvalues)), eigenvalues)\n",
    "            ax.set_xlabel('Eigenvalue Index (0=largest)')\n",
    "            ax.set_ylabel('Eigenvalue')\n",
    "            ax.set_title('Eigenvalue Spectrum')\n",
    "            ax.set_yscale('log')\n",
    "\n",
    "            # Plot 2: Eigenvector components\n",
    "            ax = axes[0, 1]\n",
    "            eigenvectors = result['eigenvectors']\n",
    "            im = ax.imshow(eigenvectors.T, cmap='RdBu_r', aspect='auto', vmin=-1, vmax=1)\n",
    "            ax.set_xlabel('Eigenvector Index (0=most sensitive)')\n",
    "            ax.set_ylabel('Parameter')\n",
    "            ax.set_yticks(range(len(self.param_names)))\n",
    "            ax.set_yticklabels(self.param_names)\n",
    "            ax.set_title('Eigenvector Components')\n",
    "            plt.colorbar(im, ax=ax)\n",
    "\n",
    "            # Plot 3: 1D projection on most active direction\n",
    "            ax = axes[1, 0]\n",
    "            projected = result['projected_1d']\n",
    "            ax.hist(projected[:, 0], bins=50, alpha=0.7, edgecolor='black')\n",
    "            ax.set_xlabel('Projection on Most Active Direction')\n",
    "            ax.set_ylabel('Count')\n",
    "            ax.set_title('Distribution Along Most Sensitive Direction')\n",
    "\n",
    "            # Plot 4: Summary\n",
    "            ax = axes[1, 1]\n",
    "            ax.axis('off')\n",
    "\n",
    "            # FIXED: Corrected ratio calculation\n",
    "            ratio = eigenvalues[0] / eigenvalues[-1] if eigenvalues[-1] > 0 else float('inf')\n",
    "\n",
    "            summary_text = f\"Active Subspace Summary\\n\\n\"\n",
    "            summary_text += f\"Eigenvalue ratio (max/min): {ratio:.2f}\\n\"\n",
    "            summary_text += f\"Most sensitive direction:\\n\"\n",
    "\n",
    "            for i, param_name in enumerate(self.param_names):\n",
    "                contribution = eigenvectors[0, i]  # Most sensitive = index 0\n",
    "                summary_text += f\"  {param_name}: {contribution:+.3f}\\n\"\n",
    "\n",
    "            summary_text += f\"\\nInterpretation:\\n\"\n",
    "            if ratio > 10:\n",
    "                summary_text += \"Strong anisotropic sensitivity\\n\"\n",
    "                summary_text += \"System primarily sensitive along\\n\"\n",
    "                summary_text += \"one parameter combination\"\n",
    "            else:\n",
    "                summary_text += \"Relatively isotropic sensitivity\\n\"\n",
    "                summary_text += \"Similar sensitivity in all directions\"\n",
    "\n",
    "            ax.text(0.1, 0.5, summary_text, transform=ax.transAxes,\n",
    "                    fontsize=11, va='center',\n",
    "                    bbox=dict(boxstyle='round', facecolor='wheat', alpha=0.5))\n",
    "\n",
    "            plt.suptitle(f'Active Subspace Analysis - {method_key}', fontsize=14)\n",
    "            plt.show()\n",
    "    \n",
    "    def plot_parameter_effects(self, param_to_vary='sigma8', n_samples=10):\n",
    "        \"\"\"\n",
    "        Plot how PS and PDF change when varying one parameter while keeping others fixed.\n",
    "        \n",
    "        FIXED: Added robustness for edge cases\n",
    "        \"\"\"\n",
    "        if not self.data_loaded:\n",
    "            print(\"Load data first\")\n",
    "            return\n",
    "\n",
    "        import matplotlib.pyplot as plt\n",
    "        from matplotlib import cm\n",
    "\n",
    "        # Fix k_sim dimensionality issue\n",
    "        if len(self.k_sim.shape) > 1:\n",
    "            k_array = self.k_sim[0]\n",
    "        else:\n",
    "            k_array = self.k_sim\n",
    "\n",
    "        # Get parameter indices\n",
    "        try:\n",
    "            param_idx = self.param_names.index(param_to_vary)\n",
    "        except ValueError:\n",
    "            print(f\"ERROR: Parameter '{param_to_vary}' not in param_names: {self.param_names}\")\n",
    "            return\n",
    "        \n",
    "        # For more than 2 parameters, need to handle differently\n",
    "        if len(self.param_names) < 2:\n",
    "            print(\"ERROR: Need at least 2 parameters for this analysis\")\n",
    "            return\n",
    "        \n",
    "        # FIXED: Handle cases with > 2 parameters properly\n",
    "        if len(self.param_names) == 2:\n",
    "            other_idx = 1 - param_idx\n",
    "            other_param = self.param_names[other_idx]\n",
    "        else:\n",
    "            # For >2 params, fix all others at median\n",
    "            print(f\"Note: Fixing all parameters except '{param_to_vary}' at median values\")\n",
    "            other_param = \"all_others\"\n",
    "            \n",
    "        # Fix the other parameter(s) at median value\n",
    "        fixed_value = np.median(self.train_params[:, other_idx if len(self.param_names) == 2 else 0])\n",
    "\n",
    "        # Find samples where the other parameter(s) is/are close to fixed value\n",
    "        tolerance = 0.02\n",
    "        \n",
    "        if len(self.param_names) == 2:\n",
    "            mask = np.abs(self.train_params[:, other_idx] - fixed_value) < tolerance\n",
    "        else:\n",
    "            # For >2 params, require all others to be near median\n",
    "            mask = np.ones(len(self.train_params), dtype=bool)\n",
    "            for i in range(len(self.param_names)):\n",
    "                if i != param_idx:\n",
    "                    median_val = np.median(self.train_params[:, i])\n",
    "                    mask &= np.abs(self.train_params[:, i] - median_val) < tolerance\n",
    "                    \n",
    "        filtered_indices = np.where(mask)[0]\n",
    "\n",
    "        # FIXED: Add robust handling for insufficient samples\n",
    "        if len(filtered_indices) < n_samples:\n",
    "            print(f\"WARNING: Only {len(filtered_indices)} samples match filter (need {n_samples})\")\n",
    "            print(f\"Relaxing tolerance from {tolerance} to 0.05...\")\n",
    "            tolerance = 0.05\n",
    "            \n",
    "            if len(self.param_names) == 2:\n",
    "                mask = np.abs(self.train_params[:, other_idx] - fixed_value) < tolerance\n",
    "            else:\n",
    "                mask = np.ones(len(self.train_params), dtype=bool)\n",
    "                for i in range(len(self.param_names)):\n",
    "                    if i != param_idx:\n",
    "                        median_val = np.median(self.train_params[:, i])\n",
    "                        mask &= np.abs(self.train_params[:, i] - median_val) < tolerance\n",
    "            \n",
    "            filtered_indices = np.where(mask)[0]\n",
    "            \n",
    "            # Final check\n",
    "            if len(filtered_indices) < n_samples:\n",
    "                print(f\"ERROR: Still only {len(filtered_indices)} samples after relaxing tolerance\")\n",
    "                print(f\"Cannot generate plot with {n_samples} requested samples\")\n",
    "                print(f\"Try reducing n_samples or adjusting parameter selection\")\n",
    "                return\n",
    "\n",
    "        # Sort by the parameter we're varying\n",
    "        sorted_idx = filtered_indices[np.argsort(self.train_params[filtered_indices, param_idx])]\n",
    "\n",
    "        # Select evenly spaced samples\n",
    "        if len(sorted_idx) > n_samples:\n",
    "            step = len(sorted_idx) // n_samples\n",
    "            selected_idx = sorted_idx[::step][:n_samples]\n",
    "        else:\n",
    "            selected_idx = sorted_idx\n",
    "\n",
    "        # Create color map\n",
    "        param_values = self.train_params[selected_idx, param_idx]\n",
    "        norm = plt.Normalize(param_values.min(), param_values.max())\n",
    "        colors = cm.viridis(norm(param_values))\n",
    "\n",
    "        # Create figure - FIXED: Use constrained_layout\n",
    "        fig, axes = plt.subplots(2, 2, figsize=(14, 10), constrained_layout=True)\n",
    "\n",
    "        # Plot 1: Power Spectrum\n",
    "        ax = axes[0, 0]\n",
    "        for i, idx in enumerate(selected_idx):\n",
    "            param_val = self.train_params[idx, param_idx]\n",
    "            ax.loglog(k_array, self.pk_sim[idx], \n",
    "                      color=colors[i], alpha=0.7,\n",
    "                      label=f'{param_to_vary}={param_val:.3f}')\n",
    "        ax.set_xlabel('k [h/Mpc]')\n",
    "        ax.set_ylabel('P(k) [(Mpc/h)³]')\n",
    "        ax.set_title(f'Power Spectrum vs {param_to_vary}\\n({other_param} fixed)')\n",
    "        ax.grid(True, alpha=0.3)\n",
    "        if len(selected_idx) <= 5:\n",
    "            ax.legend(fontsize=8)\n",
    "\n",
    "        # Plot 2: PS ratio relative to median\n",
    "        ax = axes[0, 1]\n",
    "        median_idx = selected_idx[len(selected_idx)//2]\n",
    "        pk_reference = self.pk_sim[median_idx]\n",
    "        for i, idx in enumerate(selected_idx):\n",
    "            param_val = self.train_params[idx, param_idx]\n",
    "            ratio = self.pk_sim[idx] / pk_reference\n",
    "            ax.semilogx(k_array, ratio, \n",
    "                       color=colors[i], alpha=0.7,\n",
    "                       label=f'{param_to_vary}={param_val:.3f}')\n",
    "        ax.axhline(1.0, color='black', linestyle='--', alpha=0.5)\n",
    "        ax.set_xlabel('k [h/Mpc]')\n",
    "        ax.set_ylabel('P(k) / P(k)_median')\n",
    "        ax.set_title(f'PS Ratio vs {param_to_vary}')\n",
    "        ax.grid(True, alpha=0.3)\n",
    "\n",
    "        # Plot 3: PDF\n",
    "        ax = axes[1, 0]\n",
    "        if len(self.bin_sim_linear.shape) > 1:\n",
    "            bin_edges = self.bin_sim_linear[0]\n",
    "        else:\n",
    "            bin_edges = self.bin_sim_linear\n",
    "        bin_centers = (bin_edges[:-1] + bin_edges[1:]) / 2\n",
    "\n",
    "        for i, idx in enumerate(selected_idx):\n",
    "            param_val = self.train_params[idx, param_idx]\n",
    "            ax.semilogy(bin_centers, self.pdf_sim_linear[idx], \n",
    "                       color=colors[i], alpha=0.7,\n",
    "                       label=f'{param_to_vary}={param_val:.3f}')\n",
    "        ax.set_xlabel('Line Intensity')\n",
    "        ax.set_ylabel('PDF')\n",
    "        ax.set_title(f'PDF vs {param_to_vary}\\n({other_param} fixed)')\n",
    "        ax.grid(True, alpha=0.3)\n",
    "        if len(selected_idx) <= 5:\n",
    "            ax.legend(fontsize=8)\n",
    "\n",
    "        # Plot 4: PDF ratio\n",
    "        ax = axes[1, 1]\n",
    "        pdf_reference = self.pdf_sim_linear[median_idx]\n",
    "        for i, idx in enumerate(selected_idx):\n",
    "            param_val = self.train_params[idx, param_idx]\n",
    "            mask_valid = pdf_reference > 1e-10\n",
    "            ratio = np.ones_like(self.pdf_sim_linear[idx])\n",
    "            ratio[mask_valid] = self.pdf_sim_linear[idx][mask_valid] / pdf_reference[mask_valid]\n",
    "            ax.plot(bin_centers, ratio, \n",
    "                   color=colors[i], alpha=0.7,\n",
    "                   label=f'{param_to_vary}={param_val:.3f}')\n",
    "        ax.axhline(1.0, color='black', linestyle='--', alpha=0.5)\n",
    "        ax.set_xlabel('Line Intensity')\n",
    "        ax.set_ylabel('PDF / PDF_median')\n",
    "        ax.set_title(f'PDF Ratio vs {param_to_vary}')\n",
    "        ax.grid(True, alpha=0.3)\n",
    "        ax.set_ylim(0.5, 2.0)\n",
    "\n",
    "        # Add colorbar\n",
    "        sm = plt.cm.ScalarMappable(cmap=cm.viridis, norm=norm)\n",
    "        sm.set_array([])\n",
    "        cbar = plt.colorbar(sm, ax=axes.ravel().tolist(), pad=0.02, aspect=30)\n",
    "        cbar.set_label(f'{param_to_vary}', fontsize=10)\n",
    "\n",
    "        plt.suptitle(f'Effect of {param_to_vary} on Observables', fontsize=14)\n",
    "        plt.show()\n",
    "\n",
    "        # Print statistics\n",
    "        print(f\"\\nParameter ranges in selected samples:\")\n",
    "        print(f\"{param_to_vary}: [{param_values.min():.3f}, {param_values.max():.3f}]\")\n",
    "        if len(self.param_names) == 2:\n",
    "            print(f\"{other_param}: fixed at {fixed_value:.3f} ± {tolerance:.3f}\")\n",
    "        else:\n",
    "            print(f\"All other parameters: fixed near median ± {tolerance:.3f}\")\n",
    "\n",
    "        # Calculate sensitivity\n",
    "        pk_change = (self.pk_sim[selected_idx[-1]].mean() / \n",
    "                     self.pk_sim[selected_idx[0]].mean())\n",
    "        pdf_peak_change = (self.pdf_sim_linear[selected_idx[-1]].max() / \n",
    "                           self.pdf_sim_linear[selected_idx[0]].max())\n",
    "\n",
    "        print(f\"\\nSensitivity to {param_to_vary}:\")\n",
    "        print(f\"  PS mean change: {pk_change:.2f}x\")\n",
    "        print(f\"  PDF peak change: {pdf_peak_change:.2f}x\")"
   ]
  },
  {
   "cell_type": "code",
   "execution_count": 3,
   "id": "485411ee",
   "metadata": {},
   "outputs": [
    {
     "name": "stdout",
     "output_type": "stream",
     "text": [
      "\n",
      "======================================================================\n",
      "STEP 1: LOADING DATA\n",
      "======================================================================\n",
      "Loading data from /Users/anirbanroy/Desktop/test_maps_all_params/...\n",
      "Data loaded: 3000 total simulations\n",
      "Training set: 2500 samples (indices 0:2500)\n",
      "Test set: 500 samples (indices 2500:3000)\n",
      "  - Calibration: 50 samples\n",
      "  - Validation: 450 samples\n",
      "Parameters being constrained: sigma8, omega_m, a_off, b_off\n",
      "Parameter ranges:\n",
      "  sigma8: [0.400, 1.200]\n",
      "  omega_m: [0.100, 0.600]\n",
      "  a_off: [4.001, 9.999]\n",
      "  b_off: [0.000, 2.000]\n"
     ]
    },
    {
     "ename": "SystemExit",
     "evalue": "",
     "output_type": "error",
     "traceback": [
      "An exception has occurred, use %tb to see the full traceback.\n",
      "\u001b[0;31mSystemExit\u001b[0m\n"
     ]
    },
    {
     "name": "stderr",
     "output_type": "stream",
     "text": [
      "/opt/anaconda3/envs/sbi_env/lib/python3.10/site-packages/IPython/core/interactiveshell.py:3561: UserWarning: To exit: use 'exit', 'quit', or Ctrl-D.\n",
      "  warn(\"To exit: use 'exit', 'quit', or Ctrl-D.\", stacklevel=1)\n"
     ]
    }
   ],
   "source": [
    "\"\"\"\n",
    "Corrected test script for SBIConvergenceTester\n",
    "Following best practices from bug report\n",
    "\"\"\"\n",
    "\n",
    "# Configuration constants (use UPPER_CASE for constants - Bug #13 fix)\n",
    "SEED = 51\n",
    "SIM_ROOT = \"/Users/anirbanroy/Desktop/test_maps_all_params/\"\n",
    "OUTPUT_ROOT = \"/Users/anirbanroy/Desktop/output_test\"\n",
    "TEST_OBS_IDX = 0  # Better naming convention\n",
    "\n",
    "input_training_dict = {\n",
    "    \"max_num_epochs\": 1000,\n",
    "    \"stop_after_epochs\": 20,\n",
    "    \"training_batch_size\": 50,\n",
    "    \"learning_rate\": 1e-3,\n",
    "    \"validation_fraction\": 0.2,\n",
    "}\n",
    "\n",
    "# Initialize tester\n",
    "tester_ps = SBIConvergenceTester(\n",
    "    param_names=[\"sigma8\", \"omega_m\", \"a_off\", \"b_off\"],\n",
    "    inference_methods=[\"NPE\"],\n",
    "    analysis_methods=[\"pdf\"],\n",
    "    n_train=2500,\n",
    "    n_test=500,\n",
    "    n_calibration=50,\n",
    "    test_obs_idx=TEST_OBS_IDX, \n",
    "    check_dependencies=False\n",
    ")\n",
    "\n",
    "# Load data\n",
    "print(\"\\n\" + \"=\"*70)\n",
    "print(\"STEP 1: LOADING DATA\")\n",
    "print(\"=\"*70)\n",
    "tester_ps.load_data(SIM_ROOT, SEED)\n",
    "\n",
    "\n",
    "import sys\n",
    "sys.exit()\n",
    "\n",
    "# Setup LIMference\n",
    "print(\"\\n\" + \"=\"*70)\n",
    "print(\"STEP 2: SETUP LIMFERENCE\")\n",
    "print(\"=\"*70)\n",
    "tester_ps.setup_limference(OUTPUT_ROOT, training_kwargs=input_training_dict)\n",
    "\n",
    "# Train models\n",
    "print(\"\\n\" + \"=\"*70)\n",
    "print(\"STEP 3: TRAIN MODELS\")\n",
    "print(\"=\"*70)\n",
    "tester_ps.train_models()\n",
    "\n",
    "# Basic calibration and testing\n",
    "print(\"\\n\" + \"=\"*70)\n",
    "print(\"STEP 4: CALIBRATION AND TESTING\")\n",
    "print(\"=\"*70)\n",
    "\n",
    "# Calibrate posteriors (using temperature scaling - fastest)\n",
    "tester_ps.calibrate_posteriors(target_coverage=0.68, method=\"temperature\")\n",
    "\n",
    "# Test recovery\n",
    "tester_ps.test_recovery()\n",
    "\n",
    "# Plot basic results\n",
    "tester_ps.plot_results()\n",
    "\n",
    "# Generate summary report\n",
    "tester_ps.generate_report()\n",
    "\n",
    "# =============================================================================\n",
    "# ADVANCED DIAGNOSTICS (Optional - comment out if not needed)\n",
    "# =============================================================================\n",
    "\n",
    "print(\"\\n\" + \"=\"*70)\n",
    "print(\"STEP 5: ADVANCED DIAGNOSTICS (Optional)\")\n",
    "print(\"=\"*70)\n",
    "\n",
    "# 5a. Parameter estimation comparison\n",
    "print(\"\\n--- Comparing estimation methods ---\")\n",
    "comparison = tester_ps.compare_estimation_methods()\n",
    "if comparison:\n",
    "    tester_ps.plot_estimation_comparison()\n",
    "\n",
    "# 5b. SBC Analysis\n",
    "print(\"\\n--- Running SBC analysis ---\")\n",
    "try:\n",
    "    tester_ps.plot_sbc_ranks(n_sbc_runs=100, n_posterior_samples=1000)\n",
    "except Exception as e:\n",
    "    print(f\"SBC analysis failed: {e}\")\n",
    "\n",
    "# 5c. Conditional Distribution Analysis\n",
    "print(\"\\n--- Analyzing conditional distributions ---\")\n",
    "try:\n",
    "    # CRITICAL FIX: Must call analyze first, then plot!\n",
    "    cond_results = tester_ps.analyze_conditional_distributions(n_conditions=5)\n",
    "    if cond_results:\n",
    "        tester_ps.plot_conditional_analysis()\n",
    "except Exception as e:\n",
    "    print(f\"Conditional analysis failed: {e}\")\n",
    "\n",
    "# 5d. Active Subspace Analysis\n",
    "print(\"\\n--- Running active subspace analysis ---\")\n",
    "try:\n",
    "    active_results = tester_ps.run_active_subspace_analysis(n_samples=5000)\n",
    "    if active_results:\n",
    "        tester_ps.plot_active_subspace()\n",
    "except Exception as e:\n",
    "    print(f\"Active subspace analysis failed: {e}\")\n",
    "\n",
    "# 5e. Posterior Predictive Check\n",
    "print(\"\\n--- Running posterior predictive check ---\")\n",
    "try:\n",
    "    # With configurable noise (Bug #3 fix)\n",
    "    ppc_results = tester_ps.run_posterior_predictive_check(\n",
    "        n_posterior_samples=5000,\n",
    "        add_noise=False,  # Set to True if you want to add noise\n",
    "        noise_scale=0.01\n",
    "    )\n",
    "    if ppc_results:\n",
    "        tester_ps.plot_ppc()\n",
    "except Exception as e:\n",
    "    print(f\"PPC failed: {e}\")\n",
    "\n",
    "# 5f. LC2ST Diagnostic (requires sbi.diagnostics.lc2st)\n",
    "print(\"\\n--- Running LC2ST diagnostic ---\")\n",
    "try:\n",
    "    lc2st_results = tester_ps.run_lc2st_diagnostic(\n",
    "        n_cal=250,\n",
    "        n_eval=10000,\n",
    "        n_trials=100,\n",
    "        alpha=0.05\n",
    "    )\n",
    "    if lc2st_results:\n",
    "        tester_ps.plot_lc2st_diagnostics()\n",
    "except Exception as e:\n",
    "    print(f\"LC2ST diagnostic failed: {e}\")\n",
    "\n",
    "# 5g. MCMC Diagnostics (requires arviz)\n",
    "print(\"\\n--- Running MCMC diagnostics ---\")\n",
    "try:\n",
    "    inference_data = tester_ps.run_mcmc_diagnostics(\n",
    "        n_samples=5000,\n",
    "        n_chains=4,\n",
    "        warmup_steps=1000\n",
    "    )\n",
    "    \n",
    "    if inference_data:\n",
    "        import arviz as az\n",
    "        \n",
    "        # Additional arviz plots\n",
    "        print(\"\\n--- Creating additional MCMC plots ---\")\n",
    "        try:\n",
    "            az.plot_pair(\n",
    "                inference_data, \n",
    "                var_names=[\"theta\"], \n",
    "                divergences=True, \n",
    "                marginals=True\n",
    "            )\n",
    "            plt.show()\n",
    "        except Exception as e:\n",
    "            print(f\"Could not create pair plot: {e}\")\n",
    "        \n",
    "except Exception as e:\n",
    "    print(f\"MCMC diagnostics failed: {e}\")\n",
    "\n",
    "# =============================================================================\n",
    "# PARAMETER EFFECTS VISUALIZATION (Optional)\n",
    "# =============================================================================\n",
    "\n",
    "print(\"\\n\" + \"=\"*70)\n",
    "print(\"STEP 6: PARAMETER EFFECTS (Optional)\")\n",
    "print(\"=\"*70)\n",
    "\n",
    "# Plot how observables change with each parameter\n",
    "try:\n",
    "    for param in [\"sigma8\", \"omega_m\", \"a_off\", \"b_off\"]:\n",
    "        print(f\"\\n--- Plotting effects of {param} ---\")\n",
    "        tester_ps.plot_parameter_effects(param_to_vary=param, n_samples=5)\n",
    "except Exception as e:\n",
    "    print(f\"Parameter effects plot failed: {e}\")\n",
    "\n",
    "print(\"\\n\" + \"=\"*70)\n",
    "print(\"ALL ANALYSES COMPLETE!\")\n",
    "print(\"=\"*70)"
   ]
  },
  {
   "cell_type": "code",
   "execution_count": 4,
   "id": "fa87063f",
   "metadata": {},
   "outputs": [
    {
     "name": "stderr",
     "output_type": "stream",
     "text": [
      "[I 2025-10-30 11:31:28,606] A new study created in memory with name: limference_calibration\n",
      "[I 2025-10-30 11:31:28,607] Trial 0 finished with value: 1.0 and parameters: {'learning_rate': 3.736643658903723e-05, 'training_batch_size': 200, 'stop_after_epochs': 12, 'max_num_epochs': 678, 'validation_fraction': 0.15242823152736826}. Best is trial 0 with value: 1.0.\n",
      "[I 2025-10-30 11:31:28,608] Trial 1 finished with value: 1.0 and parameters: {'learning_rate': 1.7914328698178263e-05, 'training_batch_size': 150, 'stop_after_epochs': 25, 'max_num_epochs': 428, 'validation_fraction': 0.17769961987615815}. Best is trial 0 with value: 1.0.\n",
      "[I 2025-10-30 11:31:28,609] Trial 2 finished with value: 1.0 and parameters: {'learning_rate': 0.0004669185822137909, 'training_batch_size': 150, 'stop_after_epochs': 25, 'max_num_epochs': 344, 'validation_fraction': 0.27447557092682445}. Best is trial 0 with value: 1.0.\n",
      "[I 2025-10-30 11:31:28,610] Trial 3 finished with value: 1.0 and parameters: {'learning_rate': 0.00011292821924319222, 'training_batch_size': 100, 'stop_after_epochs': 10, 'max_num_epochs': 1242, 'validation_fraction': 0.1712662722627233}. Best is trial 0 with value: 1.0.\n",
      "[I 2025-10-30 11:31:28,610] Trial 4 finished with value: 1.0 and parameters: {'learning_rate': 0.0004896673807072429, 'training_batch_size': 32, 'stop_after_epochs': 15, 'max_num_epochs': 518, 'validation_fraction': 0.20715398564842255}. Best is trial 0 with value: 1.0.\n",
      "[I 2025-10-30 11:31:28,611] Trial 5 finished with value: 1.0 and parameters: {'learning_rate': 1.0276573904562346e-05, 'training_batch_size': 100, 'stop_after_epochs': 16, 'max_num_epochs': 510, 'validation_fraction': 0.17511459823888884}. Best is trial 0 with value: 1.0.\n",
      "[I 2025-10-30 11:31:28,612] Trial 6 finished with value: 1.0 and parameters: {'learning_rate': 0.0003551063067221923, 'training_batch_size': 100, 'stop_after_epochs': 14, 'max_num_epochs': 383, 'validation_fraction': 0.1879396946734737}. Best is trial 0 with value: 1.0.\n",
      "[I 2025-10-30 11:31:28,613] Trial 7 finished with value: 1.0 and parameters: {'learning_rate': 0.0009249989289069058, 'training_batch_size': 200, 'stop_after_epochs': 16, 'max_num_epochs': 1295, 'validation_fraction': 0.2622780295225555}. Best is trial 0 with value: 1.0.\n",
      "[I 2025-10-30 11:31:28,614] Trial 8 finished with value: 1.0 and parameters: {'learning_rate': 0.0008343996551713008, 'training_batch_size': 200, 'stop_after_epochs': 24, 'max_num_epochs': 540, 'validation_fraction': 0.1661105519634484}. Best is trial 0 with value: 1.0.\n",
      "[I 2025-10-30 11:31:28,615] Trial 9 finished with value: 1.0 and parameters: {'learning_rate': 0.000579884636577546, 'training_batch_size': 32, 'stop_after_epochs': 11, 'max_num_epochs': 875, 'validation_fraction': 0.30046837290588413}. Best is trial 0 with value: 1.0.\n",
      "[I 2025-10-30 11:31:28,621] Trial 10 finished with value: 1.0 and parameters: {'learning_rate': 0.0036075619683054263, 'training_batch_size': 50, 'stop_after_epochs': 30, 'max_num_epochs': 850, 'validation_fraction': 0.22782506321303259}. Best is trial 0 with value: 1.0.\n",
      "[I 2025-10-30 11:31:28,624] Trial 11 finished with value: 1.0 and parameters: {'learning_rate': 2.326414248796563e-05, 'training_batch_size': 150, 'stop_after_epochs': 23, 'max_num_epochs': 720, 'validation_fraction': 0.34798444080646107}. Best is trial 0 with value: 1.0.\n",
      "[I 2025-10-30 11:31:28,628] Trial 12 finished with value: 1.0 and parameters: {'learning_rate': 5.3026218318911794e-05, 'training_batch_size': 200, 'stop_after_epochs': 21, 'max_num_epochs': 1084, 'validation_fraction': 0.15004733898953634}. Best is trial 0 with value: 1.0.\n",
      "[I 2025-10-30 11:31:28,632] Trial 13 finished with value: 1.0 and parameters: {'learning_rate': 3.462641845935137e-05, 'training_batch_size': 150, 'stop_after_epochs': 29, 'max_num_epochs': 621, 'validation_fraction': 0.21553720373285204}. Best is trial 0 with value: 1.0.\n",
      "[I 2025-10-30 11:31:28,635] Trial 14 finished with value: 1.0 and parameters: {'learning_rate': 1.0457828060466685e-05, 'training_batch_size': 50, 'stop_after_epochs': 19, 'max_num_epochs': 1488, 'validation_fraction': 0.1503112188936286}. Best is trial 0 with value: 1.0.\n",
      "[I 2025-10-30 11:31:28,639] Trial 15 finished with value: 1.0 and parameters: {'learning_rate': 0.00010310390943875906, 'training_batch_size': 200, 'stop_after_epochs': 28, 'max_num_epochs': 732, 'validation_fraction': 0.20021122229034674}. Best is trial 0 with value: 1.0.\n",
      "[I 2025-10-30 11:31:28,642] Trial 16 finished with value: 1.0 and parameters: {'learning_rate': 2.3747516580952678e-05, 'training_batch_size': 150, 'stop_after_epochs': 27, 'max_num_epochs': 321, 'validation_fraction': 0.22554436859229357}. Best is trial 0 with value: 1.0.\n",
      "[I 2025-10-30 11:31:28,645] Trial 17 finished with value: 1.0 and parameters: {'learning_rate': 7.939935475305534e-05, 'training_batch_size': 150, 'stop_after_epochs': 19, 'max_num_epochs': 991, 'validation_fraction': 0.2421523524743471}. Best is trial 0 with value: 1.0.\n",
      "[I 2025-10-30 11:31:28,649] Trial 18 finished with value: 1.0 and parameters: {'learning_rate': 0.00020555481934174272, 'training_batch_size': 200, 'stop_after_epochs': 21, 'max_num_epochs': 713, 'validation_fraction': 0.18220820584565384}. Best is trial 0 with value: 1.0.\n",
      "[I 2025-10-30 11:31:28,653] Trial 19 finished with value: 1.0 and parameters: {'learning_rate': 1.9070252418736197e-05, 'training_batch_size': 32, 'stop_after_epochs': 13, 'max_num_epochs': 462, 'validation_fraction': 0.29871981995418095}. Best is trial 0 with value: 1.0.\n",
      "[I 2025-10-30 11:31:28,659] Trial 20 finished with value: 1.0 and parameters: {'learning_rate': 5.340634431578534e-05, 'training_batch_size': 50, 'stop_after_epochs': 26, 'max_num_epochs': 633, 'validation_fraction': 0.19672765400931624}. Best is trial 0 with value: 1.0.\n",
      "[I 2025-10-30 11:31:28,663] Trial 21 finished with value: 1.0 and parameters: {'learning_rate': 0.0018039607526082948, 'training_batch_size': 150, 'stop_after_epochs': 25, 'max_num_epochs': 300, 'validation_fraction': 0.2727469386084002}. Best is trial 0 with value: 1.0.\n",
      "[I 2025-10-30 11:31:28,667] Trial 22 finished with value: 1.0 and parameters: {'learning_rate': 0.00018142656820951174, 'training_batch_size': 150, 'stop_after_epochs': 23, 'max_num_epochs': 420, 'validation_fraction': 0.2873235845809772}. Best is trial 0 with value: 1.0.\n",
      "[I 2025-10-30 11:31:28,670] Trial 23 finished with value: 1.0 and parameters: {'learning_rate': 1.6056099727918242e-05, 'training_batch_size': 150, 'stop_after_epochs': 18, 'max_num_epochs': 415, 'validation_fraction': 0.3239902865700458}. Best is trial 0 with value: 1.0.\n",
      "[I 2025-10-30 11:31:28,675] Trial 24 finished with value: 1.0 and parameters: {'learning_rate': 3.7598301192298005e-05, 'training_batch_size': 150, 'stop_after_epochs': 22, 'max_num_epochs': 626, 'validation_fraction': 0.24725009863442365}. Best is trial 0 with value: 1.0.\n",
      "[I 2025-10-30 11:31:28,678] Trial 25 finished with value: 1.0 and parameters: {'learning_rate': 0.00034315334517565115, 'training_batch_size': 200, 'stop_after_epochs': 26, 'max_num_epochs': 575, 'validation_fraction': 0.27197225392650615}. Best is trial 0 with value: 1.0.\n",
      "[I 2025-10-30 11:31:28,682] Trial 26 finished with value: 1.0 and parameters: {'learning_rate': 0.0001395644808932403, 'training_batch_size': 150, 'stop_after_epochs': 12, 'max_num_epochs': 783, 'validation_fraction': 0.16284443306263927}. Best is trial 0 with value: 1.0.\n",
      "[I 2025-10-30 11:31:28,686] Trial 27 finished with value: 1.0 and parameters: {'learning_rate': 6.660573625783083e-05, 'training_batch_size': 150, 'stop_after_epochs': 24, 'max_num_epochs': 369, 'validation_fraction': 0.23818407310418274}. Best is trial 0 with value: 1.0.\n",
      "[I 2025-10-30 11:31:28,690] Trial 28 finished with value: 1.0 and parameters: {'learning_rate': 0.0017526902004671569, 'training_batch_size': 200, 'stop_after_epochs': 17, 'max_num_epochs': 496, 'validation_fraction': 0.2638946445476186}. Best is trial 0 with value: 1.0.\n",
      "[I 2025-10-30 11:31:28,694] Trial 29 finished with value: 1.0 and parameters: {'learning_rate': 3.2719233931078965e-05, 'training_batch_size': 100, 'stop_after_epochs': 10, 'max_num_epochs': 1083, 'validation_fraction': 0.16266452750568638}. Best is trial 0 with value: 1.0.\n"
     ]
    },
    {
     "name": "stdout",
     "output_type": "stream",
     "text": [
      "======================================================================\n",
      "STARTING OPTUNA HYPERPARAMETER OPTIMIZATION\n",
      "======================================================================\n",
      "\n",
      "Trial 0: Testing hyperparameters:\n",
      "  Learning rate: 3.74e-05\n",
      "  Batch size: 200\n",
      "  Stop after epochs: 12\n",
      "  Max epochs: 678\n",
      "  Validation fraction: 0.15242823152736826\n",
      "Trial 0 failed with error: module 'sbi' has no attribute 'diagnostics'\n",
      "\n",
      "Trial 1: Testing hyperparameters:\n",
      "  Learning rate: 1.79e-05\n",
      "  Batch size: 150\n",
      "  Stop after epochs: 25\n",
      "  Max epochs: 428\n",
      "  Validation fraction: 0.17769961987615815\n",
      "Trial 1 failed with error: module 'sbi' has no attribute 'diagnostics'\n",
      "\n",
      "Trial 2: Testing hyperparameters:\n",
      "  Learning rate: 4.67e-04\n",
      "  Batch size: 150\n",
      "  Stop after epochs: 25\n",
      "  Max epochs: 344\n",
      "  Validation fraction: 0.27447557092682445\n",
      "Trial 2 failed with error: module 'sbi' has no attribute 'diagnostics'\n",
      "\n",
      "Trial 3: Testing hyperparameters:\n",
      "  Learning rate: 1.13e-04\n",
      "  Batch size: 100\n",
      "  Stop after epochs: 10\n",
      "  Max epochs: 1242\n",
      "  Validation fraction: 0.1712662722627233\n",
      "Trial 3 failed with error: module 'sbi' has no attribute 'diagnostics'\n",
      "\n",
      "Trial 4: Testing hyperparameters:\n",
      "  Learning rate: 4.90e-04\n",
      "  Batch size: 32\n",
      "  Stop after epochs: 15\n",
      "  Max epochs: 518\n",
      "  Validation fraction: 0.20715398564842255\n",
      "Trial 4 failed with error: module 'sbi' has no attribute 'diagnostics'\n",
      "\n",
      "Trial 5: Testing hyperparameters:\n",
      "  Learning rate: 1.03e-05\n",
      "  Batch size: 100\n",
      "  Stop after epochs: 16\n",
      "  Max epochs: 510\n",
      "  Validation fraction: 0.17511459823888884\n",
      "Trial 5 failed with error: module 'sbi' has no attribute 'diagnostics'\n",
      "\n",
      "Trial 6: Testing hyperparameters:\n",
      "  Learning rate: 3.55e-04\n",
      "  Batch size: 100\n",
      "  Stop after epochs: 14\n",
      "  Max epochs: 383\n",
      "  Validation fraction: 0.1879396946734737\n",
      "Trial 6 failed with error: module 'sbi' has no attribute 'diagnostics'\n",
      "\n",
      "Trial 7: Testing hyperparameters:\n",
      "  Learning rate: 9.25e-04\n",
      "  Batch size: 200\n",
      "  Stop after epochs: 16\n",
      "  Max epochs: 1295\n",
      "  Validation fraction: 0.2622780295225555\n",
      "Trial 7 failed with error: module 'sbi' has no attribute 'diagnostics'\n",
      "\n",
      "Trial 8: Testing hyperparameters:\n",
      "  Learning rate: 8.34e-04\n",
      "  Batch size: 200\n",
      "  Stop after epochs: 24\n",
      "  Max epochs: 540\n",
      "  Validation fraction: 0.1661105519634484\n",
      "Trial 8 failed with error: module 'sbi' has no attribute 'diagnostics'\n",
      "\n",
      "Trial 9: Testing hyperparameters:\n",
      "  Learning rate: 5.80e-04\n",
      "  Batch size: 32\n",
      "  Stop after epochs: 11\n",
      "  Max epochs: 875\n",
      "  Validation fraction: 0.30046837290588413\n",
      "Trial 9 failed with error: module 'sbi' has no attribute 'diagnostics'\n",
      "\n",
      "Trial 10: Testing hyperparameters:\n",
      "  Learning rate: 3.61e-03\n",
      "  Batch size: 50\n",
      "  Stop after epochs: 30\n",
      "  Max epochs: 850\n",
      "  Validation fraction: 0.22782506321303259\n",
      "Trial 10 failed with error: module 'sbi' has no attribute 'diagnostics'\n",
      "\n",
      "Trial 11: Testing hyperparameters:\n",
      "  Learning rate: 2.33e-05\n",
      "  Batch size: 150\n",
      "  Stop after epochs: 23\n",
      "  Max epochs: 720\n",
      "  Validation fraction: 0.34798444080646107\n",
      "Trial 11 failed with error: module 'sbi' has no attribute 'diagnostics'\n",
      "\n",
      "Trial 12: Testing hyperparameters:\n",
      "  Learning rate: 5.30e-05\n",
      "  Batch size: 200\n",
      "  Stop after epochs: 21\n",
      "  Max epochs: 1084\n",
      "  Validation fraction: 0.15004733898953634\n",
      "Trial 12 failed with error: module 'sbi' has no attribute 'diagnostics'\n",
      "\n",
      "Trial 13: Testing hyperparameters:\n",
      "  Learning rate: 3.46e-05\n",
      "  Batch size: 150\n",
      "  Stop after epochs: 29\n",
      "  Max epochs: 621\n",
      "  Validation fraction: 0.21553720373285204\n",
      "Trial 13 failed with error: module 'sbi' has no attribute 'diagnostics'\n",
      "\n",
      "Trial 14: Testing hyperparameters:\n",
      "  Learning rate: 1.05e-05\n",
      "  Batch size: 50\n",
      "  Stop after epochs: 19\n",
      "  Max epochs: 1488\n",
      "  Validation fraction: 0.1503112188936286\n",
      "Trial 14 failed with error: module 'sbi' has no attribute 'diagnostics'\n",
      "\n",
      "Trial 15: Testing hyperparameters:\n",
      "  Learning rate: 1.03e-04\n",
      "  Batch size: 200\n",
      "  Stop after epochs: 28\n",
      "  Max epochs: 732\n",
      "  Validation fraction: 0.20021122229034674\n",
      "Trial 15 failed with error: module 'sbi' has no attribute 'diagnostics'\n",
      "\n",
      "Trial 16: Testing hyperparameters:\n",
      "  Learning rate: 2.37e-05\n",
      "  Batch size: 150\n",
      "  Stop after epochs: 27\n",
      "  Max epochs: 321\n",
      "  Validation fraction: 0.22554436859229357\n",
      "Trial 16 failed with error: module 'sbi' has no attribute 'diagnostics'\n",
      "\n",
      "Trial 17: Testing hyperparameters:\n",
      "  Learning rate: 7.94e-05\n",
      "  Batch size: 150\n",
      "  Stop after epochs: 19\n",
      "  Max epochs: 991\n",
      "  Validation fraction: 0.2421523524743471\n",
      "Trial 17 failed with error: module 'sbi' has no attribute 'diagnostics'\n",
      "\n",
      "Trial 18: Testing hyperparameters:\n",
      "  Learning rate: 2.06e-04\n",
      "  Batch size: 200\n",
      "  Stop after epochs: 21\n",
      "  Max epochs: 713\n",
      "  Validation fraction: 0.18220820584565384\n",
      "Trial 18 failed with error: module 'sbi' has no attribute 'diagnostics'\n",
      "\n",
      "Trial 19: Testing hyperparameters:\n",
      "  Learning rate: 1.91e-05\n",
      "  Batch size: 32\n",
      "  Stop after epochs: 13\n",
      "  Max epochs: 462\n",
      "  Validation fraction: 0.29871981995418095\n",
      "Trial 19 failed with error: module 'sbi' has no attribute 'diagnostics'\n",
      "\n",
      "Trial 20: Testing hyperparameters:\n",
      "  Learning rate: 5.34e-05\n",
      "  Batch size: 50\n",
      "  Stop after epochs: 26\n",
      "  Max epochs: 633\n",
      "  Validation fraction: 0.19672765400931624\n",
      "Trial 20 failed with error: module 'sbi' has no attribute 'diagnostics'\n",
      "\n",
      "Trial 21: Testing hyperparameters:\n",
      "  Learning rate: 1.80e-03\n",
      "  Batch size: 150\n",
      "  Stop after epochs: 25\n",
      "  Max epochs: 300\n",
      "  Validation fraction: 0.2727469386084002\n",
      "Trial 21 failed with error: module 'sbi' has no attribute 'diagnostics'\n",
      "\n",
      "Trial 22: Testing hyperparameters:\n",
      "  Learning rate: 1.81e-04\n",
      "  Batch size: 150\n",
      "  Stop after epochs: 23\n",
      "  Max epochs: 420\n",
      "  Validation fraction: 0.2873235845809772\n",
      "Trial 22 failed with error: module 'sbi' has no attribute 'diagnostics'\n",
      "\n",
      "Trial 23: Testing hyperparameters:\n",
      "  Learning rate: 1.61e-05\n",
      "  Batch size: 150\n",
      "  Stop after epochs: 18\n",
      "  Max epochs: 415\n",
      "  Validation fraction: 0.3239902865700458\n",
      "Trial 23 failed with error: module 'sbi' has no attribute 'diagnostics'\n",
      "\n",
      "Trial 24: Testing hyperparameters:\n",
      "  Learning rate: 3.76e-05\n",
      "  Batch size: 150\n",
      "  Stop after epochs: 22\n",
      "  Max epochs: 626\n",
      "  Validation fraction: 0.24725009863442365\n",
      "Trial 24 failed with error: module 'sbi' has no attribute 'diagnostics'\n",
      "\n",
      "Trial 25: Testing hyperparameters:\n",
      "  Learning rate: 3.43e-04\n",
      "  Batch size: 200\n",
      "  Stop after epochs: 26\n",
      "  Max epochs: 575\n",
      "  Validation fraction: 0.27197225392650615\n",
      "Trial 25 failed with error: module 'sbi' has no attribute 'diagnostics'\n",
      "\n",
      "Trial 26: Testing hyperparameters:\n",
      "  Learning rate: 1.40e-04\n",
      "  Batch size: 150\n",
      "  Stop after epochs: 12\n",
      "  Max epochs: 783\n",
      "  Validation fraction: 0.16284443306263927\n",
      "Trial 26 failed with error: module 'sbi' has no attribute 'diagnostics'\n",
      "\n",
      "Trial 27: Testing hyperparameters:\n",
      "  Learning rate: 6.66e-05\n",
      "  Batch size: 150\n",
      "  Stop after epochs: 24\n",
      "  Max epochs: 369\n",
      "  Validation fraction: 0.23818407310418274\n",
      "Trial 27 failed with error: module 'sbi' has no attribute 'diagnostics'\n",
      "\n",
      "Trial 28: Testing hyperparameters:\n",
      "  Learning rate: 1.75e-03\n",
      "  Batch size: 200\n",
      "  Stop after epochs: 17\n",
      "  Max epochs: 496\n",
      "  Validation fraction: 0.2638946445476186\n",
      "Trial 28 failed with error: module 'sbi' has no attribute 'diagnostics'\n",
      "\n",
      "Trial 29: Testing hyperparameters:\n",
      "  Learning rate: 3.27e-05\n",
      "  Batch size: 100\n",
      "  Stop after epochs: 10\n",
      "  Max epochs: 1083\n",
      "  Validation fraction: 0.16266452750568638\n",
      "Trial 29 failed with error: module 'sbi' has no attribute 'diagnostics'\n",
      "\n",
      "======================================================================\n",
      "OPTIMIZATION COMPLETE\n",
      "======================================================================\n",
      "\n",
      "Best calibration error: 1.000000\n",
      "\n",
      "Best hyperparameters:\n",
      "  learning_rate: 3.736643658903723e-05\n",
      "  training_batch_size: 200\n",
      "  stop_after_epochs: 12\n",
      "  max_num_epochs: 678\n",
      "  validation_fraction: 0.15242823152736826\n",
      "\n",
      "======================================================================\n",
      "TRAINING WITH BEST HYPERPARAMETERS\n",
      "======================================================================\n",
      "Loading data from /Users/anirbanroy/Desktop/test_maps_all_params/...\n",
      "Data loaded: 3000 total simulations\n",
      "Training set: 2500 samples (indices 0:2500)\n",
      "Test set: 500 samples (indices 2500:3000)\n",
      "  - Calibration: 50 samples\n",
      "  - Validation: 450 samples\n",
      "Parameters being constrained: sigma8, omega_m, a_off, b_off\n",
      "Parameter ranges:\n",
      "  sigma8: [0.400, 1.200]\n",
      "  omega_m: [0.100, 0.600]\n",
      "  a_off: [4.001, 9.999]\n",
      "  b_off: [0.000, 2.000]\n",
      "LIMference initialized with root: /Users/anirbanroy/Desktop/output_test/best_model\n",
      "Device: cpu\n",
      "LIMference initialized for methods: ['NPE']\n",
      "Analysis methods: ['pdf']\n",
      "Parameters to constrain: sigma8, omega_m, a_off, b_off\n",
      "\n",
      "======================================================================\n",
      "TRAINING MODELS\n",
      "======================================================================\n",
      "\n",
      "Test observation index: 0\n",
      "Test observation true parameters:\n",
      "  sigma8 = 0.795\n",
      "  omega_m = 0.241\n",
      "  a_off = 8.422\n",
      "  b_off = 0.560\n",
      "\n",
      "======================================================================\n",
      "LIMFERENCE: Running Inference Comparison\n",
      "======================================================================\n",
      "Analysis methods: ['pdf']\n",
      "Inference methods: ['NPE']\n",
      "\n",
      "==================================================\n",
      "Analysis Method: pdf\n",
      "==================================================\n",
      "\n",
      "  Running NPE...\n",
      "Performing single-round NPE inference with pdf analysis...\n"
     ]
    },
    {
     "name": "stdout",
     "output_type": "stream",
     "text": [
      " Neural network successfully converged after 360 epochs.\n",
      "        -------------------------\n",
      "        ||||| ROUND 1 STATS |||||:\n",
      "        -------------------------\n",
      "        Epochs trained: 360\n",
      "        Best validation performance: 1.3462\n",
      "        -------------------------\n",
      "        \n"
     ]
    },
    {
     "data": {
      "application/vnd.jupyter.widget-view+json": {
       "model_id": "7ed84b67f9f842c994e12a44e6fb0ce3",
       "version_major": 2,
       "version_minor": 0
      },
      "text/plain": [
       "  0%|          | 0/10000 [00:00<?, ?it/s]"
      ]
     },
     "metadata": {},
     "output_type": "display_data"
    },
    {
     "name": "stdout",
     "output_type": "stream",
     "text": [
      "    Success! Mean: [0.7953093 0.3519044 7.3975945 1.1287938]\n",
      "             Std:  [0.18754116 0.1172557  1.2640047  0.46273372]\n",
      "             RMSE: [0.18754216 0.16130314 1.62672754 0.7330735 ]\n",
      "\n",
      "======================================================================\n",
      "INFERENCE RESULTS SUMMARY\n",
      "======================================================================\n",
      "\n",
      "PDF\n",
      "--------------------------------------------------\n",
      "  NPE:\n",
      "    Mean: [0.795, 0.352, 7.398, 1.129]\n",
      "    Std:  [0.188, 0.117, 1.264, 0.463]\n",
      "    RMSE: [0.188, 0.161, 1.627, 0.733]\n",
      "    Coverage: 68%:False, 95%:True\n",
      "\n",
      "==================================================\n",
      "CALIBRATING POSTERIORS\n",
      "Method: temperature\n",
      "==================================================\n"
     ]
    },
    {
     "data": {
      "application/vnd.jupyter.widget-view+json": {
       "model_id": "5cda05b5ce2a45e3b972513df02cc553",
       "version_major": 2,
       "version_minor": 0
      },
      "text/plain": [
       "  0%|          | 0/300 [00:00<?, ?it/s]"
      ]
     },
     "metadata": {},
     "output_type": "display_data"
    },
    {
     "data": {
      "application/vnd.jupyter.widget-view+json": {
       "model_id": "bb1b3af50df5491082ce7e78245118fb",
       "version_major": 2,
       "version_minor": 0
      },
      "text/plain": [
       "  0%|          | 0/300 [00:00<?, ?it/s]"
      ]
     },
     "metadata": {},
     "output_type": "display_data"
    },
    {
     "data": {
      "application/vnd.jupyter.widget-view+json": {
       "model_id": "f4b1ef90a82e4ad39d34baa3af03d2b7",
       "version_major": 2,
       "version_minor": 0
      },
      "text/plain": [
       "  0%|          | 0/300 [00:00<?, ?it/s]"
      ]
     },
     "metadata": {},
     "output_type": "display_data"
    },
    {
     "data": {
      "application/vnd.jupyter.widget-view+json": {
       "model_id": "404321bcfe83468c9936f2f60edb0c1d",
       "version_major": 2,
       "version_minor": 0
      },
      "text/plain": [
       "  0%|          | 0/300 [00:00<?, ?it/s]"
      ]
     },
     "metadata": {},
     "output_type": "display_data"
    },
    {
     "data": {
      "application/vnd.jupyter.widget-view+json": {
       "model_id": "1b37b258355d41e6b99a4e2f3414125f",
       "version_major": 2,
       "version_minor": 0
      },
      "text/plain": [
       "  0%|          | 0/300 [00:00<?, ?it/s]"
      ]
     },
     "metadata": {},
     "output_type": "display_data"
    },
    {
     "data": {
      "application/vnd.jupyter.widget-view+json": {
       "model_id": "e604ad033c2f4b43baf097d247512173",
       "version_major": 2,
       "version_minor": 0
      },
      "text/plain": [
       "  0%|          | 0/300 [00:00<?, ?it/s]"
      ]
     },
     "metadata": {},
     "output_type": "display_data"
    },
    {
     "data": {
      "application/vnd.jupyter.widget-view+json": {
       "model_id": "3148199e7ab24410b6799fdd3f21cdcf",
       "version_major": 2,
       "version_minor": 0
      },
      "text/plain": [
       "  0%|          | 0/300 [00:00<?, ?it/s]"
      ]
     },
     "metadata": {},
     "output_type": "display_data"
    },
    {
     "data": {
      "application/vnd.jupyter.widget-view+json": {
       "model_id": "5704639ca1904401ab0cbdab5c3d48b8",
       "version_major": 2,
       "version_minor": 0
      },
      "text/plain": [
       "  0%|          | 0/300 [00:00<?, ?it/s]"
      ]
     },
     "metadata": {},
     "output_type": "display_data"
    },
    {
     "data": {
      "application/vnd.jupyter.widget-view+json": {
       "model_id": "fdff73175ae54bffad78237d4f34eb70",
       "version_major": 2,
       "version_minor": 0
      },
      "text/plain": [
       "  0%|          | 0/300 [00:00<?, ?it/s]"
      ]
     },
     "metadata": {},
     "output_type": "display_data"
    },
    {
     "data": {
      "application/vnd.jupyter.widget-view+json": {
       "model_id": "c2f1d01fcd334d9c8485d71ae9238e88",
       "version_major": 2,
       "version_minor": 0
      },
      "text/plain": [
       "  0%|          | 0/300 [00:00<?, ?it/s]"
      ]
     },
     "metadata": {},
     "output_type": "display_data"
    },
    {
     "data": {
      "application/vnd.jupyter.widget-view+json": {
       "model_id": "d034d90b835e42549c9e08473416fda9",
       "version_major": 2,
       "version_minor": 0
      },
      "text/plain": [
       "  0%|          | 0/300 [00:00<?, ?it/s]"
      ]
     },
     "metadata": {},
     "output_type": "display_data"
    },
    {
     "data": {
      "application/vnd.jupyter.widget-view+json": {
       "model_id": "afc796e3cd27445e8467bed72a567674",
       "version_major": 2,
       "version_minor": 0
      },
      "text/plain": [
       "  0%|          | 0/300 [00:00<?, ?it/s]"
      ]
     },
     "metadata": {},
     "output_type": "display_data"
    },
    {
     "data": {
      "application/vnd.jupyter.widget-view+json": {
       "model_id": "2f0625eea2a54aca849df7ee33d086ad",
       "version_major": 2,
       "version_minor": 0
      },
      "text/plain": [
       "  0%|          | 0/300 [00:00<?, ?it/s]"
      ]
     },
     "metadata": {},
     "output_type": "display_data"
    },
    {
     "data": {
      "application/vnd.jupyter.widget-view+json": {
       "model_id": "89d402b5552e425fb1ef7eec372b9d27",
       "version_major": 2,
       "version_minor": 0
      },
      "text/plain": [
       "  0%|          | 0/300 [00:00<?, ?it/s]"
      ]
     },
     "metadata": {},
     "output_type": "display_data"
    },
    {
     "data": {
      "application/vnd.jupyter.widget-view+json": {
       "model_id": "957bf0887f0a43feb4f5bfffe497a90a",
       "version_major": 2,
       "version_minor": 0
      },
      "text/plain": [
       "  0%|          | 0/300 [00:00<?, ?it/s]"
      ]
     },
     "metadata": {},
     "output_type": "display_data"
    },
    {
     "data": {
      "application/vnd.jupyter.widget-view+json": {
       "model_id": "13c181102bb74d1bb83611c6ca44ca84",
       "version_major": 2,
       "version_minor": 0
      },
      "text/plain": [
       "  0%|          | 0/300 [00:00<?, ?it/s]"
      ]
     },
     "metadata": {},
     "output_type": "display_data"
    },
    {
     "data": {
      "application/vnd.jupyter.widget-view+json": {
       "model_id": "7e84eaa8d29f4e24b14615f05fd35c77",
       "version_major": 2,
       "version_minor": 0
      },
      "text/plain": [
       "  0%|          | 0/300 [00:00<?, ?it/s]"
      ]
     },
     "metadata": {},
     "output_type": "display_data"
    },
    {
     "data": {
      "application/vnd.jupyter.widget-view+json": {
       "model_id": "eb17e2aa18164d2bb41c0153fc050ed6",
       "version_major": 2,
       "version_minor": 0
      },
      "text/plain": [
       "  0%|          | 0/300 [00:00<?, ?it/s]"
      ]
     },
     "metadata": {},
     "output_type": "display_data"
    },
    {
     "data": {
      "application/vnd.jupyter.widget-view+json": {
       "model_id": "ac55fa973f2d40bc8a397a1d7e22eb9a",
       "version_major": 2,
       "version_minor": 0
      },
      "text/plain": [
       "  0%|          | 0/300 [00:00<?, ?it/s]"
      ]
     },
     "metadata": {},
     "output_type": "display_data"
    },
    {
     "data": {
      "application/vnd.jupyter.widget-view+json": {
       "model_id": "0411a88bc40042aca4eabe57cc575cdc",
       "version_major": 2,
       "version_minor": 0
      },
      "text/plain": [
       "  0%|          | 0/300 [00:00<?, ?it/s]"
      ]
     },
     "metadata": {},
     "output_type": "display_data"
    },
    {
     "data": {
      "application/vnd.jupyter.widget-view+json": {
       "model_id": "67d2f76bdfcc44c5ab4db728b983c6c6",
       "version_major": 2,
       "version_minor": 0
      },
      "text/plain": [
       "  0%|          | 0/300 [00:00<?, ?it/s]"
      ]
     },
     "metadata": {},
     "output_type": "display_data"
    },
    {
     "data": {
      "application/vnd.jupyter.widget-view+json": {
       "model_id": "8d5c686761d64afeb0c04c5ade5b26cb",
       "version_major": 2,
       "version_minor": 0
      },
      "text/plain": [
       "  0%|          | 0/300 [00:00<?, ?it/s]"
      ]
     },
     "metadata": {},
     "output_type": "display_data"
    },
    {
     "data": {
      "application/vnd.jupyter.widget-view+json": {
       "model_id": "fb53a567e6064261a104540e40104451",
       "version_major": 2,
       "version_minor": 0
      },
      "text/plain": [
       "  0%|          | 0/300 [00:00<?, ?it/s]"
      ]
     },
     "metadata": {},
     "output_type": "display_data"
    },
    {
     "data": {
      "application/vnd.jupyter.widget-view+json": {
       "model_id": "d808c748963d400a833fae3c62295439",
       "version_major": 2,
       "version_minor": 0
      },
      "text/plain": [
       "  0%|          | 0/300 [00:00<?, ?it/s]"
      ]
     },
     "metadata": {},
     "output_type": "display_data"
    },
    {
     "data": {
      "application/vnd.jupyter.widget-view+json": {
       "model_id": "dc8f04efa03f432d94974b0ffb9d01e3",
       "version_major": 2,
       "version_minor": 0
      },
      "text/plain": [
       "  0%|          | 0/300 [00:00<?, ?it/s]"
      ]
     },
     "metadata": {},
     "output_type": "display_data"
    },
    {
     "data": {
      "application/vnd.jupyter.widget-view+json": {
       "model_id": "698cf84b431944ffaf64c3b71f3ebd1d",
       "version_major": 2,
       "version_minor": 0
      },
      "text/plain": [
       "  0%|          | 0/300 [00:00<?, ?it/s]"
      ]
     },
     "metadata": {},
     "output_type": "display_data"
    },
    {
     "data": {
      "application/vnd.jupyter.widget-view+json": {
       "model_id": "f76468f90a82466abbe40e22c613c20d",
       "version_major": 2,
       "version_minor": 0
      },
      "text/plain": [
       "  0%|          | 0/300 [00:00<?, ?it/s]"
      ]
     },
     "metadata": {},
     "output_type": "display_data"
    },
    {
     "data": {
      "application/vnd.jupyter.widget-view+json": {
       "model_id": "0e31caa45b754207849b3c10e1551a55",
       "version_major": 2,
       "version_minor": 0
      },
      "text/plain": [
       "  0%|          | 0/300 [00:00<?, ?it/s]"
      ]
     },
     "metadata": {},
     "output_type": "display_data"
    },
    {
     "data": {
      "application/vnd.jupyter.widget-view+json": {
       "model_id": "d964388fe6154d50a5a44b6f89c05ac7",
       "version_major": 2,
       "version_minor": 0
      },
      "text/plain": [
       "  0%|          | 0/300 [00:00<?, ?it/s]"
      ]
     },
     "metadata": {},
     "output_type": "display_data"
    },
    {
     "data": {
      "application/vnd.jupyter.widget-view+json": {
       "model_id": "f1b87b1a9ef74d8da10c55373dbe1716",
       "version_major": 2,
       "version_minor": 0
      },
      "text/plain": [
       "  0%|          | 0/300 [00:00<?, ?it/s]"
      ]
     },
     "metadata": {},
     "output_type": "display_data"
    },
    {
     "data": {
      "application/vnd.jupyter.widget-view+json": {
       "model_id": "ecce39b3c7ab4e0c8c443d72b510f6ff",
       "version_major": 2,
       "version_minor": 0
      },
      "text/plain": [
       "  0%|          | 0/300 [00:00<?, ?it/s]"
      ]
     },
     "metadata": {},
     "output_type": "display_data"
    },
    {
     "data": {
      "application/vnd.jupyter.widget-view+json": {
       "model_id": "3711453e7da64459a79403d26d5dd532",
       "version_major": 2,
       "version_minor": 0
      },
      "text/plain": [
       "  0%|          | 0/300 [00:00<?, ?it/s]"
      ]
     },
     "metadata": {},
     "output_type": "display_data"
    },
    {
     "data": {
      "application/vnd.jupyter.widget-view+json": {
       "model_id": "0dab9637c68940d7a1dc0e6df42fbede",
       "version_major": 2,
       "version_minor": 0
      },
      "text/plain": [
       "  0%|          | 0/300 [00:00<?, ?it/s]"
      ]
     },
     "metadata": {},
     "output_type": "display_data"
    },
    {
     "data": {
      "application/vnd.jupyter.widget-view+json": {
       "model_id": "d62f18d4586349fd99d030b0c36b72dd",
       "version_major": 2,
       "version_minor": 0
      },
      "text/plain": [
       "  0%|          | 0/300 [00:00<?, ?it/s]"
      ]
     },
     "metadata": {},
     "output_type": "display_data"
    },
    {
     "data": {
      "application/vnd.jupyter.widget-view+json": {
       "model_id": "55590759cb534552b619433276b3da2e",
       "version_major": 2,
       "version_minor": 0
      },
      "text/plain": [
       "  0%|          | 0/300 [00:00<?, ?it/s]"
      ]
     },
     "metadata": {},
     "output_type": "display_data"
    },
    {
     "data": {
      "application/vnd.jupyter.widget-view+json": {
       "model_id": "a27d35d6537f4dd1a597333e75c7fd21",
       "version_major": 2,
       "version_minor": 0
      },
      "text/plain": [
       "  0%|          | 0/300 [00:00<?, ?it/s]"
      ]
     },
     "metadata": {},
     "output_type": "display_data"
    },
    {
     "data": {
      "application/vnd.jupyter.widget-view+json": {
       "model_id": "669e2444686e4c9f96bb515a4618de3b",
       "version_major": 2,
       "version_minor": 0
      },
      "text/plain": [
       "  0%|          | 0/300 [00:00<?, ?it/s]"
      ]
     },
     "metadata": {},
     "output_type": "display_data"
    },
    {
     "data": {
      "application/vnd.jupyter.widget-view+json": {
       "model_id": "a31354c91b3b4829bc72bbbffceb1127",
       "version_major": 2,
       "version_minor": 0
      },
      "text/plain": [
       "  0%|          | 0/300 [00:00<?, ?it/s]"
      ]
     },
     "metadata": {},
     "output_type": "display_data"
    },
    {
     "data": {
      "application/vnd.jupyter.widget-view+json": {
       "model_id": "80c40510777e4ef78d76ce343b96091d",
       "version_major": 2,
       "version_minor": 0
      },
      "text/plain": [
       "  0%|          | 0/300 [00:00<?, ?it/s]"
      ]
     },
     "metadata": {},
     "output_type": "display_data"
    },
    {
     "data": {
      "application/vnd.jupyter.widget-view+json": {
       "model_id": "5ea8f776b33f4dcfad60cce81647ba5f",
       "version_major": 2,
       "version_minor": 0
      },
      "text/plain": [
       "  0%|          | 0/300 [00:00<?, ?it/s]"
      ]
     },
     "metadata": {},
     "output_type": "display_data"
    },
    {
     "data": {
      "application/vnd.jupyter.widget-view+json": {
       "model_id": "dc33a6166cc54b69a259f992e2ab69f8",
       "version_major": 2,
       "version_minor": 0
      },
      "text/plain": [
       "  0%|          | 0/300 [00:00<?, ?it/s]"
      ]
     },
     "metadata": {},
     "output_type": "display_data"
    },
    {
     "data": {
      "application/vnd.jupyter.widget-view+json": {
       "model_id": "51b68a18a390442bb46d3f2c96214411",
       "version_major": 2,
       "version_minor": 0
      },
      "text/plain": [
       "  0%|          | 0/300 [00:00<?, ?it/s]"
      ]
     },
     "metadata": {},
     "output_type": "display_data"
    },
    {
     "data": {
      "application/vnd.jupyter.widget-view+json": {
       "model_id": "b743aedf24354a089f357c5e109a3366",
       "version_major": 2,
       "version_minor": 0
      },
      "text/plain": [
       "  0%|          | 0/300 [00:00<?, ?it/s]"
      ]
     },
     "metadata": {},
     "output_type": "display_data"
    },
    {
     "data": {
      "application/vnd.jupyter.widget-view+json": {
       "model_id": "95687229a2d04bd3bf3cec846ff344f9",
       "version_major": 2,
       "version_minor": 0
      },
      "text/plain": [
       "  0%|          | 0/300 [00:00<?, ?it/s]"
      ]
     },
     "metadata": {},
     "output_type": "display_data"
    },
    {
     "data": {
      "application/vnd.jupyter.widget-view+json": {
       "model_id": "0aa41f53c6014655a8be11b741bfce6e",
       "version_major": 2,
       "version_minor": 0
      },
      "text/plain": [
       "  0%|          | 0/300 [00:00<?, ?it/s]"
      ]
     },
     "metadata": {},
     "output_type": "display_data"
    },
    {
     "data": {
      "application/vnd.jupyter.widget-view+json": {
       "model_id": "9d9e0a6dbbbe4dc993a8ac8f67233bea",
       "version_major": 2,
       "version_minor": 0
      },
      "text/plain": [
       "  0%|          | 0/300 [00:00<?, ?it/s]"
      ]
     },
     "metadata": {},
     "output_type": "display_data"
    },
    {
     "data": {
      "application/vnd.jupyter.widget-view+json": {
       "model_id": "eccbd49cddad42a4bea1a681c561c86e",
       "version_major": 2,
       "version_minor": 0
      },
      "text/plain": [
       "  0%|          | 0/300 [00:00<?, ?it/s]"
      ]
     },
     "metadata": {},
     "output_type": "display_data"
    },
    {
     "data": {
      "application/vnd.jupyter.widget-view+json": {
       "model_id": "4ec89d03f2c8478899e906340f35b8e7",
       "version_major": 2,
       "version_minor": 0
      },
      "text/plain": [
       "  0%|          | 0/300 [00:00<?, ?it/s]"
      ]
     },
     "metadata": {},
     "output_type": "display_data"
    },
    {
     "data": {
      "application/vnd.jupyter.widget-view+json": {
       "model_id": "60314bd57363430bb3ac8667b703f2fd",
       "version_major": 2,
       "version_minor": 0
      },
      "text/plain": [
       "  0%|          | 0/300 [00:00<?, ?it/s]"
      ]
     },
     "metadata": {},
     "output_type": "display_data"
    },
    {
     "data": {
      "application/vnd.jupyter.widget-view+json": {
       "model_id": "60e305c9194a41659c27c151fecf851e",
       "version_major": 2,
       "version_minor": 0
      },
      "text/plain": [
       "  0%|          | 0/300 [00:00<?, ?it/s]"
      ]
     },
     "metadata": {},
     "output_type": "display_data"
    },
    {
     "data": {
      "application/vnd.jupyter.widget-view+json": {
       "model_id": "4973a2183c9d49d48c0ff0dd71c85e22",
       "version_major": 2,
       "version_minor": 0
      },
      "text/plain": [
       "  0%|          | 0/300 [00:00<?, ?it/s]"
      ]
     },
     "metadata": {},
     "output_type": "display_data"
    },
    {
     "data": {
      "application/vnd.jupyter.widget-view+json": {
       "model_id": "0044bd3efc5e4950810413cef073ff8b",
       "version_major": 2,
       "version_minor": 0
      },
      "text/plain": [
       "  0%|          | 0/300 [00:00<?, ?it/s]"
      ]
     },
     "metadata": {},
     "output_type": "display_data"
    },
    {
     "data": {
      "application/vnd.jupyter.widget-view+json": {
       "model_id": "2e03978249d64ca8acc03e8af3074ab1",
       "version_major": 2,
       "version_minor": 0
      },
      "text/plain": [
       "  0%|          | 0/300 [00:00<?, ?it/s]"
      ]
     },
     "metadata": {},
     "output_type": "display_data"
    },
    {
     "data": {
      "application/vnd.jupyter.widget-view+json": {
       "model_id": "b56720bd180546658183a9ef1c3add23",
       "version_major": 2,
       "version_minor": 0
      },
      "text/plain": [
       "  0%|          | 0/300 [00:00<?, ?it/s]"
      ]
     },
     "metadata": {},
     "output_type": "display_data"
    },
    {
     "data": {
      "application/vnd.jupyter.widget-view+json": {
       "model_id": "3189758517b04cfb8bdce4a9b538c8e4",
       "version_major": 2,
       "version_minor": 0
      },
      "text/plain": [
       "  0%|          | 0/300 [00:00<?, ?it/s]"
      ]
     },
     "metadata": {},
     "output_type": "display_data"
    },
    {
     "data": {
      "application/vnd.jupyter.widget-view+json": {
       "model_id": "677433f0017649b39ce862e492be12a3",
       "version_major": 2,
       "version_minor": 0
      },
      "text/plain": [
       "  0%|          | 0/300 [00:00<?, ?it/s]"
      ]
     },
     "metadata": {},
     "output_type": "display_data"
    },
    {
     "data": {
      "application/vnd.jupyter.widget-view+json": {
       "model_id": "815d85570a974cf099152ba8ef963db4",
       "version_major": 2,
       "version_minor": 0
      },
      "text/plain": [
       "  0%|          | 0/300 [00:00<?, ?it/s]"
      ]
     },
     "metadata": {},
     "output_type": "display_data"
    },
    {
     "data": {
      "application/vnd.jupyter.widget-view+json": {
       "model_id": "6b6426bc4a3b424f9f8a50cb5ea80590",
       "version_major": 2,
       "version_minor": 0
      },
      "text/plain": [
       "  0%|          | 0/300 [00:00<?, ?it/s]"
      ]
     },
     "metadata": {},
     "output_type": "display_data"
    },
    {
     "data": {
      "application/vnd.jupyter.widget-view+json": {
       "model_id": "1b049646e020407f823189b97544d77a",
       "version_major": 2,
       "version_minor": 0
      },
      "text/plain": [
       "  0%|          | 0/300 [00:00<?, ?it/s]"
      ]
     },
     "metadata": {},
     "output_type": "display_data"
    },
    {
     "data": {
      "application/vnd.jupyter.widget-view+json": {
       "model_id": "540e2ce6801e4517a584d2fe66135a96",
       "version_major": 2,
       "version_minor": 0
      },
      "text/plain": [
       "  0%|          | 0/300 [00:00<?, ?it/s]"
      ]
     },
     "metadata": {},
     "output_type": "display_data"
    },
    {
     "data": {
      "application/vnd.jupyter.widget-view+json": {
       "model_id": "5750d77d816b4372b65610e2ad8b7493",
       "version_major": 2,
       "version_minor": 0
      },
      "text/plain": [
       "  0%|          | 0/300 [00:00<?, ?it/s]"
      ]
     },
     "metadata": {},
     "output_type": "display_data"
    },
    {
     "data": {
      "application/vnd.jupyter.widget-view+json": {
       "model_id": "e060317b75c446b7aaa29668a6c7f83d",
       "version_major": 2,
       "version_minor": 0
      },
      "text/plain": [
       "  0%|          | 0/300 [00:00<?, ?it/s]"
      ]
     },
     "metadata": {},
     "output_type": "display_data"
    },
    {
     "data": {
      "application/vnd.jupyter.widget-view+json": {
       "model_id": "ce76750ebe564701a47014dfa19a38cb",
       "version_major": 2,
       "version_minor": 0
      },
      "text/plain": [
       "  0%|          | 0/300 [00:00<?, ?it/s]"
      ]
     },
     "metadata": {},
     "output_type": "display_data"
    },
    {
     "data": {
      "application/vnd.jupyter.widget-view+json": {
       "model_id": "b14f53b847c74a0ca2114687277e7c3a",
       "version_major": 2,
       "version_minor": 0
      },
      "text/plain": [
       "  0%|          | 0/300 [00:00<?, ?it/s]"
      ]
     },
     "metadata": {},
     "output_type": "display_data"
    },
    {
     "data": {
      "application/vnd.jupyter.widget-view+json": {
       "model_id": "05fd34a8dada4974a5fe0b2843aebfab",
       "version_major": 2,
       "version_minor": 0
      },
      "text/plain": [
       "  0%|          | 0/300 [00:00<?, ?it/s]"
      ]
     },
     "metadata": {},
     "output_type": "display_data"
    },
    {
     "data": {
      "application/vnd.jupyter.widget-view+json": {
       "model_id": "48f795db183e4a148fa28c0053a6f410",
       "version_major": 2,
       "version_minor": 0
      },
      "text/plain": [
       "  0%|          | 0/300 [00:00<?, ?it/s]"
      ]
     },
     "metadata": {},
     "output_type": "display_data"
    },
    {
     "data": {
      "application/vnd.jupyter.widget-view+json": {
       "model_id": "c1638b42fb0b4a52b4921090ad9232c5",
       "version_major": 2,
       "version_minor": 0
      },
      "text/plain": [
       "  0%|          | 0/300 [00:00<?, ?it/s]"
      ]
     },
     "metadata": {},
     "output_type": "display_data"
    },
    {
     "data": {
      "application/vnd.jupyter.widget-view+json": {
       "model_id": "1b2a28056c104faf819d3fc01389d443",
       "version_major": 2,
       "version_minor": 0
      },
      "text/plain": [
       "  0%|          | 0/300 [00:00<?, ?it/s]"
      ]
     },
     "metadata": {},
     "output_type": "display_data"
    },
    {
     "data": {
      "application/vnd.jupyter.widget-view+json": {
       "model_id": "c394c87a81064b3c8538f42dc7d62763",
       "version_major": 2,
       "version_minor": 0
      },
      "text/plain": [
       "  0%|          | 0/300 [00:00<?, ?it/s]"
      ]
     },
     "metadata": {},
     "output_type": "display_data"
    },
    {
     "data": {
      "application/vnd.jupyter.widget-view+json": {
       "model_id": "eb4634d9b28c4f59a42414e6505882db",
       "version_major": 2,
       "version_minor": 0
      },
      "text/plain": [
       "  0%|          | 0/300 [00:00<?, ?it/s]"
      ]
     },
     "metadata": {},
     "output_type": "display_data"
    },
    {
     "data": {
      "application/vnd.jupyter.widget-view+json": {
       "model_id": "dae8045da6714ed38a4d10aebcb1af3b",
       "version_major": 2,
       "version_minor": 0
      },
      "text/plain": [
       "  0%|          | 0/300 [00:00<?, ?it/s]"
      ]
     },
     "metadata": {},
     "output_type": "display_data"
    },
    {
     "data": {
      "application/vnd.jupyter.widget-view+json": {
       "model_id": "a536e38a266049b2a7992037b928e945",
       "version_major": 2,
       "version_minor": 0
      },
      "text/plain": [
       "  0%|          | 0/300 [00:00<?, ?it/s]"
      ]
     },
     "metadata": {},
     "output_type": "display_data"
    },
    {
     "data": {
      "application/vnd.jupyter.widget-view+json": {
       "model_id": "53eca12b55c54dbc8d60627b15f68957",
       "version_major": 2,
       "version_minor": 0
      },
      "text/plain": [
       "  0%|          | 0/300 [00:00<?, ?it/s]"
      ]
     },
     "metadata": {},
     "output_type": "display_data"
    },
    {
     "data": {
      "application/vnd.jupyter.widget-view+json": {
       "model_id": "d9e99332c6e44b36b8c7172c615568bb",
       "version_major": 2,
       "version_minor": 0
      },
      "text/plain": [
       "  0%|          | 0/300 [00:00<?, ?it/s]"
      ]
     },
     "metadata": {},
     "output_type": "display_data"
    },
    {
     "data": {
      "application/vnd.jupyter.widget-view+json": {
       "model_id": "852f281a57c7443aa7f78e7b5adce8cf",
       "version_major": 2,
       "version_minor": 0
      },
      "text/plain": [
       "  0%|          | 0/300 [00:00<?, ?it/s]"
      ]
     },
     "metadata": {},
     "output_type": "display_data"
    },
    {
     "data": {
      "application/vnd.jupyter.widget-view+json": {
       "model_id": "5da895a05cd64d05a1bd72591f507caf",
       "version_major": 2,
       "version_minor": 0
      },
      "text/plain": [
       "  0%|          | 0/300 [00:00<?, ?it/s]"
      ]
     },
     "metadata": {},
     "output_type": "display_data"
    },
    {
     "data": {
      "application/vnd.jupyter.widget-view+json": {
       "model_id": "b8d1a84023094e9d852e9662b477aa80",
       "version_major": 2,
       "version_minor": 0
      },
      "text/plain": [
       "  0%|          | 0/300 [00:00<?, ?it/s]"
      ]
     },
     "metadata": {},
     "output_type": "display_data"
    },
    {
     "data": {
      "application/vnd.jupyter.widget-view+json": {
       "model_id": "31a7be134da94794b3c642066e294a5a",
       "version_major": 2,
       "version_minor": 0
      },
      "text/plain": [
       "  0%|          | 0/300 [00:00<?, ?it/s]"
      ]
     },
     "metadata": {},
     "output_type": "display_data"
    },
    {
     "data": {
      "application/vnd.jupyter.widget-view+json": {
       "model_id": "4bcba848b9f749f8b073cecb7b25d28c",
       "version_major": 2,
       "version_minor": 0
      },
      "text/plain": [
       "  0%|          | 0/300 [00:00<?, ?it/s]"
      ]
     },
     "metadata": {},
     "output_type": "display_data"
    },
    {
     "data": {
      "application/vnd.jupyter.widget-view+json": {
       "model_id": "edeceaad559644f1a504e83b59a6d65b",
       "version_major": 2,
       "version_minor": 0
      },
      "text/plain": [
       "  0%|          | 0/300 [00:00<?, ?it/s]"
      ]
     },
     "metadata": {},
     "output_type": "display_data"
    },
    {
     "data": {
      "application/vnd.jupyter.widget-view+json": {
       "model_id": "8a88171ebf5d4ed2a88bc0b034762534",
       "version_major": 2,
       "version_minor": 0
      },
      "text/plain": [
       "  0%|          | 0/300 [00:00<?, ?it/s]"
      ]
     },
     "metadata": {},
     "output_type": "display_data"
    },
    {
     "data": {
      "application/vnd.jupyter.widget-view+json": {
       "model_id": "b33924a9c2364b52bbd9aea63d6e0ce3",
       "version_major": 2,
       "version_minor": 0
      },
      "text/plain": [
       "  0%|          | 0/300 [00:00<?, ?it/s]"
      ]
     },
     "metadata": {},
     "output_type": "display_data"
    },
    {
     "data": {
      "application/vnd.jupyter.widget-view+json": {
       "model_id": "a2246a0692ea432881ccd060b1fe627d",
       "version_major": 2,
       "version_minor": 0
      },
      "text/plain": [
       "  0%|          | 0/300 [00:00<?, ?it/s]"
      ]
     },
     "metadata": {},
     "output_type": "display_data"
    },
    {
     "data": {
      "application/vnd.jupyter.widget-view+json": {
       "model_id": "6c4f3c1525ae4ed682d482f034a3c816",
       "version_major": 2,
       "version_minor": 0
      },
      "text/plain": [
       "  0%|          | 0/300 [00:00<?, ?it/s]"
      ]
     },
     "metadata": {},
     "output_type": "display_data"
    },
    {
     "data": {
      "application/vnd.jupyter.widget-view+json": {
       "model_id": "e95eeaccd6df49d48b24b201d9799882",
       "version_major": 2,
       "version_minor": 0
      },
      "text/plain": [
       "  0%|          | 0/300 [00:00<?, ?it/s]"
      ]
     },
     "metadata": {},
     "output_type": "display_data"
    },
    {
     "data": {
      "application/vnd.jupyter.widget-view+json": {
       "model_id": "4130c4a95f4a473fa6010e4579513578",
       "version_major": 2,
       "version_minor": 0
      },
      "text/plain": [
       "  0%|          | 0/300 [00:00<?, ?it/s]"
      ]
     },
     "metadata": {},
     "output_type": "display_data"
    },
    {
     "data": {
      "application/vnd.jupyter.widget-view+json": {
       "model_id": "cef39acaa53e4d0fbf50ddc99bfc4029",
       "version_major": 2,
       "version_minor": 0
      },
      "text/plain": [
       "  0%|          | 0/300 [00:00<?, ?it/s]"
      ]
     },
     "metadata": {},
     "output_type": "display_data"
    },
    {
     "data": {
      "application/vnd.jupyter.widget-view+json": {
       "model_id": "5145ba49ed1b4cb0a6db7530e5740efb",
       "version_major": 2,
       "version_minor": 0
      },
      "text/plain": [
       "  0%|          | 0/300 [00:00<?, ?it/s]"
      ]
     },
     "metadata": {},
     "output_type": "display_data"
    },
    {
     "data": {
      "application/vnd.jupyter.widget-view+json": {
       "model_id": "2f0357d6abe3498c981e35c803909d61",
       "version_major": 2,
       "version_minor": 0
      },
      "text/plain": [
       "  0%|          | 0/300 [00:00<?, ?it/s]"
      ]
     },
     "metadata": {},
     "output_type": "display_data"
    },
    {
     "data": {
      "application/vnd.jupyter.widget-view+json": {
       "model_id": "f127cd85b241413795e065cacb800b6b",
       "version_major": 2,
       "version_minor": 0
      },
      "text/plain": [
       "  0%|          | 0/300 [00:00<?, ?it/s]"
      ]
     },
     "metadata": {},
     "output_type": "display_data"
    },
    {
     "data": {
      "application/vnd.jupyter.widget-view+json": {
       "model_id": "10e38c85b71d4ddfba611902c373fd81",
       "version_major": 2,
       "version_minor": 0
      },
      "text/plain": [
       "  0%|          | 0/300 [00:00<?, ?it/s]"
      ]
     },
     "metadata": {},
     "output_type": "display_data"
    },
    {
     "data": {
      "application/vnd.jupyter.widget-view+json": {
       "model_id": "d298a48a1a0744ee83dea827bfd66e7b",
       "version_major": 2,
       "version_minor": 0
      },
      "text/plain": [
       "  0%|          | 0/300 [00:00<?, ?it/s]"
      ]
     },
     "metadata": {},
     "output_type": "display_data"
    },
    {
     "data": {
      "application/vnd.jupyter.widget-view+json": {
       "model_id": "6ae5d53be8294c5bac330ca09b715a9c",
       "version_major": 2,
       "version_minor": 0
      },
      "text/plain": [
       "  0%|          | 0/300 [00:00<?, ?it/s]"
      ]
     },
     "metadata": {},
     "output_type": "display_data"
    },
    {
     "data": {
      "application/vnd.jupyter.widget-view+json": {
       "model_id": "ca73ab047c3e40a7be859827edd0abae",
       "version_major": 2,
       "version_minor": 0
      },
      "text/plain": [
       "  0%|          | 0/300 [00:00<?, ?it/s]"
      ]
     },
     "metadata": {},
     "output_type": "display_data"
    },
    {
     "data": {
      "application/vnd.jupyter.widget-view+json": {
       "model_id": "0d7d964db83b4ae1b796a6c570d4e606",
       "version_major": 2,
       "version_minor": 0
      },
      "text/plain": [
       "  0%|          | 0/300 [00:00<?, ?it/s]"
      ]
     },
     "metadata": {},
     "output_type": "display_data"
    },
    {
     "data": {
      "application/vnd.jupyter.widget-view+json": {
       "model_id": "6007d2039113493b93c1d44565b31ec2",
       "version_major": 2,
       "version_minor": 0
      },
      "text/plain": [
       "  0%|          | 0/300 [00:00<?, ?it/s]"
      ]
     },
     "metadata": {},
     "output_type": "display_data"
    },
    {
     "data": {
      "application/vnd.jupyter.widget-view+json": {
       "model_id": "3af4c465e5954e2c94c5903efdd63d50",
       "version_major": 2,
       "version_minor": 0
      },
      "text/plain": [
       "  0%|          | 0/300 [00:00<?, ?it/s]"
      ]
     },
     "metadata": {},
     "output_type": "display_data"
    },
    {
     "data": {
      "application/vnd.jupyter.widget-view+json": {
       "model_id": "e2900a9176cd46eda0ee1e51257f1fd8",
       "version_major": 2,
       "version_minor": 0
      },
      "text/plain": [
       "  0%|          | 0/300 [00:00<?, ?it/s]"
      ]
     },
     "metadata": {},
     "output_type": "display_data"
    },
    {
     "data": {
      "application/vnd.jupyter.widget-view+json": {
       "model_id": "145b56886cb445da9b204ad6bba14f03",
       "version_major": 2,
       "version_minor": 0
      },
      "text/plain": [
       "  0%|          | 0/300 [00:00<?, ?it/s]"
      ]
     },
     "metadata": {},
     "output_type": "display_data"
    },
    {
     "data": {
      "application/vnd.jupyter.widget-view+json": {
       "model_id": "505bcc7c7f99488d8ad3538274730c90",
       "version_major": 2,
       "version_minor": 0
      },
      "text/plain": [
       "  0%|          | 0/300 [00:00<?, ?it/s]"
      ]
     },
     "metadata": {},
     "output_type": "display_data"
    },
    {
     "data": {
      "application/vnd.jupyter.widget-view+json": {
       "model_id": "59256cc68c034592b74a7d759bd29ff3",
       "version_major": 2,
       "version_minor": 0
      },
      "text/plain": [
       "  0%|          | 0/300 [00:00<?, ?it/s]"
      ]
     },
     "metadata": {},
     "output_type": "display_data"
    },
    {
     "data": {
      "application/vnd.jupyter.widget-view+json": {
       "model_id": "f76f9d3f08474727b2f4b02468a1644c",
       "version_major": 2,
       "version_minor": 0
      },
      "text/plain": [
       "  0%|          | 0/300 [00:00<?, ?it/s]"
      ]
     },
     "metadata": {},
     "output_type": "display_data"
    },
    {
     "data": {
      "application/vnd.jupyter.widget-view+json": {
       "model_id": "a54212ba86c24acab93baadd60f4bd5b",
       "version_major": 2,
       "version_minor": 0
      },
      "text/plain": [
       "  0%|          | 0/300 [00:00<?, ?it/s]"
      ]
     },
     "metadata": {},
     "output_type": "display_data"
    },
    {
     "data": {
      "application/vnd.jupyter.widget-view+json": {
       "model_id": "306a5d8ff5b946a8acb8c42c04c6ba19",
       "version_major": 2,
       "version_minor": 0
      },
      "text/plain": [
       "  0%|          | 0/300 [00:00<?, ?it/s]"
      ]
     },
     "metadata": {},
     "output_type": "display_data"
    },
    {
     "data": {
      "application/vnd.jupyter.widget-view+json": {
       "model_id": "11bc72659d2748e1a076bc4cab3bee57",
       "version_major": 2,
       "version_minor": 0
      },
      "text/plain": [
       "  0%|          | 0/300 [00:00<?, ?it/s]"
      ]
     },
     "metadata": {},
     "output_type": "display_data"
    },
    {
     "data": {
      "application/vnd.jupyter.widget-view+json": {
       "model_id": "e711985546624fc1a5e8a62d7d27cef6",
       "version_major": 2,
       "version_minor": 0
      },
      "text/plain": [
       "  0%|          | 0/300 [00:00<?, ?it/s]"
      ]
     },
     "metadata": {},
     "output_type": "display_data"
    },
    {
     "data": {
      "application/vnd.jupyter.widget-view+json": {
       "model_id": "e7e07d5dfed741c4b15e35b911c6d255",
       "version_major": 2,
       "version_minor": 0
      },
      "text/plain": [
       "  0%|          | 0/300 [00:00<?, ?it/s]"
      ]
     },
     "metadata": {},
     "output_type": "display_data"
    },
    {
     "data": {
      "application/vnd.jupyter.widget-view+json": {
       "model_id": "1d0c36f4bdd44d8b9f22804d80de4225",
       "version_major": 2,
       "version_minor": 0
      },
      "text/plain": [
       "  0%|          | 0/300 [00:00<?, ?it/s]"
      ]
     },
     "metadata": {},
     "output_type": "display_data"
    },
    {
     "data": {
      "application/vnd.jupyter.widget-view+json": {
       "model_id": "1401cfd5b8cf487e9539ee8063bd2e6a",
       "version_major": 2,
       "version_minor": 0
      },
      "text/plain": [
       "  0%|          | 0/300 [00:00<?, ?it/s]"
      ]
     },
     "metadata": {},
     "output_type": "display_data"
    },
    {
     "data": {
      "application/vnd.jupyter.widget-view+json": {
       "model_id": "ca6a4036e7504431a4a143b58d3a2d81",
       "version_major": 2,
       "version_minor": 0
      },
      "text/plain": [
       "  0%|          | 0/300 [00:00<?, ?it/s]"
      ]
     },
     "metadata": {},
     "output_type": "display_data"
    },
    {
     "data": {
      "application/vnd.jupyter.widget-view+json": {
       "model_id": "b06df2d9cd4a47b0b0a700993a1d8ebf",
       "version_major": 2,
       "version_minor": 0
      },
      "text/plain": [
       "  0%|          | 0/300 [00:00<?, ?it/s]"
      ]
     },
     "metadata": {},
     "output_type": "display_data"
    },
    {
     "data": {
      "application/vnd.jupyter.widget-view+json": {
       "model_id": "bfc45306f0394c0f8eaf7bead04c6937",
       "version_major": 2,
       "version_minor": 0
      },
      "text/plain": [
       "  0%|          | 0/300 [00:00<?, ?it/s]"
      ]
     },
     "metadata": {},
     "output_type": "display_data"
    },
    {
     "data": {
      "application/vnd.jupyter.widget-view+json": {
       "model_id": "f21414557a0c430b8c231ef79c3a083d",
       "version_major": 2,
       "version_minor": 0
      },
      "text/plain": [
       "  0%|          | 0/300 [00:00<?, ?it/s]"
      ]
     },
     "metadata": {},
     "output_type": "display_data"
    },
    {
     "data": {
      "application/vnd.jupyter.widget-view+json": {
       "model_id": "2897ae80a7d7415a91f4dfe6aa8b31fb",
       "version_major": 2,
       "version_minor": 0
      },
      "text/plain": [
       "  0%|          | 0/300 [00:00<?, ?it/s]"
      ]
     },
     "metadata": {},
     "output_type": "display_data"
    },
    {
     "data": {
      "application/vnd.jupyter.widget-view+json": {
       "model_id": "2b6a56d867ec46369a23e75485b9beec",
       "version_major": 2,
       "version_minor": 0
      },
      "text/plain": [
       "  0%|          | 0/300 [00:00<?, ?it/s]"
      ]
     },
     "metadata": {},
     "output_type": "display_data"
    },
    {
     "data": {
      "application/vnd.jupyter.widget-view+json": {
       "model_id": "01776b182f404289b8a22cd80c5825b9",
       "version_major": 2,
       "version_minor": 0
      },
      "text/plain": [
       "  0%|          | 0/300 [00:00<?, ?it/s]"
      ]
     },
     "metadata": {},
     "output_type": "display_data"
    },
    {
     "data": {
      "application/vnd.jupyter.widget-view+json": {
       "model_id": "06c3a10d76154e8e82038c5049769215",
       "version_major": 2,
       "version_minor": 0
      },
      "text/plain": [
       "  0%|          | 0/300 [00:00<?, ?it/s]"
      ]
     },
     "metadata": {},
     "output_type": "display_data"
    },
    {
     "data": {
      "application/vnd.jupyter.widget-view+json": {
       "model_id": "0adc23e33e5b4fc38896ec2b1f9bfe48",
       "version_major": 2,
       "version_minor": 0
      },
      "text/plain": [
       "  0%|          | 0/300 [00:00<?, ?it/s]"
      ]
     },
     "metadata": {},
     "output_type": "display_data"
    },
    {
     "data": {
      "application/vnd.jupyter.widget-view+json": {
       "model_id": "6d84090cbbf745cb832928333ecd6ebe",
       "version_major": 2,
       "version_minor": 0
      },
      "text/plain": [
       "  0%|          | 0/300 [00:00<?, ?it/s]"
      ]
     },
     "metadata": {},
     "output_type": "display_data"
    },
    {
     "data": {
      "application/vnd.jupyter.widget-view+json": {
       "model_id": "ab80d00f4c9c4b759ff5939886f027c0",
       "version_major": 2,
       "version_minor": 0
      },
      "text/plain": [
       "  0%|          | 0/300 [00:00<?, ?it/s]"
      ]
     },
     "metadata": {},
     "output_type": "display_data"
    },
    {
     "data": {
      "application/vnd.jupyter.widget-view+json": {
       "model_id": "af213f1515df43aab49e5b3e4ca6dc8c",
       "version_major": 2,
       "version_minor": 0
      },
      "text/plain": [
       "  0%|          | 0/300 [00:00<?, ?it/s]"
      ]
     },
     "metadata": {},
     "output_type": "display_data"
    },
    {
     "data": {
      "application/vnd.jupyter.widget-view+json": {
       "model_id": "2027b30d88474087a4f5fc7844a1d6b7",
       "version_major": 2,
       "version_minor": 0
      },
      "text/plain": [
       "  0%|          | 0/300 [00:00<?, ?it/s]"
      ]
     },
     "metadata": {},
     "output_type": "display_data"
    },
    {
     "data": {
      "application/vnd.jupyter.widget-view+json": {
       "model_id": "93a8fa9bfe194251baba622d7b8b19ee",
       "version_major": 2,
       "version_minor": 0
      },
      "text/plain": [
       "  0%|          | 0/300 [00:00<?, ?it/s]"
      ]
     },
     "metadata": {},
     "output_type": "display_data"
    },
    {
     "data": {
      "application/vnd.jupyter.widget-view+json": {
       "model_id": "db6b5591a55c42bc82aab3bf35e7d1b3",
       "version_major": 2,
       "version_minor": 0
      },
      "text/plain": [
       "  0%|          | 0/300 [00:00<?, ?it/s]"
      ]
     },
     "metadata": {},
     "output_type": "display_data"
    },
    {
     "data": {
      "application/vnd.jupyter.widget-view+json": {
       "model_id": "c93c5aaa0c254788b5ce45655953bce5",
       "version_major": 2,
       "version_minor": 0
      },
      "text/plain": [
       "  0%|          | 0/300 [00:00<?, ?it/s]"
      ]
     },
     "metadata": {},
     "output_type": "display_data"
    },
    {
     "data": {
      "application/vnd.jupyter.widget-view+json": {
       "model_id": "f7ccf771bfbe4cc1831f88f64b7d3851",
       "version_major": 2,
       "version_minor": 0
      },
      "text/plain": [
       "  0%|          | 0/300 [00:00<?, ?it/s]"
      ]
     },
     "metadata": {},
     "output_type": "display_data"
    },
    {
     "data": {
      "application/vnd.jupyter.widget-view+json": {
       "model_id": "d696c9f210e54f8292cdb9dd108e6fd0",
       "version_major": 2,
       "version_minor": 0
      },
      "text/plain": [
       "  0%|          | 0/300 [00:00<?, ?it/s]"
      ]
     },
     "metadata": {},
     "output_type": "display_data"
    },
    {
     "data": {
      "application/vnd.jupyter.widget-view+json": {
       "model_id": "eb3aa6c4e9c24fcdaba29bb849cd02c2",
       "version_major": 2,
       "version_minor": 0
      },
      "text/plain": [
       "  0%|          | 0/300 [00:00<?, ?it/s]"
      ]
     },
     "metadata": {},
     "output_type": "display_data"
    },
    {
     "data": {
      "application/vnd.jupyter.widget-view+json": {
       "model_id": "911a9e4d0ff04c0cbc5d60d7e0abdf2d",
       "version_major": 2,
       "version_minor": 0
      },
      "text/plain": [
       "  0%|          | 0/300 [00:00<?, ?it/s]"
      ]
     },
     "metadata": {},
     "output_type": "display_data"
    },
    {
     "data": {
      "application/vnd.jupyter.widget-view+json": {
       "model_id": "dc41d366c0f34574aef659ecd02b3095",
       "version_major": 2,
       "version_minor": 0
      },
      "text/plain": [
       "  0%|          | 0/300 [00:00<?, ?it/s]"
      ]
     },
     "metadata": {},
     "output_type": "display_data"
    },
    {
     "data": {
      "application/vnd.jupyter.widget-view+json": {
       "model_id": "9d16bc2b7db14563839a243adf367f9b",
       "version_major": 2,
       "version_minor": 0
      },
      "text/plain": [
       "  0%|          | 0/300 [00:00<?, ?it/s]"
      ]
     },
     "metadata": {},
     "output_type": "display_data"
    },
    {
     "data": {
      "application/vnd.jupyter.widget-view+json": {
       "model_id": "9a8f9272126045cb823b536ab02020ed",
       "version_major": 2,
       "version_minor": 0
      },
      "text/plain": [
       "  0%|          | 0/300 [00:00<?, ?it/s]"
      ]
     },
     "metadata": {},
     "output_type": "display_data"
    },
    {
     "data": {
      "application/vnd.jupyter.widget-view+json": {
       "model_id": "fe4b192a67e543b09f5002264ca89485",
       "version_major": 2,
       "version_minor": 0
      },
      "text/plain": [
       "  0%|          | 0/300 [00:00<?, ?it/s]"
      ]
     },
     "metadata": {},
     "output_type": "display_data"
    },
    {
     "data": {
      "application/vnd.jupyter.widget-view+json": {
       "model_id": "477943713cb049db92d46a1171497886",
       "version_major": 2,
       "version_minor": 0
      },
      "text/plain": [
       "  0%|          | 0/300 [00:00<?, ?it/s]"
      ]
     },
     "metadata": {},
     "output_type": "display_data"
    },
    {
     "data": {
      "application/vnd.jupyter.widget-view+json": {
       "model_id": "55739ed3f01644fc80a39d9779993d0b",
       "version_major": 2,
       "version_minor": 0
      },
      "text/plain": [
       "  0%|          | 0/300 [00:00<?, ?it/s]"
      ]
     },
     "metadata": {},
     "output_type": "display_data"
    },
    {
     "data": {
      "application/vnd.jupyter.widget-view+json": {
       "model_id": "9ea711af002644e1b1b859f9812cecd9",
       "version_major": 2,
       "version_minor": 0
      },
      "text/plain": [
       "  0%|          | 0/300 [00:00<?, ?it/s]"
      ]
     },
     "metadata": {},
     "output_type": "display_data"
    },
    {
     "data": {
      "application/vnd.jupyter.widget-view+json": {
       "model_id": "6eb70194037e40a1ba146825e8aa2bbd",
       "version_major": 2,
       "version_minor": 0
      },
      "text/plain": [
       "  0%|          | 0/300 [00:00<?, ?it/s]"
      ]
     },
     "metadata": {},
     "output_type": "display_data"
    },
    {
     "data": {
      "application/vnd.jupyter.widget-view+json": {
       "model_id": "398298357bdc4945b1bc3fe963633509",
       "version_major": 2,
       "version_minor": 0
      },
      "text/plain": [
       "  0%|          | 0/300 [00:00<?, ?it/s]"
      ]
     },
     "metadata": {},
     "output_type": "display_data"
    },
    {
     "data": {
      "application/vnd.jupyter.widget-view+json": {
       "model_id": "9080823a887c4172bee505f86d46383f",
       "version_major": 2,
       "version_minor": 0
      },
      "text/plain": [
       "  0%|          | 0/300 [00:00<?, ?it/s]"
      ]
     },
     "metadata": {},
     "output_type": "display_data"
    },
    {
     "data": {
      "application/vnd.jupyter.widget-view+json": {
       "model_id": "6a44f27cfc5546ef93e1d659ec799d95",
       "version_major": 2,
       "version_minor": 0
      },
      "text/plain": [
       "  0%|          | 0/300 [00:00<?, ?it/s]"
      ]
     },
     "metadata": {},
     "output_type": "display_data"
    },
    {
     "data": {
      "application/vnd.jupyter.widget-view+json": {
       "model_id": "40b9b0cccde44a1ea7841af0b233a07f",
       "version_major": 2,
       "version_minor": 0
      },
      "text/plain": [
       "  0%|          | 0/300 [00:00<?, ?it/s]"
      ]
     },
     "metadata": {},
     "output_type": "display_data"
    },
    {
     "data": {
      "application/vnd.jupyter.widget-view+json": {
       "model_id": "d4a3eeeaf2124b52b0fb2299baade0c2",
       "version_major": 2,
       "version_minor": 0
      },
      "text/plain": [
       "  0%|          | 0/300 [00:00<?, ?it/s]"
      ]
     },
     "metadata": {},
     "output_type": "display_data"
    },
    {
     "data": {
      "application/vnd.jupyter.widget-view+json": {
       "model_id": "6f3c65bc33cd4809981e419223137464",
       "version_major": 2,
       "version_minor": 0
      },
      "text/plain": [
       "  0%|          | 0/300 [00:00<?, ?it/s]"
      ]
     },
     "metadata": {},
     "output_type": "display_data"
    },
    {
     "data": {
      "application/vnd.jupyter.widget-view+json": {
       "model_id": "2db03957f1b245eeb38ac9a6ae680f5a",
       "version_major": 2,
       "version_minor": 0
      },
      "text/plain": [
       "  0%|          | 0/300 [00:00<?, ?it/s]"
      ]
     },
     "metadata": {},
     "output_type": "display_data"
    },
    {
     "data": {
      "application/vnd.jupyter.widget-view+json": {
       "model_id": "a898542c4bd64a72a4d7a3364e7fa64b",
       "version_major": 2,
       "version_minor": 0
      },
      "text/plain": [
       "  0%|          | 0/300 [00:00<?, ?it/s]"
      ]
     },
     "metadata": {},
     "output_type": "display_data"
    },
    {
     "data": {
      "application/vnd.jupyter.widget-view+json": {
       "model_id": "15f09508be604d7bb6c392178124e74a",
       "version_major": 2,
       "version_minor": 0
      },
      "text/plain": [
       "  0%|          | 0/300 [00:00<?, ?it/s]"
      ]
     },
     "metadata": {},
     "output_type": "display_data"
    },
    {
     "data": {
      "application/vnd.jupyter.widget-view+json": {
       "model_id": "f38d78e75de448caaef701f9bba8422d",
       "version_major": 2,
       "version_minor": 0
      },
      "text/plain": [
       "  0%|          | 0/300 [00:00<?, ?it/s]"
      ]
     },
     "metadata": {},
     "output_type": "display_data"
    },
    {
     "data": {
      "application/vnd.jupyter.widget-view+json": {
       "model_id": "1422f1338a384961b7e5fe56b7c01670",
       "version_major": 2,
       "version_minor": 0
      },
      "text/plain": [
       "  0%|          | 0/300 [00:00<?, ?it/s]"
      ]
     },
     "metadata": {},
     "output_type": "display_data"
    },
    {
     "data": {
      "application/vnd.jupyter.widget-view+json": {
       "model_id": "d6f2f6d426a24546bc30c55c3cea9f3f",
       "version_major": 2,
       "version_minor": 0
      },
      "text/plain": [
       "  0%|          | 0/300 [00:00<?, ?it/s]"
      ]
     },
     "metadata": {},
     "output_type": "display_data"
    },
    {
     "data": {
      "application/vnd.jupyter.widget-view+json": {
       "model_id": "aac64284945542259eb396628292be9b",
       "version_major": 2,
       "version_minor": 0
      },
      "text/plain": [
       "  0%|          | 0/300 [00:00<?, ?it/s]"
      ]
     },
     "metadata": {},
     "output_type": "display_data"
    },
    {
     "data": {
      "application/vnd.jupyter.widget-view+json": {
       "model_id": "eb51b21b57b34ce582d66012347dd959",
       "version_major": 2,
       "version_minor": 0
      },
      "text/plain": [
       "  0%|          | 0/300 [00:00<?, ?it/s]"
      ]
     },
     "metadata": {},
     "output_type": "display_data"
    },
    {
     "data": {
      "application/vnd.jupyter.widget-view+json": {
       "model_id": "0839ba982d8941f2b307464fc60a8e40",
       "version_major": 2,
       "version_minor": 0
      },
      "text/plain": [
       "  0%|          | 0/300 [00:00<?, ?it/s]"
      ]
     },
     "metadata": {},
     "output_type": "display_data"
    },
    {
     "data": {
      "application/vnd.jupyter.widget-view+json": {
       "model_id": "3862e5c6293440daaf63de9065263331",
       "version_major": 2,
       "version_minor": 0
      },
      "text/plain": [
       "  0%|          | 0/300 [00:00<?, ?it/s]"
      ]
     },
     "metadata": {},
     "output_type": "display_data"
    },
    {
     "data": {
      "application/vnd.jupyter.widget-view+json": {
       "model_id": "db03a3b701954f598945a90632079334",
       "version_major": 2,
       "version_minor": 0
      },
      "text/plain": [
       "  0%|          | 0/300 [00:00<?, ?it/s]"
      ]
     },
     "metadata": {},
     "output_type": "display_data"
    },
    {
     "data": {
      "application/vnd.jupyter.widget-view+json": {
       "model_id": "b1ba9b622c3c4d48bb8636a3d3ff3788",
       "version_major": 2,
       "version_minor": 0
      },
      "text/plain": [
       "  0%|          | 0/300 [00:00<?, ?it/s]"
      ]
     },
     "metadata": {},
     "output_type": "display_data"
    },
    {
     "data": {
      "application/vnd.jupyter.widget-view+json": {
       "model_id": "0e4d2f4062e746c9b66990b7e2f4c446",
       "version_major": 2,
       "version_minor": 0
      },
      "text/plain": [
       "  0%|          | 0/300 [00:00<?, ?it/s]"
      ]
     },
     "metadata": {},
     "output_type": "display_data"
    },
    {
     "data": {
      "application/vnd.jupyter.widget-view+json": {
       "model_id": "627e45b0cbc0480fa0ab35d77596defa",
       "version_major": 2,
       "version_minor": 0
      },
      "text/plain": [
       "  0%|          | 0/300 [00:00<?, ?it/s]"
      ]
     },
     "metadata": {},
     "output_type": "display_data"
    },
    {
     "data": {
      "application/vnd.jupyter.widget-view+json": {
       "model_id": "cfa290eb30904ec69a0a24e8cf3386aa",
       "version_major": 2,
       "version_minor": 0
      },
      "text/plain": [
       "  0%|          | 0/300 [00:00<?, ?it/s]"
      ]
     },
     "metadata": {},
     "output_type": "display_data"
    },
    {
     "data": {
      "application/vnd.jupyter.widget-view+json": {
       "model_id": "f99d00fe47c2475d8001c77a6f057e58",
       "version_major": 2,
       "version_minor": 0
      },
      "text/plain": [
       "  0%|          | 0/300 [00:00<?, ?it/s]"
      ]
     },
     "metadata": {},
     "output_type": "display_data"
    },
    {
     "data": {
      "application/vnd.jupyter.widget-view+json": {
       "model_id": "9fa70690d26242eeb5c4d951d390f0b3",
       "version_major": 2,
       "version_minor": 0
      },
      "text/plain": [
       "  0%|          | 0/300 [00:00<?, ?it/s]"
      ]
     },
     "metadata": {},
     "output_type": "display_data"
    },
    {
     "data": {
      "application/vnd.jupyter.widget-view+json": {
       "model_id": "cfde362faa6a42bbac0b7b7b96724071",
       "version_major": 2,
       "version_minor": 0
      },
      "text/plain": [
       "  0%|          | 0/300 [00:00<?, ?it/s]"
      ]
     },
     "metadata": {},
     "output_type": "display_data"
    },
    {
     "data": {
      "application/vnd.jupyter.widget-view+json": {
       "model_id": "9fc18f5b1ffd4b01ba0401e3d53f1496",
       "version_major": 2,
       "version_minor": 0
      },
      "text/plain": [
       "  0%|          | 0/300 [00:00<?, ?it/s]"
      ]
     },
     "metadata": {},
     "output_type": "display_data"
    },
    {
     "data": {
      "application/vnd.jupyter.widget-view+json": {
       "model_id": "456d38d6ea3040d68c290ad43c87a611",
       "version_major": 2,
       "version_minor": 0
      },
      "text/plain": [
       "  0%|          | 0/300 [00:00<?, ?it/s]"
      ]
     },
     "metadata": {},
     "output_type": "display_data"
    },
    {
     "data": {
      "application/vnd.jupyter.widget-view+json": {
       "model_id": "065227d2ce574f4991f732b7a42ac993",
       "version_major": 2,
       "version_minor": 0
      },
      "text/plain": [
       "  0%|          | 0/300 [00:00<?, ?it/s]"
      ]
     },
     "metadata": {},
     "output_type": "display_data"
    },
    {
     "data": {
      "application/vnd.jupyter.widget-view+json": {
       "model_id": "52ce2c48f49644d6b7ab4ff39acea368",
       "version_major": 2,
       "version_minor": 0
      },
      "text/plain": [
       "  0%|          | 0/300 [00:00<?, ?it/s]"
      ]
     },
     "metadata": {},
     "output_type": "display_data"
    },
    {
     "data": {
      "application/vnd.jupyter.widget-view+json": {
       "model_id": "63e6e5e33b1a47e6b27ec7584be45811",
       "version_major": 2,
       "version_minor": 0
      },
      "text/plain": [
       "  0%|          | 0/300 [00:00<?, ?it/s]"
      ]
     },
     "metadata": {},
     "output_type": "display_data"
    },
    {
     "data": {
      "application/vnd.jupyter.widget-view+json": {
       "model_id": "760e5312407144e1ad827e8465841782",
       "version_major": 2,
       "version_minor": 0
      },
      "text/plain": [
       "  0%|          | 0/300 [00:00<?, ?it/s]"
      ]
     },
     "metadata": {},
     "output_type": "display_data"
    },
    {
     "data": {
      "application/vnd.jupyter.widget-view+json": {
       "model_id": "f0ac22f51d4749ad96d66655181a94ef",
       "version_major": 2,
       "version_minor": 0
      },
      "text/plain": [
       "  0%|          | 0/300 [00:00<?, ?it/s]"
      ]
     },
     "metadata": {},
     "output_type": "display_data"
    },
    {
     "data": {
      "application/vnd.jupyter.widget-view+json": {
       "model_id": "c0a30493ac594bb89e12a6d71b8bb5e6",
       "version_major": 2,
       "version_minor": 0
      },
      "text/plain": [
       "  0%|          | 0/300 [00:00<?, ?it/s]"
      ]
     },
     "metadata": {},
     "output_type": "display_data"
    },
    {
     "data": {
      "application/vnd.jupyter.widget-view+json": {
       "model_id": "4ffbfdea9f1946aaa775a18960beb895",
       "version_major": 2,
       "version_minor": 0
      },
      "text/plain": [
       "  0%|          | 0/300 [00:00<?, ?it/s]"
      ]
     },
     "metadata": {},
     "output_type": "display_data"
    },
    {
     "data": {
      "application/vnd.jupyter.widget-view+json": {
       "model_id": "4fd99eda231149299e1824c5bf22cf2a",
       "version_major": 2,
       "version_minor": 0
      },
      "text/plain": [
       "  0%|          | 0/300 [00:00<?, ?it/s]"
      ]
     },
     "metadata": {},
     "output_type": "display_data"
    },
    {
     "data": {
      "application/vnd.jupyter.widget-view+json": {
       "model_id": "28eff1bdaee840f0ab291c16715cc1c0",
       "version_major": 2,
       "version_minor": 0
      },
      "text/plain": [
       "  0%|          | 0/300 [00:00<?, ?it/s]"
      ]
     },
     "metadata": {},
     "output_type": "display_data"
    },
    {
     "data": {
      "application/vnd.jupyter.widget-view+json": {
       "model_id": "14af452275cf4d85a87ac130864237eb",
       "version_major": 2,
       "version_minor": 0
      },
      "text/plain": [
       "  0%|          | 0/300 [00:00<?, ?it/s]"
      ]
     },
     "metadata": {},
     "output_type": "display_data"
    },
    {
     "data": {
      "application/vnd.jupyter.widget-view+json": {
       "model_id": "a86b5a53c5ec4e1cbc94d7a117813cb7",
       "version_major": 2,
       "version_minor": 0
      },
      "text/plain": [
       "  0%|          | 0/300 [00:00<?, ?it/s]"
      ]
     },
     "metadata": {},
     "output_type": "display_data"
    },
    {
     "data": {
      "application/vnd.jupyter.widget-view+json": {
       "model_id": "34afc029eedb4922a26a85d0f65ab4c5",
       "version_major": 2,
       "version_minor": 0
      },
      "text/plain": [
       "  0%|          | 0/300 [00:00<?, ?it/s]"
      ]
     },
     "metadata": {},
     "output_type": "display_data"
    },
    {
     "data": {
      "application/vnd.jupyter.widget-view+json": {
       "model_id": "17f508e237a7411c9aac9b5f98e3c7bd",
       "version_major": 2,
       "version_minor": 0
      },
      "text/plain": [
       "  0%|          | 0/300 [00:00<?, ?it/s]"
      ]
     },
     "metadata": {},
     "output_type": "display_data"
    },
    {
     "data": {
      "application/vnd.jupyter.widget-view+json": {
       "model_id": "82c27eccc4b4445b90eb477104ec57f2",
       "version_major": 2,
       "version_minor": 0
      },
      "text/plain": [
       "  0%|          | 0/300 [00:00<?, ?it/s]"
      ]
     },
     "metadata": {},
     "output_type": "display_data"
    },
    {
     "data": {
      "application/vnd.jupyter.widget-view+json": {
       "model_id": "a64348e7e5f3436bbfa0e3d684570286",
       "version_major": 2,
       "version_minor": 0
      },
      "text/plain": [
       "  0%|          | 0/300 [00:00<?, ?it/s]"
      ]
     },
     "metadata": {},
     "output_type": "display_data"
    },
    {
     "data": {
      "application/vnd.jupyter.widget-view+json": {
       "model_id": "796ae3832e024d19a8dae35585038034",
       "version_major": 2,
       "version_minor": 0
      },
      "text/plain": [
       "  0%|          | 0/300 [00:00<?, ?it/s]"
      ]
     },
     "metadata": {},
     "output_type": "display_data"
    },
    {
     "data": {
      "application/vnd.jupyter.widget-view+json": {
       "model_id": "dca89b94f15b40f48c4a783eca4ee976",
       "version_major": 2,
       "version_minor": 0
      },
      "text/plain": [
       "  0%|          | 0/300 [00:00<?, ?it/s]"
      ]
     },
     "metadata": {},
     "output_type": "display_data"
    },
    {
     "data": {
      "application/vnd.jupyter.widget-view+json": {
       "model_id": "3c2dac076a4c48049f3c71650d53c183",
       "version_major": 2,
       "version_minor": 0
      },
      "text/plain": [
       "  0%|          | 0/300 [00:00<?, ?it/s]"
      ]
     },
     "metadata": {},
     "output_type": "display_data"
    },
    {
     "data": {
      "application/vnd.jupyter.widget-view+json": {
       "model_id": "08e6bf6161374a38a54db3dc23eac036",
       "version_major": 2,
       "version_minor": 0
      },
      "text/plain": [
       "  0%|          | 0/300 [00:00<?, ?it/s]"
      ]
     },
     "metadata": {},
     "output_type": "display_data"
    },
    {
     "data": {
      "application/vnd.jupyter.widget-view+json": {
       "model_id": "43902540be5b4cb1847fd711d7b05eea",
       "version_major": 2,
       "version_minor": 0
      },
      "text/plain": [
       "  0%|          | 0/300 [00:00<?, ?it/s]"
      ]
     },
     "metadata": {},
     "output_type": "display_data"
    },
    {
     "data": {
      "application/vnd.jupyter.widget-view+json": {
       "model_id": "aea2f059883b4f3fa4e3f259bb0061ec",
       "version_major": 2,
       "version_minor": 0
      },
      "text/plain": [
       "  0%|          | 0/300 [00:00<?, ?it/s]"
      ]
     },
     "metadata": {},
     "output_type": "display_data"
    },
    {
     "data": {
      "application/vnd.jupyter.widget-view+json": {
       "model_id": "b055e6ccc77d433c9c4ab886ed6d0e06",
       "version_major": 2,
       "version_minor": 0
      },
      "text/plain": [
       "  0%|          | 0/300 [00:00<?, ?it/s]"
      ]
     },
     "metadata": {},
     "output_type": "display_data"
    },
    {
     "data": {
      "application/vnd.jupyter.widget-view+json": {
       "model_id": "d18b6aa492484ebeb27ed3d88a67a163",
       "version_major": 2,
       "version_minor": 0
      },
      "text/plain": [
       "  0%|          | 0/300 [00:00<?, ?it/s]"
      ]
     },
     "metadata": {},
     "output_type": "display_data"
    },
    {
     "data": {
      "application/vnd.jupyter.widget-view+json": {
       "model_id": "b3d6f513e2ee414d8154e2a6250e9d1d",
       "version_major": 2,
       "version_minor": 0
      },
      "text/plain": [
       "  0%|          | 0/300 [00:00<?, ?it/s]"
      ]
     },
     "metadata": {},
     "output_type": "display_data"
    },
    {
     "data": {
      "application/vnd.jupyter.widget-view+json": {
       "model_id": "f1eb401e05d94b48b8933ddc7963ae61",
       "version_major": 2,
       "version_minor": 0
      },
      "text/plain": [
       "  0%|          | 0/300 [00:00<?, ?it/s]"
      ]
     },
     "metadata": {},
     "output_type": "display_data"
    },
    {
     "data": {
      "application/vnd.jupyter.widget-view+json": {
       "model_id": "0eff232e17ce40dfaa8fed0f18f67d11",
       "version_major": 2,
       "version_minor": 0
      },
      "text/plain": [
       "  0%|          | 0/300 [00:00<?, ?it/s]"
      ]
     },
     "metadata": {},
     "output_type": "display_data"
    },
    {
     "data": {
      "application/vnd.jupyter.widget-view+json": {
       "model_id": "d117ad22806a499892020c8ddc075803",
       "version_major": 2,
       "version_minor": 0
      },
      "text/plain": [
       "  0%|          | 0/300 [00:00<?, ?it/s]"
      ]
     },
     "metadata": {},
     "output_type": "display_data"
    },
    {
     "data": {
      "application/vnd.jupyter.widget-view+json": {
       "model_id": "c7a88b01a19a42d8a279853896b71adf",
       "version_major": 2,
       "version_minor": 0
      },
      "text/plain": [
       "  0%|          | 0/300 [00:00<?, ?it/s]"
      ]
     },
     "metadata": {},
     "output_type": "display_data"
    },
    {
     "data": {
      "application/vnd.jupyter.widget-view+json": {
       "model_id": "929f3d9976d84b3492ca7e7c43094289",
       "version_major": 2,
       "version_minor": 0
      },
      "text/plain": [
       "  0%|          | 0/300 [00:00<?, ?it/s]"
      ]
     },
     "metadata": {},
     "output_type": "display_data"
    },
    {
     "data": {
      "application/vnd.jupyter.widget-view+json": {
       "model_id": "388b8313414a44e6bce7e497482b76a9",
       "version_major": 2,
       "version_minor": 0
      },
      "text/plain": [
       "  0%|          | 0/300 [00:00<?, ?it/s]"
      ]
     },
     "metadata": {},
     "output_type": "display_data"
    },
    {
     "data": {
      "application/vnd.jupyter.widget-view+json": {
       "model_id": "789b63503fcb4af2bbe3647fcc1cac23",
       "version_major": 2,
       "version_minor": 0
      },
      "text/plain": [
       "  0%|          | 0/300 [00:00<?, ?it/s]"
      ]
     },
     "metadata": {},
     "output_type": "display_data"
    },
    {
     "data": {
      "application/vnd.jupyter.widget-view+json": {
       "model_id": "7eeccddac9994dea879be41eff4abe44",
       "version_major": 2,
       "version_minor": 0
      },
      "text/plain": [
       "  0%|          | 0/300 [00:00<?, ?it/s]"
      ]
     },
     "metadata": {},
     "output_type": "display_data"
    },
    {
     "data": {
      "application/vnd.jupyter.widget-view+json": {
       "model_id": "2f1326c4530849c49b206c6f29a7b86f",
       "version_major": 2,
       "version_minor": 0
      },
      "text/plain": [
       "  0%|          | 0/300 [00:00<?, ?it/s]"
      ]
     },
     "metadata": {},
     "output_type": "display_data"
    },
    {
     "data": {
      "application/vnd.jupyter.widget-view+json": {
       "model_id": "c0d168e5353841ba83fa1158f39a1776",
       "version_major": 2,
       "version_minor": 0
      },
      "text/plain": [
       "  0%|          | 0/300 [00:00<?, ?it/s]"
      ]
     },
     "metadata": {},
     "output_type": "display_data"
    },
    {
     "data": {
      "application/vnd.jupyter.widget-view+json": {
       "model_id": "0ea23016aacb442a803b3856c631aa25",
       "version_major": 2,
       "version_minor": 0
      },
      "text/plain": [
       "  0%|          | 0/300 [00:00<?, ?it/s]"
      ]
     },
     "metadata": {},
     "output_type": "display_data"
    },
    {
     "data": {
      "application/vnd.jupyter.widget-view+json": {
       "model_id": "215c6fb1a58d49538153051187addfe4",
       "version_major": 2,
       "version_minor": 0
      },
      "text/plain": [
       "  0%|          | 0/300 [00:00<?, ?it/s]"
      ]
     },
     "metadata": {},
     "output_type": "display_data"
    },
    {
     "data": {
      "application/vnd.jupyter.widget-view+json": {
       "model_id": "f4712c1bc8eb4457870ba501a8e51b53",
       "version_major": 2,
       "version_minor": 0
      },
      "text/plain": [
       "  0%|          | 0/300 [00:00<?, ?it/s]"
      ]
     },
     "metadata": {},
     "output_type": "display_data"
    },
    {
     "data": {
      "application/vnd.jupyter.widget-view+json": {
       "model_id": "800910b7bf9c440bbb134089ba8c6541",
       "version_major": 2,
       "version_minor": 0
      },
      "text/plain": [
       "  0%|          | 0/300 [00:00<?, ?it/s]"
      ]
     },
     "metadata": {},
     "output_type": "display_data"
    },
    {
     "data": {
      "application/vnd.jupyter.widget-view+json": {
       "model_id": "632560794ca3441097bc938874bac071",
       "version_major": 2,
       "version_minor": 0
      },
      "text/plain": [
       "  0%|          | 0/300 [00:00<?, ?it/s]"
      ]
     },
     "metadata": {},
     "output_type": "display_data"
    },
    {
     "data": {
      "application/vnd.jupyter.widget-view+json": {
       "model_id": "25f4fe126d70470dab9b7e3a5b725000",
       "version_major": 2,
       "version_minor": 0
      },
      "text/plain": [
       "  0%|          | 0/300 [00:00<?, ?it/s]"
      ]
     },
     "metadata": {},
     "output_type": "display_data"
    },
    {
     "data": {
      "application/vnd.jupyter.widget-view+json": {
       "model_id": "6fe22b7686734eba8646232cdc4e290a",
       "version_major": 2,
       "version_minor": 0
      },
      "text/plain": [
       "  0%|          | 0/300 [00:00<?, ?it/s]"
      ]
     },
     "metadata": {},
     "output_type": "display_data"
    },
    {
     "data": {
      "application/vnd.jupyter.widget-view+json": {
       "model_id": "63540487b9314ec09155af7428439c84",
       "version_major": 2,
       "version_minor": 0
      },
      "text/plain": [
       "  0%|          | 0/300 [00:00<?, ?it/s]"
      ]
     },
     "metadata": {},
     "output_type": "display_data"
    },
    {
     "data": {
      "application/vnd.jupyter.widget-view+json": {
       "model_id": "a7f09951aeb9402daf97709307098963",
       "version_major": 2,
       "version_minor": 0
      },
      "text/plain": [
       "  0%|          | 0/300 [00:00<?, ?it/s]"
      ]
     },
     "metadata": {},
     "output_type": "display_data"
    },
    {
     "data": {
      "application/vnd.jupyter.widget-view+json": {
       "model_id": "fdf1831b52b041bfb99f6ffdee5f4de0",
       "version_major": 2,
       "version_minor": 0
      },
      "text/plain": [
       "  0%|          | 0/300 [00:00<?, ?it/s]"
      ]
     },
     "metadata": {},
     "output_type": "display_data"
    },
    {
     "data": {
      "application/vnd.jupyter.widget-view+json": {
       "model_id": "ccc18b2b85474acaacb60917dc286675",
       "version_major": 2,
       "version_minor": 0
      },
      "text/plain": [
       "  0%|          | 0/300 [00:00<?, ?it/s]"
      ]
     },
     "metadata": {},
     "output_type": "display_data"
    },
    {
     "data": {
      "application/vnd.jupyter.widget-view+json": {
       "model_id": "35de9fb18fcc4e77a65396d840e8f727",
       "version_major": 2,
       "version_minor": 0
      },
      "text/plain": [
       "  0%|          | 0/300 [00:00<?, ?it/s]"
      ]
     },
     "metadata": {},
     "output_type": "display_data"
    },
    {
     "data": {
      "application/vnd.jupyter.widget-view+json": {
       "model_id": "51c12a2bf0d0477ca4094a524396c991",
       "version_major": 2,
       "version_minor": 0
      },
      "text/plain": [
       "  0%|          | 0/300 [00:00<?, ?it/s]"
      ]
     },
     "metadata": {},
     "output_type": "display_data"
    },
    {
     "data": {
      "application/vnd.jupyter.widget-view+json": {
       "model_id": "c33ad0927b4a46bca2d2a7d57911985f",
       "version_major": 2,
       "version_minor": 0
      },
      "text/plain": [
       "  0%|          | 0/300 [00:00<?, ?it/s]"
      ]
     },
     "metadata": {},
     "output_type": "display_data"
    },
    {
     "data": {
      "application/vnd.jupyter.widget-view+json": {
       "model_id": "7f04d60a7cb542ed966cc1d3766e461e",
       "version_major": 2,
       "version_minor": 0
      },
      "text/plain": [
       "  0%|          | 0/300 [00:00<?, ?it/s]"
      ]
     },
     "metadata": {},
     "output_type": "display_data"
    },
    {
     "data": {
      "application/vnd.jupyter.widget-view+json": {
       "model_id": "30c4f7823bba49c99369ad10da99b910",
       "version_major": 2,
       "version_minor": 0
      },
      "text/plain": [
       "  0%|          | 0/300 [00:00<?, ?it/s]"
      ]
     },
     "metadata": {},
     "output_type": "display_data"
    },
    {
     "data": {
      "application/vnd.jupyter.widget-view+json": {
       "model_id": "c0499620e3be49f8929fd58f7b31228d",
       "version_major": 2,
       "version_minor": 0
      },
      "text/plain": [
       "  0%|          | 0/300 [00:00<?, ?it/s]"
      ]
     },
     "metadata": {},
     "output_type": "display_data"
    },
    {
     "data": {
      "application/vnd.jupyter.widget-view+json": {
       "model_id": "8d6a148001864ca2af306d78546a3f28",
       "version_major": 2,
       "version_minor": 0
      },
      "text/plain": [
       "  0%|          | 0/300 [00:00<?, ?it/s]"
      ]
     },
     "metadata": {},
     "output_type": "display_data"
    },
    {
     "data": {
      "application/vnd.jupyter.widget-view+json": {
       "model_id": "9ea5564f3b34457a94bd94f9485d939f",
       "version_major": 2,
       "version_minor": 0
      },
      "text/plain": [
       "  0%|          | 0/300 [00:00<?, ?it/s]"
      ]
     },
     "metadata": {},
     "output_type": "display_data"
    },
    {
     "data": {
      "application/vnd.jupyter.widget-view+json": {
       "model_id": "e02d4aea1e9148098364608cca06f7e5",
       "version_major": 2,
       "version_minor": 0
      },
      "text/plain": [
       "  0%|          | 0/300 [00:00<?, ?it/s]"
      ]
     },
     "metadata": {},
     "output_type": "display_data"
    },
    {
     "data": {
      "application/vnd.jupyter.widget-view+json": {
       "model_id": "5ea3ffbf2b5a49eaa1085b8565a54de7",
       "version_major": 2,
       "version_minor": 0
      },
      "text/plain": [
       "  0%|          | 0/300 [00:00<?, ?it/s]"
      ]
     },
     "metadata": {},
     "output_type": "display_data"
    },
    {
     "data": {
      "application/vnd.jupyter.widget-view+json": {
       "model_id": "b102ccfc7c684fceafae94b421836b86",
       "version_major": 2,
       "version_minor": 0
      },
      "text/plain": [
       "  0%|          | 0/300 [00:00<?, ?it/s]"
      ]
     },
     "metadata": {},
     "output_type": "display_data"
    },
    {
     "data": {
      "application/vnd.jupyter.widget-view+json": {
       "model_id": "26e5ceb0fa5f43728968b589ef25f890",
       "version_major": 2,
       "version_minor": 0
      },
      "text/plain": [
       "  0%|          | 0/300 [00:00<?, ?it/s]"
      ]
     },
     "metadata": {},
     "output_type": "display_data"
    },
    {
     "data": {
      "application/vnd.jupyter.widget-view+json": {
       "model_id": "cac4f91abcbc47c8a02f2055305a23e0",
       "version_major": 2,
       "version_minor": 0
      },
      "text/plain": [
       "  0%|          | 0/300 [00:00<?, ?it/s]"
      ]
     },
     "metadata": {},
     "output_type": "display_data"
    },
    {
     "data": {
      "application/vnd.jupyter.widget-view+json": {
       "model_id": "deee708699024bcf947aac8bf273d3be",
       "version_major": 2,
       "version_minor": 0
      },
      "text/plain": [
       "  0%|          | 0/300 [00:00<?, ?it/s]"
      ]
     },
     "metadata": {},
     "output_type": "display_data"
    },
    {
     "data": {
      "application/vnd.jupyter.widget-view+json": {
       "model_id": "916f7265baee41e686bdd83ffdc4c488",
       "version_major": 2,
       "version_minor": 0
      },
      "text/plain": [
       "  0%|          | 0/300 [00:00<?, ?it/s]"
      ]
     },
     "metadata": {},
     "output_type": "display_data"
    },
    {
     "data": {
      "application/vnd.jupyter.widget-view+json": {
       "model_id": "8c48f8ac6ddd4803a7fe9a5f7b307eb5",
       "version_major": 2,
       "version_minor": 0
      },
      "text/plain": [
       "  0%|          | 0/300 [00:00<?, ?it/s]"
      ]
     },
     "metadata": {},
     "output_type": "display_data"
    },
    {
     "data": {
      "application/vnd.jupyter.widget-view+json": {
       "model_id": "c60db89fe98246a788978dbb60d642f2",
       "version_major": 2,
       "version_minor": 0
      },
      "text/plain": [
       "  0%|          | 0/300 [00:00<?, ?it/s]"
      ]
     },
     "metadata": {},
     "output_type": "display_data"
    },
    {
     "data": {
      "application/vnd.jupyter.widget-view+json": {
       "model_id": "4daf5c78644d410697f03bcda341e1d4",
       "version_major": 2,
       "version_minor": 0
      },
      "text/plain": [
       "  0%|          | 0/300 [00:00<?, ?it/s]"
      ]
     },
     "metadata": {},
     "output_type": "display_data"
    },
    {
     "data": {
      "application/vnd.jupyter.widget-view+json": {
       "model_id": "7c5c605eca334ba990fce2c0de055e39",
       "version_major": 2,
       "version_minor": 0
      },
      "text/plain": [
       "  0%|          | 0/300 [00:00<?, ?it/s]"
      ]
     },
     "metadata": {},
     "output_type": "display_data"
    },
    {
     "data": {
      "application/vnd.jupyter.widget-view+json": {
       "model_id": "be3c1e344cd94aec8b253efc25b75c30",
       "version_major": 2,
       "version_minor": 0
      },
      "text/plain": [
       "  0%|          | 0/300 [00:00<?, ?it/s]"
      ]
     },
     "metadata": {},
     "output_type": "display_data"
    },
    {
     "data": {
      "application/vnd.jupyter.widget-view+json": {
       "model_id": "07603b583cd44576a10543f76c030092",
       "version_major": 2,
       "version_minor": 0
      },
      "text/plain": [
       "  0%|          | 0/300 [00:00<?, ?it/s]"
      ]
     },
     "metadata": {},
     "output_type": "display_data"
    },
    {
     "data": {
      "application/vnd.jupyter.widget-view+json": {
       "model_id": "a5d30c75b8a44031ba8e7a9295aa86ae",
       "version_major": 2,
       "version_minor": 0
      },
      "text/plain": [
       "  0%|          | 0/300 [00:00<?, ?it/s]"
      ]
     },
     "metadata": {},
     "output_type": "display_data"
    },
    {
     "data": {
      "application/vnd.jupyter.widget-view+json": {
       "model_id": "c54d4bc0f86b4114a002b3a61bc055a9",
       "version_major": 2,
       "version_minor": 0
      },
      "text/plain": [
       "  0%|          | 0/300 [00:00<?, ?it/s]"
      ]
     },
     "metadata": {},
     "output_type": "display_data"
    },
    {
     "data": {
      "application/vnd.jupyter.widget-view+json": {
       "model_id": "6d066dcdfbf34d18afe0a01dffddb146",
       "version_major": 2,
       "version_minor": 0
      },
      "text/plain": [
       "  0%|          | 0/300 [00:00<?, ?it/s]"
      ]
     },
     "metadata": {},
     "output_type": "display_data"
    },
    {
     "data": {
      "application/vnd.jupyter.widget-view+json": {
       "model_id": "05834c94aecf437bab922d6521d07710",
       "version_major": 2,
       "version_minor": 0
      },
      "text/plain": [
       "  0%|          | 0/300 [00:00<?, ?it/s]"
      ]
     },
     "metadata": {},
     "output_type": "display_data"
    },
    {
     "data": {
      "application/vnd.jupyter.widget-view+json": {
       "model_id": "052827892e93411394222d00e0e117cb",
       "version_major": 2,
       "version_minor": 0
      },
      "text/plain": [
       "  0%|          | 0/300 [00:00<?, ?it/s]"
      ]
     },
     "metadata": {},
     "output_type": "display_data"
    },
    {
     "data": {
      "application/vnd.jupyter.widget-view+json": {
       "model_id": "46ff5689ab6648e183a8abde478934aa",
       "version_major": 2,
       "version_minor": 0
      },
      "text/plain": [
       "  0%|          | 0/300 [00:00<?, ?it/s]"
      ]
     },
     "metadata": {},
     "output_type": "display_data"
    },
    {
     "data": {
      "application/vnd.jupyter.widget-view+json": {
       "model_id": "0e04fb01ea304df0a749a3661f78e91b",
       "version_major": 2,
       "version_minor": 0
      },
      "text/plain": [
       "  0%|          | 0/300 [00:00<?, ?it/s]"
      ]
     },
     "metadata": {},
     "output_type": "display_data"
    },
    {
     "data": {
      "application/vnd.jupyter.widget-view+json": {
       "model_id": "c681cc7c4ed147aa9d21674bc9ecd3fd",
       "version_major": 2,
       "version_minor": 0
      },
      "text/plain": [
       "  0%|          | 0/300 [00:00<?, ?it/s]"
      ]
     },
     "metadata": {},
     "output_type": "display_data"
    },
    {
     "data": {
      "application/vnd.jupyter.widget-view+json": {
       "model_id": "ff552149aab345b9b959d68fcdee4fb3",
       "version_major": 2,
       "version_minor": 0
      },
      "text/plain": [
       "  0%|          | 0/300 [00:00<?, ?it/s]"
      ]
     },
     "metadata": {},
     "output_type": "display_data"
    },
    {
     "data": {
      "application/vnd.jupyter.widget-view+json": {
       "model_id": "ffbe18474c3341bb9c8641b3ed176be5",
       "version_major": 2,
       "version_minor": 0
      },
      "text/plain": [
       "  0%|          | 0/300 [00:00<?, ?it/s]"
      ]
     },
     "metadata": {},
     "output_type": "display_data"
    },
    {
     "data": {
      "application/vnd.jupyter.widget-view+json": {
       "model_id": "af6307186b084bf3b4d396cc5ed01675",
       "version_major": 2,
       "version_minor": 0
      },
      "text/plain": [
       "  0%|          | 0/300 [00:00<?, ?it/s]"
      ]
     },
     "metadata": {},
     "output_type": "display_data"
    },
    {
     "data": {
      "application/vnd.jupyter.widget-view+json": {
       "model_id": "957ebaffe5e148618a8faccfd71b29c1",
       "version_major": 2,
       "version_minor": 0
      },
      "text/plain": [
       "  0%|          | 0/300 [00:00<?, ?it/s]"
      ]
     },
     "metadata": {},
     "output_type": "display_data"
    },
    {
     "data": {
      "application/vnd.jupyter.widget-view+json": {
       "model_id": "43b1c94ee5a04c27b06f4a01f5f9d363",
       "version_major": 2,
       "version_minor": 0
      },
      "text/plain": [
       "  0%|          | 0/300 [00:00<?, ?it/s]"
      ]
     },
     "metadata": {},
     "output_type": "display_data"
    },
    {
     "data": {
      "application/vnd.jupyter.widget-view+json": {
       "model_id": "3de5b8c427434e868c058803b9cc05b0",
       "version_major": 2,
       "version_minor": 0
      },
      "text/plain": [
       "  0%|          | 0/300 [00:00<?, ?it/s]"
      ]
     },
     "metadata": {},
     "output_type": "display_data"
    },
    {
     "data": {
      "application/vnd.jupyter.widget-view+json": {
       "model_id": "ce0913ed36094a5491715a8f2c7334fd",
       "version_major": 2,
       "version_minor": 0
      },
      "text/plain": [
       "  0%|          | 0/300 [00:00<?, ?it/s]"
      ]
     },
     "metadata": {},
     "output_type": "display_data"
    },
    {
     "data": {
      "application/vnd.jupyter.widget-view+json": {
       "model_id": "336b762716bc4c1f919de3e02cb2b018",
       "version_major": 2,
       "version_minor": 0
      },
      "text/plain": [
       "  0%|          | 0/300 [00:00<?, ?it/s]"
      ]
     },
     "metadata": {},
     "output_type": "display_data"
    },
    {
     "data": {
      "application/vnd.jupyter.widget-view+json": {
       "model_id": "a5b9bfc9183a450491385183a51e547e",
       "version_major": 2,
       "version_minor": 0
      },
      "text/plain": [
       "  0%|          | 0/300 [00:00<?, ?it/s]"
      ]
     },
     "metadata": {},
     "output_type": "display_data"
    },
    {
     "data": {
      "application/vnd.jupyter.widget-view+json": {
       "model_id": "1864de8f03c14486912576fbfed43b4c",
       "version_major": 2,
       "version_minor": 0
      },
      "text/plain": [
       "  0%|          | 0/300 [00:00<?, ?it/s]"
      ]
     },
     "metadata": {},
     "output_type": "display_data"
    },
    {
     "data": {
      "application/vnd.jupyter.widget-view+json": {
       "model_id": "533c050be4814e9dbd4ff2a8fa276f98",
       "version_major": 2,
       "version_minor": 0
      },
      "text/plain": [
       "  0%|          | 0/300 [00:00<?, ?it/s]"
      ]
     },
     "metadata": {},
     "output_type": "display_data"
    },
    {
     "data": {
      "application/vnd.jupyter.widget-view+json": {
       "model_id": "b956aa49f59c4475be441eea7368125e",
       "version_major": 2,
       "version_minor": 0
      },
      "text/plain": [
       "  0%|          | 0/300 [00:00<?, ?it/s]"
      ]
     },
     "metadata": {},
     "output_type": "display_data"
    },
    {
     "data": {
      "application/vnd.jupyter.widget-view+json": {
       "model_id": "8a3544d412fd4246aa656068ecaac37b",
       "version_major": 2,
       "version_minor": 0
      },
      "text/plain": [
       "  0%|          | 0/300 [00:00<?, ?it/s]"
      ]
     },
     "metadata": {},
     "output_type": "display_data"
    },
    {
     "data": {
      "application/vnd.jupyter.widget-view+json": {
       "model_id": "4ea2d1b87e9a4f50b6b1935cc1403d39",
       "version_major": 2,
       "version_minor": 0
      },
      "text/plain": [
       "  0%|          | 0/300 [00:00<?, ?it/s]"
      ]
     },
     "metadata": {},
     "output_type": "display_data"
    },
    {
     "data": {
      "application/vnd.jupyter.widget-view+json": {
       "model_id": "d0bbfc1a367148258f51a4ad7666015e",
       "version_major": 2,
       "version_minor": 0
      },
      "text/plain": [
       "  0%|          | 0/300 [00:00<?, ?it/s]"
      ]
     },
     "metadata": {},
     "output_type": "display_data"
    },
    {
     "data": {
      "application/vnd.jupyter.widget-view+json": {
       "model_id": "9859d62bbff04378bff8608c08871db5",
       "version_major": 2,
       "version_minor": 0
      },
      "text/plain": [
       "  0%|          | 0/300 [00:00<?, ?it/s]"
      ]
     },
     "metadata": {},
     "output_type": "display_data"
    },
    {
     "data": {
      "application/vnd.jupyter.widget-view+json": {
       "model_id": "657d7e23fb6b4837a6514512702bef52",
       "version_major": 2,
       "version_minor": 0
      },
      "text/plain": [
       "  0%|          | 0/300 [00:00<?, ?it/s]"
      ]
     },
     "metadata": {},
     "output_type": "display_data"
    },
    {
     "data": {
      "application/vnd.jupyter.widget-view+json": {
       "model_id": "2cf88407eea34a14900d21ba6630f087",
       "version_major": 2,
       "version_minor": 0
      },
      "text/plain": [
       "  0%|          | 0/300 [00:00<?, ?it/s]"
      ]
     },
     "metadata": {},
     "output_type": "display_data"
    },
    {
     "data": {
      "application/vnd.jupyter.widget-view+json": {
       "model_id": "9bb44202cde946a99c2b34b0dc44caf0",
       "version_major": 2,
       "version_minor": 0
      },
      "text/plain": [
       "  0%|          | 0/300 [00:00<?, ?it/s]"
      ]
     },
     "metadata": {},
     "output_type": "display_data"
    },
    {
     "data": {
      "application/vnd.jupyter.widget-view+json": {
       "model_id": "8d153e24fe8348e9b4d370ff8c1dffbd",
       "version_major": 2,
       "version_minor": 0
      },
      "text/plain": [
       "  0%|          | 0/300 [00:00<?, ?it/s]"
      ]
     },
     "metadata": {},
     "output_type": "display_data"
    },
    {
     "data": {
      "application/vnd.jupyter.widget-view+json": {
       "model_id": "c512d339070c44dba11ee2dcb8839794",
       "version_major": 2,
       "version_minor": 0
      },
      "text/plain": [
       "  0%|          | 0/300 [00:00<?, ?it/s]"
      ]
     },
     "metadata": {},
     "output_type": "display_data"
    },
    {
     "data": {
      "application/vnd.jupyter.widget-view+json": {
       "model_id": "150f6284058046a3aec726961ad2fe43",
       "version_major": 2,
       "version_minor": 0
      },
      "text/plain": [
       "  0%|          | 0/300 [00:00<?, ?it/s]"
      ]
     },
     "metadata": {},
     "output_type": "display_data"
    },
    {
     "data": {
      "application/vnd.jupyter.widget-view+json": {
       "model_id": "efc8c4c781274407be9a472b7a2ab9f4",
       "version_major": 2,
       "version_minor": 0
      },
      "text/plain": [
       "  0%|          | 0/300 [00:00<?, ?it/s]"
      ]
     },
     "metadata": {},
     "output_type": "display_data"
    },
    {
     "data": {
      "application/vnd.jupyter.widget-view+json": {
       "model_id": "2684803f5cce4b53bd08d8b4a3fa6e54",
       "version_major": 2,
       "version_minor": 0
      },
      "text/plain": [
       "  0%|          | 0/300 [00:00<?, ?it/s]"
      ]
     },
     "metadata": {},
     "output_type": "display_data"
    },
    {
     "data": {
      "application/vnd.jupyter.widget-view+json": {
       "model_id": "a6e6a14fd3fb4474b404a9707693530a",
       "version_major": 2,
       "version_minor": 0
      },
      "text/plain": [
       "  0%|          | 0/300 [00:00<?, ?it/s]"
      ]
     },
     "metadata": {},
     "output_type": "display_data"
    },
    {
     "data": {
      "application/vnd.jupyter.widget-view+json": {
       "model_id": "cc4b61442f314696aadd8a5dc4a131e2",
       "version_major": 2,
       "version_minor": 0
      },
      "text/plain": [
       "  0%|          | 0/300 [00:00<?, ?it/s]"
      ]
     },
     "metadata": {},
     "output_type": "display_data"
    },
    {
     "data": {
      "application/vnd.jupyter.widget-view+json": {
       "model_id": "d4f2cd7d46c34469a3fbee73d726b232",
       "version_major": 2,
       "version_minor": 0
      },
      "text/plain": [
       "  0%|          | 0/300 [00:00<?, ?it/s]"
      ]
     },
     "metadata": {},
     "output_type": "display_data"
    },
    {
     "data": {
      "application/vnd.jupyter.widget-view+json": {
       "model_id": "0f50b2d8e20a4e218cd620e37e1dd40f",
       "version_major": 2,
       "version_minor": 0
      },
      "text/plain": [
       "  0%|          | 0/300 [00:00<?, ?it/s]"
      ]
     },
     "metadata": {},
     "output_type": "display_data"
    },
    {
     "data": {
      "application/vnd.jupyter.widget-view+json": {
       "model_id": "36eb8d19d67c403fbbf0cddefa581b46",
       "version_major": 2,
       "version_minor": 0
      },
      "text/plain": [
       "  0%|          | 0/300 [00:00<?, ?it/s]"
      ]
     },
     "metadata": {},
     "output_type": "display_data"
    },
    {
     "data": {
      "application/vnd.jupyter.widget-view+json": {
       "model_id": "268bb81628c4487ba130fc906195bc94",
       "version_major": 2,
       "version_minor": 0
      },
      "text/plain": [
       "  0%|          | 0/300 [00:00<?, ?it/s]"
      ]
     },
     "metadata": {},
     "output_type": "display_data"
    },
    {
     "data": {
      "application/vnd.jupyter.widget-view+json": {
       "model_id": "306c7580b5c741a6927f437b2f27fc5e",
       "version_major": 2,
       "version_minor": 0
      },
      "text/plain": [
       "  0%|          | 0/300 [00:00<?, ?it/s]"
      ]
     },
     "metadata": {},
     "output_type": "display_data"
    },
    {
     "data": {
      "application/vnd.jupyter.widget-view+json": {
       "model_id": "e3fadda2a32a432986ba39d67f2c5470",
       "version_major": 2,
       "version_minor": 0
      },
      "text/plain": [
       "  0%|          | 0/300 [00:00<?, ?it/s]"
      ]
     },
     "metadata": {},
     "output_type": "display_data"
    },
    {
     "data": {
      "application/vnd.jupyter.widget-view+json": {
       "model_id": "66e69d7afe71469cb6adbf6b2c888483",
       "version_major": 2,
       "version_minor": 0
      },
      "text/plain": [
       "  0%|          | 0/300 [00:00<?, ?it/s]"
      ]
     },
     "metadata": {},
     "output_type": "display_data"
    },
    {
     "data": {
      "application/vnd.jupyter.widget-view+json": {
       "model_id": "f09f43f05b214e1a87566243f9f0d59d",
       "version_major": 2,
       "version_minor": 0
      },
      "text/plain": [
       "  0%|          | 0/300 [00:00<?, ?it/s]"
      ]
     },
     "metadata": {},
     "output_type": "display_data"
    },
    {
     "data": {
      "application/vnd.jupyter.widget-view+json": {
       "model_id": "4d454e0d0dbe424f931d61cc10ab228b",
       "version_major": 2,
       "version_minor": 0
      },
      "text/plain": [
       "  0%|          | 0/300 [00:00<?, ?it/s]"
      ]
     },
     "metadata": {},
     "output_type": "display_data"
    },
    {
     "data": {
      "application/vnd.jupyter.widget-view+json": {
       "model_id": "383449c96f0a4706a75940851ee82d06",
       "version_major": 2,
       "version_minor": 0
      },
      "text/plain": [
       "  0%|          | 0/300 [00:00<?, ?it/s]"
      ]
     },
     "metadata": {},
     "output_type": "display_data"
    },
    {
     "data": {
      "application/vnd.jupyter.widget-view+json": {
       "model_id": "b4a2f93ef7e64dc49ed3ddb852ef4705",
       "version_major": 2,
       "version_minor": 0
      },
      "text/plain": [
       "  0%|          | 0/300 [00:00<?, ?it/s]"
      ]
     },
     "metadata": {},
     "output_type": "display_data"
    },
    {
     "data": {
      "application/vnd.jupyter.widget-view+json": {
       "model_id": "a21e0604bc194448a5cff5d2bf357965",
       "version_major": 2,
       "version_minor": 0
      },
      "text/plain": [
       "  0%|          | 0/300 [00:00<?, ?it/s]"
      ]
     },
     "metadata": {},
     "output_type": "display_data"
    },
    {
     "data": {
      "application/vnd.jupyter.widget-view+json": {
       "model_id": "5733d6f523714df9ae67b6f9a6341b75",
       "version_major": 2,
       "version_minor": 0
      },
      "text/plain": [
       "  0%|          | 0/300 [00:00<?, ?it/s]"
      ]
     },
     "metadata": {},
     "output_type": "display_data"
    },
    {
     "data": {
      "application/vnd.jupyter.widget-view+json": {
       "model_id": "03da521ee1944cbba10ee3d740640cca",
       "version_major": 2,
       "version_minor": 0
      },
      "text/plain": [
       "  0%|          | 0/300 [00:00<?, ?it/s]"
      ]
     },
     "metadata": {},
     "output_type": "display_data"
    },
    {
     "data": {
      "application/vnd.jupyter.widget-view+json": {
       "model_id": "8fe89a4ac7964142b6f9d8288ca13a9e",
       "version_major": 2,
       "version_minor": 0
      },
      "text/plain": [
       "  0%|          | 0/300 [00:00<?, ?it/s]"
      ]
     },
     "metadata": {},
     "output_type": "display_data"
    },
    {
     "data": {
      "application/vnd.jupyter.widget-view+json": {
       "model_id": "1ea7c7bdab724774b0101871429670d2",
       "version_major": 2,
       "version_minor": 0
      },
      "text/plain": [
       "  0%|          | 0/300 [00:00<?, ?it/s]"
      ]
     },
     "metadata": {},
     "output_type": "display_data"
    },
    {
     "data": {
      "application/vnd.jupyter.widget-view+json": {
       "model_id": "5570f741fc544369878d254f862c294d",
       "version_major": 2,
       "version_minor": 0
      },
      "text/plain": [
       "  0%|          | 0/300 [00:00<?, ?it/s]"
      ]
     },
     "metadata": {},
     "output_type": "display_data"
    },
    {
     "data": {
      "application/vnd.jupyter.widget-view+json": {
       "model_id": "08cf1797c11d4620919b5ab3e5c67241",
       "version_major": 2,
       "version_minor": 0
      },
      "text/plain": [
       "  0%|          | 0/300 [00:00<?, ?it/s]"
      ]
     },
     "metadata": {},
     "output_type": "display_data"
    },
    {
     "data": {
      "application/vnd.jupyter.widget-view+json": {
       "model_id": "e695d256743b49af98ed3625ebd9c9b4",
       "version_major": 2,
       "version_minor": 0
      },
      "text/plain": [
       "  0%|          | 0/300 [00:00<?, ?it/s]"
      ]
     },
     "metadata": {},
     "output_type": "display_data"
    },
    {
     "data": {
      "application/vnd.jupyter.widget-view+json": {
       "model_id": "9f5f48b385cc45389de2a24c2cb327ad",
       "version_major": 2,
       "version_minor": 0
      },
      "text/plain": [
       "  0%|          | 0/300 [00:00<?, ?it/s]"
      ]
     },
     "metadata": {},
     "output_type": "display_data"
    },
    {
     "data": {
      "application/vnd.jupyter.widget-view+json": {
       "model_id": "075a460e65fb4a12b78d342f21fc6796",
       "version_major": 2,
       "version_minor": 0
      },
      "text/plain": [
       "  0%|          | 0/300 [00:00<?, ?it/s]"
      ]
     },
     "metadata": {},
     "output_type": "display_data"
    },
    {
     "data": {
      "application/vnd.jupyter.widget-view+json": {
       "model_id": "534890ea6ea843c3af122e1f79de2b18",
       "version_major": 2,
       "version_minor": 0
      },
      "text/plain": [
       "  0%|          | 0/300 [00:00<?, ?it/s]"
      ]
     },
     "metadata": {},
     "output_type": "display_data"
    },
    {
     "data": {
      "application/vnd.jupyter.widget-view+json": {
       "model_id": "4aa208fdd2384a419a8b2077924002fe",
       "version_major": 2,
       "version_minor": 0
      },
      "text/plain": [
       "  0%|          | 0/300 [00:00<?, ?it/s]"
      ]
     },
     "metadata": {},
     "output_type": "display_data"
    },
    {
     "data": {
      "application/vnd.jupyter.widget-view+json": {
       "model_id": "fa379288e7fc4b07adba2b0bd57039c8",
       "version_major": 2,
       "version_minor": 0
      },
      "text/plain": [
       "  0%|          | 0/300 [00:00<?, ?it/s]"
      ]
     },
     "metadata": {},
     "output_type": "display_data"
    },
    {
     "data": {
      "application/vnd.jupyter.widget-view+json": {
       "model_id": "966db92fd4b540b3af01506e9736a8cb",
       "version_major": 2,
       "version_minor": 0
      },
      "text/plain": [
       "  0%|          | 0/300 [00:00<?, ?it/s]"
      ]
     },
     "metadata": {},
     "output_type": "display_data"
    },
    {
     "data": {
      "application/vnd.jupyter.widget-view+json": {
       "model_id": "c8a9663125f1404ba39dbb4e2360c008",
       "version_major": 2,
       "version_minor": 0
      },
      "text/plain": [
       "  0%|          | 0/300 [00:00<?, ?it/s]"
      ]
     },
     "metadata": {},
     "output_type": "display_data"
    },
    {
     "data": {
      "application/vnd.jupyter.widget-view+json": {
       "model_id": "00b5aa3c9e944703a4da64c8d8fb2d0d",
       "version_major": 2,
       "version_minor": 0
      },
      "text/plain": [
       "  0%|          | 0/300 [00:00<?, ?it/s]"
      ]
     },
     "metadata": {},
     "output_type": "display_data"
    },
    {
     "data": {
      "application/vnd.jupyter.widget-view+json": {
       "model_id": "e071bf8b88734f41ad1f84e2669323b3",
       "version_major": 2,
       "version_minor": 0
      },
      "text/plain": [
       "  0%|          | 0/300 [00:00<?, ?it/s]"
      ]
     },
     "metadata": {},
     "output_type": "display_data"
    },
    {
     "data": {
      "application/vnd.jupyter.widget-view+json": {
       "model_id": "edddca389fed470f8885fb2b630e5baf",
       "version_major": 2,
       "version_minor": 0
      },
      "text/plain": [
       "  0%|          | 0/300 [00:00<?, ?it/s]"
      ]
     },
     "metadata": {},
     "output_type": "display_data"
    },
    {
     "data": {
      "application/vnd.jupyter.widget-view+json": {
       "model_id": "b57b33e4883049138c1bc707a535451f",
       "version_major": 2,
       "version_minor": 0
      },
      "text/plain": [
       "  0%|          | 0/300 [00:00<?, ?it/s]"
      ]
     },
     "metadata": {},
     "output_type": "display_data"
    },
    {
     "data": {
      "application/vnd.jupyter.widget-view+json": {
       "model_id": "24b9f4a0e92d469d9c4173e61e23c360",
       "version_major": 2,
       "version_minor": 0
      },
      "text/plain": [
       "  0%|          | 0/300 [00:00<?, ?it/s]"
      ]
     },
     "metadata": {},
     "output_type": "display_data"
    },
    {
     "data": {
      "application/vnd.jupyter.widget-view+json": {
       "model_id": "3774ea1cbb3a43888898a4a5838c0b96",
       "version_major": 2,
       "version_minor": 0
      },
      "text/plain": [
       "  0%|          | 0/300 [00:00<?, ?it/s]"
      ]
     },
     "metadata": {},
     "output_type": "display_data"
    },
    {
     "data": {
      "application/vnd.jupyter.widget-view+json": {
       "model_id": "d6b8fff3884a4920b77a125d5ae3992c",
       "version_major": 2,
       "version_minor": 0
      },
      "text/plain": [
       "  0%|          | 0/300 [00:00<?, ?it/s]"
      ]
     },
     "metadata": {},
     "output_type": "display_data"
    },
    {
     "data": {
      "application/vnd.jupyter.widget-view+json": {
       "model_id": "ba38a0926e0e452eb975aebef1a15086",
       "version_major": 2,
       "version_minor": 0
      },
      "text/plain": [
       "  0%|          | 0/300 [00:00<?, ?it/s]"
      ]
     },
     "metadata": {},
     "output_type": "display_data"
    },
    {
     "data": {
      "application/vnd.jupyter.widget-view+json": {
       "model_id": "d16b7c2eb2a04ae2a2d228918b54f616",
       "version_major": 2,
       "version_minor": 0
      },
      "text/plain": [
       "  0%|          | 0/300 [00:00<?, ?it/s]"
      ]
     },
     "metadata": {},
     "output_type": "display_data"
    },
    {
     "data": {
      "application/vnd.jupyter.widget-view+json": {
       "model_id": "384e2ddb363c408ca24d16652896c7d2",
       "version_major": 2,
       "version_minor": 0
      },
      "text/plain": [
       "  0%|          | 0/300 [00:00<?, ?it/s]"
      ]
     },
     "metadata": {},
     "output_type": "display_data"
    },
    {
     "data": {
      "application/vnd.jupyter.widget-view+json": {
       "model_id": "487beb94766d49de83200e2b261df634",
       "version_major": 2,
       "version_minor": 0
      },
      "text/plain": [
       "  0%|          | 0/300 [00:00<?, ?it/s]"
      ]
     },
     "metadata": {},
     "output_type": "display_data"
    },
    {
     "data": {
      "application/vnd.jupyter.widget-view+json": {
       "model_id": "2908e9bdc70d4d13ac7cd1df7d68a932",
       "version_major": 2,
       "version_minor": 0
      },
      "text/plain": [
       "  0%|          | 0/300 [00:00<?, ?it/s]"
      ]
     },
     "metadata": {},
     "output_type": "display_data"
    },
    {
     "data": {
      "application/vnd.jupyter.widget-view+json": {
       "model_id": "0d5fa16e27df4c7fbd3040bc17151d7b",
       "version_major": 2,
       "version_minor": 0
      },
      "text/plain": [
       "  0%|          | 0/300 [00:00<?, ?it/s]"
      ]
     },
     "metadata": {},
     "output_type": "display_data"
    },
    {
     "data": {
      "application/vnd.jupyter.widget-view+json": {
       "model_id": "d9555326356c47b39d200e1fb67df450",
       "version_major": 2,
       "version_minor": 0
      },
      "text/plain": [
       "  0%|          | 0/300 [00:00<?, ?it/s]"
      ]
     },
     "metadata": {},
     "output_type": "display_data"
    },
    {
     "data": {
      "application/vnd.jupyter.widget-view+json": {
       "model_id": "63fc0ca0823945b4ac963795141d4027",
       "version_major": 2,
       "version_minor": 0
      },
      "text/plain": [
       "  0%|          | 0/300 [00:00<?, ?it/s]"
      ]
     },
     "metadata": {},
     "output_type": "display_data"
    },
    {
     "data": {
      "application/vnd.jupyter.widget-view+json": {
       "model_id": "b313eafbe8c849c7abb66586f5dc6ff1",
       "version_major": 2,
       "version_minor": 0
      },
      "text/plain": [
       "  0%|          | 0/300 [00:00<?, ?it/s]"
      ]
     },
     "metadata": {},
     "output_type": "display_data"
    },
    {
     "data": {
      "application/vnd.jupyter.widget-view+json": {
       "model_id": "abb2544e87be4f72a191f84c1caa3e5a",
       "version_major": 2,
       "version_minor": 0
      },
      "text/plain": [
       "  0%|          | 0/300 [00:00<?, ?it/s]"
      ]
     },
     "metadata": {},
     "output_type": "display_data"
    },
    {
     "data": {
      "application/vnd.jupyter.widget-view+json": {
       "model_id": "d568469328304bcda1a6f0275215e860",
       "version_major": 2,
       "version_minor": 0
      },
      "text/plain": [
       "  0%|          | 0/300 [00:00<?, ?it/s]"
      ]
     },
     "metadata": {},
     "output_type": "display_data"
    },
    {
     "data": {
      "application/vnd.jupyter.widget-view+json": {
       "model_id": "606d19b0eded41319db6db3ff453378a",
       "version_major": 2,
       "version_minor": 0
      },
      "text/plain": [
       "  0%|          | 0/300 [00:00<?, ?it/s]"
      ]
     },
     "metadata": {},
     "output_type": "display_data"
    },
    {
     "data": {
      "application/vnd.jupyter.widget-view+json": {
       "model_id": "a980f1302c924a899ae4bbb072513a69",
       "version_major": 2,
       "version_minor": 0
      },
      "text/plain": [
       "  0%|          | 0/300 [00:00<?, ?it/s]"
      ]
     },
     "metadata": {},
     "output_type": "display_data"
    },
    {
     "data": {
      "application/vnd.jupyter.widget-view+json": {
       "model_id": "e450a89fc55a4f589020faa3a2072272",
       "version_major": 2,
       "version_minor": 0
      },
      "text/plain": [
       "  0%|          | 0/300 [00:00<?, ?it/s]"
      ]
     },
     "metadata": {},
     "output_type": "display_data"
    },
    {
     "data": {
      "application/vnd.jupyter.widget-view+json": {
       "model_id": "7ecc79c4ac62457598ad3ce78131bc2d",
       "version_major": 2,
       "version_minor": 0
      },
      "text/plain": [
       "  0%|          | 0/300 [00:00<?, ?it/s]"
      ]
     },
     "metadata": {},
     "output_type": "display_data"
    },
    {
     "data": {
      "application/vnd.jupyter.widget-view+json": {
       "model_id": "643e4cc75ac846b79837899be5a5b226",
       "version_major": 2,
       "version_minor": 0
      },
      "text/plain": [
       "  0%|          | 0/300 [00:00<?, ?it/s]"
      ]
     },
     "metadata": {},
     "output_type": "display_data"
    },
    {
     "data": {
      "application/vnd.jupyter.widget-view+json": {
       "model_id": "dce278422da641db9c0af9f9ffd73efe",
       "version_major": 2,
       "version_minor": 0
      },
      "text/plain": [
       "  0%|          | 0/300 [00:00<?, ?it/s]"
      ]
     },
     "metadata": {},
     "output_type": "display_data"
    },
    {
     "data": {
      "application/vnd.jupyter.widget-view+json": {
       "model_id": "1c787db1ffcd4272b4e9fdeb0e97f600",
       "version_major": 2,
       "version_minor": 0
      },
      "text/plain": [
       "  0%|          | 0/300 [00:00<?, ?it/s]"
      ]
     },
     "metadata": {},
     "output_type": "display_data"
    },
    {
     "data": {
      "application/vnd.jupyter.widget-view+json": {
       "model_id": "b2dc4efaca354e06b3c40cdb2954f92c",
       "version_major": 2,
       "version_minor": 0
      },
      "text/plain": [
       "  0%|          | 0/300 [00:00<?, ?it/s]"
      ]
     },
     "metadata": {},
     "output_type": "display_data"
    },
    {
     "data": {
      "application/vnd.jupyter.widget-view+json": {
       "model_id": "a412d9cfbad8476fa6a117dc96994210",
       "version_major": 2,
       "version_minor": 0
      },
      "text/plain": [
       "  0%|          | 0/300 [00:00<?, ?it/s]"
      ]
     },
     "metadata": {},
     "output_type": "display_data"
    },
    {
     "data": {
      "application/vnd.jupyter.widget-view+json": {
       "model_id": "63bc413d8c9540eeb5a47a628d55843a",
       "version_major": 2,
       "version_minor": 0
      },
      "text/plain": [
       "  0%|          | 0/300 [00:00<?, ?it/s]"
      ]
     },
     "metadata": {},
     "output_type": "display_data"
    },
    {
     "data": {
      "application/vnd.jupyter.widget-view+json": {
       "model_id": "9cf22e834de344be9b195a8d463a3b00",
       "version_major": 2,
       "version_minor": 0
      },
      "text/plain": [
       "  0%|          | 0/300 [00:00<?, ?it/s]"
      ]
     },
     "metadata": {},
     "output_type": "display_data"
    },
    {
     "data": {
      "application/vnd.jupyter.widget-view+json": {
       "model_id": "ecee1c23c9034bcc9748a47701db3d0c",
       "version_major": 2,
       "version_minor": 0
      },
      "text/plain": [
       "  0%|          | 0/300 [00:00<?, ?it/s]"
      ]
     },
     "metadata": {},
     "output_type": "display_data"
    },
    {
     "data": {
      "application/vnd.jupyter.widget-view+json": {
       "model_id": "b9392d313126493caea6a52024ca5b30",
       "version_major": 2,
       "version_minor": 0
      },
      "text/plain": [
       "  0%|          | 0/300 [00:00<?, ?it/s]"
      ]
     },
     "metadata": {},
     "output_type": "display_data"
    },
    {
     "data": {
      "application/vnd.jupyter.widget-view+json": {
       "model_id": "0af43447eb71405281b21b5ab42f24a1",
       "version_major": 2,
       "version_minor": 0
      },
      "text/plain": [
       "  0%|          | 0/300 [00:00<?, ?it/s]"
      ]
     },
     "metadata": {},
     "output_type": "display_data"
    },
    {
     "data": {
      "application/vnd.jupyter.widget-view+json": {
       "model_id": "b8e7fe500a844c5dba8b671e61c17f8d",
       "version_major": 2,
       "version_minor": 0
      },
      "text/plain": [
       "  0%|          | 0/300 [00:00<?, ?it/s]"
      ]
     },
     "metadata": {},
     "output_type": "display_data"
    },
    {
     "data": {
      "application/vnd.jupyter.widget-view+json": {
       "model_id": "6f2536a7f6324f3183bb6b99518fa6aa",
       "version_major": 2,
       "version_minor": 0
      },
      "text/plain": [
       "  0%|          | 0/300 [00:00<?, ?it/s]"
      ]
     },
     "metadata": {},
     "output_type": "display_data"
    },
    {
     "data": {
      "application/vnd.jupyter.widget-view+json": {
       "model_id": "d0831c075a8d402d80da9ad8dfc1640d",
       "version_major": 2,
       "version_minor": 0
      },
      "text/plain": [
       "  0%|          | 0/300 [00:00<?, ?it/s]"
      ]
     },
     "metadata": {},
     "output_type": "display_data"
    },
    {
     "data": {
      "application/vnd.jupyter.widget-view+json": {
       "model_id": "2ebe76888f2c4512826ac23f091b4db9",
       "version_major": 2,
       "version_minor": 0
      },
      "text/plain": [
       "  0%|          | 0/300 [00:00<?, ?it/s]"
      ]
     },
     "metadata": {},
     "output_type": "display_data"
    },
    {
     "data": {
      "application/vnd.jupyter.widget-view+json": {
       "model_id": "32963601f12a42c58c639b5995cfaea8",
       "version_major": 2,
       "version_minor": 0
      },
      "text/plain": [
       "  0%|          | 0/300 [00:00<?, ?it/s]"
      ]
     },
     "metadata": {},
     "output_type": "display_data"
    },
    {
     "data": {
      "application/vnd.jupyter.widget-view+json": {
       "model_id": "848f242c9b5b403bb6fd9223b2261824",
       "version_major": 2,
       "version_minor": 0
      },
      "text/plain": [
       "  0%|          | 0/300 [00:00<?, ?it/s]"
      ]
     },
     "metadata": {},
     "output_type": "display_data"
    },
    {
     "data": {
      "application/vnd.jupyter.widget-view+json": {
       "model_id": "1a85f723d25e4c62a9037244cacb95fe",
       "version_major": 2,
       "version_minor": 0
      },
      "text/plain": [
       "  0%|          | 0/300 [00:00<?, ?it/s]"
      ]
     },
     "metadata": {},
     "output_type": "display_data"
    },
    {
     "data": {
      "application/vnd.jupyter.widget-view+json": {
       "model_id": "f9b907c3a7804c24b7031f165abf6d16",
       "version_major": 2,
       "version_minor": 0
      },
      "text/plain": [
       "  0%|          | 0/300 [00:00<?, ?it/s]"
      ]
     },
     "metadata": {},
     "output_type": "display_data"
    },
    {
     "data": {
      "application/vnd.jupyter.widget-view+json": {
       "model_id": "06b725f2a50c4d89b2a2c2b6737e4b7e",
       "version_major": 2,
       "version_minor": 0
      },
      "text/plain": [
       "  0%|          | 0/300 [00:00<?, ?it/s]"
      ]
     },
     "metadata": {},
     "output_type": "display_data"
    },
    {
     "data": {
      "application/vnd.jupyter.widget-view+json": {
       "model_id": "9924f25a5c3d453ba08d24d62e2964e6",
       "version_major": 2,
       "version_minor": 0
      },
      "text/plain": [
       "  0%|          | 0/300 [00:00<?, ?it/s]"
      ]
     },
     "metadata": {},
     "output_type": "display_data"
    },
    {
     "data": {
      "application/vnd.jupyter.widget-view+json": {
       "model_id": "6cb2239f2b5e44b0af85f03aed92d6d4",
       "version_major": 2,
       "version_minor": 0
      },
      "text/plain": [
       "  0%|          | 0/300 [00:00<?, ?it/s]"
      ]
     },
     "metadata": {},
     "output_type": "display_data"
    },
    {
     "data": {
      "application/vnd.jupyter.widget-view+json": {
       "model_id": "a2cc8e370f124fba8961b560a4dd1289",
       "version_major": 2,
       "version_minor": 0
      },
      "text/plain": [
       "  0%|          | 0/300 [00:00<?, ?it/s]"
      ]
     },
     "metadata": {},
     "output_type": "display_data"
    },
    {
     "data": {
      "application/vnd.jupyter.widget-view+json": {
       "model_id": "478b55f6a6744411a4ef0c86ddf9d927",
       "version_major": 2,
       "version_minor": 0
      },
      "text/plain": [
       "  0%|          | 0/300 [00:00<?, ?it/s]"
      ]
     },
     "metadata": {},
     "output_type": "display_data"
    },
    {
     "data": {
      "application/vnd.jupyter.widget-view+json": {
       "model_id": "c40dcf22c5c247898adf459a7aed669c",
       "version_major": 2,
       "version_minor": 0
      },
      "text/plain": [
       "  0%|          | 0/300 [00:00<?, ?it/s]"
      ]
     },
     "metadata": {},
     "output_type": "display_data"
    },
    {
     "data": {
      "application/vnd.jupyter.widget-view+json": {
       "model_id": "1870a4870e5b44eeb7ff5803ffd901d2",
       "version_major": 2,
       "version_minor": 0
      },
      "text/plain": [
       "  0%|          | 0/300 [00:00<?, ?it/s]"
      ]
     },
     "metadata": {},
     "output_type": "display_data"
    },
    {
     "data": {
      "application/vnd.jupyter.widget-view+json": {
       "model_id": "3f38b730a7544753a2a4bdbb9a1a47cf",
       "version_major": 2,
       "version_minor": 0
      },
      "text/plain": [
       "  0%|          | 0/300 [00:00<?, ?it/s]"
      ]
     },
     "metadata": {},
     "output_type": "display_data"
    },
    {
     "data": {
      "application/vnd.jupyter.widget-view+json": {
       "model_id": "a50bfd6f2e90464a8bc7c47cda76b351",
       "version_major": 2,
       "version_minor": 0
      },
      "text/plain": [
       "  0%|          | 0/300 [00:00<?, ?it/s]"
      ]
     },
     "metadata": {},
     "output_type": "display_data"
    },
    {
     "data": {
      "application/vnd.jupyter.widget-view+json": {
       "model_id": "afc4a028ebfb4b678e5eceb331c9203b",
       "version_major": 2,
       "version_minor": 0
      },
      "text/plain": [
       "  0%|          | 0/300 [00:00<?, ?it/s]"
      ]
     },
     "metadata": {},
     "output_type": "display_data"
    },
    {
     "data": {
      "application/vnd.jupyter.widget-view+json": {
       "model_id": "c98f56052c1a4601b5d17322b22e4c7b",
       "version_major": 2,
       "version_minor": 0
      },
      "text/plain": [
       "  0%|          | 0/300 [00:00<?, ?it/s]"
      ]
     },
     "metadata": {},
     "output_type": "display_data"
    },
    {
     "data": {
      "application/vnd.jupyter.widget-view+json": {
       "model_id": "294e00231ec44054ae8e4cc22f533101",
       "version_major": 2,
       "version_minor": 0
      },
      "text/plain": [
       "  0%|          | 0/300 [00:00<?, ?it/s]"
      ]
     },
     "metadata": {},
     "output_type": "display_data"
    },
    {
     "data": {
      "application/vnd.jupyter.widget-view+json": {
       "model_id": "0e5dd1065f0c44a3a7285e2502a2e8f7",
       "version_major": 2,
       "version_minor": 0
      },
      "text/plain": [
       "  0%|          | 0/300 [00:00<?, ?it/s]"
      ]
     },
     "metadata": {},
     "output_type": "display_data"
    },
    {
     "data": {
      "application/vnd.jupyter.widget-view+json": {
       "model_id": "54dc51f9fe68486dab8fb66f93c8c460",
       "version_major": 2,
       "version_minor": 0
      },
      "text/plain": [
       "  0%|          | 0/300 [00:00<?, ?it/s]"
      ]
     },
     "metadata": {},
     "output_type": "display_data"
    },
    {
     "data": {
      "application/vnd.jupyter.widget-view+json": {
       "model_id": "5c8371e599ad4f8fb29a62acf8e5fd68",
       "version_major": 2,
       "version_minor": 0
      },
      "text/plain": [
       "  0%|          | 0/300 [00:00<?, ?it/s]"
      ]
     },
     "metadata": {},
     "output_type": "display_data"
    },
    {
     "data": {
      "application/vnd.jupyter.widget-view+json": {
       "model_id": "b5b64f5886fa4521a05a9a8604f22a84",
       "version_major": 2,
       "version_minor": 0
      },
      "text/plain": [
       "  0%|          | 0/300 [00:00<?, ?it/s]"
      ]
     },
     "metadata": {},
     "output_type": "display_data"
    },
    {
     "data": {
      "application/vnd.jupyter.widget-view+json": {
       "model_id": "2659135d4fe749e1a22928068c7d1afb",
       "version_major": 2,
       "version_minor": 0
      },
      "text/plain": [
       "  0%|          | 0/300 [00:00<?, ?it/s]"
      ]
     },
     "metadata": {},
     "output_type": "display_data"
    },
    {
     "data": {
      "application/vnd.jupyter.widget-view+json": {
       "model_id": "0cef9ba853cd4568b2a69e282d5ec710",
       "version_major": 2,
       "version_minor": 0
      },
      "text/plain": [
       "  0%|          | 0/300 [00:00<?, ?it/s]"
      ]
     },
     "metadata": {},
     "output_type": "display_data"
    },
    {
     "data": {
      "application/vnd.jupyter.widget-view+json": {
       "model_id": "ec9ec3d7352d401ebcc15ee1382431b7",
       "version_major": 2,
       "version_minor": 0
      },
      "text/plain": [
       "  0%|          | 0/300 [00:00<?, ?it/s]"
      ]
     },
     "metadata": {},
     "output_type": "display_data"
    },
    {
     "data": {
      "application/vnd.jupyter.widget-view+json": {
       "model_id": "842767771d414edb87438c920077ff95",
       "version_major": 2,
       "version_minor": 0
      },
      "text/plain": [
       "  0%|          | 0/300 [00:00<?, ?it/s]"
      ]
     },
     "metadata": {},
     "output_type": "display_data"
    },
    {
     "data": {
      "application/vnd.jupyter.widget-view+json": {
       "model_id": "fd2b187741fd400d80c51975cccfc203",
       "version_major": 2,
       "version_minor": 0
      },
      "text/plain": [
       "  0%|          | 0/300 [00:00<?, ?it/s]"
      ]
     },
     "metadata": {},
     "output_type": "display_data"
    },
    {
     "data": {
      "application/vnd.jupyter.widget-view+json": {
       "model_id": "d9a137f94ffb4cbd849e66bfc83903d6",
       "version_major": 2,
       "version_minor": 0
      },
      "text/plain": [
       "  0%|          | 0/300 [00:00<?, ?it/s]"
      ]
     },
     "metadata": {},
     "output_type": "display_data"
    },
    {
     "data": {
      "application/vnd.jupyter.widget-view+json": {
       "model_id": "320814c83aa148c6bee7c9092817c167",
       "version_major": 2,
       "version_minor": 0
      },
      "text/plain": [
       "  0%|          | 0/300 [00:00<?, ?it/s]"
      ]
     },
     "metadata": {},
     "output_type": "display_data"
    },
    {
     "data": {
      "application/vnd.jupyter.widget-view+json": {
       "model_id": "3c4aa52dcc204c5a9549c8a36b272780",
       "version_major": 2,
       "version_minor": 0
      },
      "text/plain": [
       "  0%|          | 0/300 [00:00<?, ?it/s]"
      ]
     },
     "metadata": {},
     "output_type": "display_data"
    },
    {
     "data": {
      "application/vnd.jupyter.widget-view+json": {
       "model_id": "235fc1253af24b5796fbb672ee999fb1",
       "version_major": 2,
       "version_minor": 0
      },
      "text/plain": [
       "  0%|          | 0/300 [00:00<?, ?it/s]"
      ]
     },
     "metadata": {},
     "output_type": "display_data"
    },
    {
     "data": {
      "application/vnd.jupyter.widget-view+json": {
       "model_id": "d8a103738fa24c97ba566ddb53055dff",
       "version_major": 2,
       "version_minor": 0
      },
      "text/plain": [
       "  0%|          | 0/300 [00:00<?, ?it/s]"
      ]
     },
     "metadata": {},
     "output_type": "display_data"
    },
    {
     "data": {
      "application/vnd.jupyter.widget-view+json": {
       "model_id": "96a15d31a32a4933b5f49afe11a27492",
       "version_major": 2,
       "version_minor": 0
      },
      "text/plain": [
       "  0%|          | 0/300 [00:00<?, ?it/s]"
      ]
     },
     "metadata": {},
     "output_type": "display_data"
    },
    {
     "data": {
      "application/vnd.jupyter.widget-view+json": {
       "model_id": "a1de25ca73f84e3b81b61c45b7980ebe",
       "version_major": 2,
       "version_minor": 0
      },
      "text/plain": [
       "  0%|          | 0/300 [00:00<?, ?it/s]"
      ]
     },
     "metadata": {},
     "output_type": "display_data"
    },
    {
     "data": {
      "application/vnd.jupyter.widget-view+json": {
       "model_id": "9ae0130e60b34eb9b721a8ea7b924280",
       "version_major": 2,
       "version_minor": 0
      },
      "text/plain": [
       "  0%|          | 0/300 [00:00<?, ?it/s]"
      ]
     },
     "metadata": {},
     "output_type": "display_data"
    },
    {
     "data": {
      "application/vnd.jupyter.widget-view+json": {
       "model_id": "7c4cdfb975b74e61a9930d88f9889f3a",
       "version_major": 2,
       "version_minor": 0
      },
      "text/plain": [
       "  0%|          | 0/300 [00:00<?, ?it/s]"
      ]
     },
     "metadata": {},
     "output_type": "display_data"
    },
    {
     "data": {
      "application/vnd.jupyter.widget-view+json": {
       "model_id": "57e9816be56e4c689590efd21f95f3d6",
       "version_major": 2,
       "version_minor": 0
      },
      "text/plain": [
       "  0%|          | 0/300 [00:00<?, ?it/s]"
      ]
     },
     "metadata": {},
     "output_type": "display_data"
    },
    {
     "data": {
      "application/vnd.jupyter.widget-view+json": {
       "model_id": "a136c3b5e023490e92d34c8c2182393c",
       "version_major": 2,
       "version_minor": 0
      },
      "text/plain": [
       "  0%|          | 0/300 [00:00<?, ?it/s]"
      ]
     },
     "metadata": {},
     "output_type": "display_data"
    },
    {
     "data": {
      "application/vnd.jupyter.widget-view+json": {
       "model_id": "2e8c2d9e07ff40f89d29fd4a41fb30f2",
       "version_major": 2,
       "version_minor": 0
      },
      "text/plain": [
       "  0%|          | 0/300 [00:00<?, ?it/s]"
      ]
     },
     "metadata": {},
     "output_type": "display_data"
    },
    {
     "data": {
      "application/vnd.jupyter.widget-view+json": {
       "model_id": "68564d5ca6694dc2a6f9dd42a6efd116",
       "version_major": 2,
       "version_minor": 0
      },
      "text/plain": [
       "  0%|          | 0/300 [00:00<?, ?it/s]"
      ]
     },
     "metadata": {},
     "output_type": "display_data"
    },
    {
     "data": {
      "application/vnd.jupyter.widget-view+json": {
       "model_id": "fb44a1a3fdf04930a5893a4818dee07f",
       "version_major": 2,
       "version_minor": 0
      },
      "text/plain": [
       "  0%|          | 0/300 [00:00<?, ?it/s]"
      ]
     },
     "metadata": {},
     "output_type": "display_data"
    },
    {
     "data": {
      "application/vnd.jupyter.widget-view+json": {
       "model_id": "ee41abe5dd5c45c98419fd5465487229",
       "version_major": 2,
       "version_minor": 0
      },
      "text/plain": [
       "  0%|          | 0/300 [00:00<?, ?it/s]"
      ]
     },
     "metadata": {},
     "output_type": "display_data"
    },
    {
     "data": {
      "application/vnd.jupyter.widget-view+json": {
       "model_id": "479a4bd37e0048a0b14c9c98edf7eebc",
       "version_major": 2,
       "version_minor": 0
      },
      "text/plain": [
       "  0%|          | 0/300 [00:00<?, ?it/s]"
      ]
     },
     "metadata": {},
     "output_type": "display_data"
    },
    {
     "data": {
      "application/vnd.jupyter.widget-view+json": {
       "model_id": "7f81374b8e05494dbb312b16d3ad6380",
       "version_major": 2,
       "version_minor": 0
      },
      "text/plain": [
       "  0%|          | 0/300 [00:00<?, ?it/s]"
      ]
     },
     "metadata": {},
     "output_type": "display_data"
    },
    {
     "data": {
      "application/vnd.jupyter.widget-view+json": {
       "model_id": "e281d0887a674ddda1a7856704bed927",
       "version_major": 2,
       "version_minor": 0
      },
      "text/plain": [
       "  0%|          | 0/300 [00:00<?, ?it/s]"
      ]
     },
     "metadata": {},
     "output_type": "display_data"
    },
    {
     "data": {
      "application/vnd.jupyter.widget-view+json": {
       "model_id": "87a947724d3149cb87c97d69f7adcb97",
       "version_major": 2,
       "version_minor": 0
      },
      "text/plain": [
       "  0%|          | 0/300 [00:00<?, ?it/s]"
      ]
     },
     "metadata": {},
     "output_type": "display_data"
    },
    {
     "data": {
      "application/vnd.jupyter.widget-view+json": {
       "model_id": "bafa8dce5a6644e7bd921db11efe9838",
       "version_major": 2,
       "version_minor": 0
      },
      "text/plain": [
       "  0%|          | 0/300 [00:00<?, ?it/s]"
      ]
     },
     "metadata": {},
     "output_type": "display_data"
    },
    {
     "data": {
      "application/vnd.jupyter.widget-view+json": {
       "model_id": "f911ebd59f0347eb98ce1d6a7bedf6c1",
       "version_major": 2,
       "version_minor": 0
      },
      "text/plain": [
       "  0%|          | 0/300 [00:00<?, ?it/s]"
      ]
     },
     "metadata": {},
     "output_type": "display_data"
    },
    {
     "data": {
      "application/vnd.jupyter.widget-view+json": {
       "model_id": "240348342a044839a6a5a16c58fb3042",
       "version_major": 2,
       "version_minor": 0
      },
      "text/plain": [
       "  0%|          | 0/300 [00:00<?, ?it/s]"
      ]
     },
     "metadata": {},
     "output_type": "display_data"
    },
    {
     "data": {
      "application/vnd.jupyter.widget-view+json": {
       "model_id": "8df5f61af8224cdaa0552bb740706729",
       "version_major": 2,
       "version_minor": 0
      },
      "text/plain": [
       "  0%|          | 0/300 [00:00<?, ?it/s]"
      ]
     },
     "metadata": {},
     "output_type": "display_data"
    },
    {
     "data": {
      "application/vnd.jupyter.widget-view+json": {
       "model_id": "dd1b0797adc94ddaad826104d2f016b9",
       "version_major": 2,
       "version_minor": 0
      },
      "text/plain": [
       "  0%|          | 0/300 [00:00<?, ?it/s]"
      ]
     },
     "metadata": {},
     "output_type": "display_data"
    },
    {
     "data": {
      "application/vnd.jupyter.widget-view+json": {
       "model_id": "1759efbbe5504172ba8524ba315997f2",
       "version_major": 2,
       "version_minor": 0
      },
      "text/plain": [
       "  0%|          | 0/300 [00:00<?, ?it/s]"
      ]
     },
     "metadata": {},
     "output_type": "display_data"
    },
    {
     "data": {
      "application/vnd.jupyter.widget-view+json": {
       "model_id": "c2cac7669b7e47dd9f4b1ca94d413580",
       "version_major": 2,
       "version_minor": 0
      },
      "text/plain": [
       "  0%|          | 0/300 [00:00<?, ?it/s]"
      ]
     },
     "metadata": {},
     "output_type": "display_data"
    },
    {
     "data": {
      "application/vnd.jupyter.widget-view+json": {
       "model_id": "07ef2d33efc441d9b45fa5c68dba474c",
       "version_major": 2,
       "version_minor": 0
      },
      "text/plain": [
       "  0%|          | 0/300 [00:00<?, ?it/s]"
      ]
     },
     "metadata": {},
     "output_type": "display_data"
    },
    {
     "data": {
      "application/vnd.jupyter.widget-view+json": {
       "model_id": "6706ddbd2c1141238ba39d39862e5fb8",
       "version_major": 2,
       "version_minor": 0
      },
      "text/plain": [
       "  0%|          | 0/300 [00:00<?, ?it/s]"
      ]
     },
     "metadata": {},
     "output_type": "display_data"
    },
    {
     "data": {
      "application/vnd.jupyter.widget-view+json": {
       "model_id": "c0296ed670614a2598f98b0efc15afa7",
       "version_major": 2,
       "version_minor": 0
      },
      "text/plain": [
       "  0%|          | 0/300 [00:00<?, ?it/s]"
      ]
     },
     "metadata": {},
     "output_type": "display_data"
    },
    {
     "data": {
      "application/vnd.jupyter.widget-view+json": {
       "model_id": "da44feb49bb2473bbcde9bdd79ee677a",
       "version_major": 2,
       "version_minor": 0
      },
      "text/plain": [
       "  0%|          | 0/300 [00:00<?, ?it/s]"
      ]
     },
     "metadata": {},
     "output_type": "display_data"
    },
    {
     "data": {
      "application/vnd.jupyter.widget-view+json": {
       "model_id": "87b4fba4f11d408ab74ca3380c9605ab",
       "version_major": 2,
       "version_minor": 0
      },
      "text/plain": [
       "  0%|          | 0/300 [00:00<?, ?it/s]"
      ]
     },
     "metadata": {},
     "output_type": "display_data"
    },
    {
     "data": {
      "application/vnd.jupyter.widget-view+json": {
       "model_id": "e849f99a5e034372b1278056083d327f",
       "version_major": 2,
       "version_minor": 0
      },
      "text/plain": [
       "  0%|          | 0/300 [00:00<?, ?it/s]"
      ]
     },
     "metadata": {},
     "output_type": "display_data"
    },
    {
     "data": {
      "application/vnd.jupyter.widget-view+json": {
       "model_id": "9614aafbfa3e4834b2d85d6ccbb376c1",
       "version_major": 2,
       "version_minor": 0
      },
      "text/plain": [
       "  0%|          | 0/300 [00:00<?, ?it/s]"
      ]
     },
     "metadata": {},
     "output_type": "display_data"
    },
    {
     "data": {
      "application/vnd.jupyter.widget-view+json": {
       "model_id": "5216a7ed0484420c9ccb0362081de36b",
       "version_major": 2,
       "version_minor": 0
      },
      "text/plain": [
       "  0%|          | 0/300 [00:00<?, ?it/s]"
      ]
     },
     "metadata": {},
     "output_type": "display_data"
    },
    {
     "data": {
      "application/vnd.jupyter.widget-view+json": {
       "model_id": "7bdf38b63339414ea705a324f4c70925",
       "version_major": 2,
       "version_minor": 0
      },
      "text/plain": [
       "  0%|          | 0/300 [00:00<?, ?it/s]"
      ]
     },
     "metadata": {},
     "output_type": "display_data"
    },
    {
     "data": {
      "application/vnd.jupyter.widget-view+json": {
       "model_id": "997389aa956c49eaad204298dc6ec6be",
       "version_major": 2,
       "version_minor": 0
      },
      "text/plain": [
       "  0%|          | 0/300 [00:00<?, ?it/s]"
      ]
     },
     "metadata": {},
     "output_type": "display_data"
    },
    {
     "data": {
      "application/vnd.jupyter.widget-view+json": {
       "model_id": "dd741006f5d04d6d98f905a6b8535c46",
       "version_major": 2,
       "version_minor": 0
      },
      "text/plain": [
       "  0%|          | 0/300 [00:00<?, ?it/s]"
      ]
     },
     "metadata": {},
     "output_type": "display_data"
    },
    {
     "data": {
      "application/vnd.jupyter.widget-view+json": {
       "model_id": "31781981a6b046089c235aa595550629",
       "version_major": 2,
       "version_minor": 0
      },
      "text/plain": [
       "  0%|          | 0/300 [00:00<?, ?it/s]"
      ]
     },
     "metadata": {},
     "output_type": "display_data"
    },
    {
     "data": {
      "application/vnd.jupyter.widget-view+json": {
       "model_id": "e418b2da49d64b4a82d5e197eeedd16f",
       "version_major": 2,
       "version_minor": 0
      },
      "text/plain": [
       "  0%|          | 0/300 [00:00<?, ?it/s]"
      ]
     },
     "metadata": {},
     "output_type": "display_data"
    },
    {
     "data": {
      "application/vnd.jupyter.widget-view+json": {
       "model_id": "b67ae0da6afe44ab98d256e05bccc211",
       "version_major": 2,
       "version_minor": 0
      },
      "text/plain": [
       "  0%|          | 0/300 [00:00<?, ?it/s]"
      ]
     },
     "metadata": {},
     "output_type": "display_data"
    },
    {
     "data": {
      "application/vnd.jupyter.widget-view+json": {
       "model_id": "196bbcd09b42479796ad193d0dab4a24",
       "version_major": 2,
       "version_minor": 0
      },
      "text/plain": [
       "  0%|          | 0/300 [00:00<?, ?it/s]"
      ]
     },
     "metadata": {},
     "output_type": "display_data"
    },
    {
     "data": {
      "application/vnd.jupyter.widget-view+json": {
       "model_id": "145143e7826b4835ae1f566ca43c101a",
       "version_major": 2,
       "version_minor": 0
      },
      "text/plain": [
       "  0%|          | 0/300 [00:00<?, ?it/s]"
      ]
     },
     "metadata": {},
     "output_type": "display_data"
    },
    {
     "data": {
      "application/vnd.jupyter.widget-view+json": {
       "model_id": "fee2fb046c9d492e8121c3d0ef3e81d8",
       "version_major": 2,
       "version_minor": 0
      },
      "text/plain": [
       "  0%|          | 0/300 [00:00<?, ?it/s]"
      ]
     },
     "metadata": {},
     "output_type": "display_data"
    },
    {
     "data": {
      "application/vnd.jupyter.widget-view+json": {
       "model_id": "c9ef25d66eb242b4b57581a5c157ad2d",
       "version_major": 2,
       "version_minor": 0
      },
      "text/plain": [
       "  0%|          | 0/300 [00:00<?, ?it/s]"
      ]
     },
     "metadata": {},
     "output_type": "display_data"
    },
    {
     "data": {
      "application/vnd.jupyter.widget-view+json": {
       "model_id": "c9f8053de95e4071b8dca551c662877c",
       "version_major": 2,
       "version_minor": 0
      },
      "text/plain": [
       "  0%|          | 0/300 [00:00<?, ?it/s]"
      ]
     },
     "metadata": {},
     "output_type": "display_data"
    },
    {
     "data": {
      "application/vnd.jupyter.widget-view+json": {
       "model_id": "5fcb2a3be40b414490632566f49e340c",
       "version_major": 2,
       "version_minor": 0
      },
      "text/plain": [
       "  0%|          | 0/300 [00:00<?, ?it/s]"
      ]
     },
     "metadata": {},
     "output_type": "display_data"
    },
    {
     "data": {
      "application/vnd.jupyter.widget-view+json": {
       "model_id": "48737c88b30e48949ce96dfd7130e5d3",
       "version_major": 2,
       "version_minor": 0
      },
      "text/plain": [
       "  0%|          | 0/300 [00:00<?, ?it/s]"
      ]
     },
     "metadata": {},
     "output_type": "display_data"
    },
    {
     "data": {
      "application/vnd.jupyter.widget-view+json": {
       "model_id": "3461d9984df948069d6664b0eed78dee",
       "version_major": 2,
       "version_minor": 0
      },
      "text/plain": [
       "  0%|          | 0/300 [00:00<?, ?it/s]"
      ]
     },
     "metadata": {},
     "output_type": "display_data"
    },
    {
     "data": {
      "application/vnd.jupyter.widget-view+json": {
       "model_id": "41217e7828d14c54a5e66897b622274b",
       "version_major": 2,
       "version_minor": 0
      },
      "text/plain": [
       "  0%|          | 0/300 [00:00<?, ?it/s]"
      ]
     },
     "metadata": {},
     "output_type": "display_data"
    },
    {
     "data": {
      "application/vnd.jupyter.widget-view+json": {
       "model_id": "7d29bed0655e4cf9b38a686f19d7f9be",
       "version_major": 2,
       "version_minor": 0
      },
      "text/plain": [
       "  0%|          | 0/300 [00:00<?, ?it/s]"
      ]
     },
     "metadata": {},
     "output_type": "display_data"
    },
    {
     "data": {
      "application/vnd.jupyter.widget-view+json": {
       "model_id": "88eb65830d4e4446aa24d20f6d957766",
       "version_major": 2,
       "version_minor": 0
      },
      "text/plain": [
       "  0%|          | 0/300 [00:00<?, ?it/s]"
      ]
     },
     "metadata": {},
     "output_type": "display_data"
    },
    {
     "data": {
      "application/vnd.jupyter.widget-view+json": {
       "model_id": "041f07ac1b124ab1937d5e263c0cf1e1",
       "version_major": 2,
       "version_minor": 0
      },
      "text/plain": [
       "  0%|          | 0/300 [00:00<?, ?it/s]"
      ]
     },
     "metadata": {},
     "output_type": "display_data"
    },
    {
     "data": {
      "application/vnd.jupyter.widget-view+json": {
       "model_id": "e3f5e57ee9fc4a0496ff8e1ece392743",
       "version_major": 2,
       "version_minor": 0
      },
      "text/plain": [
       "  0%|          | 0/300 [00:00<?, ?it/s]"
      ]
     },
     "metadata": {},
     "output_type": "display_data"
    },
    {
     "data": {
      "application/vnd.jupyter.widget-view+json": {
       "model_id": "77cd08122ec8434eb37a9925725ce2e4",
       "version_major": 2,
       "version_minor": 0
      },
      "text/plain": [
       "  0%|          | 0/300 [00:00<?, ?it/s]"
      ]
     },
     "metadata": {},
     "output_type": "display_data"
    },
    {
     "data": {
      "application/vnd.jupyter.widget-view+json": {
       "model_id": "9e196b555e62429ea44424a928e8b3aa",
       "version_major": 2,
       "version_minor": 0
      },
      "text/plain": [
       "  0%|          | 0/300 [00:00<?, ?it/s]"
      ]
     },
     "metadata": {},
     "output_type": "display_data"
    },
    {
     "data": {
      "application/vnd.jupyter.widget-view+json": {
       "model_id": "854963b2b0cb46ae81b6c8cc61a04575",
       "version_major": 2,
       "version_minor": 0
      },
      "text/plain": [
       "  0%|          | 0/300 [00:00<?, ?it/s]"
      ]
     },
     "metadata": {},
     "output_type": "display_data"
    },
    {
     "data": {
      "application/vnd.jupyter.widget-view+json": {
       "model_id": "1cf888fc3f1d4142a89176193e7584da",
       "version_major": 2,
       "version_minor": 0
      },
      "text/plain": [
       "  0%|          | 0/300 [00:00<?, ?it/s]"
      ]
     },
     "metadata": {},
     "output_type": "display_data"
    },
    {
     "data": {
      "application/vnd.jupyter.widget-view+json": {
       "model_id": "837ff4e8f16a4448b4df40e27911bcda",
       "version_major": 2,
       "version_minor": 0
      },
      "text/plain": [
       "  0%|          | 0/300 [00:00<?, ?it/s]"
      ]
     },
     "metadata": {},
     "output_type": "display_data"
    },
    {
     "data": {
      "application/vnd.jupyter.widget-view+json": {
       "model_id": "0bfec2d3bb5a453db01fe52c4fbacf46",
       "version_major": 2,
       "version_minor": 0
      },
      "text/plain": [
       "  0%|          | 0/300 [00:00<?, ?it/s]"
      ]
     },
     "metadata": {},
     "output_type": "display_data"
    },
    {
     "data": {
      "application/vnd.jupyter.widget-view+json": {
       "model_id": "22aa392a1d41414584cf3c1e3fefd5f6",
       "version_major": 2,
       "version_minor": 0
      },
      "text/plain": [
       "  0%|          | 0/300 [00:00<?, ?it/s]"
      ]
     },
     "metadata": {},
     "output_type": "display_data"
    },
    {
     "data": {
      "application/vnd.jupyter.widget-view+json": {
       "model_id": "902a0157bf85447a9195d2d94b7126a0",
       "version_major": 2,
       "version_minor": 0
      },
      "text/plain": [
       "  0%|          | 0/300 [00:00<?, ?it/s]"
      ]
     },
     "metadata": {},
     "output_type": "display_data"
    },
    {
     "data": {
      "application/vnd.jupyter.widget-view+json": {
       "model_id": "ad271d622cfe48cd956ded7c46030a9c",
       "version_major": 2,
       "version_minor": 0
      },
      "text/plain": [
       "  0%|          | 0/300 [00:00<?, ?it/s]"
      ]
     },
     "metadata": {},
     "output_type": "display_data"
    },
    {
     "data": {
      "application/vnd.jupyter.widget-view+json": {
       "model_id": "e85e9f8a05c543aba1453db5630d4b1b",
       "version_major": 2,
       "version_minor": 0
      },
      "text/plain": [
       "  0%|          | 0/300 [00:00<?, ?it/s]"
      ]
     },
     "metadata": {},
     "output_type": "display_data"
    },
    {
     "data": {
      "application/vnd.jupyter.widget-view+json": {
       "model_id": "64f55b3d0daf4cfcb7cbe09f73c500bf",
       "version_major": 2,
       "version_minor": 0
      },
      "text/plain": [
       "  0%|          | 0/300 [00:00<?, ?it/s]"
      ]
     },
     "metadata": {},
     "output_type": "display_data"
    },
    {
     "data": {
      "application/vnd.jupyter.widget-view+json": {
       "model_id": "fd0622b5a4444022b4b82f67d8e4bc74",
       "version_major": 2,
       "version_minor": 0
      },
      "text/plain": [
       "  0%|          | 0/300 [00:00<?, ?it/s]"
      ]
     },
     "metadata": {},
     "output_type": "display_data"
    },
    {
     "data": {
      "application/vnd.jupyter.widget-view+json": {
       "model_id": "4173319b9e29402c9165526563038fd8",
       "version_major": 2,
       "version_minor": 0
      },
      "text/plain": [
       "  0%|          | 0/300 [00:00<?, ?it/s]"
      ]
     },
     "metadata": {},
     "output_type": "display_data"
    },
    {
     "data": {
      "application/vnd.jupyter.widget-view+json": {
       "model_id": "ab771a817ccc4eb5b733682e3b35ced1",
       "version_major": 2,
       "version_minor": 0
      },
      "text/plain": [
       "  0%|          | 0/300 [00:00<?, ?it/s]"
      ]
     },
     "metadata": {},
     "output_type": "display_data"
    },
    {
     "data": {
      "application/vnd.jupyter.widget-view+json": {
       "model_id": "20d67f92a1aa47bda26de070914c8395",
       "version_major": 2,
       "version_minor": 0
      },
      "text/plain": [
       "  0%|          | 0/300 [00:00<?, ?it/s]"
      ]
     },
     "metadata": {},
     "output_type": "display_data"
    },
    {
     "data": {
      "application/vnd.jupyter.widget-view+json": {
       "model_id": "6fc5c16fa8ea42a8872437d2f0892a88",
       "version_major": 2,
       "version_minor": 0
      },
      "text/plain": [
       "  0%|          | 0/300 [00:00<?, ?it/s]"
      ]
     },
     "metadata": {},
     "output_type": "display_data"
    },
    {
     "data": {
      "application/vnd.jupyter.widget-view+json": {
       "model_id": "e5b1b30c9bfb45ec95e7efc441408f90",
       "version_major": 2,
       "version_minor": 0
      },
      "text/plain": [
       "  0%|          | 0/300 [00:00<?, ?it/s]"
      ]
     },
     "metadata": {},
     "output_type": "display_data"
    },
    {
     "data": {
      "application/vnd.jupyter.widget-view+json": {
       "model_id": "4ad3be0815314166915fc1adaf2d93e9",
       "version_major": 2,
       "version_minor": 0
      },
      "text/plain": [
       "  0%|          | 0/300 [00:00<?, ?it/s]"
      ]
     },
     "metadata": {},
     "output_type": "display_data"
    },
    {
     "data": {
      "application/vnd.jupyter.widget-view+json": {
       "model_id": "335e21d686a047f5a524c3781856b0e4",
       "version_major": 2,
       "version_minor": 0
      },
      "text/plain": [
       "  0%|          | 0/300 [00:00<?, ?it/s]"
      ]
     },
     "metadata": {},
     "output_type": "display_data"
    },
    {
     "data": {
      "application/vnd.jupyter.widget-view+json": {
       "model_id": "3a4aa60fdfbf4886b44a8a7a014d23e0",
       "version_major": 2,
       "version_minor": 0
      },
      "text/plain": [
       "  0%|          | 0/300 [00:00<?, ?it/s]"
      ]
     },
     "metadata": {},
     "output_type": "display_data"
    },
    {
     "data": {
      "application/vnd.jupyter.widget-view+json": {
       "model_id": "39f07b1649df48c8abee8f6a39505f2c",
       "version_major": 2,
       "version_minor": 0
      },
      "text/plain": [
       "  0%|          | 0/300 [00:00<?, ?it/s]"
      ]
     },
     "metadata": {},
     "output_type": "display_data"
    },
    {
     "data": {
      "application/vnd.jupyter.widget-view+json": {
       "model_id": "378c42aef81f4533babdc40864e7ded9",
       "version_major": 2,
       "version_minor": 0
      },
      "text/plain": [
       "  0%|          | 0/300 [00:00<?, ?it/s]"
      ]
     },
     "metadata": {},
     "output_type": "display_data"
    },
    {
     "data": {
      "application/vnd.jupyter.widget-view+json": {
       "model_id": "c6fe2141339d47b899d6da2b150a53a3",
       "version_major": 2,
       "version_minor": 0
      },
      "text/plain": [
       "  0%|          | 0/300 [00:00<?, ?it/s]"
      ]
     },
     "metadata": {},
     "output_type": "display_data"
    },
    {
     "data": {
      "application/vnd.jupyter.widget-view+json": {
       "model_id": "168db12b824f4d23a1a577932cdeae45",
       "version_major": 2,
       "version_minor": 0
      },
      "text/plain": [
       "  0%|          | 0/300 [00:00<?, ?it/s]"
      ]
     },
     "metadata": {},
     "output_type": "display_data"
    },
    {
     "data": {
      "application/vnd.jupyter.widget-view+json": {
       "model_id": "455ec651965e4799820fcf013e55434c",
       "version_major": 2,
       "version_minor": 0
      },
      "text/plain": [
       "  0%|          | 0/300 [00:00<?, ?it/s]"
      ]
     },
     "metadata": {},
     "output_type": "display_data"
    },
    {
     "data": {
      "application/vnd.jupyter.widget-view+json": {
       "model_id": "f1af316df27246f88d28deb511a9f5c6",
       "version_major": 2,
       "version_minor": 0
      },
      "text/plain": [
       "  0%|          | 0/300 [00:00<?, ?it/s]"
      ]
     },
     "metadata": {},
     "output_type": "display_data"
    },
    {
     "data": {
      "application/vnd.jupyter.widget-view+json": {
       "model_id": "b6be3f3956bb48fa815c2c58c9d02298",
       "version_major": 2,
       "version_minor": 0
      },
      "text/plain": [
       "  0%|          | 0/300 [00:00<?, ?it/s]"
      ]
     },
     "metadata": {},
     "output_type": "display_data"
    },
    {
     "data": {
      "application/vnd.jupyter.widget-view+json": {
       "model_id": "ffbc5ccaad1a4a1b9c9196013c1f7ec6",
       "version_major": 2,
       "version_minor": 0
      },
      "text/plain": [
       "  0%|          | 0/300 [00:00<?, ?it/s]"
      ]
     },
     "metadata": {},
     "output_type": "display_data"
    },
    {
     "data": {
      "application/vnd.jupyter.widget-view+json": {
       "model_id": "88177d5e83d74a7d9b24cd037ad892ba",
       "version_major": 2,
       "version_minor": 0
      },
      "text/plain": [
       "  0%|          | 0/300 [00:00<?, ?it/s]"
      ]
     },
     "metadata": {},
     "output_type": "display_data"
    },
    {
     "data": {
      "application/vnd.jupyter.widget-view+json": {
       "model_id": "e651a804ab914d75a5a7872ee9926ac9",
       "version_major": 2,
       "version_minor": 0
      },
      "text/plain": [
       "  0%|          | 0/300 [00:00<?, ?it/s]"
      ]
     },
     "metadata": {},
     "output_type": "display_data"
    },
    {
     "data": {
      "application/vnd.jupyter.widget-view+json": {
       "model_id": "11042bd092df4467ad066dfde969d416",
       "version_major": 2,
       "version_minor": 0
      },
      "text/plain": [
       "  0%|          | 0/300 [00:00<?, ?it/s]"
      ]
     },
     "metadata": {},
     "output_type": "display_data"
    },
    {
     "data": {
      "application/vnd.jupyter.widget-view+json": {
       "model_id": "2809ad6ed03340b6bccda3cfaee589db",
       "version_major": 2,
       "version_minor": 0
      },
      "text/plain": [
       "  0%|          | 0/300 [00:00<?, ?it/s]"
      ]
     },
     "metadata": {},
     "output_type": "display_data"
    },
    {
     "data": {
      "application/vnd.jupyter.widget-view+json": {
       "model_id": "4f6d405222b448529558b9831b4a80ad",
       "version_major": 2,
       "version_minor": 0
      },
      "text/plain": [
       "  0%|          | 0/300 [00:00<?, ?it/s]"
      ]
     },
     "metadata": {},
     "output_type": "display_data"
    },
    {
     "data": {
      "application/vnd.jupyter.widget-view+json": {
       "model_id": "ed1269bb6fa24ba595fae99a8cf26546",
       "version_major": 2,
       "version_minor": 0
      },
      "text/plain": [
       "  0%|          | 0/300 [00:00<?, ?it/s]"
      ]
     },
     "metadata": {},
     "output_type": "display_data"
    },
    {
     "data": {
      "application/vnd.jupyter.widget-view+json": {
       "model_id": "d916c4ba43d74aaba7a7714af8383dfe",
       "version_major": 2,
       "version_minor": 0
      },
      "text/plain": [
       "  0%|          | 0/300 [00:00<?, ?it/s]"
      ]
     },
     "metadata": {},
     "output_type": "display_data"
    },
    {
     "data": {
      "application/vnd.jupyter.widget-view+json": {
       "model_id": "b5129cbb665445788c87acc11ee656b4",
       "version_major": 2,
       "version_minor": 0
      },
      "text/plain": [
       "  0%|          | 0/300 [00:00<?, ?it/s]"
      ]
     },
     "metadata": {},
     "output_type": "display_data"
    },
    {
     "data": {
      "application/vnd.jupyter.widget-view+json": {
       "model_id": "65c3f013e32b4b29b90c74a39ec0d7ec",
       "version_major": 2,
       "version_minor": 0
      },
      "text/plain": [
       "  0%|          | 0/300 [00:00<?, ?it/s]"
      ]
     },
     "metadata": {},
     "output_type": "display_data"
    },
    {
     "data": {
      "application/vnd.jupyter.widget-view+json": {
       "model_id": "55fb031bb87240ed9f7f9b85a5b44f2c",
       "version_major": 2,
       "version_minor": 0
      },
      "text/plain": [
       "  0%|          | 0/300 [00:00<?, ?it/s]"
      ]
     },
     "metadata": {},
     "output_type": "display_data"
    },
    {
     "data": {
      "application/vnd.jupyter.widget-view+json": {
       "model_id": "dd9ffa1c57724cf9b14ca2dd067f4e4e",
       "version_major": 2,
       "version_minor": 0
      },
      "text/plain": [
       "  0%|          | 0/300 [00:00<?, ?it/s]"
      ]
     },
     "metadata": {},
     "output_type": "display_data"
    },
    {
     "data": {
      "application/vnd.jupyter.widget-view+json": {
       "model_id": "bad62943f53c48c19a330e6541af942c",
       "version_major": 2,
       "version_minor": 0
      },
      "text/plain": [
       "  0%|          | 0/300 [00:00<?, ?it/s]"
      ]
     },
     "metadata": {},
     "output_type": "display_data"
    },
    {
     "data": {
      "application/vnd.jupyter.widget-view+json": {
       "model_id": "23f32c7add664323a16b6b1a43bc5b53",
       "version_major": 2,
       "version_minor": 0
      },
      "text/plain": [
       "  0%|          | 0/300 [00:00<?, ?it/s]"
      ]
     },
     "metadata": {},
     "output_type": "display_data"
    },
    {
     "data": {
      "application/vnd.jupyter.widget-view+json": {
       "model_id": "7557c7ee250e411aa6121e1e64f52a12",
       "version_major": 2,
       "version_minor": 0
      },
      "text/plain": [
       "  0%|          | 0/300 [00:00<?, ?it/s]"
      ]
     },
     "metadata": {},
     "output_type": "display_data"
    },
    {
     "data": {
      "application/vnd.jupyter.widget-view+json": {
       "model_id": "bfd80970d0c540028098d1880d89a6e7",
       "version_major": 2,
       "version_minor": 0
      },
      "text/plain": [
       "  0%|          | 0/300 [00:00<?, ?it/s]"
      ]
     },
     "metadata": {},
     "output_type": "display_data"
    },
    {
     "data": {
      "application/vnd.jupyter.widget-view+json": {
       "model_id": "086658fbbf39401ab8e953f2fce8e881",
       "version_major": 2,
       "version_minor": 0
      },
      "text/plain": [
       "  0%|          | 0/300 [00:00<?, ?it/s]"
      ]
     },
     "metadata": {},
     "output_type": "display_data"
    },
    {
     "data": {
      "application/vnd.jupyter.widget-view+json": {
       "model_id": "b798a79acf994356b0e0e39eaf75fcac",
       "version_major": 2,
       "version_minor": 0
      },
      "text/plain": [
       "  0%|          | 0/300 [00:00<?, ?it/s]"
      ]
     },
     "metadata": {},
     "output_type": "display_data"
    },
    {
     "data": {
      "application/vnd.jupyter.widget-view+json": {
       "model_id": "83823ec6dfb24ea0bc442c6387a40faf",
       "version_major": 2,
       "version_minor": 0
      },
      "text/plain": [
       "  0%|          | 0/300 [00:00<?, ?it/s]"
      ]
     },
     "metadata": {},
     "output_type": "display_data"
    },
    {
     "data": {
      "application/vnd.jupyter.widget-view+json": {
       "model_id": "e52278c7aa4e4a42a9a236df535ece21",
       "version_major": 2,
       "version_minor": 0
      },
      "text/plain": [
       "  0%|          | 0/300 [00:00<?, ?it/s]"
      ]
     },
     "metadata": {},
     "output_type": "display_data"
    },
    {
     "data": {
      "application/vnd.jupyter.widget-view+json": {
       "model_id": "b2df6d689cf448e88cd5b7891b46b4b0",
       "version_major": 2,
       "version_minor": 0
      },
      "text/plain": [
       "  0%|          | 0/300 [00:00<?, ?it/s]"
      ]
     },
     "metadata": {},
     "output_type": "display_data"
    },
    {
     "data": {
      "application/vnd.jupyter.widget-view+json": {
       "model_id": "31f8a692ee084d6b9863097a38d8cf5b",
       "version_major": 2,
       "version_minor": 0
      },
      "text/plain": [
       "  0%|          | 0/300 [00:00<?, ?it/s]"
      ]
     },
     "metadata": {},
     "output_type": "display_data"
    },
    {
     "data": {
      "application/vnd.jupyter.widget-view+json": {
       "model_id": "6ee58f8a18ab4238ab50f1847ea144f6",
       "version_major": 2,
       "version_minor": 0
      },
      "text/plain": [
       "  0%|          | 0/300 [00:00<?, ?it/s]"
      ]
     },
     "metadata": {},
     "output_type": "display_data"
    },
    {
     "data": {
      "application/vnd.jupyter.widget-view+json": {
       "model_id": "fa98cd86a481400a90341b17f2904b43",
       "version_major": 2,
       "version_minor": 0
      },
      "text/plain": [
       "  0%|          | 0/300 [00:00<?, ?it/s]"
      ]
     },
     "metadata": {},
     "output_type": "display_data"
    },
    {
     "data": {
      "application/vnd.jupyter.widget-view+json": {
       "model_id": "faa9d42ffc754a6685363d39edc4fb4b",
       "version_major": 2,
       "version_minor": 0
      },
      "text/plain": [
       "  0%|          | 0/300 [00:00<?, ?it/s]"
      ]
     },
     "metadata": {},
     "output_type": "display_data"
    },
    {
     "data": {
      "application/vnd.jupyter.widget-view+json": {
       "model_id": "20a10dd33b9942489eed8185ddc7fcad",
       "version_major": 2,
       "version_minor": 0
      },
      "text/plain": [
       "  0%|          | 0/300 [00:00<?, ?it/s]"
      ]
     },
     "metadata": {},
     "output_type": "display_data"
    },
    {
     "data": {
      "application/vnd.jupyter.widget-view+json": {
       "model_id": "5f34e1d2a43d4ab59a59d625e5496453",
       "version_major": 2,
       "version_minor": 0
      },
      "text/plain": [
       "  0%|          | 0/300 [00:00<?, ?it/s]"
      ]
     },
     "metadata": {},
     "output_type": "display_data"
    },
    {
     "data": {
      "application/vnd.jupyter.widget-view+json": {
       "model_id": "c27f1e55cb8f4044bf0f6cda6cb5b2c2",
       "version_major": 2,
       "version_minor": 0
      },
      "text/plain": [
       "  0%|          | 0/300 [00:00<?, ?it/s]"
      ]
     },
     "metadata": {},
     "output_type": "display_data"
    },
    {
     "data": {
      "application/vnd.jupyter.widget-view+json": {
       "model_id": "1d3b64c25a7543b7a1fc5f980bff6269",
       "version_major": 2,
       "version_minor": 0
      },
      "text/plain": [
       "  0%|          | 0/300 [00:00<?, ?it/s]"
      ]
     },
     "metadata": {},
     "output_type": "display_data"
    },
    {
     "data": {
      "application/vnd.jupyter.widget-view+json": {
       "model_id": "008f2b8c8fc94592a59d141f58768629",
       "version_major": 2,
       "version_minor": 0
      },
      "text/plain": [
       "  0%|          | 0/300 [00:00<?, ?it/s]"
      ]
     },
     "metadata": {},
     "output_type": "display_data"
    },
    {
     "data": {
      "application/vnd.jupyter.widget-view+json": {
       "model_id": "fa54b4131c074cdfb6dedb2417a8221e",
       "version_major": 2,
       "version_minor": 0
      },
      "text/plain": [
       "  0%|          | 0/300 [00:00<?, ?it/s]"
      ]
     },
     "metadata": {},
     "output_type": "display_data"
    },
    {
     "data": {
      "application/vnd.jupyter.widget-view+json": {
       "model_id": "38580e075ab341d59a394b3ce5214a2e",
       "version_major": 2,
       "version_minor": 0
      },
      "text/plain": [
       "  0%|          | 0/300 [00:00<?, ?it/s]"
      ]
     },
     "metadata": {},
     "output_type": "display_data"
    },
    {
     "data": {
      "application/vnd.jupyter.widget-view+json": {
       "model_id": "a38a56b571f94a66b7a77d4f61f122f0",
       "version_major": 2,
       "version_minor": 0
      },
      "text/plain": [
       "  0%|          | 0/300 [00:00<?, ?it/s]"
      ]
     },
     "metadata": {},
     "output_type": "display_data"
    },
    {
     "data": {
      "application/vnd.jupyter.widget-view+json": {
       "model_id": "4c356da44c304af8a15ed513fd429dd2",
       "version_major": 2,
       "version_minor": 0
      },
      "text/plain": [
       "  0%|          | 0/300 [00:00<?, ?it/s]"
      ]
     },
     "metadata": {},
     "output_type": "display_data"
    },
    {
     "data": {
      "application/vnd.jupyter.widget-view+json": {
       "model_id": "3717d839f7c949ee9fd3581b5ad0dd35",
       "version_major": 2,
       "version_minor": 0
      },
      "text/plain": [
       "  0%|          | 0/300 [00:00<?, ?it/s]"
      ]
     },
     "metadata": {},
     "output_type": "display_data"
    },
    {
     "data": {
      "application/vnd.jupyter.widget-view+json": {
       "model_id": "a60e95790b9c4ea7bff7de59b8cee88c",
       "version_major": 2,
       "version_minor": 0
      },
      "text/plain": [
       "  0%|          | 0/300 [00:00<?, ?it/s]"
      ]
     },
     "metadata": {},
     "output_type": "display_data"
    },
    {
     "data": {
      "application/vnd.jupyter.widget-view+json": {
       "model_id": "6f647e0b74604cb3b5afdfd74525d062",
       "version_major": 2,
       "version_minor": 0
      },
      "text/plain": [
       "  0%|          | 0/300 [00:00<?, ?it/s]"
      ]
     },
     "metadata": {},
     "output_type": "display_data"
    },
    {
     "data": {
      "application/vnd.jupyter.widget-view+json": {
       "model_id": "2e77fd7f2e224aefa4ce72ede290c797",
       "version_major": 2,
       "version_minor": 0
      },
      "text/plain": [
       "  0%|          | 0/300 [00:00<?, ?it/s]"
      ]
     },
     "metadata": {},
     "output_type": "display_data"
    },
    {
     "data": {
      "application/vnd.jupyter.widget-view+json": {
       "model_id": "eccdb42639c2404694f60946d03d6713",
       "version_major": 2,
       "version_minor": 0
      },
      "text/plain": [
       "  0%|          | 0/300 [00:00<?, ?it/s]"
      ]
     },
     "metadata": {},
     "output_type": "display_data"
    },
    {
     "data": {
      "application/vnd.jupyter.widget-view+json": {
       "model_id": "9d3056c3924d42a580e7a55dcd558f46",
       "version_major": 2,
       "version_minor": 0
      },
      "text/plain": [
       "  0%|          | 0/300 [00:00<?, ?it/s]"
      ]
     },
     "metadata": {},
     "output_type": "display_data"
    },
    {
     "data": {
      "application/vnd.jupyter.widget-view+json": {
       "model_id": "1ad705e0c4744502bb75bacf7e0eb042",
       "version_major": 2,
       "version_minor": 0
      },
      "text/plain": [
       "  0%|          | 0/300 [00:00<?, ?it/s]"
      ]
     },
     "metadata": {},
     "output_type": "display_data"
    },
    {
     "data": {
      "application/vnd.jupyter.widget-view+json": {
       "model_id": "80f30fcf8e204cfdb87dc8d920a2bc62",
       "version_major": 2,
       "version_minor": 0
      },
      "text/plain": [
       "  0%|          | 0/300 [00:00<?, ?it/s]"
      ]
     },
     "metadata": {},
     "output_type": "display_data"
    },
    {
     "data": {
      "application/vnd.jupyter.widget-view+json": {
       "model_id": "385c27fa824648d89b8611c1cf6057fa",
       "version_major": 2,
       "version_minor": 0
      },
      "text/plain": [
       "  0%|          | 0/300 [00:00<?, ?it/s]"
      ]
     },
     "metadata": {},
     "output_type": "display_data"
    },
    {
     "data": {
      "application/vnd.jupyter.widget-view+json": {
       "model_id": "56e2ad490b6b46a99122331618be3a96",
       "version_major": 2,
       "version_minor": 0
      },
      "text/plain": [
       "  0%|          | 0/300 [00:00<?, ?it/s]"
      ]
     },
     "metadata": {},
     "output_type": "display_data"
    },
    {
     "data": {
      "application/vnd.jupyter.widget-view+json": {
       "model_id": "70c2063593d8479a82114eca0f95e902",
       "version_major": 2,
       "version_minor": 0
      },
      "text/plain": [
       "  0%|          | 0/300 [00:00<?, ?it/s]"
      ]
     },
     "metadata": {},
     "output_type": "display_data"
    },
    {
     "data": {
      "application/vnd.jupyter.widget-view+json": {
       "model_id": "de5fb14a5db444edad1aa9d9e83ee088",
       "version_major": 2,
       "version_minor": 0
      },
      "text/plain": [
       "  0%|          | 0/300 [00:00<?, ?it/s]"
      ]
     },
     "metadata": {},
     "output_type": "display_data"
    },
    {
     "data": {
      "application/vnd.jupyter.widget-view+json": {
       "model_id": "9bbc134347be489cb53834e76568deda",
       "version_major": 2,
       "version_minor": 0
      },
      "text/plain": [
       "  0%|          | 0/300 [00:00<?, ?it/s]"
      ]
     },
     "metadata": {},
     "output_type": "display_data"
    },
    {
     "data": {
      "application/vnd.jupyter.widget-view+json": {
       "model_id": "518bf54e4ba2457aa3c4128cea75fd8f",
       "version_major": 2,
       "version_minor": 0
      },
      "text/plain": [
       "  0%|          | 0/300 [00:00<?, ?it/s]"
      ]
     },
     "metadata": {},
     "output_type": "display_data"
    },
    {
     "data": {
      "application/vnd.jupyter.widget-view+json": {
       "model_id": "f45f66212c2e4f299faa2893500a52ac",
       "version_major": 2,
       "version_minor": 0
      },
      "text/plain": [
       "  0%|          | 0/300 [00:00<?, ?it/s]"
      ]
     },
     "metadata": {},
     "output_type": "display_data"
    },
    {
     "data": {
      "application/vnd.jupyter.widget-view+json": {
       "model_id": "9d00aedc982c49c9a52dd740754e9199",
       "version_major": 2,
       "version_minor": 0
      },
      "text/plain": [
       "  0%|          | 0/300 [00:00<?, ?it/s]"
      ]
     },
     "metadata": {},
     "output_type": "display_data"
    },
    {
     "data": {
      "application/vnd.jupyter.widget-view+json": {
       "model_id": "32e8983659924933af104445dfb1e78e",
       "version_major": 2,
       "version_minor": 0
      },
      "text/plain": [
       "  0%|          | 0/300 [00:00<?, ?it/s]"
      ]
     },
     "metadata": {},
     "output_type": "display_data"
    },
    {
     "data": {
      "application/vnd.jupyter.widget-view+json": {
       "model_id": "4949d5093f044af9bd32d2316621883b",
       "version_major": 2,
       "version_minor": 0
      },
      "text/plain": [
       "  0%|          | 0/300 [00:00<?, ?it/s]"
      ]
     },
     "metadata": {},
     "output_type": "display_data"
    },
    {
     "data": {
      "application/vnd.jupyter.widget-view+json": {
       "model_id": "594448b240274913b5e3f5f9e627e80d",
       "version_major": 2,
       "version_minor": 0
      },
      "text/plain": [
       "  0%|          | 0/300 [00:00<?, ?it/s]"
      ]
     },
     "metadata": {},
     "output_type": "display_data"
    },
    {
     "data": {
      "application/vnd.jupyter.widget-view+json": {
       "model_id": "0e1cdf93f8a0432193c209ea2e337f1a",
       "version_major": 2,
       "version_minor": 0
      },
      "text/plain": [
       "  0%|          | 0/300 [00:00<?, ?it/s]"
      ]
     },
     "metadata": {},
     "output_type": "display_data"
    },
    {
     "data": {
      "application/vnd.jupyter.widget-view+json": {
       "model_id": "65f9b74851ae4d73959dbdc20bd059c2",
       "version_major": 2,
       "version_minor": 0
      },
      "text/plain": [
       "  0%|          | 0/300 [00:00<?, ?it/s]"
      ]
     },
     "metadata": {},
     "output_type": "display_data"
    },
    {
     "data": {
      "application/vnd.jupyter.widget-view+json": {
       "model_id": "fb95e1eff29545d88ce29bcdd205d78a",
       "version_major": 2,
       "version_minor": 0
      },
      "text/plain": [
       "  0%|          | 0/300 [00:00<?, ?it/s]"
      ]
     },
     "metadata": {},
     "output_type": "display_data"
    },
    {
     "data": {
      "application/vnd.jupyter.widget-view+json": {
       "model_id": "3045499ca10845d9a9ac9263a2430d18",
       "version_major": 2,
       "version_minor": 0
      },
      "text/plain": [
       "  0%|          | 0/300 [00:00<?, ?it/s]"
      ]
     },
     "metadata": {},
     "output_type": "display_data"
    },
    {
     "data": {
      "application/vnd.jupyter.widget-view+json": {
       "model_id": "db433260278f4744be5770eb0b48f0c2",
       "version_major": 2,
       "version_minor": 0
      },
      "text/plain": [
       "  0%|          | 0/300 [00:00<?, ?it/s]"
      ]
     },
     "metadata": {},
     "output_type": "display_data"
    },
    {
     "data": {
      "application/vnd.jupyter.widget-view+json": {
       "model_id": "f6aab27abbac4fc48fbba180ce793ad0",
       "version_major": 2,
       "version_minor": 0
      },
      "text/plain": [
       "  0%|          | 0/300 [00:00<?, ?it/s]"
      ]
     },
     "metadata": {},
     "output_type": "display_data"
    },
    {
     "data": {
      "application/vnd.jupyter.widget-view+json": {
       "model_id": "3fe9c3a03a7e41a581400294480d536b",
       "version_major": 2,
       "version_minor": 0
      },
      "text/plain": [
       "  0%|          | 0/300 [00:00<?, ?it/s]"
      ]
     },
     "metadata": {},
     "output_type": "display_data"
    },
    {
     "data": {
      "application/vnd.jupyter.widget-view+json": {
       "model_id": "6563c44d3f1440b39163e77cf8665ff9",
       "version_major": 2,
       "version_minor": 0
      },
      "text/plain": [
       "  0%|          | 0/300 [00:00<?, ?it/s]"
      ]
     },
     "metadata": {},
     "output_type": "display_data"
    },
    {
     "data": {
      "application/vnd.jupyter.widget-view+json": {
       "model_id": "e2a7e339616e4151b4fc1783f69f208c",
       "version_major": 2,
       "version_minor": 0
      },
      "text/plain": [
       "  0%|          | 0/300 [00:00<?, ?it/s]"
      ]
     },
     "metadata": {},
     "output_type": "display_data"
    },
    {
     "data": {
      "application/vnd.jupyter.widget-view+json": {
       "model_id": "fa5931f409ed423ba4511f0acda7f876",
       "version_major": 2,
       "version_minor": 0
      },
      "text/plain": [
       "  0%|          | 0/300 [00:00<?, ?it/s]"
      ]
     },
     "metadata": {},
     "output_type": "display_data"
    },
    {
     "data": {
      "application/vnd.jupyter.widget-view+json": {
       "model_id": "77001182209f4e72b3c8db9a445d05f4",
       "version_major": 2,
       "version_minor": 0
      },
      "text/plain": [
       "  0%|          | 0/300 [00:00<?, ?it/s]"
      ]
     },
     "metadata": {},
     "output_type": "display_data"
    },
    {
     "data": {
      "application/vnd.jupyter.widget-view+json": {
       "model_id": "8a359f08f38d4a7a8700a3662bbf5c1e",
       "version_major": 2,
       "version_minor": 0
      },
      "text/plain": [
       "  0%|          | 0/300 [00:00<?, ?it/s]"
      ]
     },
     "metadata": {},
     "output_type": "display_data"
    },
    {
     "data": {
      "application/vnd.jupyter.widget-view+json": {
       "model_id": "ecc5b9ab8a3a46efbc7fc1209ccfb9ca",
       "version_major": 2,
       "version_minor": 0
      },
      "text/plain": [
       "  0%|          | 0/300 [00:00<?, ?it/s]"
      ]
     },
     "metadata": {},
     "output_type": "display_data"
    },
    {
     "data": {
      "application/vnd.jupyter.widget-view+json": {
       "model_id": "3765a563274148d592217d96d8820ea9",
       "version_major": 2,
       "version_minor": 0
      },
      "text/plain": [
       "  0%|          | 0/300 [00:00<?, ?it/s]"
      ]
     },
     "metadata": {},
     "output_type": "display_data"
    },
    {
     "data": {
      "application/vnd.jupyter.widget-view+json": {
       "model_id": "98920329191e40cb91759573e81f732d",
       "version_major": 2,
       "version_minor": 0
      },
      "text/plain": [
       "  0%|          | 0/300 [00:00<?, ?it/s]"
      ]
     },
     "metadata": {},
     "output_type": "display_data"
    },
    {
     "data": {
      "application/vnd.jupyter.widget-view+json": {
       "model_id": "86c9743fc0ca464a874290e922f39314",
       "version_major": 2,
       "version_minor": 0
      },
      "text/plain": [
       "  0%|          | 0/300 [00:00<?, ?it/s]"
      ]
     },
     "metadata": {},
     "output_type": "display_data"
    },
    {
     "data": {
      "application/vnd.jupyter.widget-view+json": {
       "model_id": "02db54776f584bde9ae0c7368338fa30",
       "version_major": 2,
       "version_minor": 0
      },
      "text/plain": [
       "  0%|          | 0/300 [00:00<?, ?it/s]"
      ]
     },
     "metadata": {},
     "output_type": "display_data"
    },
    {
     "data": {
      "application/vnd.jupyter.widget-view+json": {
       "model_id": "b74c5558c6a24a4582abed548124f904",
       "version_major": 2,
       "version_minor": 0
      },
      "text/plain": [
       "  0%|          | 0/300 [00:00<?, ?it/s]"
      ]
     },
     "metadata": {},
     "output_type": "display_data"
    },
    {
     "data": {
      "application/vnd.jupyter.widget-view+json": {
       "model_id": "5e4060cbf60b4606abe442c345b49a1d",
       "version_major": 2,
       "version_minor": 0
      },
      "text/plain": [
       "  0%|          | 0/300 [00:00<?, ?it/s]"
      ]
     },
     "metadata": {},
     "output_type": "display_data"
    },
    {
     "data": {
      "application/vnd.jupyter.widget-view+json": {
       "model_id": "1ee0d2c77aff46f0902e21c4af950e2a",
       "version_major": 2,
       "version_minor": 0
      },
      "text/plain": [
       "  0%|          | 0/300 [00:00<?, ?it/s]"
      ]
     },
     "metadata": {},
     "output_type": "display_data"
    },
    {
     "data": {
      "application/vnd.jupyter.widget-view+json": {
       "model_id": "df979e2676dd4932a5a2dfa95e130aa3",
       "version_major": 2,
       "version_minor": 0
      },
      "text/plain": [
       "  0%|          | 0/300 [00:00<?, ?it/s]"
      ]
     },
     "metadata": {},
     "output_type": "display_data"
    },
    {
     "data": {
      "application/vnd.jupyter.widget-view+json": {
       "model_id": "b7b217d6000a4a61bd17d65b0c832694",
       "version_major": 2,
       "version_minor": 0
      },
      "text/plain": [
       "  0%|          | 0/300 [00:00<?, ?it/s]"
      ]
     },
     "metadata": {},
     "output_type": "display_data"
    },
    {
     "data": {
      "application/vnd.jupyter.widget-view+json": {
       "model_id": "50fc8a9bbcc04529b1b013b684cc2c6c",
       "version_major": 2,
       "version_minor": 0
      },
      "text/plain": [
       "  0%|          | 0/300 [00:00<?, ?it/s]"
      ]
     },
     "metadata": {},
     "output_type": "display_data"
    },
    {
     "data": {
      "application/vnd.jupyter.widget-view+json": {
       "model_id": "0a1c706c6730433dbb582333eeb67ca6",
       "version_major": 2,
       "version_minor": 0
      },
      "text/plain": [
       "  0%|          | 0/300 [00:00<?, ?it/s]"
      ]
     },
     "metadata": {},
     "output_type": "display_data"
    },
    {
     "data": {
      "application/vnd.jupyter.widget-view+json": {
       "model_id": "e319d3e37c934e5496c600351aaf0965",
       "version_major": 2,
       "version_minor": 0
      },
      "text/plain": [
       "  0%|          | 0/300 [00:00<?, ?it/s]"
      ]
     },
     "metadata": {},
     "output_type": "display_data"
    },
    {
     "data": {
      "application/vnd.jupyter.widget-view+json": {
       "model_id": "217bc24e2b5e4292890f11373a6e2a8c",
       "version_major": 2,
       "version_minor": 0
      },
      "text/plain": [
       "  0%|          | 0/300 [00:00<?, ?it/s]"
      ]
     },
     "metadata": {},
     "output_type": "display_data"
    },
    {
     "data": {
      "application/vnd.jupyter.widget-view+json": {
       "model_id": "8ed57a1177eb4189a2fd49de1834ffbc",
       "version_major": 2,
       "version_minor": 0
      },
      "text/plain": [
       "  0%|          | 0/300 [00:00<?, ?it/s]"
      ]
     },
     "metadata": {},
     "output_type": "display_data"
    },
    {
     "data": {
      "application/vnd.jupyter.widget-view+json": {
       "model_id": "9bec455f6b67453da262fc1498043941",
       "version_major": 2,
       "version_minor": 0
      },
      "text/plain": [
       "  0%|          | 0/300 [00:00<?, ?it/s]"
      ]
     },
     "metadata": {},
     "output_type": "display_data"
    },
    {
     "data": {
      "application/vnd.jupyter.widget-view+json": {
       "model_id": "c21e0dd262934cdbb520cca7d7a5bffa",
       "version_major": 2,
       "version_minor": 0
      },
      "text/plain": [
       "  0%|          | 0/300 [00:00<?, ?it/s]"
      ]
     },
     "metadata": {},
     "output_type": "display_data"
    },
    {
     "data": {
      "application/vnd.jupyter.widget-view+json": {
       "model_id": "0bfea9f04a294a11948038cfec7eff02",
       "version_major": 2,
       "version_minor": 0
      },
      "text/plain": [
       "  0%|          | 0/300 [00:00<?, ?it/s]"
      ]
     },
     "metadata": {},
     "output_type": "display_data"
    },
    {
     "data": {
      "application/vnd.jupyter.widget-view+json": {
       "model_id": "6f708e471f034439a66a3a8af3884bb6",
       "version_major": 2,
       "version_minor": 0
      },
      "text/plain": [
       "  0%|          | 0/300 [00:00<?, ?it/s]"
      ]
     },
     "metadata": {},
     "output_type": "display_data"
    },
    {
     "data": {
      "application/vnd.jupyter.widget-view+json": {
       "model_id": "3b4f6d77ad074195b11721b05accf94f",
       "version_major": 2,
       "version_minor": 0
      },
      "text/plain": [
       "  0%|          | 0/300 [00:00<?, ?it/s]"
      ]
     },
     "metadata": {},
     "output_type": "display_data"
    },
    {
     "data": {
      "application/vnd.jupyter.widget-view+json": {
       "model_id": "d4a7d30db1424b69ab94db956177cef4",
       "version_major": 2,
       "version_minor": 0
      },
      "text/plain": [
       "  0%|          | 0/300 [00:00<?, ?it/s]"
      ]
     },
     "metadata": {},
     "output_type": "display_data"
    },
    {
     "data": {
      "application/vnd.jupyter.widget-view+json": {
       "model_id": "1a276931035f422da11be99ace543827",
       "version_major": 2,
       "version_minor": 0
      },
      "text/plain": [
       "  0%|          | 0/300 [00:00<?, ?it/s]"
      ]
     },
     "metadata": {},
     "output_type": "display_data"
    },
    {
     "data": {
      "application/vnd.jupyter.widget-view+json": {
       "model_id": "dd0f5b44e77f45d79d6a413a32b180b6",
       "version_major": 2,
       "version_minor": 0
      },
      "text/plain": [
       "  0%|          | 0/300 [00:00<?, ?it/s]"
      ]
     },
     "metadata": {},
     "output_type": "display_data"
    },
    {
     "data": {
      "application/vnd.jupyter.widget-view+json": {
       "model_id": "46246ec7b8e34d2a8854f34d367cfd3f",
       "version_major": 2,
       "version_minor": 0
      },
      "text/plain": [
       "  0%|          | 0/300 [00:00<?, ?it/s]"
      ]
     },
     "metadata": {},
     "output_type": "display_data"
    },
    {
     "data": {
      "application/vnd.jupyter.widget-view+json": {
       "model_id": "172fc59391504aab901fce0f84701cc9",
       "version_major": 2,
       "version_minor": 0
      },
      "text/plain": [
       "  0%|          | 0/300 [00:00<?, ?it/s]"
      ]
     },
     "metadata": {},
     "output_type": "display_data"
    },
    {
     "data": {
      "application/vnd.jupyter.widget-view+json": {
       "model_id": "7736c8fa8d024cc581e341848e1d9c71",
       "version_major": 2,
       "version_minor": 0
      },
      "text/plain": [
       "  0%|          | 0/300 [00:00<?, ?it/s]"
      ]
     },
     "metadata": {},
     "output_type": "display_data"
    },
    {
     "data": {
      "application/vnd.jupyter.widget-view+json": {
       "model_id": "dbfc00513eb64b139edb1049e53bdb41",
       "version_major": 2,
       "version_minor": 0
      },
      "text/plain": [
       "  0%|          | 0/300 [00:00<?, ?it/s]"
      ]
     },
     "metadata": {},
     "output_type": "display_data"
    },
    {
     "data": {
      "application/vnd.jupyter.widget-view+json": {
       "model_id": "dce991e9ecaa486f9b35c6b8381bc4cf",
       "version_major": 2,
       "version_minor": 0
      },
      "text/plain": [
       "  0%|          | 0/300 [00:00<?, ?it/s]"
      ]
     },
     "metadata": {},
     "output_type": "display_data"
    },
    {
     "data": {
      "application/vnd.jupyter.widget-view+json": {
       "model_id": "bb517f1baf434e6686361df9b07e02c5",
       "version_major": 2,
       "version_minor": 0
      },
      "text/plain": [
       "  0%|          | 0/300 [00:00<?, ?it/s]"
      ]
     },
     "metadata": {},
     "output_type": "display_data"
    },
    {
     "data": {
      "application/vnd.jupyter.widget-view+json": {
       "model_id": "429b3ee2a4d64889b3fa71b4d2a56487",
       "version_major": 2,
       "version_minor": 0
      },
      "text/plain": [
       "  0%|          | 0/300 [00:00<?, ?it/s]"
      ]
     },
     "metadata": {},
     "output_type": "display_data"
    },
    {
     "data": {
      "application/vnd.jupyter.widget-view+json": {
       "model_id": "416a59d107c04bb3a8ba1a2a0b017b4c",
       "version_major": 2,
       "version_minor": 0
      },
      "text/plain": [
       "  0%|          | 0/300 [00:00<?, ?it/s]"
      ]
     },
     "metadata": {},
     "output_type": "display_data"
    },
    {
     "data": {
      "application/vnd.jupyter.widget-view+json": {
       "model_id": "65de574b44414bc99e3de8a0252a737f",
       "version_major": 2,
       "version_minor": 0
      },
      "text/plain": [
       "  0%|          | 0/300 [00:00<?, ?it/s]"
      ]
     },
     "metadata": {},
     "output_type": "display_data"
    },
    {
     "data": {
      "application/vnd.jupyter.widget-view+json": {
       "model_id": "54dc059be791441a83ac857cf0083a1d",
       "version_major": 2,
       "version_minor": 0
      },
      "text/plain": [
       "  0%|          | 0/300 [00:00<?, ?it/s]"
      ]
     },
     "metadata": {},
     "output_type": "display_data"
    },
    {
     "data": {
      "application/vnd.jupyter.widget-view+json": {
       "model_id": "6561111031414754bc1f5556021a5f0f",
       "version_major": 2,
       "version_minor": 0
      },
      "text/plain": [
       "  0%|          | 0/300 [00:00<?, ?it/s]"
      ]
     },
     "metadata": {},
     "output_type": "display_data"
    },
    {
     "data": {
      "application/vnd.jupyter.widget-view+json": {
       "model_id": "81a36ac36c2f4f339241ca8331c65424",
       "version_major": 2,
       "version_minor": 0
      },
      "text/plain": [
       "  0%|          | 0/300 [00:00<?, ?it/s]"
      ]
     },
     "metadata": {},
     "output_type": "display_data"
    },
    {
     "data": {
      "application/vnd.jupyter.widget-view+json": {
       "model_id": "844203a0a61a445d9dabf7239d74b6d9",
       "version_major": 2,
       "version_minor": 0
      },
      "text/plain": [
       "  0%|          | 0/300 [00:00<?, ?it/s]"
      ]
     },
     "metadata": {},
     "output_type": "display_data"
    },
    {
     "data": {
      "application/vnd.jupyter.widget-view+json": {
       "model_id": "488531ae6e074083b7f00ec87341aa0d",
       "version_major": 2,
       "version_minor": 0
      },
      "text/plain": [
       "  0%|          | 0/300 [00:00<?, ?it/s]"
      ]
     },
     "metadata": {},
     "output_type": "display_data"
    },
    {
     "data": {
      "application/vnd.jupyter.widget-view+json": {
       "model_id": "53b4914b5c7b41db9184da3ba1db4979",
       "version_major": 2,
       "version_minor": 0
      },
      "text/plain": [
       "  0%|          | 0/300 [00:00<?, ?it/s]"
      ]
     },
     "metadata": {},
     "output_type": "display_data"
    },
    {
     "data": {
      "application/vnd.jupyter.widget-view+json": {
       "model_id": "5844ada328c045b8b41fe87aa4c7fbdc",
       "version_major": 2,
       "version_minor": 0
      },
      "text/plain": [
       "  0%|          | 0/300 [00:00<?, ?it/s]"
      ]
     },
     "metadata": {},
     "output_type": "display_data"
    },
    {
     "data": {
      "application/vnd.jupyter.widget-view+json": {
       "model_id": "345d72afdc864a02a106bfbab00c520f",
       "version_major": 2,
       "version_minor": 0
      },
      "text/plain": [
       "  0%|          | 0/300 [00:00<?, ?it/s]"
      ]
     },
     "metadata": {},
     "output_type": "display_data"
    },
    {
     "data": {
      "application/vnd.jupyter.widget-view+json": {
       "model_id": "04e51976cb424c6a800e401f39ff6b04",
       "version_major": 2,
       "version_minor": 0
      },
      "text/plain": [
       "  0%|          | 0/300 [00:00<?, ?it/s]"
      ]
     },
     "metadata": {},
     "output_type": "display_data"
    },
    {
     "data": {
      "application/vnd.jupyter.widget-view+json": {
       "model_id": "a44541753e9b495d95a7658e4426ff56",
       "version_major": 2,
       "version_minor": 0
      },
      "text/plain": [
       "  0%|          | 0/300 [00:00<?, ?it/s]"
      ]
     },
     "metadata": {},
     "output_type": "display_data"
    },
    {
     "data": {
      "application/vnd.jupyter.widget-view+json": {
       "model_id": "e0f31d94961944a9b5248086f1ef7e32",
       "version_major": 2,
       "version_minor": 0
      },
      "text/plain": [
       "  0%|          | 0/300 [00:00<?, ?it/s]"
      ]
     },
     "metadata": {},
     "output_type": "display_data"
    },
    {
     "data": {
      "application/vnd.jupyter.widget-view+json": {
       "model_id": "9a5420fb49994916be0d1f59375d99cb",
       "version_major": 2,
       "version_minor": 0
      },
      "text/plain": [
       "  0%|          | 0/300 [00:00<?, ?it/s]"
      ]
     },
     "metadata": {},
     "output_type": "display_data"
    },
    {
     "data": {
      "application/vnd.jupyter.widget-view+json": {
       "model_id": "59a0ddba58d84ca69fcf0ee6937e25f5",
       "version_major": 2,
       "version_minor": 0
      },
      "text/plain": [
       "  0%|          | 0/300 [00:00<?, ?it/s]"
      ]
     },
     "metadata": {},
     "output_type": "display_data"
    },
    {
     "data": {
      "application/vnd.jupyter.widget-view+json": {
       "model_id": "c1b4147247994a96b9ef29556387131a",
       "version_major": 2,
       "version_minor": 0
      },
      "text/plain": [
       "  0%|          | 0/300 [00:00<?, ?it/s]"
      ]
     },
     "metadata": {},
     "output_type": "display_data"
    },
    {
     "data": {
      "application/vnd.jupyter.widget-view+json": {
       "model_id": "be3af08277a140fbb946d2dcbcb9cb7c",
       "version_major": 2,
       "version_minor": 0
      },
      "text/plain": [
       "  0%|          | 0/300 [00:00<?, ?it/s]"
      ]
     },
     "metadata": {},
     "output_type": "display_data"
    },
    {
     "data": {
      "application/vnd.jupyter.widget-view+json": {
       "model_id": "b3f20ec2c08147aaa4a3baee89e955fd",
       "version_major": 2,
       "version_minor": 0
      },
      "text/plain": [
       "  0%|          | 0/300 [00:00<?, ?it/s]"
      ]
     },
     "metadata": {},
     "output_type": "display_data"
    },
    {
     "data": {
      "application/vnd.jupyter.widget-view+json": {
       "model_id": "5615b013d5814a518a831b51ac206c17",
       "version_major": 2,
       "version_minor": 0
      },
      "text/plain": [
       "  0%|          | 0/300 [00:00<?, ?it/s]"
      ]
     },
     "metadata": {},
     "output_type": "display_data"
    },
    {
     "data": {
      "application/vnd.jupyter.widget-view+json": {
       "model_id": "588071ef03614e67a43fa0fb1343cbbd",
       "version_major": 2,
       "version_minor": 0
      },
      "text/plain": [
       "  0%|          | 0/300 [00:00<?, ?it/s]"
      ]
     },
     "metadata": {},
     "output_type": "display_data"
    },
    {
     "data": {
      "application/vnd.jupyter.widget-view+json": {
       "model_id": "53d6553cb76c4c2492b3cf9bf626fd5d",
       "version_major": 2,
       "version_minor": 0
      },
      "text/plain": [
       "  0%|          | 0/300 [00:00<?, ?it/s]"
      ]
     },
     "metadata": {},
     "output_type": "display_data"
    },
    {
     "data": {
      "application/vnd.jupyter.widget-view+json": {
       "model_id": "3e6069ad536a4111833c69dfa2e31727",
       "version_major": 2,
       "version_minor": 0
      },
      "text/plain": [
       "  0%|          | 0/300 [00:00<?, ?it/s]"
      ]
     },
     "metadata": {},
     "output_type": "display_data"
    },
    {
     "data": {
      "application/vnd.jupyter.widget-view+json": {
       "model_id": "c69f8058f04848019193ce156757ae3f",
       "version_major": 2,
       "version_minor": 0
      },
      "text/plain": [
       "  0%|          | 0/300 [00:00<?, ?it/s]"
      ]
     },
     "metadata": {},
     "output_type": "display_data"
    },
    {
     "data": {
      "application/vnd.jupyter.widget-view+json": {
       "model_id": "5ee54c1803264d229f23433dc15a6a66",
       "version_major": 2,
       "version_minor": 0
      },
      "text/plain": [
       "  0%|          | 0/300 [00:00<?, ?it/s]"
      ]
     },
     "metadata": {},
     "output_type": "display_data"
    },
    {
     "data": {
      "application/vnd.jupyter.widget-view+json": {
       "model_id": "ab928d2a43bd417383cae440a23ffd93",
       "version_major": 2,
       "version_minor": 0
      },
      "text/plain": [
       "  0%|          | 0/300 [00:00<?, ?it/s]"
      ]
     },
     "metadata": {},
     "output_type": "display_data"
    },
    {
     "data": {
      "application/vnd.jupyter.widget-view+json": {
       "model_id": "4cf1be0864774146ab5ea6a41e6ff1f3",
       "version_major": 2,
       "version_minor": 0
      },
      "text/plain": [
       "  0%|          | 0/300 [00:00<?, ?it/s]"
      ]
     },
     "metadata": {},
     "output_type": "display_data"
    },
    {
     "data": {
      "application/vnd.jupyter.widget-view+json": {
       "model_id": "daa734494b3d4b20be4c36910579a0ce",
       "version_major": 2,
       "version_minor": 0
      },
      "text/plain": [
       "  0%|          | 0/300 [00:00<?, ?it/s]"
      ]
     },
     "metadata": {},
     "output_type": "display_data"
    },
    {
     "data": {
      "application/vnd.jupyter.widget-view+json": {
       "model_id": "e7bdc6a43f744886ad38e07f06c2b49a",
       "version_major": 2,
       "version_minor": 0
      },
      "text/plain": [
       "  0%|          | 0/300 [00:00<?, ?it/s]"
      ]
     },
     "metadata": {},
     "output_type": "display_data"
    },
    {
     "data": {
      "application/vnd.jupyter.widget-view+json": {
       "model_id": "fffccbe3a358443d9dece6bd6526f946",
       "version_major": 2,
       "version_minor": 0
      },
      "text/plain": [
       "  0%|          | 0/300 [00:00<?, ?it/s]"
      ]
     },
     "metadata": {},
     "output_type": "display_data"
    },
    {
     "data": {
      "application/vnd.jupyter.widget-view+json": {
       "model_id": "a835b6df6e2c40c3bfce84718dfba439",
       "version_major": 2,
       "version_minor": 0
      },
      "text/plain": [
       "  0%|          | 0/300 [00:00<?, ?it/s]"
      ]
     },
     "metadata": {},
     "output_type": "display_data"
    },
    {
     "data": {
      "application/vnd.jupyter.widget-view+json": {
       "model_id": "c0a5c6a3913648d6a59178a5cdae0ec9",
       "version_major": 2,
       "version_minor": 0
      },
      "text/plain": [
       "  0%|          | 0/300 [00:00<?, ?it/s]"
      ]
     },
     "metadata": {},
     "output_type": "display_data"
    },
    {
     "data": {
      "application/vnd.jupyter.widget-view+json": {
       "model_id": "fd1c1125254a4ce38e36010de312ecd1",
       "version_major": 2,
       "version_minor": 0
      },
      "text/plain": [
       "  0%|          | 0/300 [00:00<?, ?it/s]"
      ]
     },
     "metadata": {},
     "output_type": "display_data"
    },
    {
     "data": {
      "application/vnd.jupyter.widget-view+json": {
       "model_id": "b620b26582d84103a1ff769d30dd0769",
       "version_major": 2,
       "version_minor": 0
      },
      "text/plain": [
       "  0%|          | 0/300 [00:00<?, ?it/s]"
      ]
     },
     "metadata": {},
     "output_type": "display_data"
    },
    {
     "data": {
      "application/vnd.jupyter.widget-view+json": {
       "model_id": "3362b6ece71b41f0b7bfcc044538415b",
       "version_major": 2,
       "version_minor": 0
      },
      "text/plain": [
       "  0%|          | 0/300 [00:00<?, ?it/s]"
      ]
     },
     "metadata": {},
     "output_type": "display_data"
    },
    {
     "data": {
      "application/vnd.jupyter.widget-view+json": {
       "model_id": "d6f2f6cde75f4a4fbd74ecf786846f30",
       "version_major": 2,
       "version_minor": 0
      },
      "text/plain": [
       "  0%|          | 0/300 [00:00<?, ?it/s]"
      ]
     },
     "metadata": {},
     "output_type": "display_data"
    },
    {
     "data": {
      "application/vnd.jupyter.widget-view+json": {
       "model_id": "fc5204dd888043489da0270bdd964132",
       "version_major": 2,
       "version_minor": 0
      },
      "text/plain": [
       "  0%|          | 0/300 [00:00<?, ?it/s]"
      ]
     },
     "metadata": {},
     "output_type": "display_data"
    },
    {
     "data": {
      "application/vnd.jupyter.widget-view+json": {
       "model_id": "faec128ab440494db20d5e3243f9db8b",
       "version_major": 2,
       "version_minor": 0
      },
      "text/plain": [
       "  0%|          | 0/300 [00:00<?, ?it/s]"
      ]
     },
     "metadata": {},
     "output_type": "display_data"
    },
    {
     "data": {
      "application/vnd.jupyter.widget-view+json": {
       "model_id": "e05f9cb75f074567b0fcdacba9b91f05",
       "version_major": 2,
       "version_minor": 0
      },
      "text/plain": [
       "  0%|          | 0/300 [00:00<?, ?it/s]"
      ]
     },
     "metadata": {},
     "output_type": "display_data"
    },
    {
     "data": {
      "application/vnd.jupyter.widget-view+json": {
       "model_id": "a124dda3178d48e38723b55c322b706c",
       "version_major": 2,
       "version_minor": 0
      },
      "text/plain": [
       "  0%|          | 0/300 [00:00<?, ?it/s]"
      ]
     },
     "metadata": {},
     "output_type": "display_data"
    },
    {
     "data": {
      "application/vnd.jupyter.widget-view+json": {
       "model_id": "eea67d3f379649e48f6e8d7905fb12ea",
       "version_major": 2,
       "version_minor": 0
      },
      "text/plain": [
       "  0%|          | 0/300 [00:00<?, ?it/s]"
      ]
     },
     "metadata": {},
     "output_type": "display_data"
    },
    {
     "data": {
      "application/vnd.jupyter.widget-view+json": {
       "model_id": "96e529672d7a4d13b40139ec5b498b35",
       "version_major": 2,
       "version_minor": 0
      },
      "text/plain": [
       "  0%|          | 0/300 [00:00<?, ?it/s]"
      ]
     },
     "metadata": {},
     "output_type": "display_data"
    },
    {
     "data": {
      "application/vnd.jupyter.widget-view+json": {
       "model_id": "6c4469e3e02043c6a6cb08c49338517a",
       "version_major": 2,
       "version_minor": 0
      },
      "text/plain": [
       "  0%|          | 0/300 [00:00<?, ?it/s]"
      ]
     },
     "metadata": {},
     "output_type": "display_data"
    },
    {
     "data": {
      "application/vnd.jupyter.widget-view+json": {
       "model_id": "dfbb5776709047878dd4e6c4d1997c7e",
       "version_major": 2,
       "version_minor": 0
      },
      "text/plain": [
       "  0%|          | 0/300 [00:00<?, ?it/s]"
      ]
     },
     "metadata": {},
     "output_type": "display_data"
    },
    {
     "data": {
      "application/vnd.jupyter.widget-view+json": {
       "model_id": "be28b080a6fe485293c41990f2408dd7",
       "version_major": 2,
       "version_minor": 0
      },
      "text/plain": [
       "  0%|          | 0/300 [00:00<?, ?it/s]"
      ]
     },
     "metadata": {},
     "output_type": "display_data"
    },
    {
     "data": {
      "application/vnd.jupyter.widget-view+json": {
       "model_id": "1a97347a9b4c4506af6e4666edad6bc6",
       "version_major": 2,
       "version_minor": 0
      },
      "text/plain": [
       "  0%|          | 0/300 [00:00<?, ?it/s]"
      ]
     },
     "metadata": {},
     "output_type": "display_data"
    },
    {
     "data": {
      "application/vnd.jupyter.widget-view+json": {
       "model_id": "27a3e2be26594f14beb35ec7cea8ef9b",
       "version_major": 2,
       "version_minor": 0
      },
      "text/plain": [
       "  0%|          | 0/300 [00:00<?, ?it/s]"
      ]
     },
     "metadata": {},
     "output_type": "display_data"
    },
    {
     "data": {
      "application/vnd.jupyter.widget-view+json": {
       "model_id": "68a9c3d1aed245f59c716faed5930893",
       "version_major": 2,
       "version_minor": 0
      },
      "text/plain": [
       "  0%|          | 0/300 [00:00<?, ?it/s]"
      ]
     },
     "metadata": {},
     "output_type": "display_data"
    },
    {
     "data": {
      "application/vnd.jupyter.widget-view+json": {
       "model_id": "18ad9597cdb04c85ade96a70f51190a4",
       "version_major": 2,
       "version_minor": 0
      },
      "text/plain": [
       "  0%|          | 0/300 [00:00<?, ?it/s]"
      ]
     },
     "metadata": {},
     "output_type": "display_data"
    },
    {
     "data": {
      "application/vnd.jupyter.widget-view+json": {
       "model_id": "09ab02cf297b4efdb3de8bc4d9e4c232",
       "version_major": 2,
       "version_minor": 0
      },
      "text/plain": [
       "  0%|          | 0/300 [00:00<?, ?it/s]"
      ]
     },
     "metadata": {},
     "output_type": "display_data"
    },
    {
     "data": {
      "application/vnd.jupyter.widget-view+json": {
       "model_id": "575e1dabee4747ce81c0832b64765961",
       "version_major": 2,
       "version_minor": 0
      },
      "text/plain": [
       "  0%|          | 0/300 [00:00<?, ?it/s]"
      ]
     },
     "metadata": {},
     "output_type": "display_data"
    },
    {
     "data": {
      "application/vnd.jupyter.widget-view+json": {
       "model_id": "ce23859f6dd647428afa20d85fb80e9e",
       "version_major": 2,
       "version_minor": 0
      },
      "text/plain": [
       "  0%|          | 0/300 [00:00<?, ?it/s]"
      ]
     },
     "metadata": {},
     "output_type": "display_data"
    },
    {
     "data": {
      "application/vnd.jupyter.widget-view+json": {
       "model_id": "3a38174e42a141d39c8904a53c91a89a",
       "version_major": 2,
       "version_minor": 0
      },
      "text/plain": [
       "  0%|          | 0/300 [00:00<?, ?it/s]"
      ]
     },
     "metadata": {},
     "output_type": "display_data"
    },
    {
     "data": {
      "application/vnd.jupyter.widget-view+json": {
       "model_id": "b9ddd6d8d20847aba01a1aed84fa3727",
       "version_major": 2,
       "version_minor": 0
      },
      "text/plain": [
       "  0%|          | 0/300 [00:00<?, ?it/s]"
      ]
     },
     "metadata": {},
     "output_type": "display_data"
    },
    {
     "data": {
      "application/vnd.jupyter.widget-view+json": {
       "model_id": "28bde5da3b83401a98af5bbbcadbd0ef",
       "version_major": 2,
       "version_minor": 0
      },
      "text/plain": [
       "  0%|          | 0/300 [00:00<?, ?it/s]"
      ]
     },
     "metadata": {},
     "output_type": "display_data"
    },
    {
     "data": {
      "application/vnd.jupyter.widget-view+json": {
       "model_id": "75db939c271746d6aef2031d4a05b3b1",
       "version_major": 2,
       "version_minor": 0
      },
      "text/plain": [
       "  0%|          | 0/300 [00:00<?, ?it/s]"
      ]
     },
     "metadata": {},
     "output_type": "display_data"
    },
    {
     "data": {
      "application/vnd.jupyter.widget-view+json": {
       "model_id": "cbb3e97017634280a1d56e74fd097266",
       "version_major": 2,
       "version_minor": 0
      },
      "text/plain": [
       "  0%|          | 0/300 [00:00<?, ?it/s]"
      ]
     },
     "metadata": {},
     "output_type": "display_data"
    },
    {
     "data": {
      "application/vnd.jupyter.widget-view+json": {
       "model_id": "fd9ddceb28674256b365028070479e90",
       "version_major": 2,
       "version_minor": 0
      },
      "text/plain": [
       "  0%|          | 0/300 [00:00<?, ?it/s]"
      ]
     },
     "metadata": {},
     "output_type": "display_data"
    },
    {
     "data": {
      "application/vnd.jupyter.widget-view+json": {
       "model_id": "8f130bc976584db292eecb9c2ca3cec5",
       "version_major": 2,
       "version_minor": 0
      },
      "text/plain": [
       "  0%|          | 0/300 [00:00<?, ?it/s]"
      ]
     },
     "metadata": {},
     "output_type": "display_data"
    },
    {
     "data": {
      "application/vnd.jupyter.widget-view+json": {
       "model_id": "bde751d082bb4a85b14608f2188e0149",
       "version_major": 2,
       "version_minor": 0
      },
      "text/plain": [
       "  0%|          | 0/300 [00:00<?, ?it/s]"
      ]
     },
     "metadata": {},
     "output_type": "display_data"
    },
    {
     "data": {
      "application/vnd.jupyter.widget-view+json": {
       "model_id": "a172f90e1068403a824c4e33aa6e7688",
       "version_major": 2,
       "version_minor": 0
      },
      "text/plain": [
       "  0%|          | 0/300 [00:00<?, ?it/s]"
      ]
     },
     "metadata": {},
     "output_type": "display_data"
    },
    {
     "data": {
      "application/vnd.jupyter.widget-view+json": {
       "model_id": "5d706244927c4cc7a39096daf83be1f5",
       "version_major": 2,
       "version_minor": 0
      },
      "text/plain": [
       "  0%|          | 0/300 [00:00<?, ?it/s]"
      ]
     },
     "metadata": {},
     "output_type": "display_data"
    },
    {
     "data": {
      "application/vnd.jupyter.widget-view+json": {
       "model_id": "ca7a40b1bae843c291d83b0b59904951",
       "version_major": 2,
       "version_minor": 0
      },
      "text/plain": [
       "  0%|          | 0/300 [00:00<?, ?it/s]"
      ]
     },
     "metadata": {},
     "output_type": "display_data"
    },
    {
     "data": {
      "application/vnd.jupyter.widget-view+json": {
       "model_id": "d99522168d5c4927bfe4c55ea0be25b3",
       "version_major": 2,
       "version_minor": 0
      },
      "text/plain": [
       "  0%|          | 0/300 [00:00<?, ?it/s]"
      ]
     },
     "metadata": {},
     "output_type": "display_data"
    },
    {
     "data": {
      "application/vnd.jupyter.widget-view+json": {
       "model_id": "7909e43829ad4faf915b0a4077ec2130",
       "version_major": 2,
       "version_minor": 0
      },
      "text/plain": [
       "  0%|          | 0/300 [00:00<?, ?it/s]"
      ]
     },
     "metadata": {},
     "output_type": "display_data"
    },
    {
     "data": {
      "application/vnd.jupyter.widget-view+json": {
       "model_id": "b5255ddd86654deba83b37170c38ce81",
       "version_major": 2,
       "version_minor": 0
      },
      "text/plain": [
       "  0%|          | 0/300 [00:00<?, ?it/s]"
      ]
     },
     "metadata": {},
     "output_type": "display_data"
    },
    {
     "data": {
      "application/vnd.jupyter.widget-view+json": {
       "model_id": "3dc5d6a378594e2b8b4516e986ed0e44",
       "version_major": 2,
       "version_minor": 0
      },
      "text/plain": [
       "  0%|          | 0/300 [00:00<?, ?it/s]"
      ]
     },
     "metadata": {},
     "output_type": "display_data"
    },
    {
     "data": {
      "application/vnd.jupyter.widget-view+json": {
       "model_id": "4d73a8e05ced43e0868460524abcfefa",
       "version_major": 2,
       "version_minor": 0
      },
      "text/plain": [
       "  0%|          | 0/300 [00:00<?, ?it/s]"
      ]
     },
     "metadata": {},
     "output_type": "display_data"
    },
    {
     "data": {
      "application/vnd.jupyter.widget-view+json": {
       "model_id": "48350a6c3d2c4169b073f7b05b7e91bd",
       "version_major": 2,
       "version_minor": 0
      },
      "text/plain": [
       "  0%|          | 0/300 [00:00<?, ?it/s]"
      ]
     },
     "metadata": {},
     "output_type": "display_data"
    },
    {
     "data": {
      "application/vnd.jupyter.widget-view+json": {
       "model_id": "e61fdc0971c1467a9ddc412ce8493fd5",
       "version_major": 2,
       "version_minor": 0
      },
      "text/plain": [
       "  0%|          | 0/300 [00:00<?, ?it/s]"
      ]
     },
     "metadata": {},
     "output_type": "display_data"
    },
    {
     "data": {
      "application/vnd.jupyter.widget-view+json": {
       "model_id": "f48077d4d38649309fc964a88e589620",
       "version_major": 2,
       "version_minor": 0
      },
      "text/plain": [
       "  0%|          | 0/300 [00:00<?, ?it/s]"
      ]
     },
     "metadata": {},
     "output_type": "display_data"
    },
    {
     "data": {
      "application/vnd.jupyter.widget-view+json": {
       "model_id": "416172e6b3324a2f9d7b8199a60eb41c",
       "version_major": 2,
       "version_minor": 0
      },
      "text/plain": [
       "  0%|          | 0/300 [00:00<?, ?it/s]"
      ]
     },
     "metadata": {},
     "output_type": "display_data"
    },
    {
     "data": {
      "application/vnd.jupyter.widget-view+json": {
       "model_id": "aa3eeb4e194b4441a85d7973e21116f8",
       "version_major": 2,
       "version_minor": 0
      },
      "text/plain": [
       "  0%|          | 0/300 [00:00<?, ?it/s]"
      ]
     },
     "metadata": {},
     "output_type": "display_data"
    },
    {
     "data": {
      "application/vnd.jupyter.widget-view+json": {
       "model_id": "338609f32c40426eba62b8908977d85a",
       "version_major": 2,
       "version_minor": 0
      },
      "text/plain": [
       "  0%|          | 0/300 [00:00<?, ?it/s]"
      ]
     },
     "metadata": {},
     "output_type": "display_data"
    },
    {
     "data": {
      "application/vnd.jupyter.widget-view+json": {
       "model_id": "a308cbcc59ee44fda6660ab44ceacd87",
       "version_major": 2,
       "version_minor": 0
      },
      "text/plain": [
       "  0%|          | 0/300 [00:00<?, ?it/s]"
      ]
     },
     "metadata": {},
     "output_type": "display_data"
    },
    {
     "data": {
      "application/vnd.jupyter.widget-view+json": {
       "model_id": "bf91c52f8d09464f9876dcca0481dd75",
       "version_major": 2,
       "version_minor": 0
      },
      "text/plain": [
       "  0%|          | 0/300 [00:00<?, ?it/s]"
      ]
     },
     "metadata": {},
     "output_type": "display_data"
    },
    {
     "data": {
      "application/vnd.jupyter.widget-view+json": {
       "model_id": "89d8c802298641e1a4f01673b0a7ac5e",
       "version_major": 2,
       "version_minor": 0
      },
      "text/plain": [
       "  0%|          | 0/300 [00:00<?, ?it/s]"
      ]
     },
     "metadata": {},
     "output_type": "display_data"
    },
    {
     "data": {
      "application/vnd.jupyter.widget-view+json": {
       "model_id": "d1e0ad8b498e4f478b6bb11d55868da3",
       "version_major": 2,
       "version_minor": 0
      },
      "text/plain": [
       "  0%|          | 0/300 [00:00<?, ?it/s]"
      ]
     },
     "metadata": {},
     "output_type": "display_data"
    },
    {
     "data": {
      "application/vnd.jupyter.widget-view+json": {
       "model_id": "5196a67119a34593b3cbb3168c8a2a72",
       "version_major": 2,
       "version_minor": 0
      },
      "text/plain": [
       "  0%|          | 0/300 [00:00<?, ?it/s]"
      ]
     },
     "metadata": {},
     "output_type": "display_data"
    },
    {
     "data": {
      "application/vnd.jupyter.widget-view+json": {
       "model_id": "9f33d9a84830423bb2638ac99239b399",
       "version_major": 2,
       "version_minor": 0
      },
      "text/plain": [
       "  0%|          | 0/300 [00:00<?, ?it/s]"
      ]
     },
     "metadata": {},
     "output_type": "display_data"
    },
    {
     "data": {
      "application/vnd.jupyter.widget-view+json": {
       "model_id": "813dd0c791014a039e0a570f5308e67f",
       "version_major": 2,
       "version_minor": 0
      },
      "text/plain": [
       "  0%|          | 0/300 [00:00<?, ?it/s]"
      ]
     },
     "metadata": {},
     "output_type": "display_data"
    },
    {
     "data": {
      "application/vnd.jupyter.widget-view+json": {
       "model_id": "c4d7aeec1d554508aec62f2214ca81d5",
       "version_major": 2,
       "version_minor": 0
      },
      "text/plain": [
       "  0%|          | 0/300 [00:00<?, ?it/s]"
      ]
     },
     "metadata": {},
     "output_type": "display_data"
    },
    {
     "data": {
      "application/vnd.jupyter.widget-view+json": {
       "model_id": "385a3d4092594bf89361bce6d1ab2d9c",
       "version_major": 2,
       "version_minor": 0
      },
      "text/plain": [
       "  0%|          | 0/300 [00:00<?, ?it/s]"
      ]
     },
     "metadata": {},
     "output_type": "display_data"
    },
    {
     "data": {
      "application/vnd.jupyter.widget-view+json": {
       "model_id": "dc8e638a729b4eab931f451773075006",
       "version_major": 2,
       "version_minor": 0
      },
      "text/plain": [
       "  0%|          | 0/300 [00:00<?, ?it/s]"
      ]
     },
     "metadata": {},
     "output_type": "display_data"
    },
    {
     "data": {
      "application/vnd.jupyter.widget-view+json": {
       "model_id": "a2da7de29f254bd3a777ed71fbd6ee77",
       "version_major": 2,
       "version_minor": 0
      },
      "text/plain": [
       "  0%|          | 0/300 [00:00<?, ?it/s]"
      ]
     },
     "metadata": {},
     "output_type": "display_data"
    },
    {
     "data": {
      "application/vnd.jupyter.widget-view+json": {
       "model_id": "fff483102d3241b3a143e052f9472a1a",
       "version_major": 2,
       "version_minor": 0
      },
      "text/plain": [
       "  0%|          | 0/300 [00:00<?, ?it/s]"
      ]
     },
     "metadata": {},
     "output_type": "display_data"
    },
    {
     "data": {
      "application/vnd.jupyter.widget-view+json": {
       "model_id": "b980f498883547b98de21a83bbe92186",
       "version_major": 2,
       "version_minor": 0
      },
      "text/plain": [
       "  0%|          | 0/300 [00:00<?, ?it/s]"
      ]
     },
     "metadata": {},
     "output_type": "display_data"
    },
    {
     "data": {
      "application/vnd.jupyter.widget-view+json": {
       "model_id": "fceb9488f6da4d20a268344eb1710823",
       "version_major": 2,
       "version_minor": 0
      },
      "text/plain": [
       "  0%|          | 0/300 [00:00<?, ?it/s]"
      ]
     },
     "metadata": {},
     "output_type": "display_data"
    },
    {
     "data": {
      "application/vnd.jupyter.widget-view+json": {
       "model_id": "1c29021310014dac9cee428f1cd1a012",
       "version_major": 2,
       "version_minor": 0
      },
      "text/plain": [
       "  0%|          | 0/300 [00:00<?, ?it/s]"
      ]
     },
     "metadata": {},
     "output_type": "display_data"
    },
    {
     "data": {
      "application/vnd.jupyter.widget-view+json": {
       "model_id": "0e42063f020243988c2ac3b94268b3e2",
       "version_major": 2,
       "version_minor": 0
      },
      "text/plain": [
       "  0%|          | 0/300 [00:00<?, ?it/s]"
      ]
     },
     "metadata": {},
     "output_type": "display_data"
    },
    {
     "data": {
      "application/vnd.jupyter.widget-view+json": {
       "model_id": "8d936b6dc12a4353899ec185a5d5a051",
       "version_major": 2,
       "version_minor": 0
      },
      "text/plain": [
       "  0%|          | 0/300 [00:00<?, ?it/s]"
      ]
     },
     "metadata": {},
     "output_type": "display_data"
    },
    {
     "data": {
      "application/vnd.jupyter.widget-view+json": {
       "model_id": "41d0336904994519bc83782a19080423",
       "version_major": 2,
       "version_minor": 0
      },
      "text/plain": [
       "  0%|          | 0/300 [00:00<?, ?it/s]"
      ]
     },
     "metadata": {},
     "output_type": "display_data"
    },
    {
     "data": {
      "application/vnd.jupyter.widget-view+json": {
       "model_id": "089f5f802b934995a3ffb20a0cf55541",
       "version_major": 2,
       "version_minor": 0
      },
      "text/plain": [
       "  0%|          | 0/300 [00:00<?, ?it/s]"
      ]
     },
     "metadata": {},
     "output_type": "display_data"
    },
    {
     "data": {
      "application/vnd.jupyter.widget-view+json": {
       "model_id": "6587df358fa34118a79da8cfa17186d6",
       "version_major": 2,
       "version_minor": 0
      },
      "text/plain": [
       "  0%|          | 0/300 [00:00<?, ?it/s]"
      ]
     },
     "metadata": {},
     "output_type": "display_data"
    },
    {
     "data": {
      "application/vnd.jupyter.widget-view+json": {
       "model_id": "d490ba356bfd4b1fad461f2bb007b012",
       "version_major": 2,
       "version_minor": 0
      },
      "text/plain": [
       "  0%|          | 0/300 [00:00<?, ?it/s]"
      ]
     },
     "metadata": {},
     "output_type": "display_data"
    },
    {
     "data": {
      "application/vnd.jupyter.widget-view+json": {
       "model_id": "95a2772795224b968ca5de94911dd2de",
       "version_major": 2,
       "version_minor": 0
      },
      "text/plain": [
       "  0%|          | 0/300 [00:00<?, ?it/s]"
      ]
     },
     "metadata": {},
     "output_type": "display_data"
    },
    {
     "data": {
      "application/vnd.jupyter.widget-view+json": {
       "model_id": "ee257991786345a3905d0ad49bf98370",
       "version_major": 2,
       "version_minor": 0
      },
      "text/plain": [
       "  0%|          | 0/300 [00:00<?, ?it/s]"
      ]
     },
     "metadata": {},
     "output_type": "display_data"
    },
    {
     "data": {
      "application/vnd.jupyter.widget-view+json": {
       "model_id": "5788bf37c98d4b8689f194e7d7b6bb6c",
       "version_major": 2,
       "version_minor": 0
      },
      "text/plain": [
       "  0%|          | 0/300 [00:00<?, ?it/s]"
      ]
     },
     "metadata": {},
     "output_type": "display_data"
    },
    {
     "data": {
      "application/vnd.jupyter.widget-view+json": {
       "model_id": "2269d47e4c724aca9470b4fc1f7a9fba",
       "version_major": 2,
       "version_minor": 0
      },
      "text/plain": [
       "  0%|          | 0/300 [00:00<?, ?it/s]"
      ]
     },
     "metadata": {},
     "output_type": "display_data"
    },
    {
     "data": {
      "application/vnd.jupyter.widget-view+json": {
       "model_id": "76bf3615dd5947d7a08f63d1730464d2",
       "version_major": 2,
       "version_minor": 0
      },
      "text/plain": [
       "  0%|          | 0/300 [00:00<?, ?it/s]"
      ]
     },
     "metadata": {},
     "output_type": "display_data"
    },
    {
     "data": {
      "application/vnd.jupyter.widget-view+json": {
       "model_id": "f08fba0954964e5e907b1870130c8f6b",
       "version_major": 2,
       "version_minor": 0
      },
      "text/plain": [
       "  0%|          | 0/300 [00:00<?, ?it/s]"
      ]
     },
     "metadata": {},
     "output_type": "display_data"
    },
    {
     "data": {
      "application/vnd.jupyter.widget-view+json": {
       "model_id": "e6c3a4a5354f45caa42b1e40ce5b1cfb",
       "version_major": 2,
       "version_minor": 0
      },
      "text/plain": [
       "  0%|          | 0/300 [00:00<?, ?it/s]"
      ]
     },
     "metadata": {},
     "output_type": "display_data"
    },
    {
     "data": {
      "application/vnd.jupyter.widget-view+json": {
       "model_id": "b8cd92182dc149ea956356a23d631661",
       "version_major": 2,
       "version_minor": 0
      },
      "text/plain": [
       "  0%|          | 0/300 [00:00<?, ?it/s]"
      ]
     },
     "metadata": {},
     "output_type": "display_data"
    },
    {
     "data": {
      "application/vnd.jupyter.widget-view+json": {
       "model_id": "9f5ec55b200642beabe34451f6fb8ba2",
       "version_major": 2,
       "version_minor": 0
      },
      "text/plain": [
       "  0%|          | 0/300 [00:00<?, ?it/s]"
      ]
     },
     "metadata": {},
     "output_type": "display_data"
    },
    {
     "data": {
      "application/vnd.jupyter.widget-view+json": {
       "model_id": "ab012da48cad4643ba114b01607e0c07",
       "version_major": 2,
       "version_minor": 0
      },
      "text/plain": [
       "  0%|          | 0/300 [00:00<?, ?it/s]"
      ]
     },
     "metadata": {},
     "output_type": "display_data"
    },
    {
     "data": {
      "application/vnd.jupyter.widget-view+json": {
       "model_id": "2bcde68cdab74506a21e0a8c7171d9ab",
       "version_major": 2,
       "version_minor": 0
      },
      "text/plain": [
       "  0%|          | 0/300 [00:00<?, ?it/s]"
      ]
     },
     "metadata": {},
     "output_type": "display_data"
    },
    {
     "data": {
      "application/vnd.jupyter.widget-view+json": {
       "model_id": "eb1f32bdac544abd93925914810b215a",
       "version_major": 2,
       "version_minor": 0
      },
      "text/plain": [
       "  0%|          | 0/300 [00:00<?, ?it/s]"
      ]
     },
     "metadata": {},
     "output_type": "display_data"
    },
    {
     "data": {
      "application/vnd.jupyter.widget-view+json": {
       "model_id": "7fff199c7d094c76930ff92e15b6a1f3",
       "version_major": 2,
       "version_minor": 0
      },
      "text/plain": [
       "  0%|          | 0/300 [00:00<?, ?it/s]"
      ]
     },
     "metadata": {},
     "output_type": "display_data"
    },
    {
     "data": {
      "application/vnd.jupyter.widget-view+json": {
       "model_id": "d9d3004c75d042b8bcd8fa54e5096ef2",
       "version_major": 2,
       "version_minor": 0
      },
      "text/plain": [
       "  0%|          | 0/300 [00:00<?, ?it/s]"
      ]
     },
     "metadata": {},
     "output_type": "display_data"
    },
    {
     "data": {
      "application/vnd.jupyter.widget-view+json": {
       "model_id": "ea3befc2ec714e89a4f14f315fdb05b2",
       "version_major": 2,
       "version_minor": 0
      },
      "text/plain": [
       "  0%|          | 0/300 [00:00<?, ?it/s]"
      ]
     },
     "metadata": {},
     "output_type": "display_data"
    },
    {
     "data": {
      "application/vnd.jupyter.widget-view+json": {
       "model_id": "95bb380a9923412796a32aed4ef3d060",
       "version_major": 2,
       "version_minor": 0
      },
      "text/plain": [
       "  0%|          | 0/300 [00:00<?, ?it/s]"
      ]
     },
     "metadata": {},
     "output_type": "display_data"
    },
    {
     "data": {
      "application/vnd.jupyter.widget-view+json": {
       "model_id": "06eafc0abbec410c877b30e304cbbb9f",
       "version_major": 2,
       "version_minor": 0
      },
      "text/plain": [
       "  0%|          | 0/300 [00:00<?, ?it/s]"
      ]
     },
     "metadata": {},
     "output_type": "display_data"
    },
    {
     "data": {
      "application/vnd.jupyter.widget-view+json": {
       "model_id": "0e6f3c7083644d2aa4fa805cb546754d",
       "version_major": 2,
       "version_minor": 0
      },
      "text/plain": [
       "  0%|          | 0/300 [00:00<?, ?it/s]"
      ]
     },
     "metadata": {},
     "output_type": "display_data"
    },
    {
     "data": {
      "application/vnd.jupyter.widget-view+json": {
       "model_id": "96ba9881d4834546950c03db3d1eede1",
       "version_major": 2,
       "version_minor": 0
      },
      "text/plain": [
       "  0%|          | 0/300 [00:00<?, ?it/s]"
      ]
     },
     "metadata": {},
     "output_type": "display_data"
    },
    {
     "data": {
      "application/vnd.jupyter.widget-view+json": {
       "model_id": "7ca08d0afac04a18a7694d58f3929a3e",
       "version_major": 2,
       "version_minor": 0
      },
      "text/plain": [
       "  0%|          | 0/300 [00:00<?, ?it/s]"
      ]
     },
     "metadata": {},
     "output_type": "display_data"
    },
    {
     "data": {
      "application/vnd.jupyter.widget-view+json": {
       "model_id": "1acb0d9e3061482f94084bbec05fc88b",
       "version_major": 2,
       "version_minor": 0
      },
      "text/plain": [
       "  0%|          | 0/300 [00:00<?, ?it/s]"
      ]
     },
     "metadata": {},
     "output_type": "display_data"
    },
    {
     "data": {
      "application/vnd.jupyter.widget-view+json": {
       "model_id": "688034613ab2468e89944507983d078c",
       "version_major": 2,
       "version_minor": 0
      },
      "text/plain": [
       "  0%|          | 0/300 [00:00<?, ?it/s]"
      ]
     },
     "metadata": {},
     "output_type": "display_data"
    },
    {
     "data": {
      "application/vnd.jupyter.widget-view+json": {
       "model_id": "4030f54a625848dbb8ac01f146f6815a",
       "version_major": 2,
       "version_minor": 0
      },
      "text/plain": [
       "  0%|          | 0/300 [00:00<?, ?it/s]"
      ]
     },
     "metadata": {},
     "output_type": "display_data"
    },
    {
     "data": {
      "application/vnd.jupyter.widget-view+json": {
       "model_id": "9ebe6b9545c14a3ea3f9d0b0b3534dea",
       "version_major": 2,
       "version_minor": 0
      },
      "text/plain": [
       "  0%|          | 0/300 [00:00<?, ?it/s]"
      ]
     },
     "metadata": {},
     "output_type": "display_data"
    },
    {
     "data": {
      "application/vnd.jupyter.widget-view+json": {
       "model_id": "20a0f576f6294c7da97793b5e0732169",
       "version_major": 2,
       "version_minor": 0
      },
      "text/plain": [
       "  0%|          | 0/300 [00:00<?, ?it/s]"
      ]
     },
     "metadata": {},
     "output_type": "display_data"
    },
    {
     "data": {
      "application/vnd.jupyter.widget-view+json": {
       "model_id": "1b1c306abeb24ce390c7032b06c79417",
       "version_major": 2,
       "version_minor": 0
      },
      "text/plain": [
       "  0%|          | 0/300 [00:00<?, ?it/s]"
      ]
     },
     "metadata": {},
     "output_type": "display_data"
    },
    {
     "data": {
      "application/vnd.jupyter.widget-view+json": {
       "model_id": "652c22adbd2042758a303fa796d9958e",
       "version_major": 2,
       "version_minor": 0
      },
      "text/plain": [
       "  0%|          | 0/300 [00:00<?, ?it/s]"
      ]
     },
     "metadata": {},
     "output_type": "display_data"
    },
    {
     "data": {
      "application/vnd.jupyter.widget-view+json": {
       "model_id": "59167780d67c42d1a5c66127759adc4f",
       "version_major": 2,
       "version_minor": 0
      },
      "text/plain": [
       "  0%|          | 0/300 [00:00<?, ?it/s]"
      ]
     },
     "metadata": {},
     "output_type": "display_data"
    },
    {
     "data": {
      "application/vnd.jupyter.widget-view+json": {
       "model_id": "5e8674bdcddb4ad5b7199ee230009fec",
       "version_major": 2,
       "version_minor": 0
      },
      "text/plain": [
       "  0%|          | 0/300 [00:00<?, ?it/s]"
      ]
     },
     "metadata": {},
     "output_type": "display_data"
    },
    {
     "data": {
      "application/vnd.jupyter.widget-view+json": {
       "model_id": "9cf51641e3e0480ea0aa6405d03ff7d2",
       "version_major": 2,
       "version_minor": 0
      },
      "text/plain": [
       "  0%|          | 0/300 [00:00<?, ?it/s]"
      ]
     },
     "metadata": {},
     "output_type": "display_data"
    },
    {
     "data": {
      "application/vnd.jupyter.widget-view+json": {
       "model_id": "6af0b07a7fe64cef93d967f3b4c20f1a",
       "version_major": 2,
       "version_minor": 0
      },
      "text/plain": [
       "  0%|          | 0/300 [00:00<?, ?it/s]"
      ]
     },
     "metadata": {},
     "output_type": "display_data"
    },
    {
     "data": {
      "application/vnd.jupyter.widget-view+json": {
       "model_id": "3844cff5f7254d9da04cd690898b83eb",
       "version_major": 2,
       "version_minor": 0
      },
      "text/plain": [
       "  0%|          | 0/300 [00:00<?, ?it/s]"
      ]
     },
     "metadata": {},
     "output_type": "display_data"
    },
    {
     "data": {
      "application/vnd.jupyter.widget-view+json": {
       "model_id": "34a445ece5834c859ff31bb46a431d5b",
       "version_major": 2,
       "version_minor": 0
      },
      "text/plain": [
       "  0%|          | 0/300 [00:00<?, ?it/s]"
      ]
     },
     "metadata": {},
     "output_type": "display_data"
    },
    {
     "data": {
      "application/vnd.jupyter.widget-view+json": {
       "model_id": "09e9987d19da4effa985507e278e7c57",
       "version_major": 2,
       "version_minor": 0
      },
      "text/plain": [
       "  0%|          | 0/300 [00:00<?, ?it/s]"
      ]
     },
     "metadata": {},
     "output_type": "display_data"
    },
    {
     "data": {
      "application/vnd.jupyter.widget-view+json": {
       "model_id": "3b88ba155dfa45658ac540a4b029ec62",
       "version_major": 2,
       "version_minor": 0
      },
      "text/plain": [
       "  0%|          | 0/300 [00:00<?, ?it/s]"
      ]
     },
     "metadata": {},
     "output_type": "display_data"
    },
    {
     "data": {
      "application/vnd.jupyter.widget-view+json": {
       "model_id": "1a6aebbd29b64c8bb9759eff75d0f2bb",
       "version_major": 2,
       "version_minor": 0
      },
      "text/plain": [
       "  0%|          | 0/300 [00:00<?, ?it/s]"
      ]
     },
     "metadata": {},
     "output_type": "display_data"
    },
    {
     "data": {
      "application/vnd.jupyter.widget-view+json": {
       "model_id": "518904c30af14604b84571e67d909f21",
       "version_major": 2,
       "version_minor": 0
      },
      "text/plain": [
       "  0%|          | 0/300 [00:00<?, ?it/s]"
      ]
     },
     "metadata": {},
     "output_type": "display_data"
    },
    {
     "data": {
      "application/vnd.jupyter.widget-view+json": {
       "model_id": "d1ed59d81c2d41f191885b93a2c32c95",
       "version_major": 2,
       "version_minor": 0
      },
      "text/plain": [
       "  0%|          | 0/300 [00:00<?, ?it/s]"
      ]
     },
     "metadata": {},
     "output_type": "display_data"
    },
    {
     "data": {
      "application/vnd.jupyter.widget-view+json": {
       "model_id": "722b8227424b48e2a86dca0d3b5bb4fb",
       "version_major": 2,
       "version_minor": 0
      },
      "text/plain": [
       "  0%|          | 0/300 [00:00<?, ?it/s]"
      ]
     },
     "metadata": {},
     "output_type": "display_data"
    },
    {
     "data": {
      "application/vnd.jupyter.widget-view+json": {
       "model_id": "42b1fbafc7ce4253b5d488c569e0ec77",
       "version_major": 2,
       "version_minor": 0
      },
      "text/plain": [
       "  0%|          | 0/300 [00:00<?, ?it/s]"
      ]
     },
     "metadata": {},
     "output_type": "display_data"
    },
    {
     "data": {
      "application/vnd.jupyter.widget-view+json": {
       "model_id": "f9865738089041dfb86374737284af11",
       "version_major": 2,
       "version_minor": 0
      },
      "text/plain": [
       "  0%|          | 0/300 [00:00<?, ?it/s]"
      ]
     },
     "metadata": {},
     "output_type": "display_data"
    },
    {
     "name": "stdout",
     "output_type": "stream",
     "text": [
      "pdf_NPE - Temperature scaling: T = 1.694\n",
      "  → Model was overconfident, widening by 69.4%\n",
      "\n",
      "==================================================\n",
      "TESTING POSTERIOR RECOVERY\n",
      "==================================================\n",
      "\n",
      "pdf_NPE:\n"
     ]
    },
    {
     "data": {
      "application/vnd.jupyter.widget-view+json": {
       "model_id": "e0484226b363444e98e6d8de383d23ff",
       "version_major": 2,
       "version_minor": 0
      },
      "text/plain": [
       "  0%|          | 0/1000 [00:00<?, ?it/s]"
      ]
     },
     "metadata": {},
     "output_type": "display_data"
    },
    {
     "data": {
      "application/vnd.jupyter.widget-view+json": {
       "model_id": "9db1fa00eabd46f19ddd721f6dc62026",
       "version_major": 2,
       "version_minor": 0
      },
      "text/plain": [
       "  0%|          | 0/1000 [00:00<?, ?it/s]"
      ]
     },
     "metadata": {},
     "output_type": "display_data"
    },
    {
     "data": {
      "application/vnd.jupyter.widget-view+json": {
       "model_id": "232d006e5d3d4f7ebe38c7a633aff022",
       "version_major": 2,
       "version_minor": 0
      },
      "text/plain": [
       "  0%|          | 0/1000 [00:00<?, ?it/s]"
      ]
     },
     "metadata": {},
     "output_type": "display_data"
    },
    {
     "data": {
      "application/vnd.jupyter.widget-view+json": {
       "model_id": "38c00390bd3a40829ab3ed33593568fa",
       "version_major": 2,
       "version_minor": 0
      },
      "text/plain": [
       "  0%|          | 0/1000 [00:00<?, ?it/s]"
      ]
     },
     "metadata": {},
     "output_type": "display_data"
    },
    {
     "data": {
      "application/vnd.jupyter.widget-view+json": {
       "model_id": "96a1f7c7c8d6463c93615004978db043",
       "version_major": 2,
       "version_minor": 0
      },
      "text/plain": [
       "  0%|          | 0/1000 [00:00<?, ?it/s]"
      ]
     },
     "metadata": {},
     "output_type": "display_data"
    },
    {
     "data": {
      "application/vnd.jupyter.widget-view+json": {
       "model_id": "61aed7f94cf3455f898d3fcd16a47f50",
       "version_major": 2,
       "version_minor": 0
      },
      "text/plain": [
       "  0%|          | 0/1000 [00:00<?, ?it/s]"
      ]
     },
     "metadata": {},
     "output_type": "display_data"
    },
    {
     "data": {
      "application/vnd.jupyter.widget-view+json": {
       "model_id": "68c8c6a708a9432f8d87ad5e98814e89",
       "version_major": 2,
       "version_minor": 0
      },
      "text/plain": [
       "  0%|          | 0/1000 [00:00<?, ?it/s]"
      ]
     },
     "metadata": {},
     "output_type": "display_data"
    },
    {
     "data": {
      "application/vnd.jupyter.widget-view+json": {
       "model_id": "b0829a650d4b42218b274682d7d19668",
       "version_major": 2,
       "version_minor": 0
      },
      "text/plain": [
       "  0%|          | 0/1000 [00:00<?, ?it/s]"
      ]
     },
     "metadata": {},
     "output_type": "display_data"
    },
    {
     "data": {
      "application/vnd.jupyter.widget-view+json": {
       "model_id": "d62785129c024defaa0d7b3d90ddbb2e",
       "version_major": 2,
       "version_minor": 0
      },
      "text/plain": [
       "  0%|          | 0/1000 [00:00<?, ?it/s]"
      ]
     },
     "metadata": {},
     "output_type": "display_data"
    },
    {
     "data": {
      "application/vnd.jupyter.widget-view+json": {
       "model_id": "73f39dd0f6084c54b260e44bac58c792",
       "version_major": 2,
       "version_minor": 0
      },
      "text/plain": [
       "  0%|          | 0/1000 [00:00<?, ?it/s]"
      ]
     },
     "metadata": {},
     "output_type": "display_data"
    },
    {
     "data": {
      "application/vnd.jupyter.widget-view+json": {
       "model_id": "5c0eb2b601104d1893041555b473bb9b",
       "version_major": 2,
       "version_minor": 0
      },
      "text/plain": [
       "  0%|          | 0/1000 [00:00<?, ?it/s]"
      ]
     },
     "metadata": {},
     "output_type": "display_data"
    },
    {
     "data": {
      "application/vnd.jupyter.widget-view+json": {
       "model_id": "8f4fbf4ac4924596a99d44288898ecd9",
       "version_major": 2,
       "version_minor": 0
      },
      "text/plain": [
       "  0%|          | 0/1000 [00:00<?, ?it/s]"
      ]
     },
     "metadata": {},
     "output_type": "display_data"
    },
    {
     "data": {
      "application/vnd.jupyter.widget-view+json": {
       "model_id": "5d61cac177ab48cfb568d112355bcf64",
       "version_major": 2,
       "version_minor": 0
      },
      "text/plain": [
       "  0%|          | 0/1000 [00:00<?, ?it/s]"
      ]
     },
     "metadata": {},
     "output_type": "display_data"
    },
    {
     "data": {
      "application/vnd.jupyter.widget-view+json": {
       "model_id": "edaf655462a84178aefa54598282ba1a",
       "version_major": 2,
       "version_minor": 0
      },
      "text/plain": [
       "  0%|          | 0/1000 [00:00<?, ?it/s]"
      ]
     },
     "metadata": {},
     "output_type": "display_data"
    },
    {
     "data": {
      "application/vnd.jupyter.widget-view+json": {
       "model_id": "e729685f84d542cdaf402f1a0c1868b1",
       "version_major": 2,
       "version_minor": 0
      },
      "text/plain": [
       "  0%|          | 0/1000 [00:00<?, ?it/s]"
      ]
     },
     "metadata": {},
     "output_type": "display_data"
    },
    {
     "data": {
      "application/vnd.jupyter.widget-view+json": {
       "model_id": "664b0307ade04c948900009ef41aa11f",
       "version_major": 2,
       "version_minor": 0
      },
      "text/plain": [
       "  0%|          | 0/1000 [00:00<?, ?it/s]"
      ]
     },
     "metadata": {},
     "output_type": "display_data"
    },
    {
     "data": {
      "application/vnd.jupyter.widget-view+json": {
       "model_id": "e2c2e95a9c274f19ad036f1b1053b593",
       "version_major": 2,
       "version_minor": 0
      },
      "text/plain": [
       "  0%|          | 0/1000 [00:00<?, ?it/s]"
      ]
     },
     "metadata": {},
     "output_type": "display_data"
    },
    {
     "data": {
      "application/vnd.jupyter.widget-view+json": {
       "model_id": "9ebda97dd6d64ba88164726e2ab76939",
       "version_major": 2,
       "version_minor": 0
      },
      "text/plain": [
       "  0%|          | 0/1000 [00:00<?, ?it/s]"
      ]
     },
     "metadata": {},
     "output_type": "display_data"
    },
    {
     "data": {
      "application/vnd.jupyter.widget-view+json": {
       "model_id": "3d8184cf060845f7801e5516453064ea",
       "version_major": 2,
       "version_minor": 0
      },
      "text/plain": [
       "  0%|          | 0/1000 [00:00<?, ?it/s]"
      ]
     },
     "metadata": {},
     "output_type": "display_data"
    },
    {
     "data": {
      "application/vnd.jupyter.widget-view+json": {
       "model_id": "a842391bce214ea7b2149d288fe2600d",
       "version_major": 2,
       "version_minor": 0
      },
      "text/plain": [
       "  0%|          | 0/1000 [00:00<?, ?it/s]"
      ]
     },
     "metadata": {},
     "output_type": "display_data"
    },
    {
     "data": {
      "application/vnd.jupyter.widget-view+json": {
       "model_id": "61fb697fae544179b05fd2b2d20ba153",
       "version_major": 2,
       "version_minor": 0
      },
      "text/plain": [
       "  0%|          | 0/1000 [00:00<?, ?it/s]"
      ]
     },
     "metadata": {},
     "output_type": "display_data"
    },
    {
     "data": {
      "application/vnd.jupyter.widget-view+json": {
       "model_id": "c9c54af29b0f4ab39bc15872b266716c",
       "version_major": 2,
       "version_minor": 0
      },
      "text/plain": [
       "  0%|          | 0/1000 [00:00<?, ?it/s]"
      ]
     },
     "metadata": {},
     "output_type": "display_data"
    },
    {
     "data": {
      "application/vnd.jupyter.widget-view+json": {
       "model_id": "938dd8a1d4884c739b10bd29a8e64c46",
       "version_major": 2,
       "version_minor": 0
      },
      "text/plain": [
       "  0%|          | 0/1000 [00:00<?, ?it/s]"
      ]
     },
     "metadata": {},
     "output_type": "display_data"
    },
    {
     "data": {
      "application/vnd.jupyter.widget-view+json": {
       "model_id": "0f3fcf7061a243dd840ad2b587288604",
       "version_major": 2,
       "version_minor": 0
      },
      "text/plain": [
       "  0%|          | 0/1000 [00:00<?, ?it/s]"
      ]
     },
     "metadata": {},
     "output_type": "display_data"
    },
    {
     "data": {
      "application/vnd.jupyter.widget-view+json": {
       "model_id": "4416986e3e554c25b81112b95baa2c31",
       "version_major": 2,
       "version_minor": 0
      },
      "text/plain": [
       "  0%|          | 0/1000 [00:00<?, ?it/s]"
      ]
     },
     "metadata": {},
     "output_type": "display_data"
    },
    {
     "data": {
      "application/vnd.jupyter.widget-view+json": {
       "model_id": "a4e2c3b67c054c9cb304745dfc7af53c",
       "version_major": 2,
       "version_minor": 0
      },
      "text/plain": [
       "  0%|          | 0/1000 [00:00<?, ?it/s]"
      ]
     },
     "metadata": {},
     "output_type": "display_data"
    },
    {
     "data": {
      "application/vnd.jupyter.widget-view+json": {
       "model_id": "7802fb5747734d42ae85f0203902372a",
       "version_major": 2,
       "version_minor": 0
      },
      "text/plain": [
       "  0%|          | 0/1000 [00:00<?, ?it/s]"
      ]
     },
     "metadata": {},
     "output_type": "display_data"
    },
    {
     "data": {
      "application/vnd.jupyter.widget-view+json": {
       "model_id": "3bee192ea24a4a40ab3531de37619a1b",
       "version_major": 2,
       "version_minor": 0
      },
      "text/plain": [
       "  0%|          | 0/1000 [00:00<?, ?it/s]"
      ]
     },
     "metadata": {},
     "output_type": "display_data"
    },
    {
     "data": {
      "application/vnd.jupyter.widget-view+json": {
       "model_id": "dfac8aea4dd34fbb890e016b2ccb5cb3",
       "version_major": 2,
       "version_minor": 0
      },
      "text/plain": [
       "  0%|          | 0/1000 [00:00<?, ?it/s]"
      ]
     },
     "metadata": {},
     "output_type": "display_data"
    },
    {
     "data": {
      "application/vnd.jupyter.widget-view+json": {
       "model_id": "6cc18467d7d64355ae226e66fde8ce1b",
       "version_major": 2,
       "version_minor": 0
      },
      "text/plain": [
       "  0%|          | 0/1000 [00:00<?, ?it/s]"
      ]
     },
     "metadata": {},
     "output_type": "display_data"
    },
    {
     "data": {
      "application/vnd.jupyter.widget-view+json": {
       "model_id": "93a10d28bddd482babd0bf09a0cb5fd9",
       "version_major": 2,
       "version_minor": 0
      },
      "text/plain": [
       "  0%|          | 0/1000 [00:00<?, ?it/s]"
      ]
     },
     "metadata": {},
     "output_type": "display_data"
    },
    {
     "data": {
      "application/vnd.jupyter.widget-view+json": {
       "model_id": "ddf2d4c26ae849aaa8f97b35f0858879",
       "version_major": 2,
       "version_minor": 0
      },
      "text/plain": [
       "  0%|          | 0/1000 [00:00<?, ?it/s]"
      ]
     },
     "metadata": {},
     "output_type": "display_data"
    },
    {
     "data": {
      "application/vnd.jupyter.widget-view+json": {
       "model_id": "e29ab143f6ce45919ffdec9ec783e6fe",
       "version_major": 2,
       "version_minor": 0
      },
      "text/plain": [
       "  0%|          | 0/1000 [00:00<?, ?it/s]"
      ]
     },
     "metadata": {},
     "output_type": "display_data"
    },
    {
     "data": {
      "application/vnd.jupyter.widget-view+json": {
       "model_id": "cf4751969e544e7caf4fe32b77bacad8",
       "version_major": 2,
       "version_minor": 0
      },
      "text/plain": [
       "  0%|          | 0/1000 [00:00<?, ?it/s]"
      ]
     },
     "metadata": {},
     "output_type": "display_data"
    },
    {
     "data": {
      "application/vnd.jupyter.widget-view+json": {
       "model_id": "96ba7c5be25a40d7ac4578d74ab3bc9e",
       "version_major": 2,
       "version_minor": 0
      },
      "text/plain": [
       "  0%|          | 0/1000 [00:00<?, ?it/s]"
      ]
     },
     "metadata": {},
     "output_type": "display_data"
    },
    {
     "data": {
      "application/vnd.jupyter.widget-view+json": {
       "model_id": "84febbf5e643453bbc0ff997f38756d6",
       "version_major": 2,
       "version_minor": 0
      },
      "text/plain": [
       "  0%|          | 0/1000 [00:00<?, ?it/s]"
      ]
     },
     "metadata": {},
     "output_type": "display_data"
    },
    {
     "data": {
      "application/vnd.jupyter.widget-view+json": {
       "model_id": "b0b970dabdc94210ac3830669888a0b8",
       "version_major": 2,
       "version_minor": 0
      },
      "text/plain": [
       "  0%|          | 0/1000 [00:00<?, ?it/s]"
      ]
     },
     "metadata": {},
     "output_type": "display_data"
    },
    {
     "data": {
      "application/vnd.jupyter.widget-view+json": {
       "model_id": "651001d61ad8468faadcc24cd112cdfa",
       "version_major": 2,
       "version_minor": 0
      },
      "text/plain": [
       "  0%|          | 0/1000 [00:00<?, ?it/s]"
      ]
     },
     "metadata": {},
     "output_type": "display_data"
    },
    {
     "data": {
      "application/vnd.jupyter.widget-view+json": {
       "model_id": "d06af1e2367f4a989603d7fca9d4c206",
       "version_major": 2,
       "version_minor": 0
      },
      "text/plain": [
       "  0%|          | 0/1000 [00:00<?, ?it/s]"
      ]
     },
     "metadata": {},
     "output_type": "display_data"
    },
    {
     "data": {
      "application/vnd.jupyter.widget-view+json": {
       "model_id": "e3ec551c527047efba7ea5296ff9fe4c",
       "version_major": 2,
       "version_minor": 0
      },
      "text/plain": [
       "  0%|          | 0/1000 [00:00<?, ?it/s]"
      ]
     },
     "metadata": {},
     "output_type": "display_data"
    },
    {
     "data": {
      "application/vnd.jupyter.widget-view+json": {
       "model_id": "d42638a620b84541819e8d122a9fad44",
       "version_major": 2,
       "version_minor": 0
      },
      "text/plain": [
       "  0%|          | 0/1000 [00:00<?, ?it/s]"
      ]
     },
     "metadata": {},
     "output_type": "display_data"
    },
    {
     "data": {
      "application/vnd.jupyter.widget-view+json": {
       "model_id": "8fcf31f7d81b4468857548e366c347d1",
       "version_major": 2,
       "version_minor": 0
      },
      "text/plain": [
       "  0%|          | 0/1000 [00:00<?, ?it/s]"
      ]
     },
     "metadata": {},
     "output_type": "display_data"
    },
    {
     "data": {
      "application/vnd.jupyter.widget-view+json": {
       "model_id": "0a38afc785424680939dafcd437e0424",
       "version_major": 2,
       "version_minor": 0
      },
      "text/plain": [
       "  0%|          | 0/1000 [00:00<?, ?it/s]"
      ]
     },
     "metadata": {},
     "output_type": "display_data"
    },
    {
     "data": {
      "application/vnd.jupyter.widget-view+json": {
       "model_id": "20e503a6c0e549e8af5a955078d9cd26",
       "version_major": 2,
       "version_minor": 0
      },
      "text/plain": [
       "  0%|          | 0/1000 [00:00<?, ?it/s]"
      ]
     },
     "metadata": {},
     "output_type": "display_data"
    },
    {
     "data": {
      "application/vnd.jupyter.widget-view+json": {
       "model_id": "c4062b131dfa48ea936b9825640abb32",
       "version_major": 2,
       "version_minor": 0
      },
      "text/plain": [
       "  0%|          | 0/1000 [00:00<?, ?it/s]"
      ]
     },
     "metadata": {},
     "output_type": "display_data"
    },
    {
     "data": {
      "application/vnd.jupyter.widget-view+json": {
       "model_id": "d4ba15d09e3343fe8fd107bc1cfab10c",
       "version_major": 2,
       "version_minor": 0
      },
      "text/plain": [
       "  0%|          | 0/1000 [00:00<?, ?it/s]"
      ]
     },
     "metadata": {},
     "output_type": "display_data"
    },
    {
     "data": {
      "application/vnd.jupyter.widget-view+json": {
       "model_id": "eb26e93e1a4a48dcbb9a0ce2660ac189",
       "version_major": 2,
       "version_minor": 0
      },
      "text/plain": [
       "  0%|          | 0/1000 [00:00<?, ?it/s]"
      ]
     },
     "metadata": {},
     "output_type": "display_data"
    },
    {
     "data": {
      "application/vnd.jupyter.widget-view+json": {
       "model_id": "d6dcb77b50d34d61b18049f9f1c2ff95",
       "version_major": 2,
       "version_minor": 0
      },
      "text/plain": [
       "  0%|          | 0/1000 [00:00<?, ?it/s]"
      ]
     },
     "metadata": {},
     "output_type": "display_data"
    },
    {
     "data": {
      "application/vnd.jupyter.widget-view+json": {
       "model_id": "43d943ee85274c77b5e7ea376eb454b0",
       "version_major": 2,
       "version_minor": 0
      },
      "text/plain": [
       "  0%|          | 0/1000 [00:00<?, ?it/s]"
      ]
     },
     "metadata": {},
     "output_type": "display_data"
    },
    {
     "data": {
      "application/vnd.jupyter.widget-view+json": {
       "model_id": "74e722df1c6244beb975f86819fc379a",
       "version_major": 2,
       "version_minor": 0
      },
      "text/plain": [
       "  0%|          | 0/1000 [00:00<?, ?it/s]"
      ]
     },
     "metadata": {},
     "output_type": "display_data"
    },
    {
     "name": "stdout",
     "output_type": "stream",
     "text": [
      "  Temperature: 1.694\n",
      "  68% coverage: 56.0%\n",
      "  95% coverage: 100.0%\n",
      "  RMSE: 0.6975\n"
     ]
    },
    {
     "data": {
      "application/vnd.jupyter.widget-view+json": {
       "model_id": "84be7dac74d74e90b82680715289f2d5",
       "version_major": 2,
       "version_minor": 0
      },
      "text/plain": [
       "  0%|          | 0/1000 [00:00<?, ?it/s]"
      ]
     },
     "metadata": {},
     "output_type": "display_data"
    },
    {
     "data": {
      "application/vnd.jupyter.widget-view+json": {
       "model_id": "b63e7c0807404e15aa1e7986cb7418b3",
       "version_major": 2,
       "version_minor": 0
      },
      "text/plain": [
       "  0%|          | 0/1000 [00:00<?, ?it/s]"
      ]
     },
     "metadata": {},
     "output_type": "display_data"
    },
    {
     "data": {
      "application/vnd.jupyter.widget-view+json": {
       "model_id": "4b2c9a376d354a5280f51a86a3a8f108",
       "version_major": 2,
       "version_minor": 0
      },
      "text/plain": [
       "  0%|          | 0/1000 [00:00<?, ?it/s]"
      ]
     },
     "metadata": {},
     "output_type": "display_data"
    },
    {
     "data": {
      "application/vnd.jupyter.widget-view+json": {
       "model_id": "af6bf47cc5114c7db9b46d5960bd6d5a",
       "version_major": 2,
       "version_minor": 0
      },
      "text/plain": [
       "  0%|          | 0/1000 [00:00<?, ?it/s]"
      ]
     },
     "metadata": {},
     "output_type": "display_data"
    },
    {
     "data": {
      "application/vnd.jupyter.widget-view+json": {
       "model_id": "d9f08b91b155420f9e751ce05f39ef91",
       "version_major": 2,
       "version_minor": 0
      },
      "text/plain": [
       "  0%|          | 0/1000 [00:00<?, ?it/s]"
      ]
     },
     "metadata": {},
     "output_type": "display_data"
    },
    {
     "data": {
      "application/vnd.jupyter.widget-view+json": {
       "model_id": "56d3d9c78ba24915a88e8b9032f15c82",
       "version_major": 2,
       "version_minor": 0
      },
      "text/plain": [
       "  0%|          | 0/1000 [00:00<?, ?it/s]"
      ]
     },
     "metadata": {},
     "output_type": "display_data"
    },
    {
     "data": {
      "application/vnd.jupyter.widget-view+json": {
       "model_id": "67d45e799ca6488a8c9e9f0b6507d997",
       "version_major": 2,
       "version_minor": 0
      },
      "text/plain": [
       "  0%|          | 0/1000 [00:00<?, ?it/s]"
      ]
     },
     "metadata": {},
     "output_type": "display_data"
    },
    {
     "data": {
      "application/vnd.jupyter.widget-view+json": {
       "model_id": "9f6610ff16ec46a8a23054bc5980e87f",
       "version_major": 2,
       "version_minor": 0
      },
      "text/plain": [
       "  0%|          | 0/1000 [00:00<?, ?it/s]"
      ]
     },
     "metadata": {},
     "output_type": "display_data"
    },
    {
     "data": {
      "application/vnd.jupyter.widget-view+json": {
       "model_id": "49a470fdf8bf4e5ab6b2c21fbf902eff",
       "version_major": 2,
       "version_minor": 0
      },
      "text/plain": [
       "  0%|          | 0/1000 [00:00<?, ?it/s]"
      ]
     },
     "metadata": {},
     "output_type": "display_data"
    },
    {
     "data": {
      "application/vnd.jupyter.widget-view+json": {
       "model_id": "b3fef8068e84452eafe911f85e054159",
       "version_major": 2,
       "version_minor": 0
      },
      "text/plain": [
       "  0%|          | 0/1000 [00:00<?, ?it/s]"
      ]
     },
     "metadata": {},
     "output_type": "display_data"
    },
    {
     "data": {
      "application/vnd.jupyter.widget-view+json": {
       "model_id": "fecf28ef954741eaa590717548a79bda",
       "version_major": 2,
       "version_minor": 0
      },
      "text/plain": [
       "  0%|          | 0/1000 [00:00<?, ?it/s]"
      ]
     },
     "metadata": {},
     "output_type": "display_data"
    },
    {
     "data": {
      "application/vnd.jupyter.widget-view+json": {
       "model_id": "c4106583ab584db2af4dbf927f6e0c38",
       "version_major": 2,
       "version_minor": 0
      },
      "text/plain": [
       "  0%|          | 0/1000 [00:00<?, ?it/s]"
      ]
     },
     "metadata": {},
     "output_type": "display_data"
    },
    {
     "data": {
      "application/vnd.jupyter.widget-view+json": {
       "model_id": "f883b6cf3eda4397a21fca617ec2ed15",
       "version_major": 2,
       "version_minor": 0
      },
      "text/plain": [
       "  0%|          | 0/1000 [00:00<?, ?it/s]"
      ]
     },
     "metadata": {},
     "output_type": "display_data"
    },
    {
     "data": {
      "application/vnd.jupyter.widget-view+json": {
       "model_id": "aaca30ad1c3847fca5985c6babf7deda",
       "version_major": 2,
       "version_minor": 0
      },
      "text/plain": [
       "  0%|          | 0/1000 [00:00<?, ?it/s]"
      ]
     },
     "metadata": {},
     "output_type": "display_data"
    },
    {
     "data": {
      "application/vnd.jupyter.widget-view+json": {
       "model_id": "d72d0bd7d74649499be94315087a9fca",
       "version_major": 2,
       "version_minor": 0
      },
      "text/plain": [
       "  0%|          | 0/1000 [00:00<?, ?it/s]"
      ]
     },
     "metadata": {},
     "output_type": "display_data"
    },
    {
     "data": {
      "application/vnd.jupyter.widget-view+json": {
       "model_id": "dda6e6c02aac4d8599a9dcb1ef3f24f9",
       "version_major": 2,
       "version_minor": 0
      },
      "text/plain": [
       "  0%|          | 0/1000 [00:00<?, ?it/s]"
      ]
     },
     "metadata": {},
     "output_type": "display_data"
    },
    {
     "data": {
      "application/vnd.jupyter.widget-view+json": {
       "model_id": "c0f86d6cc71446e6a1cafbc4c6300260",
       "version_major": 2,
       "version_minor": 0
      },
      "text/plain": [
       "  0%|          | 0/1000 [00:00<?, ?it/s]"
      ]
     },
     "metadata": {},
     "output_type": "display_data"
    },
    {
     "data": {
      "application/vnd.jupyter.widget-view+json": {
       "model_id": "fb956b8d9a894100af32a08b633121ee",
       "version_major": 2,
       "version_minor": 0
      },
      "text/plain": [
       "  0%|          | 0/1000 [00:00<?, ?it/s]"
      ]
     },
     "metadata": {},
     "output_type": "display_data"
    },
    {
     "data": {
      "application/vnd.jupyter.widget-view+json": {
       "model_id": "0ace2bba109648a490239684bd817ffc",
       "version_major": 2,
       "version_minor": 0
      },
      "text/plain": [
       "  0%|          | 0/1000 [00:00<?, ?it/s]"
      ]
     },
     "metadata": {},
     "output_type": "display_data"
    },
    {
     "data": {
      "application/vnd.jupyter.widget-view+json": {
       "model_id": "6cb4344a8bd14c55ae8a0ae3921dbe9a",
       "version_major": 2,
       "version_minor": 0
      },
      "text/plain": [
       "  0%|          | 0/1000 [00:00<?, ?it/s]"
      ]
     },
     "metadata": {},
     "output_type": "display_data"
    },
    {
     "data": {
      "application/vnd.jupyter.widget-view+json": {
       "model_id": "57b57cc2e568428e9520255576107f15",
       "version_major": 2,
       "version_minor": 0
      },
      "text/plain": [
       "  0%|          | 0/1000 [00:00<?, ?it/s]"
      ]
     },
     "metadata": {},
     "output_type": "display_data"
    },
    {
     "data": {
      "application/vnd.jupyter.widget-view+json": {
       "model_id": "30bc09f0309340d2974817549d2f047d",
       "version_major": 2,
       "version_minor": 0
      },
      "text/plain": [
       "  0%|          | 0/1000 [00:00<?, ?it/s]"
      ]
     },
     "metadata": {},
     "output_type": "display_data"
    },
    {
     "data": {
      "application/vnd.jupyter.widget-view+json": {
       "model_id": "19bae5d2e3de4daaaf6645d544509ee4",
       "version_major": 2,
       "version_minor": 0
      },
      "text/plain": [
       "  0%|          | 0/1000 [00:00<?, ?it/s]"
      ]
     },
     "metadata": {},
     "output_type": "display_data"
    },
    {
     "data": {
      "application/vnd.jupyter.widget-view+json": {
       "model_id": "7d3dcb77c31d47fea07080bcd51cf2b8",
       "version_major": 2,
       "version_minor": 0
      },
      "text/plain": [
       "  0%|          | 0/1000 [00:00<?, ?it/s]"
      ]
     },
     "metadata": {},
     "output_type": "display_data"
    },
    {
     "data": {
      "application/vnd.jupyter.widget-view+json": {
       "model_id": "c31afc2bb96044538a72022690be6037",
       "version_major": 2,
       "version_minor": 0
      },
      "text/plain": [
       "  0%|          | 0/1000 [00:00<?, ?it/s]"
      ]
     },
     "metadata": {},
     "output_type": "display_data"
    },
    {
     "data": {
      "application/vnd.jupyter.widget-view+json": {
       "model_id": "67ea6b5fbb164bdd9ca259c8a9d262fe",
       "version_major": 2,
       "version_minor": 0
      },
      "text/plain": [
       "  0%|          | 0/1000 [00:00<?, ?it/s]"
      ]
     },
     "metadata": {},
     "output_type": "display_data"
    },
    {
     "data": {
      "application/vnd.jupyter.widget-view+json": {
       "model_id": "bd6d11c49d6047f5abc07d7a341306aa",
       "version_major": 2,
       "version_minor": 0
      },
      "text/plain": [
       "  0%|          | 0/1000 [00:00<?, ?it/s]"
      ]
     },
     "metadata": {},
     "output_type": "display_data"
    },
    {
     "data": {
      "application/vnd.jupyter.widget-view+json": {
       "model_id": "62f3c5be7d604b11baef507c4fdfa066",
       "version_major": 2,
       "version_minor": 0
      },
      "text/plain": [
       "  0%|          | 0/1000 [00:00<?, ?it/s]"
      ]
     },
     "metadata": {},
     "output_type": "display_data"
    },
    {
     "data": {
      "application/vnd.jupyter.widget-view+json": {
       "model_id": "bde7efa540954d439a0df3eb18e8e9dd",
       "version_major": 2,
       "version_minor": 0
      },
      "text/plain": [
       "  0%|          | 0/1000 [00:00<?, ?it/s]"
      ]
     },
     "metadata": {},
     "output_type": "display_data"
    },
    {
     "data": {
      "application/vnd.jupyter.widget-view+json": {
       "model_id": "1aecf816ce3d4966953fe3710220c6ef",
       "version_major": 2,
       "version_minor": 0
      },
      "text/plain": [
       "  0%|          | 0/1000 [00:00<?, ?it/s]"
      ]
     },
     "metadata": {},
     "output_type": "display_data"
    },
    {
     "data": {
      "application/vnd.jupyter.widget-view+json": {
       "model_id": "50d7f84b50e540c3bcd9f2d0dfc1f98a",
       "version_major": 2,
       "version_minor": 0
      },
      "text/plain": [
       "  0%|          | 0/1000 [00:00<?, ?it/s]"
      ]
     },
     "metadata": {},
     "output_type": "display_data"
    },
    {
     "data": {
      "application/vnd.jupyter.widget-view+json": {
       "model_id": "18a9f04ad9de4f71974f3569eb329b07",
       "version_major": 2,
       "version_minor": 0
      },
      "text/plain": [
       "  0%|          | 0/1000 [00:00<?, ?it/s]"
      ]
     },
     "metadata": {},
     "output_type": "display_data"
    },
    {
     "data": {
      "application/vnd.jupyter.widget-view+json": {
       "model_id": "f4884f1b3ebb4509afe8d0922a6b8527",
       "version_major": 2,
       "version_minor": 0
      },
      "text/plain": [
       "  0%|          | 0/1000 [00:00<?, ?it/s]"
      ]
     },
     "metadata": {},
     "output_type": "display_data"
    },
    {
     "data": {
      "application/vnd.jupyter.widget-view+json": {
       "model_id": "ccb35214546e4c16a46d43d62fce5d0b",
       "version_major": 2,
       "version_minor": 0
      },
      "text/plain": [
       "  0%|          | 0/1000 [00:00<?, ?it/s]"
      ]
     },
     "metadata": {},
     "output_type": "display_data"
    },
    {
     "data": {
      "application/vnd.jupyter.widget-view+json": {
       "model_id": "eccc63c774c542589a491e41822dcee5",
       "version_major": 2,
       "version_minor": 0
      },
      "text/plain": [
       "  0%|          | 0/1000 [00:00<?, ?it/s]"
      ]
     },
     "metadata": {},
     "output_type": "display_data"
    },
    {
     "data": {
      "application/vnd.jupyter.widget-view+json": {
       "model_id": "45e2102d830341a48ef8905f10d841df",
       "version_major": 2,
       "version_minor": 0
      },
      "text/plain": [
       "  0%|          | 0/1000 [00:00<?, ?it/s]"
      ]
     },
     "metadata": {},
     "output_type": "display_data"
    },
    {
     "data": {
      "application/vnd.jupyter.widget-view+json": {
       "model_id": "cbd419516d20486ca4658f8c0853a66a",
       "version_major": 2,
       "version_minor": 0
      },
      "text/plain": [
       "  0%|          | 0/1000 [00:00<?, ?it/s]"
      ]
     },
     "metadata": {},
     "output_type": "display_data"
    },
    {
     "data": {
      "application/vnd.jupyter.widget-view+json": {
       "model_id": "88837f21aeb440848b1b8ceb582b519e",
       "version_major": 2,
       "version_minor": 0
      },
      "text/plain": [
       "  0%|          | 0/1000 [00:00<?, ?it/s]"
      ]
     },
     "metadata": {},
     "output_type": "display_data"
    },
    {
     "data": {
      "application/vnd.jupyter.widget-view+json": {
       "model_id": "1946049b3d38476bb99f97d3aa23c6db",
       "version_major": 2,
       "version_minor": 0
      },
      "text/plain": [
       "  0%|          | 0/1000 [00:00<?, ?it/s]"
      ]
     },
     "metadata": {},
     "output_type": "display_data"
    },
    {
     "data": {
      "application/vnd.jupyter.widget-view+json": {
       "model_id": "cb56a3ebd4244580890e723af63e4681",
       "version_major": 2,
       "version_minor": 0
      },
      "text/plain": [
       "  0%|          | 0/1000 [00:00<?, ?it/s]"
      ]
     },
     "metadata": {},
     "output_type": "display_data"
    },
    {
     "data": {
      "application/vnd.jupyter.widget-view+json": {
       "model_id": "5446987cb07a4ba7b26b3ee1ccf7923d",
       "version_major": 2,
       "version_minor": 0
      },
      "text/plain": [
       "  0%|          | 0/1000 [00:00<?, ?it/s]"
      ]
     },
     "metadata": {},
     "output_type": "display_data"
    },
    {
     "data": {
      "application/vnd.jupyter.widget-view+json": {
       "model_id": "1658779ccda143d6b2e4ce6dd74e629a",
       "version_major": 2,
       "version_minor": 0
      },
      "text/plain": [
       "  0%|          | 0/1000 [00:00<?, ?it/s]"
      ]
     },
     "metadata": {},
     "output_type": "display_data"
    },
    {
     "data": {
      "application/vnd.jupyter.widget-view+json": {
       "model_id": "c98f3bd8ed944415b52ff20749041d5d",
       "version_major": 2,
       "version_minor": 0
      },
      "text/plain": [
       "  0%|          | 0/1000 [00:00<?, ?it/s]"
      ]
     },
     "metadata": {},
     "output_type": "display_data"
    },
    {
     "data": {
      "application/vnd.jupyter.widget-view+json": {
       "model_id": "fb884ec8f8c54aacaf1f318d2012380f",
       "version_major": 2,
       "version_minor": 0
      },
      "text/plain": [
       "  0%|          | 0/1000 [00:00<?, ?it/s]"
      ]
     },
     "metadata": {},
     "output_type": "display_data"
    },
    {
     "data": {
      "application/vnd.jupyter.widget-view+json": {
       "model_id": "6eb23c9c25da4194b8031c8496dbfaa8",
       "version_major": 2,
       "version_minor": 0
      },
      "text/plain": [
       "  0%|          | 0/1000 [00:00<?, ?it/s]"
      ]
     },
     "metadata": {},
     "output_type": "display_data"
    },
    {
     "data": {
      "application/vnd.jupyter.widget-view+json": {
       "model_id": "28bc857fd1b54770a7433a518942f78f",
       "version_major": 2,
       "version_minor": 0
      },
      "text/plain": [
       "  0%|          | 0/1000 [00:00<?, ?it/s]"
      ]
     },
     "metadata": {},
     "output_type": "display_data"
    },
    {
     "data": {
      "application/vnd.jupyter.widget-view+json": {
       "model_id": "dce9239445d84bccb806516e42ab3016",
       "version_major": 2,
       "version_minor": 0
      },
      "text/plain": [
       "  0%|          | 0/1000 [00:00<?, ?it/s]"
      ]
     },
     "metadata": {},
     "output_type": "display_data"
    },
    {
     "data": {
      "application/vnd.jupyter.widget-view+json": {
       "model_id": "280e0a216edd417eaa7d24052ecbbfa0",
       "version_major": 2,
       "version_minor": 0
      },
      "text/plain": [
       "  0%|          | 0/1000 [00:00<?, ?it/s]"
      ]
     },
     "metadata": {},
     "output_type": "display_data"
    },
    {
     "data": {
      "application/vnd.jupyter.widget-view+json": {
       "model_id": "db45627ac15344baa614a4f78da98d3e",
       "version_major": 2,
       "version_minor": 0
      },
      "text/plain": [
       "  0%|          | 0/1000 [00:00<?, ?it/s]"
      ]
     },
     "metadata": {},
     "output_type": "display_data"
    },
    {
     "data": {
      "application/vnd.jupyter.widget-view+json": {
       "model_id": "9a9c3f3106d943cea2e4ea76afd3f197",
       "version_major": 2,
       "version_minor": 0
      },
      "text/plain": [
       "  0%|          | 0/1000 [00:00<?, ?it/s]"
      ]
     },
     "metadata": {},
     "output_type": "display_data"
    },
    {
     "data": {
      "image/png": "[encoded data removed]",
      "text/plain": [
       "<Figure size 2000x400 with 4 Axes>"
      ]
     },
     "metadata": {},
     "output_type": "display_data"
    },
    {
     "data": {
      "application/vnd.jupyter.widget-view+json": {
       "model_id": "dfd7bf7947004f1da3f997bf182dfd79",
       "version_major": 2,
       "version_minor": 0
      },
      "text/plain": [
       "  0%|          | 0/500 [00:00<?, ?it/s]"
      ]
     },
     "metadata": {},
     "output_type": "display_data"
    },
    {
     "data": {
      "application/vnd.jupyter.widget-view+json": {
       "model_id": "5d4d1e4026664ab0b1a258fe2edb8560",
       "version_major": 2,
       "version_minor": 0
      },
      "text/plain": [
       "  0%|          | 0/500 [00:00<?, ?it/s]"
      ]
     },
     "metadata": {},
     "output_type": "display_data"
    },
    {
     "data": {
      "application/vnd.jupyter.widget-view+json": {
       "model_id": "1bd67baf7aac43949d3382cae1a02ca2",
       "version_major": 2,
       "version_minor": 0
      },
      "text/plain": [
       "  0%|          | 0/500 [00:00<?, ?it/s]"
      ]
     },
     "metadata": {},
     "output_type": "display_data"
    },
    {
     "data": {
      "application/vnd.jupyter.widget-view+json": {
       "model_id": "0ef4e2a3eacc42b3880d09c0ce4bfe33",
       "version_major": 2,
       "version_minor": 0
      },
      "text/plain": [
       "  0%|          | 0/500 [00:00<?, ?it/s]"
      ]
     },
     "metadata": {},
     "output_type": "display_data"
    },
    {
     "data": {
      "application/vnd.jupyter.widget-view+json": {
       "model_id": "a5c68f1356ba41e18c6e7bffd6361bbb",
       "version_major": 2,
       "version_minor": 0
      },
      "text/plain": [
       "  0%|          | 0/500 [00:00<?, ?it/s]"
      ]
     },
     "metadata": {},
     "output_type": "display_data"
    },
    {
     "data": {
      "application/vnd.jupyter.widget-view+json": {
       "model_id": "5aa3da192ff64075a53e72562738a445",
       "version_major": 2,
       "version_minor": 0
      },
      "text/plain": [
       "  0%|          | 0/500 [00:00<?, ?it/s]"
      ]
     },
     "metadata": {},
     "output_type": "display_data"
    },
    {
     "data": {
      "application/vnd.jupyter.widget-view+json": {
       "model_id": "31cf0f6d0d224e0a9b11c212e38d3848",
       "version_major": 2,
       "version_minor": 0
      },
      "text/plain": [
       "  0%|          | 0/500 [00:00<?, ?it/s]"
      ]
     },
     "metadata": {},
     "output_type": "display_data"
    },
    {
     "data": {
      "application/vnd.jupyter.widget-view+json": {
       "model_id": "47333dcb126d42f68b8d53287e06712f",
       "version_major": 2,
       "version_minor": 0
      },
      "text/plain": [
       "  0%|          | 0/500 [00:00<?, ?it/s]"
      ]
     },
     "metadata": {},
     "output_type": "display_data"
    },
    {
     "data": {
      "application/vnd.jupyter.widget-view+json": {
       "model_id": "266e7386b65349d7952a785d4d28df9d",
       "version_major": 2,
       "version_minor": 0
      },
      "text/plain": [
       "  0%|          | 0/500 [00:00<?, ?it/s]"
      ]
     },
     "metadata": {},
     "output_type": "display_data"
    },
    {
     "data": {
      "application/vnd.jupyter.widget-view+json": {
       "model_id": "38333b762c7b4f5a9745c1f54a5c62a0",
       "version_major": 2,
       "version_minor": 0
      },
      "text/plain": [
       "  0%|          | 0/500 [00:00<?, ?it/s]"
      ]
     },
     "metadata": {},
     "output_type": "display_data"
    },
    {
     "data": {
      "application/vnd.jupyter.widget-view+json": {
       "model_id": "3c33a61864f64a509fcea5ecc55cf909",
       "version_major": 2,
       "version_minor": 0
      },
      "text/plain": [
       "  0%|          | 0/500 [00:00<?, ?it/s]"
      ]
     },
     "metadata": {},
     "output_type": "display_data"
    },
    {
     "data": {
      "application/vnd.jupyter.widget-view+json": {
       "model_id": "2868673a7fc24bf49200dd99f1398fef",
       "version_major": 2,
       "version_minor": 0
      },
      "text/plain": [
       "  0%|          | 0/500 [00:00<?, ?it/s]"
      ]
     },
     "metadata": {},
     "output_type": "display_data"
    },
    {
     "data": {
      "application/vnd.jupyter.widget-view+json": {
       "model_id": "132dc1c39ab1450c90243bd8a1633e29",
       "version_major": 2,
       "version_minor": 0
      },
      "text/plain": [
       "  0%|          | 0/500 [00:00<?, ?it/s]"
      ]
     },
     "metadata": {},
     "output_type": "display_data"
    },
    {
     "data": {
      "application/vnd.jupyter.widget-view+json": {
       "model_id": "ce9790b5b3f94e1bb7b89261df03a8f0",
       "version_major": 2,
       "version_minor": 0
      },
      "text/plain": [
       "  0%|          | 0/500 [00:00<?, ?it/s]"
      ]
     },
     "metadata": {},
     "output_type": "display_data"
    },
    {
     "data": {
      "application/vnd.jupyter.widget-view+json": {
       "model_id": "5b98aa989507446ba72166ccf8fe90ac",
       "version_major": 2,
       "version_minor": 0
      },
      "text/plain": [
       "  0%|          | 0/500 [00:00<?, ?it/s]"
      ]
     },
     "metadata": {},
     "output_type": "display_data"
    },
    {
     "data": {
      "application/vnd.jupyter.widget-view+json": {
       "model_id": "d8ba505900e44611b900778913e2b278",
       "version_major": 2,
       "version_minor": 0
      },
      "text/plain": [
       "  0%|          | 0/500 [00:00<?, ?it/s]"
      ]
     },
     "metadata": {},
     "output_type": "display_data"
    },
    {
     "data": {
      "application/vnd.jupyter.widget-view+json": {
       "model_id": "de76898b558a4c2e905671b2fd188125",
       "version_major": 2,
       "version_minor": 0
      },
      "text/plain": [
       "  0%|          | 0/500 [00:00<?, ?it/s]"
      ]
     },
     "metadata": {},
     "output_type": "display_data"
    },
    {
     "data": {
      "application/vnd.jupyter.widget-view+json": {
       "model_id": "eae67d9a1b30442cb6c60acfb14c93d2",
       "version_major": 2,
       "version_minor": 0
      },
      "text/plain": [
       "  0%|          | 0/500 [00:00<?, ?it/s]"
      ]
     },
     "metadata": {},
     "output_type": "display_data"
    },
    {
     "data": {
      "application/vnd.jupyter.widget-view+json": {
       "model_id": "b90d1592ce3e49c9b7b78f003f0e5381",
       "version_major": 2,
       "version_minor": 0
      },
      "text/plain": [
       "  0%|          | 0/500 [00:00<?, ?it/s]"
      ]
     },
     "metadata": {},
     "output_type": "display_data"
    },
    {
     "data": {
      "application/vnd.jupyter.widget-view+json": {
       "model_id": "24fb135ed3ca4a60bdad4d6cf3d9f6b4",
       "version_major": 2,
       "version_minor": 0
      },
      "text/plain": [
       "  0%|          | 0/500 [00:00<?, ?it/s]"
      ]
     },
     "metadata": {},
     "output_type": "display_data"
    },
    {
     "data": {
      "application/vnd.jupyter.widget-view+json": {
       "model_id": "115dbd3fb87f4ef98464f7fd11239e36",
       "version_major": 2,
       "version_minor": 0
      },
      "text/plain": [
       "  0%|          | 0/500 [00:00<?, ?it/s]"
      ]
     },
     "metadata": {},
     "output_type": "display_data"
    },
    {
     "data": {
      "application/vnd.jupyter.widget-view+json": {
       "model_id": "7f9e09db7ad34fa089025faa81e78a0b",
       "version_major": 2,
       "version_minor": 0
      },
      "text/plain": [
       "  0%|          | 0/500 [00:00<?, ?it/s]"
      ]
     },
     "metadata": {},
     "output_type": "display_data"
    },
    {
     "data": {
      "application/vnd.jupyter.widget-view+json": {
       "model_id": "92516136a7b44b418a24fee4d1c23f3a",
       "version_major": 2,
       "version_minor": 0
      },
      "text/plain": [
       "  0%|          | 0/500 [00:00<?, ?it/s]"
      ]
     },
     "metadata": {},
     "output_type": "display_data"
    },
    {
     "data": {
      "application/vnd.jupyter.widget-view+json": {
       "model_id": "e17a6abbaa2a4ebc8378a24650e04a05",
       "version_major": 2,
       "version_minor": 0
      },
      "text/plain": [
       "  0%|          | 0/500 [00:00<?, ?it/s]"
      ]
     },
     "metadata": {},
     "output_type": "display_data"
    },
    {
     "data": {
      "application/vnd.jupyter.widget-view+json": {
       "model_id": "c04c41befddc43ec94edd6a695c4c8f4",
       "version_major": 2,
       "version_minor": 0
      },
      "text/plain": [
       "  0%|          | 0/500 [00:00<?, ?it/s]"
      ]
     },
     "metadata": {},
     "output_type": "display_data"
    },
    {
     "data": {
      "application/vnd.jupyter.widget-view+json": {
       "model_id": "47584a6aeec841b69e508cd3d6f35be6",
       "version_major": 2,
       "version_minor": 0
      },
      "text/plain": [
       "  0%|          | 0/500 [00:00<?, ?it/s]"
      ]
     },
     "metadata": {},
     "output_type": "display_data"
    },
    {
     "data": {
      "application/vnd.jupyter.widget-view+json": {
       "model_id": "f26962922a3e4328a2f5f33e87f2fa10",
       "version_major": 2,
       "version_minor": 0
      },
      "text/plain": [
       "  0%|          | 0/500 [00:00<?, ?it/s]"
      ]
     },
     "metadata": {},
     "output_type": "display_data"
    },
    {
     "data": {
      "application/vnd.jupyter.widget-view+json": {
       "model_id": "191b8bc9b59c483a866761bf1d4ca92d",
       "version_major": 2,
       "version_minor": 0
      },
      "text/plain": [
       "  0%|          | 0/500 [00:00<?, ?it/s]"
      ]
     },
     "metadata": {},
     "output_type": "display_data"
    },
    {
     "data": {
      "application/vnd.jupyter.widget-view+json": {
       "model_id": "9b95d3089f364c0fb2ebc64299818a78",
       "version_major": 2,
       "version_minor": 0
      },
      "text/plain": [
       "  0%|          | 0/500 [00:00<?, ?it/s]"
      ]
     },
     "metadata": {},
     "output_type": "display_data"
    },
    {
     "data": {
      "application/vnd.jupyter.widget-view+json": {
       "model_id": "422ef3762e9e43f5b8b0da31f10c751a",
       "version_major": 2,
       "version_minor": 0
      },
      "text/plain": [
       "  0%|          | 0/500 [00:00<?, ?it/s]"
      ]
     },
     "metadata": {},
     "output_type": "display_data"
    },
    {
     "data": {
      "application/vnd.jupyter.widget-view+json": {
       "model_id": "fe5ad6467413464d86d6fea61eca0048",
       "version_major": 2,
       "version_minor": 0
      },
      "text/plain": [
       "  0%|          | 0/500 [00:00<?, ?it/s]"
      ]
     },
     "metadata": {},
     "output_type": "display_data"
    },
    {
     "data": {
      "application/vnd.jupyter.widget-view+json": {
       "model_id": "8b4e9fd68d734bd7ae65e67435b105d0",
       "version_major": 2,
       "version_minor": 0
      },
      "text/plain": [
       "  0%|          | 0/500 [00:00<?, ?it/s]"
      ]
     },
     "metadata": {},
     "output_type": "display_data"
    },
    {
     "data": {
      "application/vnd.jupyter.widget-view+json": {
       "model_id": "49fa7cb2352b4b589970af72d847c218",
       "version_major": 2,
       "version_minor": 0
      },
      "text/plain": [
       "  0%|          | 0/500 [00:00<?, ?it/s]"
      ]
     },
     "metadata": {},
     "output_type": "display_data"
    },
    {
     "data": {
      "application/vnd.jupyter.widget-view+json": {
       "model_id": "6f241b53c4864a878ef65dbe510111ff",
       "version_major": 2,
       "version_minor": 0
      },
      "text/plain": [
       "  0%|          | 0/500 [00:00<?, ?it/s]"
      ]
     },
     "metadata": {},
     "output_type": "display_data"
    },
    {
     "data": {
      "application/vnd.jupyter.widget-view+json": {
       "model_id": "d90151cb077b43ab8f2bf691dbf10577",
       "version_major": 2,
       "version_minor": 0
      },
      "text/plain": [
       "  0%|          | 0/500 [00:00<?, ?it/s]"
      ]
     },
     "metadata": {},
     "output_type": "display_data"
    },
    {
     "data": {
      "application/vnd.jupyter.widget-view+json": {
       "model_id": "1b00a7b7b1dc455689072cb925fa2693",
       "version_major": 2,
       "version_minor": 0
      },
      "text/plain": [
       "  0%|          | 0/500 [00:00<?, ?it/s]"
      ]
     },
     "metadata": {},
     "output_type": "display_data"
    },
    {
     "data": {
      "application/vnd.jupyter.widget-view+json": {
       "model_id": "9bf4f2e2310f419ca42278fffdb7c002",
       "version_major": 2,
       "version_minor": 0
      },
      "text/plain": [
       "  0%|          | 0/500 [00:00<?, ?it/s]"
      ]
     },
     "metadata": {},
     "output_type": "display_data"
    },
    {
     "data": {
      "application/vnd.jupyter.widget-view+json": {
       "model_id": "b4e423dd1e8d4c1293c5f4942029126a",
       "version_major": 2,
       "version_minor": 0
      },
      "text/plain": [
       "  0%|          | 0/500 [00:00<?, ?it/s]"
      ]
     },
     "metadata": {},
     "output_type": "display_data"
    },
    {
     "data": {
      "application/vnd.jupyter.widget-view+json": {
       "model_id": "e1ff97b75110418b9d54b3403583153b",
       "version_major": 2,
       "version_minor": 0
      },
      "text/plain": [
       "  0%|          | 0/500 [00:00<?, ?it/s]"
      ]
     },
     "metadata": {},
     "output_type": "display_data"
    },
    {
     "data": {
      "application/vnd.jupyter.widget-view+json": {
       "model_id": "bbd129ef7aca475f8f2029ae41dedc0f",
       "version_major": 2,
       "version_minor": 0
      },
      "text/plain": [
       "  0%|          | 0/500 [00:00<?, ?it/s]"
      ]
     },
     "metadata": {},
     "output_type": "display_data"
    },
    {
     "data": {
      "application/vnd.jupyter.widget-view+json": {
       "model_id": "7ae11b30fc0e4ba58c27ac0231287532",
       "version_major": 2,
       "version_minor": 0
      },
      "text/plain": [
       "  0%|          | 0/500 [00:00<?, ?it/s]"
      ]
     },
     "metadata": {},
     "output_type": "display_data"
    },
    {
     "data": {
      "application/vnd.jupyter.widget-view+json": {
       "model_id": "9fe11f0aa9de4405b7e95201182bcb2a",
       "version_major": 2,
       "version_minor": 0
      },
      "text/plain": [
       "  0%|          | 0/500 [00:00<?, ?it/s]"
      ]
     },
     "metadata": {},
     "output_type": "display_data"
    },
    {
     "data": {
      "application/vnd.jupyter.widget-view+json": {
       "model_id": "c3d8934f644046e7a5791fb47cc86c72",
       "version_major": 2,
       "version_minor": 0
      },
      "text/plain": [
       "  0%|          | 0/500 [00:00<?, ?it/s]"
      ]
     },
     "metadata": {},
     "output_type": "display_data"
    },
    {
     "data": {
      "application/vnd.jupyter.widget-view+json": {
       "model_id": "291caec892b849778212c320921bc4e3",
       "version_major": 2,
       "version_minor": 0
      },
      "text/plain": [
       "  0%|          | 0/500 [00:00<?, ?it/s]"
      ]
     },
     "metadata": {},
     "output_type": "display_data"
    },
    {
     "data": {
      "application/vnd.jupyter.widget-view+json": {
       "model_id": "83c50430382240e695a0a41fcb0d11c7",
       "version_major": 2,
       "version_minor": 0
      },
      "text/plain": [
       "  0%|          | 0/500 [00:00<?, ?it/s]"
      ]
     },
     "metadata": {},
     "output_type": "display_data"
    },
    {
     "data": {
      "application/vnd.jupyter.widget-view+json": {
       "model_id": "91eb1b8e23904ef8acc58019ee1adece",
       "version_major": 2,
       "version_minor": 0
      },
      "text/plain": [
       "  0%|          | 0/500 [00:00<?, ?it/s]"
      ]
     },
     "metadata": {},
     "output_type": "display_data"
    },
    {
     "data": {
      "application/vnd.jupyter.widget-view+json": {
       "model_id": "b38c2ead25164fa194f8bcd1554a2ea6",
       "version_major": 2,
       "version_minor": 0
      },
      "text/plain": [
       "  0%|          | 0/500 [00:00<?, ?it/s]"
      ]
     },
     "metadata": {},
     "output_type": "display_data"
    },
    {
     "data": {
      "application/vnd.jupyter.widget-view+json": {
       "model_id": "1b9f0a704bf348618a982abb625a3ad8",
       "version_major": 2,
       "version_minor": 0
      },
      "text/plain": [
       "  0%|          | 0/500 [00:00<?, ?it/s]"
      ]
     },
     "metadata": {},
     "output_type": "display_data"
    },
    {
     "data": {
      "application/vnd.jupyter.widget-view+json": {
       "model_id": "d35e183d052e4b5b84d74a8d994f5e1a",
       "version_major": 2,
       "version_minor": 0
      },
      "text/plain": [
       "  0%|          | 0/500 [00:00<?, ?it/s]"
      ]
     },
     "metadata": {},
     "output_type": "display_data"
    },
    {
     "data": {
      "application/vnd.jupyter.widget-view+json": {
       "model_id": "2182cdea04a847a782bed8d7e3b3cead",
       "version_major": 2,
       "version_minor": 0
      },
      "text/plain": [
       "  0%|          | 0/500 [00:00<?, ?it/s]"
      ]
     },
     "metadata": {},
     "output_type": "display_data"
    },
    {
     "data": {
      "application/vnd.jupyter.widget-view+json": {
       "model_id": "627939d8d39a4ceda28a66cd00f3d84f",
       "version_major": 2,
       "version_minor": 0
      },
      "text/plain": [
       "  0%|          | 0/500 [00:00<?, ?it/s]"
      ]
     },
     "metadata": {},
     "output_type": "display_data"
    },
    {
     "data": {
      "application/vnd.jupyter.widget-view+json": {
       "model_id": "a2d465db7fad4a5aa29375138fcec8dc",
       "version_major": 2,
       "version_minor": 0
      },
      "text/plain": [
       "  0%|          | 0/500 [00:00<?, ?it/s]"
      ]
     },
     "metadata": {},
     "output_type": "display_data"
    },
    {
     "data": {
      "application/vnd.jupyter.widget-view+json": {
       "model_id": "957240f5cf1f45d8be062bc5709f1340",
       "version_major": 2,
       "version_minor": 0
      },
      "text/plain": [
       "  0%|          | 0/500 [00:00<?, ?it/s]"
      ]
     },
     "metadata": {},
     "output_type": "display_data"
    },
    {
     "data": {
      "application/vnd.jupyter.widget-view+json": {
       "model_id": "68c1ad3a90b540e49bb428dfb7a3a764",
       "version_major": 2,
       "version_minor": 0
      },
      "text/plain": [
       "  0%|          | 0/500 [00:00<?, ?it/s]"
      ]
     },
     "metadata": {},
     "output_type": "display_data"
    },
    {
     "data": {
      "application/vnd.jupyter.widget-view+json": {
       "model_id": "460615240900483483810e3037a2a659",
       "version_major": 2,
       "version_minor": 0
      },
      "text/plain": [
       "  0%|          | 0/500 [00:00<?, ?it/s]"
      ]
     },
     "metadata": {},
     "output_type": "display_data"
    },
    {
     "data": {
      "application/vnd.jupyter.widget-view+json": {
       "model_id": "16905e071e3f456680d5734e58f58a72",
       "version_major": 2,
       "version_minor": 0
      },
      "text/plain": [
       "  0%|          | 0/500 [00:00<?, ?it/s]"
      ]
     },
     "metadata": {},
     "output_type": "display_data"
    },
    {
     "data": {
      "application/vnd.jupyter.widget-view+json": {
       "model_id": "83824b61d8674b259f59e4d89203a78f",
       "version_major": 2,
       "version_minor": 0
      },
      "text/plain": [
       "  0%|          | 0/500 [00:00<?, ?it/s]"
      ]
     },
     "metadata": {},
     "output_type": "display_data"
    },
    {
     "data": {
      "application/vnd.jupyter.widget-view+json": {
       "model_id": "9a793ab98a5e4c67ba8f591be5cdec61",
       "version_major": 2,
       "version_minor": 0
      },
      "text/plain": [
       "  0%|          | 0/500 [00:00<?, ?it/s]"
      ]
     },
     "metadata": {},
     "output_type": "display_data"
    },
    {
     "data": {
      "application/vnd.jupyter.widget-view+json": {
       "model_id": "8d8f6a3a283e46abb935f03da21d4a1a",
       "version_major": 2,
       "version_minor": 0
      },
      "text/plain": [
       "  0%|          | 0/500 [00:00<?, ?it/s]"
      ]
     },
     "metadata": {},
     "output_type": "display_data"
    },
    {
     "data": {
      "application/vnd.jupyter.widget-view+json": {
       "model_id": "17163d59c80d48d6a98c2221039cea02",
       "version_major": 2,
       "version_minor": 0
      },
      "text/plain": [
       "  0%|          | 0/500 [00:00<?, ?it/s]"
      ]
     },
     "metadata": {},
     "output_type": "display_data"
    },
    {
     "data": {
      "application/vnd.jupyter.widget-view+json": {
       "model_id": "9167e5c6829049fabe76961942a19508",
       "version_major": 2,
       "version_minor": 0
      },
      "text/plain": [
       "  0%|          | 0/500 [00:00<?, ?it/s]"
      ]
     },
     "metadata": {},
     "output_type": "display_data"
    },
    {
     "data": {
      "application/vnd.jupyter.widget-view+json": {
       "model_id": "e83d99850268458186e5d5b2183dc69e",
       "version_major": 2,
       "version_minor": 0
      },
      "text/plain": [
       "  0%|          | 0/500 [00:00<?, ?it/s]"
      ]
     },
     "metadata": {},
     "output_type": "display_data"
    },
    {
     "data": {
      "application/vnd.jupyter.widget-view+json": {
       "model_id": "3c45d19597494218a2a7b2d04e8e22c3",
       "version_major": 2,
       "version_minor": 0
      },
      "text/plain": [
       "  0%|          | 0/500 [00:00<?, ?it/s]"
      ]
     },
     "metadata": {},
     "output_type": "display_data"
    },
    {
     "data": {
      "application/vnd.jupyter.widget-view+json": {
       "model_id": "66e11187d4bf432f8572cad3f561d8a0",
       "version_major": 2,
       "version_minor": 0
      },
      "text/plain": [
       "  0%|          | 0/500 [00:00<?, ?it/s]"
      ]
     },
     "metadata": {},
     "output_type": "display_data"
    },
    {
     "data": {
      "application/vnd.jupyter.widget-view+json": {
       "model_id": "6a6984497ebd479db9a0badf67f2e5fe",
       "version_major": 2,
       "version_minor": 0
      },
      "text/plain": [
       "  0%|          | 0/500 [00:00<?, ?it/s]"
      ]
     },
     "metadata": {},
     "output_type": "display_data"
    },
    {
     "data": {
      "application/vnd.jupyter.widget-view+json": {
       "model_id": "b3ceac819cb2411ba1b6d3c7a0b02f74",
       "version_major": 2,
       "version_minor": 0
      },
      "text/plain": [
       "  0%|          | 0/500 [00:00<?, ?it/s]"
      ]
     },
     "metadata": {},
     "output_type": "display_data"
    },
    {
     "data": {
      "application/vnd.jupyter.widget-view+json": {
       "model_id": "d9ce2f71b0c24976b914a53e5530ca25",
       "version_major": 2,
       "version_minor": 0
      },
      "text/plain": [
       "  0%|          | 0/500 [00:00<?, ?it/s]"
      ]
     },
     "metadata": {},
     "output_type": "display_data"
    },
    {
     "data": {
      "application/vnd.jupyter.widget-view+json": {
       "model_id": "cf72533023b44863bf8f045765c9c362",
       "version_major": 2,
       "version_minor": 0
      },
      "text/plain": [
       "  0%|          | 0/500 [00:00<?, ?it/s]"
      ]
     },
     "metadata": {},
     "output_type": "display_data"
    },
    {
     "data": {
      "application/vnd.jupyter.widget-view+json": {
       "model_id": "0904ff2f0ac64c1d94a926a4075f17b7",
       "version_major": 2,
       "version_minor": 0
      },
      "text/plain": [
       "  0%|          | 0/500 [00:00<?, ?it/s]"
      ]
     },
     "metadata": {},
     "output_type": "display_data"
    },
    {
     "data": {
      "application/vnd.jupyter.widget-view+json": {
       "model_id": "bb518e77870c442fbe52b2d0ca6db3ba",
       "version_major": 2,
       "version_minor": 0
      },
      "text/plain": [
       "  0%|          | 0/500 [00:00<?, ?it/s]"
      ]
     },
     "metadata": {},
     "output_type": "display_data"
    },
    {
     "data": {
      "application/vnd.jupyter.widget-view+json": {
       "model_id": "934444d3879a497bb20c1095482f21c2",
       "version_major": 2,
       "version_minor": 0
      },
      "text/plain": [
       "  0%|          | 0/500 [00:00<?, ?it/s]"
      ]
     },
     "metadata": {},
     "output_type": "display_data"
    },
    {
     "data": {
      "application/vnd.jupyter.widget-view+json": {
       "model_id": "77372546295a4937b41a75b8979001e2",
       "version_major": 2,
       "version_minor": 0
      },
      "text/plain": [
       "  0%|          | 0/500 [00:00<?, ?it/s]"
      ]
     },
     "metadata": {},
     "output_type": "display_data"
    },
    {
     "data": {
      "application/vnd.jupyter.widget-view+json": {
       "model_id": "e21d79af22374e629b2f27769fdffd12",
       "version_major": 2,
       "version_minor": 0
      },
      "text/plain": [
       "  0%|          | 0/500 [00:00<?, ?it/s]"
      ]
     },
     "metadata": {},
     "output_type": "display_data"
    },
    {
     "data": {
      "application/vnd.jupyter.widget-view+json": {
       "model_id": "0fa3da314e734629903cbb10ffe8e865",
       "version_major": 2,
       "version_minor": 0
      },
      "text/plain": [
       "  0%|          | 0/500 [00:00<?, ?it/s]"
      ]
     },
     "metadata": {},
     "output_type": "display_data"
    },
    {
     "data": {
      "application/vnd.jupyter.widget-view+json": {
       "model_id": "d32ce10109614da4b081662945dfbca9",
       "version_major": 2,
       "version_minor": 0
      },
      "text/plain": [
       "  0%|          | 0/500 [00:00<?, ?it/s]"
      ]
     },
     "metadata": {},
     "output_type": "display_data"
    },
    {
     "data": {
      "application/vnd.jupyter.widget-view+json": {
       "model_id": "b282140f328a45c392739a59980a817c",
       "version_major": 2,
       "version_minor": 0
      },
      "text/plain": [
       "  0%|          | 0/500 [00:00<?, ?it/s]"
      ]
     },
     "metadata": {},
     "output_type": "display_data"
    },
    {
     "data": {
      "application/vnd.jupyter.widget-view+json": {
       "model_id": "007ff924b9da49909a2d8381f3b10ee5",
       "version_major": 2,
       "version_minor": 0
      },
      "text/plain": [
       "  0%|          | 0/500 [00:00<?, ?it/s]"
      ]
     },
     "metadata": {},
     "output_type": "display_data"
    },
    {
     "data": {
      "application/vnd.jupyter.widget-view+json": {
       "model_id": "960e0bed330545f0960dc8c424bd5ea2",
       "version_major": 2,
       "version_minor": 0
      },
      "text/plain": [
       "  0%|          | 0/500 [00:00<?, ?it/s]"
      ]
     },
     "metadata": {},
     "output_type": "display_data"
    },
    {
     "data": {
      "application/vnd.jupyter.widget-view+json": {
       "model_id": "fcd9a4c8f3cf410f8388facef2f21a2a",
       "version_major": 2,
       "version_minor": 0
      },
      "text/plain": [
       "  0%|          | 0/500 [00:00<?, ?it/s]"
      ]
     },
     "metadata": {},
     "output_type": "display_data"
    },
    {
     "data": {
      "application/vnd.jupyter.widget-view+json": {
       "model_id": "4acd577368004ea48862cc132298d2ab",
       "version_major": 2,
       "version_minor": 0
      },
      "text/plain": [
       "  0%|          | 0/500 [00:00<?, ?it/s]"
      ]
     },
     "metadata": {},
     "output_type": "display_data"
    },
    {
     "data": {
      "application/vnd.jupyter.widget-view+json": {
       "model_id": "d438476e5d5c4a158d7352d2508c07bf",
       "version_major": 2,
       "version_minor": 0
      },
      "text/plain": [
       "  0%|          | 0/500 [00:00<?, ?it/s]"
      ]
     },
     "metadata": {},
     "output_type": "display_data"
    },
    {
     "data": {
      "application/vnd.jupyter.widget-view+json": {
       "model_id": "d473ad1fb96a49d4ab11871f92d73e9b",
       "version_major": 2,
       "version_minor": 0
      },
      "text/plain": [
       "  0%|          | 0/500 [00:00<?, ?it/s]"
      ]
     },
     "metadata": {},
     "output_type": "display_data"
    },
    {
     "data": {
      "application/vnd.jupyter.widget-view+json": {
       "model_id": "9943eb6e4284406c822b75ba30fc4352",
       "version_major": 2,
       "version_minor": 0
      },
      "text/plain": [
       "  0%|          | 0/500 [00:00<?, ?it/s]"
      ]
     },
     "metadata": {},
     "output_type": "display_data"
    },
    {
     "data": {
      "application/vnd.jupyter.widget-view+json": {
       "model_id": "1cf1bd046938446ca562db1bcd12ce71",
       "version_major": 2,
       "version_minor": 0
      },
      "text/plain": [
       "  0%|          | 0/500 [00:00<?, ?it/s]"
      ]
     },
     "metadata": {},
     "output_type": "display_data"
    },
    {
     "data": {
      "application/vnd.jupyter.widget-view+json": {
       "model_id": "10fbf4e196744d9aafceceb81db518d3",
       "version_major": 2,
       "version_minor": 0
      },
      "text/plain": [
       "  0%|          | 0/500 [00:00<?, ?it/s]"
      ]
     },
     "metadata": {},
     "output_type": "display_data"
    },
    {
     "data": {
      "application/vnd.jupyter.widget-view+json": {
       "model_id": "a4e6a285aa5f43f6ac714a06fb40cf0a",
       "version_major": 2,
       "version_minor": 0
      },
      "text/plain": [
       "  0%|          | 0/500 [00:00<?, ?it/s]"
      ]
     },
     "metadata": {},
     "output_type": "display_data"
    },
    {
     "data": {
      "application/vnd.jupyter.widget-view+json": {
       "model_id": "eb3123f858cb45e6a0fb2761ddfd242c",
       "version_major": 2,
       "version_minor": 0
      },
      "text/plain": [
       "  0%|          | 0/500 [00:00<?, ?it/s]"
      ]
     },
     "metadata": {},
     "output_type": "display_data"
    },
    {
     "data": {
      "application/vnd.jupyter.widget-view+json": {
       "model_id": "48bffc6738e84affaa4c860f20c624d7",
       "version_major": 2,
       "version_minor": 0
      },
      "text/plain": [
       "  0%|          | 0/500 [00:00<?, ?it/s]"
      ]
     },
     "metadata": {},
     "output_type": "display_data"
    },
    {
     "data": {
      "application/vnd.jupyter.widget-view+json": {
       "model_id": "4cd3f0c8392146d9880aebb383cce75f",
       "version_major": 2,
       "version_minor": 0
      },
      "text/plain": [
       "  0%|          | 0/500 [00:00<?, ?it/s]"
      ]
     },
     "metadata": {},
     "output_type": "display_data"
    },
    {
     "data": {
      "application/vnd.jupyter.widget-view+json": {
       "model_id": "1008fc7cd5ef4879a14afbe62e05afa6",
       "version_major": 2,
       "version_minor": 0
      },
      "text/plain": [
       "  0%|          | 0/500 [00:00<?, ?it/s]"
      ]
     },
     "metadata": {},
     "output_type": "display_data"
    },
    {
     "data": {
      "application/vnd.jupyter.widget-view+json": {
       "model_id": "d03235cfc85345c98db3a1359979720e",
       "version_major": 2,
       "version_minor": 0
      },
      "text/plain": [
       "  0%|          | 0/500 [00:00<?, ?it/s]"
      ]
     },
     "metadata": {},
     "output_type": "display_data"
    },
    {
     "data": {
      "application/vnd.jupyter.widget-view+json": {
       "model_id": "6c9f58d57f844ce283f5ca9ebb8b7210",
       "version_major": 2,
       "version_minor": 0
      },
      "text/plain": [
       "  0%|          | 0/500 [00:00<?, ?it/s]"
      ]
     },
     "metadata": {},
     "output_type": "display_data"
    },
    {
     "data": {
      "application/vnd.jupyter.widget-view+json": {
       "model_id": "c43e4b5bd10446dcb58c836c17f96467",
       "version_major": 2,
       "version_minor": 0
      },
      "text/plain": [
       "  0%|          | 0/500 [00:00<?, ?it/s]"
      ]
     },
     "metadata": {},
     "output_type": "display_data"
    },
    {
     "data": {
      "application/vnd.jupyter.widget-view+json": {
       "model_id": "a40fb75c5f414dc49c134f295e889b48",
       "version_major": 2,
       "version_minor": 0
      },
      "text/plain": [
       "  0%|          | 0/500 [00:00<?, ?it/s]"
      ]
     },
     "metadata": {},
     "output_type": "display_data"
    },
    {
     "data": {
      "application/vnd.jupyter.widget-view+json": {
       "model_id": "beb27300e77e4f4e95108df7b694055e",
       "version_major": 2,
       "version_minor": 0
      },
      "text/plain": [
       "  0%|          | 0/500 [00:00<?, ?it/s]"
      ]
     },
     "metadata": {},
     "output_type": "display_data"
    },
    {
     "data": {
      "application/vnd.jupyter.widget-view+json": {
       "model_id": "9851db35cf3e421b8f468d3d2071ba2f",
       "version_major": 2,
       "version_minor": 0
      },
      "text/plain": [
       "  0%|          | 0/500 [00:00<?, ?it/s]"
      ]
     },
     "metadata": {},
     "output_type": "display_data"
    },
    {
     "data": {
      "application/vnd.jupyter.widget-view+json": {
       "model_id": "2a4bc1b5f88f47beab7e493aa46f4c9b",
       "version_major": 2,
       "version_minor": 0
      },
      "text/plain": [
       "  0%|          | 0/500 [00:00<?, ?it/s]"
      ]
     },
     "metadata": {},
     "output_type": "display_data"
    },
    {
     "data": {
      "application/vnd.jupyter.widget-view+json": {
       "model_id": "1e552533cf1e42f5b9a0c1ec412d81ab",
       "version_major": 2,
       "version_minor": 0
      },
      "text/plain": [
       "  0%|          | 0/500 [00:00<?, ?it/s]"
      ]
     },
     "metadata": {},
     "output_type": "display_data"
    },
    {
     "data": {
      "application/vnd.jupyter.widget-view+json": {
       "model_id": "8dfa0157c8974caeba40a41c41d69605",
       "version_major": 2,
       "version_minor": 0
      },
      "text/plain": [
       "  0%|          | 0/500 [00:00<?, ?it/s]"
      ]
     },
     "metadata": {},
     "output_type": "display_data"
    },
    {
     "data": {
      "application/vnd.jupyter.widget-view+json": {
       "model_id": "f9e19d9388aa4327ab70d582af227920",
       "version_major": 2,
       "version_minor": 0
      },
      "text/plain": [
       "  0%|          | 0/500 [00:00<?, ?it/s]"
      ]
     },
     "metadata": {},
     "output_type": "display_data"
    },
    {
     "data": {
      "application/vnd.jupyter.widget-view+json": {
       "model_id": "a6cb8fb8e85847f8b6b45b204ad24957",
       "version_major": 2,
       "version_minor": 0
      },
      "text/plain": [
       "  0%|          | 0/500 [00:00<?, ?it/s]"
      ]
     },
     "metadata": {},
     "output_type": "display_data"
    },
    {
     "data": {
      "application/vnd.jupyter.widget-view+json": {
       "model_id": "59c54b704e4c49679cc9be1309fd36c8",
       "version_major": 2,
       "version_minor": 0
      },
      "text/plain": [
       "  0%|          | 0/500 [00:00<?, ?it/s]"
      ]
     },
     "metadata": {},
     "output_type": "display_data"
    },
    {
     "data": {
      "application/vnd.jupyter.widget-view+json": {
       "model_id": "6236b7b2058a4f6c9d391adf285940ea",
       "version_major": 2,
       "version_minor": 0
      },
      "text/plain": [
       "  0%|          | 0/500 [00:00<?, ?it/s]"
      ]
     },
     "metadata": {},
     "output_type": "display_data"
    },
    {
     "data": {
      "application/vnd.jupyter.widget-view+json": {
       "model_id": "78d13b15a2cb4b2ea61b6c85d35ee3a4",
       "version_major": 2,
       "version_minor": 0
      },
      "text/plain": [
       "  0%|          | 0/500 [00:00<?, ?it/s]"
      ]
     },
     "metadata": {},
     "output_type": "display_data"
    },
    {
     "data": {
      "application/vnd.jupyter.widget-view+json": {
       "model_id": "0e877a995b7a40d9acc933df1745d9b1",
       "version_major": 2,
       "version_minor": 0
      },
      "text/plain": [
       "  0%|          | 0/500 [00:00<?, ?it/s]"
      ]
     },
     "metadata": {},
     "output_type": "display_data"
    },
    {
     "data": {
      "application/vnd.jupyter.widget-view+json": {
       "model_id": "e64264713577426fa3f5b205863e248a",
       "version_major": 2,
       "version_minor": 0
      },
      "text/plain": [
       "  0%|          | 0/500 [00:00<?, ?it/s]"
      ]
     },
     "metadata": {},
     "output_type": "display_data"
    },
    {
     "data": {
      "application/vnd.jupyter.widget-view+json": {
       "model_id": "76b0073399174b7d8ce72ac3e31760e4",
       "version_major": 2,
       "version_minor": 0
      },
      "text/plain": [
       "  0%|          | 0/500 [00:00<?, ?it/s]"
      ]
     },
     "metadata": {},
     "output_type": "display_data"
    },
    {
     "data": {
      "application/vnd.jupyter.widget-view+json": {
       "model_id": "30c52260698c4537affeb6016dfb661a",
       "version_major": 2,
       "version_minor": 0
      },
      "text/plain": [
       "  0%|          | 0/500 [00:00<?, ?it/s]"
      ]
     },
     "metadata": {},
     "output_type": "display_data"
    },
    {
     "data": {
      "application/vnd.jupyter.widget-view+json": {
       "model_id": "0b87e748bea8444e9e3f83e6bb97c7d9",
       "version_major": 2,
       "version_minor": 0
      },
      "text/plain": [
       "  0%|          | 0/500 [00:00<?, ?it/s]"
      ]
     },
     "metadata": {},
     "output_type": "display_data"
    },
    {
     "data": {
      "application/vnd.jupyter.widget-view+json": {
       "model_id": "bf6bd13ba3ab4f6faee3d356f1bfd06b",
       "version_major": 2,
       "version_minor": 0
      },
      "text/plain": [
       "  0%|          | 0/500 [00:00<?, ?it/s]"
      ]
     },
     "metadata": {},
     "output_type": "display_data"
    },
    {
     "data": {
      "application/vnd.jupyter.widget-view+json": {
       "model_id": "6751acaf9f5144c6997c984141deba65",
       "version_major": 2,
       "version_minor": 0
      },
      "text/plain": [
       "  0%|          | 0/500 [00:00<?, ?it/s]"
      ]
     },
     "metadata": {},
     "output_type": "display_data"
    },
    {
     "data": {
      "application/vnd.jupyter.widget-view+json": {
       "model_id": "2dad30096b36455ca7f02ae4a8472df9",
       "version_major": 2,
       "version_minor": 0
      },
      "text/plain": [
       "  0%|          | 0/500 [00:00<?, ?it/s]"
      ]
     },
     "metadata": {},
     "output_type": "display_data"
    },
    {
     "data": {
      "application/vnd.jupyter.widget-view+json": {
       "model_id": "9a039549f88241ca912d4e5d81652ac8",
       "version_major": 2,
       "version_minor": 0
      },
      "text/plain": [
       "  0%|          | 0/500 [00:00<?, ?it/s]"
      ]
     },
     "metadata": {},
     "output_type": "display_data"
    },
    {
     "data": {
      "application/vnd.jupyter.widget-view+json": {
       "model_id": "b8bcdfa4aa2f4ed8abe2f8f42e206cd5",
       "version_major": 2,
       "version_minor": 0
      },
      "text/plain": [
       "  0%|          | 0/500 [00:00<?, ?it/s]"
      ]
     },
     "metadata": {},
     "output_type": "display_data"
    },
    {
     "data": {
      "application/vnd.jupyter.widget-view+json": {
       "model_id": "b633d2d9e1a64e26825a8fd4c096a136",
       "version_major": 2,
       "version_minor": 0
      },
      "text/plain": [
       "  0%|          | 0/500 [00:00<?, ?it/s]"
      ]
     },
     "metadata": {},
     "output_type": "display_data"
    },
    {
     "data": {
      "application/vnd.jupyter.widget-view+json": {
       "model_id": "709103e86f934a188062572b7983eb42",
       "version_major": 2,
       "version_minor": 0
      },
      "text/plain": [
       "  0%|          | 0/500 [00:00<?, ?it/s]"
      ]
     },
     "metadata": {},
     "output_type": "display_data"
    },
    {
     "data": {
      "application/vnd.jupyter.widget-view+json": {
       "model_id": "1eeafa1867b74d5990c06b2b783f396d",
       "version_major": 2,
       "version_minor": 0
      },
      "text/plain": [
       "  0%|          | 0/500 [00:00<?, ?it/s]"
      ]
     },
     "metadata": {},
     "output_type": "display_data"
    },
    {
     "data": {
      "application/vnd.jupyter.widget-view+json": {
       "model_id": "0257438f48ba454fa6c3af8a287813b5",
       "version_major": 2,
       "version_minor": 0
      },
      "text/plain": [
       "  0%|          | 0/500 [00:00<?, ?it/s]"
      ]
     },
     "metadata": {},
     "output_type": "display_data"
    },
    {
     "data": {
      "application/vnd.jupyter.widget-view+json": {
       "model_id": "9313abb4f3a048fa90d83bb518fc2004",
       "version_major": 2,
       "version_minor": 0
      },
      "text/plain": [
       "  0%|          | 0/500 [00:00<?, ?it/s]"
      ]
     },
     "metadata": {},
     "output_type": "display_data"
    },
    {
     "data": {
      "application/vnd.jupyter.widget-view+json": {
       "model_id": "cfdc91b083594916bcb87aa98c457bd2",
       "version_major": 2,
       "version_minor": 0
      },
      "text/plain": [
       "  0%|          | 0/500 [00:00<?, ?it/s]"
      ]
     },
     "metadata": {},
     "output_type": "display_data"
    },
    {
     "data": {
      "application/vnd.jupyter.widget-view+json": {
       "model_id": "70f6689568744336b0b9ffd373ee9e2b",
       "version_major": 2,
       "version_minor": 0
      },
      "text/plain": [
       "  0%|          | 0/500 [00:00<?, ?it/s]"
      ]
     },
     "metadata": {},
     "output_type": "display_data"
    },
    {
     "data": {
      "application/vnd.jupyter.widget-view+json": {
       "model_id": "1e373cd0a6334be18b543322f736d994",
       "version_major": 2,
       "version_minor": 0
      },
      "text/plain": [
       "  0%|          | 0/500 [00:00<?, ?it/s]"
      ]
     },
     "metadata": {},
     "output_type": "display_data"
    },
    {
     "data": {
      "application/vnd.jupyter.widget-view+json": {
       "model_id": "776f2edb85fb4046b97c2ed0d4f0b91d",
       "version_major": 2,
       "version_minor": 0
      },
      "text/plain": [
       "  0%|          | 0/500 [00:00<?, ?it/s]"
      ]
     },
     "metadata": {},
     "output_type": "display_data"
    },
    {
     "data": {
      "application/vnd.jupyter.widget-view+json": {
       "model_id": "baaf31ba4b214e65b6608514f6768aa0",
       "version_major": 2,
       "version_minor": 0
      },
      "text/plain": [
       "  0%|          | 0/500 [00:00<?, ?it/s]"
      ]
     },
     "metadata": {},
     "output_type": "display_data"
    },
    {
     "data": {
      "application/vnd.jupyter.widget-view+json": {
       "model_id": "ca9c6b67450f48e3aae5c7b2be1a2016",
       "version_major": 2,
       "version_minor": 0
      },
      "text/plain": [
       "  0%|          | 0/500 [00:00<?, ?it/s]"
      ]
     },
     "metadata": {},
     "output_type": "display_data"
    },
    {
     "data": {
      "application/vnd.jupyter.widget-view+json": {
       "model_id": "1f50a06956b146be88716ca21cbf35a8",
       "version_major": 2,
       "version_minor": 0
      },
      "text/plain": [
       "  0%|          | 0/500 [00:00<?, ?it/s]"
      ]
     },
     "metadata": {},
     "output_type": "display_data"
    },
    {
     "data": {
      "application/vnd.jupyter.widget-view+json": {
       "model_id": "91e0e22a2742407d99e791c322b59fec",
       "version_major": 2,
       "version_minor": 0
      },
      "text/plain": [
       "  0%|          | 0/500 [00:00<?, ?it/s]"
      ]
     },
     "metadata": {},
     "output_type": "display_data"
    },
    {
     "data": {
      "application/vnd.jupyter.widget-view+json": {
       "model_id": "da9ac5e8430f4519aaf4acff855d4c68",
       "version_major": 2,
       "version_minor": 0
      },
      "text/plain": [
       "  0%|          | 0/500 [00:00<?, ?it/s]"
      ]
     },
     "metadata": {},
     "output_type": "display_data"
    },
    {
     "data": {
      "application/vnd.jupyter.widget-view+json": {
       "model_id": "4b92f2d96f704922ad2845fcf069d4be",
       "version_major": 2,
       "version_minor": 0
      },
      "text/plain": [
       "  0%|          | 0/500 [00:00<?, ?it/s]"
      ]
     },
     "metadata": {},
     "output_type": "display_data"
    },
    {
     "data": {
      "application/vnd.jupyter.widget-view+json": {
       "model_id": "e90ffb2ca71a46df8ad8b22e76ab72de",
       "version_major": 2,
       "version_minor": 0
      },
      "text/plain": [
       "  0%|          | 0/500 [00:00<?, ?it/s]"
      ]
     },
     "metadata": {},
     "output_type": "display_data"
    },
    {
     "data": {
      "application/vnd.jupyter.widget-view+json": {
       "model_id": "0778756fdf1f4973a0a8d6e999a72a23",
       "version_major": 2,
       "version_minor": 0
      },
      "text/plain": [
       "  0%|          | 0/500 [00:00<?, ?it/s]"
      ]
     },
     "metadata": {},
     "output_type": "display_data"
    },
    {
     "data": {
      "application/vnd.jupyter.widget-view+json": {
       "model_id": "b95e98d5aa1740da9f04180ea2d7777d",
       "version_major": 2,
       "version_minor": 0
      },
      "text/plain": [
       "  0%|          | 0/500 [00:00<?, ?it/s]"
      ]
     },
     "metadata": {},
     "output_type": "display_data"
    },
    {
     "data": {
      "application/vnd.jupyter.widget-view+json": {
       "model_id": "32f59fc0d96c4be19e0dc1235a64766e",
       "version_major": 2,
       "version_minor": 0
      },
      "text/plain": [
       "  0%|          | 0/500 [00:00<?, ?it/s]"
      ]
     },
     "metadata": {},
     "output_type": "display_data"
    },
    {
     "data": {
      "application/vnd.jupyter.widget-view+json": {
       "model_id": "6fd16c32cc444f8980728d63512c3c16",
       "version_major": 2,
       "version_minor": 0
      },
      "text/plain": [
       "  0%|          | 0/500 [00:00<?, ?it/s]"
      ]
     },
     "metadata": {},
     "output_type": "display_data"
    },
    {
     "data": {
      "application/vnd.jupyter.widget-view+json": {
       "model_id": "791886bddb504855a707111597ded43f",
       "version_major": 2,
       "version_minor": 0
      },
      "text/plain": [
       "  0%|          | 0/500 [00:00<?, ?it/s]"
      ]
     },
     "metadata": {},
     "output_type": "display_data"
    },
    {
     "data": {
      "application/vnd.jupyter.widget-view+json": {
       "model_id": "5a6bc7b023254899abf94eb0540c6d60",
       "version_major": 2,
       "version_minor": 0
      },
      "text/plain": [
       "  0%|          | 0/500 [00:00<?, ?it/s]"
      ]
     },
     "metadata": {},
     "output_type": "display_data"
    },
    {
     "data": {
      "application/vnd.jupyter.widget-view+json": {
       "model_id": "c5c5769d745d4f78b492c107caf74630",
       "version_major": 2,
       "version_minor": 0
      },
      "text/plain": [
       "  0%|          | 0/500 [00:00<?, ?it/s]"
      ]
     },
     "metadata": {},
     "output_type": "display_data"
    },
    {
     "data": {
      "application/vnd.jupyter.widget-view+json": {
       "model_id": "79fa7f114c9c484188f7548d4fab5d41",
       "version_major": 2,
       "version_minor": 0
      },
      "text/plain": [
       "  0%|          | 0/500 [00:00<?, ?it/s]"
      ]
     },
     "metadata": {},
     "output_type": "display_data"
    },
    {
     "data": {
      "application/vnd.jupyter.widget-view+json": {
       "model_id": "d6c84771f4af4989a9850d6abaa6892b",
       "version_major": 2,
       "version_minor": 0
      },
      "text/plain": [
       "  0%|          | 0/500 [00:00<?, ?it/s]"
      ]
     },
     "metadata": {},
     "output_type": "display_data"
    },
    {
     "data": {
      "application/vnd.jupyter.widget-view+json": {
       "model_id": "a0a60003e9f24374b8a154d2ffaa626a",
       "version_major": 2,
       "version_minor": 0
      },
      "text/plain": [
       "  0%|          | 0/500 [00:00<?, ?it/s]"
      ]
     },
     "metadata": {},
     "output_type": "display_data"
    },
    {
     "data": {
      "application/vnd.jupyter.widget-view+json": {
       "model_id": "81c5347cc0f64377bcaeea4ba7c16588",
       "version_major": 2,
       "version_minor": 0
      },
      "text/plain": [
       "  0%|          | 0/500 [00:00<?, ?it/s]"
      ]
     },
     "metadata": {},
     "output_type": "display_data"
    },
    {
     "data": {
      "application/vnd.jupyter.widget-view+json": {
       "model_id": "7d919c18a90041ff9582a0df70eb4965",
       "version_major": 2,
       "version_minor": 0
      },
      "text/plain": [
       "  0%|          | 0/500 [00:00<?, ?it/s]"
      ]
     },
     "metadata": {},
     "output_type": "display_data"
    },
    {
     "data": {
      "application/vnd.jupyter.widget-view+json": {
       "model_id": "7bfb4298114a4953a6b6fa729212f256",
       "version_major": 2,
       "version_minor": 0
      },
      "text/plain": [
       "  0%|          | 0/500 [00:00<?, ?it/s]"
      ]
     },
     "metadata": {},
     "output_type": "display_data"
    },
    {
     "data": {
      "application/vnd.jupyter.widget-view+json": {
       "model_id": "4228c25693e344f5a14ba9c1781fc22c",
       "version_major": 2,
       "version_minor": 0
      },
      "text/plain": [
       "  0%|          | 0/500 [00:00<?, ?it/s]"
      ]
     },
     "metadata": {},
     "output_type": "display_data"
    },
    {
     "data": {
      "application/vnd.jupyter.widget-view+json": {
       "model_id": "c2f3ad68163545bf931b0aace5910d93",
       "version_major": 2,
       "version_minor": 0
      },
      "text/plain": [
       "  0%|          | 0/500 [00:00<?, ?it/s]"
      ]
     },
     "metadata": {},
     "output_type": "display_data"
    },
    {
     "data": {
      "application/vnd.jupyter.widget-view+json": {
       "model_id": "6aede3d446424549b3ed9d6e6d1af4f1",
       "version_major": 2,
       "version_minor": 0
      },
      "text/plain": [
       "  0%|          | 0/500 [00:00<?, ?it/s]"
      ]
     },
     "metadata": {},
     "output_type": "display_data"
    },
    {
     "data": {
      "application/vnd.jupyter.widget-view+json": {
       "model_id": "741432bb417340a4b1a9197c48146f94",
       "version_major": 2,
       "version_minor": 0
      },
      "text/plain": [
       "  0%|          | 0/500 [00:00<?, ?it/s]"
      ]
     },
     "metadata": {},
     "output_type": "display_data"
    },
    {
     "data": {
      "application/vnd.jupyter.widget-view+json": {
       "model_id": "3be5c93b691847d4b8b85fcc0804cbf5",
       "version_major": 2,
       "version_minor": 0
      },
      "text/plain": [
       "  0%|          | 0/500 [00:00<?, ?it/s]"
      ]
     },
     "metadata": {},
     "output_type": "display_data"
    },
    {
     "data": {
      "application/vnd.jupyter.widget-view+json": {
       "model_id": "519b4e6e83294bfa9dce58b058578bd0",
       "version_major": 2,
       "version_minor": 0
      },
      "text/plain": [
       "  0%|          | 0/500 [00:00<?, ?it/s]"
      ]
     },
     "metadata": {},
     "output_type": "display_data"
    },
    {
     "data": {
      "application/vnd.jupyter.widget-view+json": {
       "model_id": "44eaab59040f40c7b619b29bf7372701",
       "version_major": 2,
       "version_minor": 0
      },
      "text/plain": [
       "  0%|          | 0/500 [00:00<?, ?it/s]"
      ]
     },
     "metadata": {},
     "output_type": "display_data"
    },
    {
     "data": {
      "application/vnd.jupyter.widget-view+json": {
       "model_id": "014b773b4b5043c4a9337c0e44534473",
       "version_major": 2,
       "version_minor": 0
      },
      "text/plain": [
       "  0%|          | 0/500 [00:00<?, ?it/s]"
      ]
     },
     "metadata": {},
     "output_type": "display_data"
    },
    {
     "data": {
      "application/vnd.jupyter.widget-view+json": {
       "model_id": "1d35d7a5caee4020957de60a468873c8",
       "version_major": 2,
       "version_minor": 0
      },
      "text/plain": [
       "  0%|          | 0/500 [00:00<?, ?it/s]"
      ]
     },
     "metadata": {},
     "output_type": "display_data"
    },
    {
     "data": {
      "application/vnd.jupyter.widget-view+json": {
       "model_id": "b41d839b02c349a689e2904f2cc2c495",
       "version_major": 2,
       "version_minor": 0
      },
      "text/plain": [
       "  0%|          | 0/500 [00:00<?, ?it/s]"
      ]
     },
     "metadata": {},
     "output_type": "display_data"
    },
    {
     "data": {
      "application/vnd.jupyter.widget-view+json": {
       "model_id": "f59edbfc1c12480e9e246ee6cf3b6062",
       "version_major": 2,
       "version_minor": 0
      },
      "text/plain": [
       "  0%|          | 0/500 [00:00<?, ?it/s]"
      ]
     },
     "metadata": {},
     "output_type": "display_data"
    },
    {
     "data": {
      "application/vnd.jupyter.widget-view+json": {
       "model_id": "fc71caaeb80d4a90984e09cd3a02b89f",
       "version_major": 2,
       "version_minor": 0
      },
      "text/plain": [
       "  0%|          | 0/500 [00:00<?, ?it/s]"
      ]
     },
     "metadata": {},
     "output_type": "display_data"
    },
    {
     "data": {
      "application/vnd.jupyter.widget-view+json": {
       "model_id": "d1cd8b4c161a42c39dba7500bd04535d",
       "version_major": 2,
       "version_minor": 0
      },
      "text/plain": [
       "  0%|          | 0/500 [00:00<?, ?it/s]"
      ]
     },
     "metadata": {},
     "output_type": "display_data"
    },
    {
     "data": {
      "application/vnd.jupyter.widget-view+json": {
       "model_id": "fbea80fa0b874a2283e83ec56b874a60",
       "version_major": 2,
       "version_minor": 0
      },
      "text/plain": [
       "  0%|          | 0/500 [00:00<?, ?it/s]"
      ]
     },
     "metadata": {},
     "output_type": "display_data"
    },
    {
     "data": {
      "application/vnd.jupyter.widget-view+json": {
       "model_id": "80085fea89044040aec3fb2e86ccd84e",
       "version_major": 2,
       "version_minor": 0
      },
      "text/plain": [
       "  0%|          | 0/500 [00:00<?, ?it/s]"
      ]
     },
     "metadata": {},
     "output_type": "display_data"
    },
    {
     "data": {
      "application/vnd.jupyter.widget-view+json": {
       "model_id": "0a7c1cc50ed24c0c859049280c715063",
       "version_major": 2,
       "version_minor": 0
      },
      "text/plain": [
       "  0%|          | 0/500 [00:00<?, ?it/s]"
      ]
     },
     "metadata": {},
     "output_type": "display_data"
    },
    {
     "data": {
      "application/vnd.jupyter.widget-view+json": {
       "model_id": "5a0802c2326a4378b486b07912eada6f",
       "version_major": 2,
       "version_minor": 0
      },
      "text/plain": [
       "  0%|          | 0/500 [00:00<?, ?it/s]"
      ]
     },
     "metadata": {},
     "output_type": "display_data"
    },
    {
     "data": {
      "application/vnd.jupyter.widget-view+json": {
       "model_id": "563178f4692944de8e3a1921dccf199b",
       "version_major": 2,
       "version_minor": 0
      },
      "text/plain": [
       "  0%|          | 0/500 [00:00<?, ?it/s]"
      ]
     },
     "metadata": {},
     "output_type": "display_data"
    },
    {
     "data": {
      "application/vnd.jupyter.widget-view+json": {
       "model_id": "e88f5c59c31c42ff98fe04963cf15e36",
       "version_major": 2,
       "version_minor": 0
      },
      "text/plain": [
       "  0%|          | 0/500 [00:00<?, ?it/s]"
      ]
     },
     "metadata": {},
     "output_type": "display_data"
    },
    {
     "data": {
      "application/vnd.jupyter.widget-view+json": {
       "model_id": "f6b4845eae9c4d33a9adf10c8b9a7be7",
       "version_major": 2,
       "version_minor": 0
      },
      "text/plain": [
       "  0%|          | 0/500 [00:00<?, ?it/s]"
      ]
     },
     "metadata": {},
     "output_type": "display_data"
    },
    {
     "data": {
      "application/vnd.jupyter.widget-view+json": {
       "model_id": "84479b2502ec4c1f988d3b1ef1087a0b",
       "version_major": 2,
       "version_minor": 0
      },
      "text/plain": [
       "  0%|          | 0/500 [00:00<?, ?it/s]"
      ]
     },
     "metadata": {},
     "output_type": "display_data"
    },
    {
     "data": {
      "application/vnd.jupyter.widget-view+json": {
       "model_id": "0e5da34ffa204b609eb911f805d47fc0",
       "version_major": 2,
       "version_minor": 0
      },
      "text/plain": [
       "  0%|          | 0/500 [00:00<?, ?it/s]"
      ]
     },
     "metadata": {},
     "output_type": "display_data"
    },
    {
     "data": {
      "application/vnd.jupyter.widget-view+json": {
       "model_id": "1d60db04a91d464f980371805566ad28",
       "version_major": 2,
       "version_minor": 0
      },
      "text/plain": [
       "  0%|          | 0/500 [00:00<?, ?it/s]"
      ]
     },
     "metadata": {},
     "output_type": "display_data"
    },
    {
     "data": {
      "application/vnd.jupyter.widget-view+json": {
       "model_id": "e08e94d7be6042f38669fc914bb84b9d",
       "version_major": 2,
       "version_minor": 0
      },
      "text/plain": [
       "  0%|          | 0/500 [00:00<?, ?it/s]"
      ]
     },
     "metadata": {},
     "output_type": "display_data"
    },
    {
     "data": {
      "application/vnd.jupyter.widget-view+json": {
       "model_id": "de07c81cec6f4238b9bea7d399c048a5",
       "version_major": 2,
       "version_minor": 0
      },
      "text/plain": [
       "  0%|          | 0/500 [00:00<?, ?it/s]"
      ]
     },
     "metadata": {},
     "output_type": "display_data"
    },
    {
     "data": {
      "application/vnd.jupyter.widget-view+json": {
       "model_id": "ce66c487d23744f49d40c230f0279ef6",
       "version_major": 2,
       "version_minor": 0
      },
      "text/plain": [
       "  0%|          | 0/500 [00:00<?, ?it/s]"
      ]
     },
     "metadata": {},
     "output_type": "display_data"
    },
    {
     "data": {
      "application/vnd.jupyter.widget-view+json": {
       "model_id": "17ae1c60a01745498f64f079fdf90867",
       "version_major": 2,
       "version_minor": 0
      },
      "text/plain": [
       "  0%|          | 0/500 [00:00<?, ?it/s]"
      ]
     },
     "metadata": {},
     "output_type": "display_data"
    },
    {
     "data": {
      "application/vnd.jupyter.widget-view+json": {
       "model_id": "a0a062ae3f054692abec0e39d8697329",
       "version_major": 2,
       "version_minor": 0
      },
      "text/plain": [
       "  0%|          | 0/500 [00:00<?, ?it/s]"
      ]
     },
     "metadata": {},
     "output_type": "display_data"
    },
    {
     "data": {
      "application/vnd.jupyter.widget-view+json": {
       "model_id": "36f8da67672e402eb621c259a877cea1",
       "version_major": 2,
       "version_minor": 0
      },
      "text/plain": [
       "  0%|          | 0/500 [00:00<?, ?it/s]"
      ]
     },
     "metadata": {},
     "output_type": "display_data"
    },
    {
     "data": {
      "application/vnd.jupyter.widget-view+json": {
       "model_id": "b960418880114172a6bc42c3f6471f14",
       "version_major": 2,
       "version_minor": 0
      },
      "text/plain": [
       "  0%|          | 0/500 [00:00<?, ?it/s]"
      ]
     },
     "metadata": {},
     "output_type": "display_data"
    },
    {
     "data": {
      "application/vnd.jupyter.widget-view+json": {
       "model_id": "78ed83be49cf411e92607cd46b713fa2",
       "version_major": 2,
       "version_minor": 0
      },
      "text/plain": [
       "  0%|          | 0/500 [00:00<?, ?it/s]"
      ]
     },
     "metadata": {},
     "output_type": "display_data"
    },
    {
     "data": {
      "application/vnd.jupyter.widget-view+json": {
       "model_id": "2e0f2071abd74070b7df4dbb3010eff2",
       "version_major": 2,
       "version_minor": 0
      },
      "text/plain": [
       "  0%|          | 0/500 [00:00<?, ?it/s]"
      ]
     },
     "metadata": {},
     "output_type": "display_data"
    },
    {
     "data": {
      "application/vnd.jupyter.widget-view+json": {
       "model_id": "49ec3e47ec484ae5891dcaf2a7688801",
       "version_major": 2,
       "version_minor": 0
      },
      "text/plain": [
       "  0%|          | 0/500 [00:00<?, ?it/s]"
      ]
     },
     "metadata": {},
     "output_type": "display_data"
    },
    {
     "data": {
      "application/vnd.jupyter.widget-view+json": {
       "model_id": "fea3c6f5683b48a380ec24389f05fc01",
       "version_major": 2,
       "version_minor": 0
      },
      "text/plain": [
       "  0%|          | 0/500 [00:00<?, ?it/s]"
      ]
     },
     "metadata": {},
     "output_type": "display_data"
    },
    {
     "data": {
      "application/vnd.jupyter.widget-view+json": {
       "model_id": "2960056d11df4626af3701a709196c4b",
       "version_major": 2,
       "version_minor": 0
      },
      "text/plain": [
       "  0%|          | 0/500 [00:00<?, ?it/s]"
      ]
     },
     "metadata": {},
     "output_type": "display_data"
    },
    {
     "data": {
      "application/vnd.jupyter.widget-view+json": {
       "model_id": "d37160f69e2f4ab7b63ca4c8a50fabbf",
       "version_major": 2,
       "version_minor": 0
      },
      "text/plain": [
       "  0%|          | 0/500 [00:00<?, ?it/s]"
      ]
     },
     "metadata": {},
     "output_type": "display_data"
    },
    {
     "data": {
      "application/vnd.jupyter.widget-view+json": {
       "model_id": "74bfa398f997401ca085b127f3b38aae",
       "version_major": 2,
       "version_minor": 0
      },
      "text/plain": [
       "  0%|          | 0/500 [00:00<?, ?it/s]"
      ]
     },
     "metadata": {},
     "output_type": "display_data"
    },
    {
     "data": {
      "application/vnd.jupyter.widget-view+json": {
       "model_id": "5196362dbf1d496b93cf9db80ce28252",
       "version_major": 2,
       "version_minor": 0
      },
      "text/plain": [
       "  0%|          | 0/500 [00:00<?, ?it/s]"
      ]
     },
     "metadata": {},
     "output_type": "display_data"
    },
    {
     "data": {
      "application/vnd.jupyter.widget-view+json": {
       "model_id": "0c7be651e3564d1097d7f63188a5ea6a",
       "version_major": 2,
       "version_minor": 0
      },
      "text/plain": [
       "  0%|          | 0/500 [00:00<?, ?it/s]"
      ]
     },
     "metadata": {},
     "output_type": "display_data"
    },
    {
     "data": {
      "application/vnd.jupyter.widget-view+json": {
       "model_id": "eac7a8a0edb74a569c0d771d53c6d0ea",
       "version_major": 2,
       "version_minor": 0
      },
      "text/plain": [
       "  0%|          | 0/500 [00:00<?, ?it/s]"
      ]
     },
     "metadata": {},
     "output_type": "display_data"
    },
    {
     "data": {
      "application/vnd.jupyter.widget-view+json": {
       "model_id": "7feab698e2f94e50a75909dcc12e5bd8",
       "version_major": 2,
       "version_minor": 0
      },
      "text/plain": [
       "  0%|          | 0/500 [00:00<?, ?it/s]"
      ]
     },
     "metadata": {},
     "output_type": "display_data"
    },
    {
     "data": {
      "application/vnd.jupyter.widget-view+json": {
       "model_id": "a54f367b2a1a458fb0194f9d23c623bc",
       "version_major": 2,
       "version_minor": 0
      },
      "text/plain": [
       "  0%|          | 0/500 [00:00<?, ?it/s]"
      ]
     },
     "metadata": {},
     "output_type": "display_data"
    },
    {
     "data": {
      "application/vnd.jupyter.widget-view+json": {
       "model_id": "5349dc0ad1e648b4bbd4f9e7619e2a34",
       "version_major": 2,
       "version_minor": 0
      },
      "text/plain": [
       "  0%|          | 0/500 [00:00<?, ?it/s]"
      ]
     },
     "metadata": {},
     "output_type": "display_data"
    },
    {
     "data": {
      "application/vnd.jupyter.widget-view+json": {
       "model_id": "1148ce8b70824331bf9fef0b0d808c05",
       "version_major": 2,
       "version_minor": 0
      },
      "text/plain": [
       "  0%|          | 0/500 [00:00<?, ?it/s]"
      ]
     },
     "metadata": {},
     "output_type": "display_data"
    },
    {
     "data": {
      "application/vnd.jupyter.widget-view+json": {
       "model_id": "c3400629b4cd4f7b9962298f9da4911a",
       "version_major": 2,
       "version_minor": 0
      },
      "text/plain": [
       "  0%|          | 0/500 [00:00<?, ?it/s]"
      ]
     },
     "metadata": {},
     "output_type": "display_data"
    },
    {
     "data": {
      "application/vnd.jupyter.widget-view+json": {
       "model_id": "86d8bd9e94df482dbe9b3da0541ebeb4",
       "version_major": 2,
       "version_minor": 0
      },
      "text/plain": [
       "  0%|          | 0/500 [00:00<?, ?it/s]"
      ]
     },
     "metadata": {},
     "output_type": "display_data"
    },
    {
     "data": {
      "application/vnd.jupyter.widget-view+json": {
       "model_id": "242fee50b5594ed591281931f4ddfafb",
       "version_major": 2,
       "version_minor": 0
      },
      "text/plain": [
       "  0%|          | 0/500 [00:00<?, ?it/s]"
      ]
     },
     "metadata": {},
     "output_type": "display_data"
    },
    {
     "data": {
      "application/vnd.jupyter.widget-view+json": {
       "model_id": "63b41b7a72cd4de1aeb326e1d2e9a6b5",
       "version_major": 2,
       "version_minor": 0
      },
      "text/plain": [
       "  0%|          | 0/500 [00:00<?, ?it/s]"
      ]
     },
     "metadata": {},
     "output_type": "display_data"
    },
    {
     "data": {
      "application/vnd.jupyter.widget-view+json": {
       "model_id": "94fe0171122d44fea8fe13b24e874245",
       "version_major": 2,
       "version_minor": 0
      },
      "text/plain": [
       "  0%|          | 0/500 [00:00<?, ?it/s]"
      ]
     },
     "metadata": {},
     "output_type": "display_data"
    },
    {
     "data": {
      "application/vnd.jupyter.widget-view+json": {
       "model_id": "e13cad77edcd4e1a8bf31b364cdb5b10",
       "version_major": 2,
       "version_minor": 0
      },
      "text/plain": [
       "  0%|          | 0/500 [00:00<?, ?it/s]"
      ]
     },
     "metadata": {},
     "output_type": "display_data"
    },
    {
     "data": {
      "application/vnd.jupyter.widget-view+json": {
       "model_id": "f28f7fd74b1b449ebaf6da697826fdb7",
       "version_major": 2,
       "version_minor": 0
      },
      "text/plain": [
       "  0%|          | 0/500 [00:00<?, ?it/s]"
      ]
     },
     "metadata": {},
     "output_type": "display_data"
    },
    {
     "data": {
      "application/vnd.jupyter.widget-view+json": {
       "model_id": "d7b3f1f1ce734c3fbf20b7c6aa3269d1",
       "version_major": 2,
       "version_minor": 0
      },
      "text/plain": [
       "  0%|          | 0/500 [00:00<?, ?it/s]"
      ]
     },
     "metadata": {},
     "output_type": "display_data"
    },
    {
     "data": {
      "application/vnd.jupyter.widget-view+json": {
       "model_id": "9796780a2f4a4db5a3a510c50b40784e",
       "version_major": 2,
       "version_minor": 0
      },
      "text/plain": [
       "  0%|          | 0/500 [00:00<?, ?it/s]"
      ]
     },
     "metadata": {},
     "output_type": "display_data"
    },
    {
     "data": {
      "application/vnd.jupyter.widget-view+json": {
       "model_id": "d0c1531c72dc4abcb8b2ae30342f70ba",
       "version_major": 2,
       "version_minor": 0
      },
      "text/plain": [
       "  0%|          | 0/500 [00:00<?, ?it/s]"
      ]
     },
     "metadata": {},
     "output_type": "display_data"
    },
    {
     "data": {
      "application/vnd.jupyter.widget-view+json": {
       "model_id": "64a17c13d4a3421da575b0715b65bd65",
       "version_major": 2,
       "version_minor": 0
      },
      "text/plain": [
       "  0%|          | 0/500 [00:00<?, ?it/s]"
      ]
     },
     "metadata": {},
     "output_type": "display_data"
    },
    {
     "data": {
      "application/vnd.jupyter.widget-view+json": {
       "model_id": "638f64ea43094bbf9937982ed15c3a82",
       "version_major": 2,
       "version_minor": 0
      },
      "text/plain": [
       "  0%|          | 0/500 [00:00<?, ?it/s]"
      ]
     },
     "metadata": {},
     "output_type": "display_data"
    },
    {
     "data": {
      "application/vnd.jupyter.widget-view+json": {
       "model_id": "1171d996f45342ec951b8f1c5c9ba181",
       "version_major": 2,
       "version_minor": 0
      },
      "text/plain": [
       "  0%|          | 0/500 [00:00<?, ?it/s]"
      ]
     },
     "metadata": {},
     "output_type": "display_data"
    },
    {
     "data": {
      "application/vnd.jupyter.widget-view+json": {
       "model_id": "288d355b6f2b476aa1f43290f92abbf5",
       "version_major": 2,
       "version_minor": 0
      },
      "text/plain": [
       "  0%|          | 0/500 [00:00<?, ?it/s]"
      ]
     },
     "metadata": {},
     "output_type": "display_data"
    },
    {
     "data": {
      "application/vnd.jupyter.widget-view+json": {
       "model_id": "b660ef821966494191799576a76e386d",
       "version_major": 2,
       "version_minor": 0
      },
      "text/plain": [
       "  0%|          | 0/500 [00:00<?, ?it/s]"
      ]
     },
     "metadata": {},
     "output_type": "display_data"
    },
    {
     "data": {
      "application/vnd.jupyter.widget-view+json": {
       "model_id": "1aa74827b7f041c3bf9aa77fcb44351c",
       "version_major": 2,
       "version_minor": 0
      },
      "text/plain": [
       "  0%|          | 0/500 [00:00<?, ?it/s]"
      ]
     },
     "metadata": {},
     "output_type": "display_data"
    },
    {
     "data": {
      "application/vnd.jupyter.widget-view+json": {
       "model_id": "1f9cd25390274173b9b0fa6dd92755c6",
       "version_major": 2,
       "version_minor": 0
      },
      "text/plain": [
       "  0%|          | 0/500 [00:00<?, ?it/s]"
      ]
     },
     "metadata": {},
     "output_type": "display_data"
    },
    {
     "data": {
      "application/vnd.jupyter.widget-view+json": {
       "model_id": "0eac17f876424b3f8ef7da58ddd9f260",
       "version_major": 2,
       "version_minor": 0
      },
      "text/plain": [
       "  0%|          | 0/500 [00:00<?, ?it/s]"
      ]
     },
     "metadata": {},
     "output_type": "display_data"
    },
    {
     "data": {
      "application/vnd.jupyter.widget-view+json": {
       "model_id": "8e43906c07bb4b96bfea57fa551f85fc",
       "version_major": 2,
       "version_minor": 0
      },
      "text/plain": [
       "  0%|          | 0/500 [00:00<?, ?it/s]"
      ]
     },
     "metadata": {},
     "output_type": "display_data"
    },
    {
     "data": {
      "application/vnd.jupyter.widget-view+json": {
       "model_id": "b873ba6f23c442f8b080b1777c70c471",
       "version_major": 2,
       "version_minor": 0
      },
      "text/plain": [
       "  0%|          | 0/500 [00:00<?, ?it/s]"
      ]
     },
     "metadata": {},
     "output_type": "display_data"
    },
    {
     "data": {
      "application/vnd.jupyter.widget-view+json": {
       "model_id": "1eea2348f4cf4d29aa3d80c150994537",
       "version_major": 2,
       "version_minor": 0
      },
      "text/plain": [
       "  0%|          | 0/500 [00:00<?, ?it/s]"
      ]
     },
     "metadata": {},
     "output_type": "display_data"
    },
    {
     "data": {
      "application/vnd.jupyter.widget-view+json": {
       "model_id": "971455ae33b04299aa19221cb7772f3a",
       "version_major": 2,
       "version_minor": 0
      },
      "text/plain": [
       "  0%|          | 0/500 [00:00<?, ?it/s]"
      ]
     },
     "metadata": {},
     "output_type": "display_data"
    },
    {
     "data": {
      "application/vnd.jupyter.widget-view+json": {
       "model_id": "ab88a28902174638a9232aee85a09c07",
       "version_major": 2,
       "version_minor": 0
      },
      "text/plain": [
       "  0%|          | 0/500 [00:00<?, ?it/s]"
      ]
     },
     "metadata": {},
     "output_type": "display_data"
    },
    {
     "data": {
      "image/png": "[encoded data removed]",
      "text/plain": [
       "<Figure size 500x400 with 1 Axes>"
      ]
     },
     "metadata": {},
     "output_type": "display_data"
    },
    {
     "name": "stdout",
     "output_type": "stream",
     "text": [
      "\n",
      "======================================================================\n",
      "CREATING OPTIMIZATION VISUALIZATIONS\n",
      "======================================================================\n"
     ]
    },
    {
     "ename": "ImportError",
     "evalue": "Tried to import 'plotly' but failed. Please make sure that the package is installed correctly to use this feature. Actual error: No module named 'plotly'.",
     "output_type": "error",
     "traceback": [
      "\u001b[0;31m---------------------------------------------------------------------------\u001b[0m",
      "\u001b[0;31mModuleNotFoundError\u001b[0m                       Traceback (most recent call last)",
      "File \u001b[0;32m/opt/anaconda3/envs/sbi_env/lib/python3.10/site-packages/optuna/visualization/_plotly_imports.py:7\u001b[0m\n\u001b[1;32m      6\u001b[0m \u001b[38;5;28;01mwith\u001b[39;00m try_import() \u001b[38;5;28;01mas\u001b[39;00m _imports:\n\u001b[0;32m----> 7\u001b[0m     \u001b[38;5;28;01mimport\u001b[39;00m\u001b[38;5;250m \u001b[39m\u001b[38;5;21;01mplotly\u001b[39;00m\n\u001b[1;32m      8\u001b[0m     \u001b[38;5;28;01mfrom\u001b[39;00m\u001b[38;5;250m \u001b[39m\u001b[38;5;21;01mplotly\u001b[39;00m\u001b[38;5;250m \u001b[39m\u001b[38;5;28;01mimport\u001b[39;00m __version__ \u001b[38;5;28;01mas\u001b[39;00m plotly_version\n",
      "\u001b[0;31mModuleNotFoundError\u001b[0m: No module named 'plotly'",
      "\nThe above exception was the direct cause of the following exception:\n",
      "\u001b[0;31mImportError\u001b[0m                               Traceback (most recent call last)",
      "Cell \u001b[0;32mIn[4], line 177\u001b[0m\n\u001b[1;32m    174\u001b[0m \u001b[38;5;28mprint\u001b[39m(\u001b[38;5;124m\"\u001b[39m\u001b[38;5;124mCREATING OPTIMIZATION VISUALIZATIONS\u001b[39m\u001b[38;5;124m\"\u001b[39m)\n\u001b[1;32m    175\u001b[0m \u001b[38;5;28mprint\u001b[39m(\u001b[38;5;124m\"\u001b[39m\u001b[38;5;124m=\u001b[39m\u001b[38;5;124m\"\u001b[39m\u001b[38;5;241m*\u001b[39m\u001b[38;5;241m70\u001b[39m)\n\u001b[0;32m--> 177\u001b[0m fig \u001b[38;5;241m=\u001b[39m \u001b[43mplot_optimization_history\u001b[49m\u001b[43m(\u001b[49m\u001b[43mstudy\u001b[49m\u001b[43m)\u001b[49m\n\u001b[1;32m    178\u001b[0m fig\u001b[38;5;241m.\u001b[39mshow()\n\u001b[1;32m    180\u001b[0m fig \u001b[38;5;241m=\u001b[39m plot_param_importances(study)\n",
      "File \u001b[0;32m/opt/anaconda3/envs/sbi_env/lib/python3.10/site-packages/optuna/visualization/_optimization_history.py:200\u001b[0m, in \u001b[0;36mplot_optimization_history\u001b[0;34m(study, target, target_name, error_bar)\u001b[0m\n\u001b[1;32m    172\u001b[0m \u001b[38;5;28;01mdef\u001b[39;00m\u001b[38;5;250m \u001b[39m\u001b[38;5;21mplot_optimization_history\u001b[39m(\n\u001b[1;32m    173\u001b[0m     study: Study \u001b[38;5;241m|\u001b[39m Sequence[Study],\n\u001b[1;32m    174\u001b[0m     \u001b[38;5;241m*\u001b[39m,\n\u001b[0;32m   (...)\u001b[0m\n\u001b[1;32m    177\u001b[0m     error_bar: \u001b[38;5;28mbool\u001b[39m \u001b[38;5;241m=\u001b[39m \u001b[38;5;28;01mFalse\u001b[39;00m,\n\u001b[1;32m    178\u001b[0m ) \u001b[38;5;241m-\u001b[39m\u001b[38;5;241m>\u001b[39m \u001b[38;5;124m\"\u001b[39m\u001b[38;5;124mgo.Figure\u001b[39m\u001b[38;5;124m\"\u001b[39m:\n\u001b[1;32m    179\u001b[0m \u001b[38;5;250m    \u001b[39m\u001b[38;5;124;03m\"\"\"Plot optimization history of all trials in a study.\u001b[39;00m\n\u001b[1;32m    180\u001b[0m \n\u001b[1;32m    181\u001b[0m \u001b[38;5;124;03m    Args:\u001b[39;00m\n\u001b[0;32m   (...)\u001b[0m\n\u001b[1;32m    197\u001b[0m \u001b[38;5;124;03m        A :class:`plotly.graph_objects.Figure` object.\u001b[39;00m\n\u001b[1;32m    198\u001b[0m \u001b[38;5;124;03m    \"\"\"\u001b[39;00m\n\u001b[0;32m--> 200\u001b[0m     \u001b[43m_imports\u001b[49m\u001b[38;5;241;43m.\u001b[39;49m\u001b[43mcheck\u001b[49m\u001b[43m(\u001b[49m\u001b[43m)\u001b[49m\n\u001b[1;32m    202\u001b[0m     info_list \u001b[38;5;241m=\u001b[39m _get_optimization_history_info_list(study, target, target_name, error_bar)\n\u001b[1;32m    203\u001b[0m     \u001b[38;5;28;01mreturn\u001b[39;00m _get_optimization_history_plot(info_list, target_name)\n",
      "File \u001b[0;32m/opt/anaconda3/envs/sbi_env/lib/python3.10/site-packages/optuna/_imports.py:97\u001b[0m, in \u001b[0;36m_DeferredImportExceptionContextManager.check\u001b[0;34m(self)\u001b[0m\n\u001b[1;32m     95\u001b[0m \u001b[38;5;28;01mif\u001b[39;00m \u001b[38;5;28mself\u001b[39m\u001b[38;5;241m.\u001b[39m_deferred \u001b[38;5;129;01mis\u001b[39;00m \u001b[38;5;129;01mnot\u001b[39;00m \u001b[38;5;28;01mNone\u001b[39;00m:\n\u001b[1;32m     96\u001b[0m     exc_value, message \u001b[38;5;241m=\u001b[39m \u001b[38;5;28mself\u001b[39m\u001b[38;5;241m.\u001b[39m_deferred\n\u001b[0;32m---> 97\u001b[0m     \u001b[38;5;28;01mraise\u001b[39;00m \u001b[38;5;167;01mImportError\u001b[39;00m(message) \u001b[38;5;28;01mfrom\u001b[39;00m\u001b[38;5;250m \u001b[39m\u001b[38;5;21;01mexc_value\u001b[39;00m\n",
      "\u001b[0;31mImportError\u001b[0m: Tried to import 'plotly' but failed. Please make sure that the package is installed correctly to use this feature. Actual error: No module named 'plotly'."
     ]
    }
   ],
   "source": [
    "import optuna\n",
    "import numpy as np\n",
    "import matplotlib.pyplot as plt\n",
    "from optuna.visualization import (\n",
    "    plot_optimization_history,\n",
    "    plot_param_importances,\n",
    "    plot_contour\n",
    ")\n",
    "\n",
    "# Your existing setup\n",
    "SEED = 51\n",
    "SIM_ROOT = f\"/Users/anirbanroy/Desktop/test_maps_all_params/\"\n",
    "OUTPUT_ROOT = \"/Users/anirbanroy/Desktop/output_test\"\n",
    "test_obs_idx = 0\n",
    "\n",
    "def compute_calibration_error(tester):\n",
    "    \"\"\"\n",
    "    Compute calibration error from the tester object.\n",
    "    Returns mean squared error from perfect calibration.\n",
    "    \"\"\"\n",
    "    try:\n",
    "        # Run calibration\n",
    "        tester.calibrate_posteriors()\n",
    "        \n",
    "        # Access calibration results\n",
    "        # This assumes your calibrate_posteriors stores results in tester\n",
    "        # You might need to adjust based on your actual implementation\n",
    "        \n",
    "        # Get coverage for different confidence levels\n",
    "        # Typically evaluated at 68%, 95%, 99%\n",
    "        nominal_levels = np.array([0.68, 0.95, 0.99])\n",
    "        \n",
    "        # Get empirical coverage from calibration\n",
    "        # This extracts it from the calibration results\n",
    "        # You'll need to adjust this based on how your code stores results\n",
    "        cal_data = tester.calibration_results  # Adjust this line based on your implementation\n",
    "        empirical_coverage = np.array([\n",
    "            cal_data['coverage_68'],\n",
    "            cal_data['coverage_95'],\n",
    "            cal_data['coverage_99']\n",
    "        ])\n",
    "        \n",
    "        # Compute calibration error (MSE from perfect calibration)\n",
    "        calibration_error = np.mean((nominal_levels - empirical_coverage)**2)\n",
    "        \n",
    "        return calibration_error\n",
    "        \n",
    "    except Exception as e:\n",
    "        print(f\"Error computing calibration: {e}\")\n",
    "        return 1.0  # Return high error if calibration fails\n",
    "\n",
    "def objective(trial):\n",
    "    \"\"\"\n",
    "    Optuna objective function to minimize calibration error.\n",
    "    \"\"\"\n",
    "    \n",
    "    # Suggest hyperparameters\n",
    "    learning_rate = trial.suggest_float(\"learning_rate\", 1e-5, 5e-3, log=True)\n",
    "    batch_size = trial.suggest_categorical(\"training_batch_size\", [32, 50, 100, 150, 200])\n",
    "    stop_after_epochs = trial.suggest_int(\"stop_after_epochs\", 10, 30)\n",
    "    max_num_epochs = trial.suggest_int(\"max_num_epochs\", 300, 1500)\n",
    "    validation_fraction = trial.suggest_float(\"validation_fraction\", 0.15, 0.35)\n",
    "    \n",
    "    # Build training dictionary\n",
    "    input_training_dict = {\n",
    "        \"max_num_epochs\": max_num_epochs,\n",
    "        \"stop_after_epochs\": stop_after_epochs,\n",
    "        \"training_batch_size\": batch_size,\n",
    "        \"learning_rate\": learning_rate,\n",
    "        \"validation_fraction\": validation_fraction,\n",
    "    }\n",
    "    \n",
    "    print(f\"\\nTrial {trial.number}: Testing hyperparameters:\")\n",
    "    print(f\"  Learning rate: {learning_rate:.2e}\")\n",
    "    print(f\"  Batch size: {batch_size}\")\n",
    "    print(f\"  Stop after epochs: {stop_after_epochs}\")\n",
    "    print(f\"  Max epochs: {max_num_epochs}\")\n",
    "    print(f\"  Validation fraction: {validation_fraction}\")\n",
    "    \n",
    "    try:\n",
    "        # Create and train model\n",
    "        tester_ps = SBIConvergenceTester(\n",
    "            param_names=[\"sigma8\", \"omega_m\", \"a_off\", \"b_off\"],\n",
    "            inference_methods=[\"NPE\"],\n",
    "            analysis_methods=[\"pdf\"],\n",
    "            n_train=2500,\n",
    "            n_test=500,\n",
    "            n_calibration=50,\n",
    "            test_obs_idx=test_obs_idx \n",
    "        )\n",
    "        \n",
    "        tester_ps.load_data(SIM_ROOT, SEED)\n",
    "        tester_ps.setup_limference(\n",
    "            OUTPUT_ROOT + f\"/trial_{trial.number}\", \n",
    "            training_kwargs=input_training_dict\n",
    "        )\n",
    "        tester_ps.train_models()\n",
    "        \n",
    "        # Compute calibration error\n",
    "        cal_error = compute_calibration_error(tester_ps)\n",
    "        \n",
    "        print(f\"  Calibration error: {cal_error:.6f}\")\n",
    "        \n",
    "        return cal_error\n",
    "        \n",
    "    except Exception as e:\n",
    "        print(f\"Trial {trial.number} failed with error: {e}\")\n",
    "        return 1.0  # Return high error for failed trials\n",
    "\n",
    "# Create Optuna study\n",
    "print(\"=\"*70)\n",
    "print(\"STARTING OPTUNA HYPERPARAMETER OPTIMIZATION\")\n",
    "print(\"=\"*70)\n",
    "\n",
    "study = optuna.create_study(\n",
    "    direction=\"minimize\",\n",
    "    study_name=\"limference_calibration\",\n",
    "    pruner=optuna.pruners.MedianPruner(\n",
    "        n_startup_trials=5,\n",
    "        n_warmup_steps=3\n",
    "    )\n",
    ")\n",
    "\n",
    "# Run optimization\n",
    "n_trials = 30  # Adjust based on computational budget\n",
    "study.optimize(objective, n_trials=n_trials, timeout=None)\n",
    "\n",
    "# Print results\n",
    "print(\"\\n\" + \"=\"*70)\n",
    "print(\"OPTIMIZATION COMPLETE\")\n",
    "print(\"=\"*70)\n",
    "print(f\"\\nBest calibration error: {study.best_value:.6f}\")\n",
    "print(\"\\nBest hyperparameters:\")\n",
    "for key, value in study.best_params.items():\n",
    "    print(f\"  {key}: {value}\")\n",
    "\n",
    "# Save best parameters\n",
    "best_training_dict = {\n",
    "    \"max_num_epochs\": study.best_params[\"max_num_epochs\"],\n",
    "    \"stop_after_epochs\": study.best_params[\"stop_after_epochs\"],\n",
    "    \"training_batch_size\": study.best_params[\"training_batch_size\"],\n",
    "    \"learning_rate\": study.best_params[\"learning_rate\"],\n",
    "    \"validation_fraction\": study.best_params[\"validation_fraction\"],\n",
    "}\n",
    "\n",
    "print(\"\\n\" + \"=\"*70)\n",
    "print(\"TRAINING WITH BEST HYPERPARAMETERS\")\n",
    "print(\"=\"*70)\n",
    "\n",
    "# Train final model with best hyperparameters\n",
    "tester_final = SBIConvergenceTester(\n",
    "    param_names=[\"sigma8\", \"omega_m\", \"a_off\", \"b_off\"],\n",
    "    inference_methods=[\"NPE\"],\n",
    "    analysis_methods=[\"pdf\"],\n",
    "    n_train=2500,\n",
    "    n_test=500,\n",
    "    n_calibration=50,\n",
    "    test_obs_idx=test_obs_idx,\n",
    "    check_dependencies=False\n",
    ")\n",
    "\n",
    "tester_final.load_data(SIM_ROOT, SEED)\n",
    "tester_final.setup_limference(\n",
    "    OUTPUT_ROOT + \"/best_model\", \n",
    "    training_kwargs=best_training_dict\n",
    ")\n",
    "tester_final.train_models()\n",
    "tester_final.calibrate_posteriors()\n",
    "tester_final.test_recovery()\n",
    "tester_final.plot_results()\n",
    "\n",
    "# Visualize optimization process\n",
    "print(\"\\n\" + \"=\"*70)\n",
    "print(\"CREATING OPTIMIZATION VISUALIZATIONS\")\n",
    "print(\"=\"*70)\n",
    "\n",
    "fig = plot_optimization_history(study)\n",
    "fig.show()\n",
    "\n",
    "fig = plot_param_importances(study)\n",
    "fig.show()\n",
    "\n",
    "fig = plot_contour(study, params=[\"learning_rate\", \"training_batch_size\"])\n",
    "fig.show()\n",
    "\n",
    "# Save study results\n",
    "import joblib\n",
    "joblib.dump(study, OUTPUT_ROOT + \"/optuna_study.pkl\")\n",
    "print(f\"\\nStudy saved to: {OUTPUT_ROOT}/optuna_study.pkl\")"
   ]
  },
  {
   "cell_type": "code",
   "execution_count": null,
   "id": "6575a289",
   "metadata": {},
   "outputs": [],
   "source": [
    "def compute_calibration_error(tester):\n",
    "    \"\"\"\n",
    "    Alternative version: compute calibration directly from posteriors\n",
    "    \"\"\"\n",
    "    try:\n",
    "        # Get test parameters and posteriors\n",
    "        true_params = tester.test_theta  # True parameters\n",
    "        \n",
    "        # Sample from posterior for each test case\n",
    "        n_test_samples = len(true_params)\n",
    "        coverage_68 = []\n",
    "        coverage_95 = []\n",
    "        \n",
    "        for i in range(min(50, n_test_samples)):  # Use calibration set\n",
    "            # Get posterior samples\n",
    "            posterior = tester.get_posterior(i)  # Adjust based on your API\n",
    "            samples = posterior.sample((1000,))\n",
    "            \n",
    "            # Compute credible intervals for each parameter\n",
    "            for param_idx in range(len(tester.param_names)):\n",
    "                true_val = true_params[i, param_idx]\n",
    "                param_samples = samples[:, param_idx]\n",
    "                \n",
    "                # 68% credible interval\n",
    "                ci_68 = np.percentile(param_samples, [16, 84])\n",
    "                if ci_68[0] <= true_val <= ci_68[1]:\n",
    "                    coverage_68.append(1)\n",
    "                else:\n",
    "                    coverage_68.append(0)\n",
    "                \n",
    "                # 95% credible interval\n",
    "                ci_95 = np.percentile(param_samples, [2.5, 97.5])\n",
    "                if ci_95[0] <= true_val <= ci_95[1]:\n",
    "                    coverage_95.append(1)\n",
    "                else:\n",
    "                    coverage_95.append(0)\n",
    "        \n",
    "        # Compute empirical coverage\n",
    "        emp_coverage_68 = np.mean(coverage_68)\n",
    "        emp_coverage_95 = np.mean(coverage_95)\n",
    "        \n",
    "        # Calibration error\n",
    "        error = (0.68 - emp_coverage_68)**2 + (0.95 - emp_coverage_95)**2\n",
    "        \n",
    "        return error\n",
    "        \n",
    "    except Exception as e:\n",
    "        print(f\"Error: {e}\")\n",
    "        return 1.0"
   ]
  },
  {
   "cell_type": "code",
   "execution_count": null,
   "id": "ba663c0f",
   "metadata": {},
   "outputs": [],
   "source": []
  },
  {
   "cell_type": "code",
   "execution_count": null,
   "id": "83cf986e",
   "metadata": {},
   "outputs": [],
   "source": []
  },
  {
   "cell_type": "code",
   "execution_count": null,
   "id": "9157cca3",
   "metadata": {},
   "outputs": [],
   "source": []
  },
  {
   "cell_type": "code",
   "execution_count": null,
   "id": "d8de5126",
   "metadata": {},
   "outputs": [],
   "source": [
    "#!/usr/bin/env python3\n",
    "\"\"\"\n",
    "Optuna Hyperparameter Optimization for LIMference\n",
    "Optimizes training hyperparameters to minimize calibration error\n",
    "\"\"\"\n",
    "\n",
    "import argparse\n",
    "import os\n",
    "import sys\n",
    "import numpy as np\n",
    "import matplotlib.pyplot as plt\n",
    "import torch\n",
    "import optuna\n",
    "from optuna.visualization import (\n",
    "    plot_optimization_history,\n",
    "    plot_param_importances,\n",
    "    plot_contour\n",
    ")\n",
    "import joblib\n",
    "from datetime import datetime\n",
    "\n",
    "# Import your SBIConvergenceTester\n",
    "import numpy as np\n",
    "import torch\n",
    "import matplotlib.pyplot as plt\n",
    "from pathlib import Path\n",
    "import warnings\n",
    "from scipy import stats\n",
    "from scipy.optimize import minimize_scalar\n",
    "from typing import Dict, List, Optional, Tuple, Any\n",
    "\n",
    "from limference import (\n",
    "    LIMference, \n",
    "    LIMConfig,\n",
    "    ParameterConfig,\n",
    "    calculate_statistics,\n",
    "    create_corner_plot\n",
    ")\n",
    "\n",
    "class SBIConvergenceTester:\n",
    "    \"\"\"\n",
    "    General class for testing any SBI method with convergence analysis.\n",
    "    Works with any set of parameters specified by the user.\n",
    "    \n",
    "    Data Split Strategy:\n",
    "    -------------------\n",
    "    - Training: indices [0:n_train]\n",
    "    - Test (calibration): indices [n_train:n_train+n_calibration]\n",
    "    - Test (validation): indices [n_train+n_calibration:n_train+n_test]\n",
    "    \n",
    "    Dependencies:\n",
    "    ------------\n",
    "    Required: numpy, torch, scipy, matplotlib, limference\n",
    "    Optional: arviz (for MCMC diagnostics), sklearn (for isotonic calibration)\n",
    "    \"\"\"\n",
    "    \n",
    "    def __init__(\n",
    "        self,\n",
    "        param_names: List[str],\n",
    "        param_labels: Optional[Dict[str, str]] = None,\n",
    "        inference_methods: List[str] = [\"NPE\"],\n",
    "        analysis_methods: List[str] = [\"pdf\"],\n",
    "        n_train: int = 2000,\n",
    "        n_test: int = 500,\n",
    "        n_calibration: int = 50,\n",
    "        config_kwargs: Optional[Dict] = None,\n",
    "        test_obs_idx: int = 0,\n",
    "        check_dependencies: bool = True\n",
    "    ):\n",
    "        \"\"\"Initialize tester with flexible parameter specification.\"\"\"\n",
    "        self.param_names = param_names\n",
    "        self.n_params = len(param_names)\n",
    "        \n",
    "        if param_labels is None:\n",
    "            self.param_labels = self._create_default_labels(param_names)\n",
    "        else:\n",
    "            self.param_labels = param_labels\n",
    "            for name in param_names:\n",
    "                if name not in self.param_labels:\n",
    "                    self.param_labels[name] = self._create_default_labels([name])[name]\n",
    "        \n",
    "        self.inference_methods = inference_methods\n",
    "        self.analysis_methods = analysis_methods\n",
    "        self.n_train = n_train\n",
    "        self.n_test = n_test\n",
    "        self.n_calibration = n_calibration\n",
    "        self.config_kwargs = config_kwargs or {}\n",
    "        \n",
    "        self.data_loaded = False\n",
    "        self.models_trained = False\n",
    "        self.results = {}\n",
    "        self.test_obs_idx = test_obs_idx\n",
    "        \n",
    "        # Check optional dependencies if requested\n",
    "        if check_dependencies:\n",
    "            self._check_dependencies()\n",
    "    \n",
    "    def _check_dependencies(self):\n",
    "        \"\"\"Check for optional dependencies and warn if missing.\"\"\"\n",
    "        optional_deps = {\n",
    "            'arviz': 'MCMC diagnostics (run_mcmc_diagnostics)',\n",
    "            'sklearn': 'Isotonic calibration (calibrate_posteriors with method=\"isotonic\")',\n",
    "            'sbi.diagnostics.lc2st': 'LC2ST diagnostics (run_lc2st_diagnostic)',\n",
    "            'sbi.analysis': 'Advanced analysis (active subspace, conditional distributions)'\n",
    "        }\n",
    "        \n",
    "        self.available_features = {}\n",
    "        \n",
    "        for dep, feature in optional_deps.items():\n",
    "            try:\n",
    "                if '.' in dep:\n",
    "                    # Handle nested imports\n",
    "                    parts = dep.split('.')\n",
    "                    mod = __import__(parts[0])\n",
    "                    for part in parts[1:]:\n",
    "                        mod = getattr(mod, part)\n",
    "                else:\n",
    "                    __import__(dep)\n",
    "                self.available_features[dep] = True\n",
    "            except ImportError:\n",
    "                self.available_features[dep] = False\n",
    "                print(f\"Optional dependency '{dep}' not found. Feature disabled: {feature}\")\n",
    "    \n",
    "    def _create_default_labels(self, names: List[str]) -> Dict[str, str]:\n",
    "        \"\"\"Create default LaTeX labels for common parameter names.\"\"\"\n",
    "        default_labels = {\n",
    "            'omega_m': r'$\\Omega_m$',\n",
    "            'Omega_m': r'$\\Omega_m$',\n",
    "            'h': r'$h$',\n",
    "            'sigma8': r'$\\sigma_8$',\n",
    "            'sigma_8': r'$\\sigma_8$',\n",
    "        }\n",
    "        \n",
    "        labels = {}\n",
    "        for name in names:\n",
    "            if name in default_labels:\n",
    "                labels[name] = default_labels[name]\n",
    "            else:\n",
    "                labels[name] = name.replace('_', ' ')\n",
    "        \n",
    "        return labels\n",
    "    \n",
    "    def load_data(self, sim_root: str, seed: int = 1, param_file_keys: Optional[Dict[str, str]] = None):\n",
    "        \"\"\"Load simulation data with flexible parameter extraction.\"\"\"\n",
    "        print(f\"Loading data from {sim_root}...\")\n",
    "        \n",
    "        ps_file = np.load(sim_root + f\"ps_80_256.npz\", allow_pickle=True)\n",
    "        pdf_file = np.load(sim_root + f\"pdf_80_256.npz\", allow_pickle=True)\n",
    "        \n",
    "        self.params_sims = ps_file[\"parameters\"]\n",
    "        self.k_sim = ps_file[\"k_2d\"]\n",
    "        self.pk_sim = ps_file[\"pk_2d\"]\n",
    "        self.bin_sim_linear = pdf_file[\"lim_bin_edges_linear_2d\"]\n",
    "        self.pdf_sim_linear = pdf_file[\"lim_pdf_linear_2d\"]\n",
    "        \n",
    "        self.params_array = self._extract_parameters(self.params_sims, param_file_keys)\n",
    "        \n",
    "        # Keep all data accessible\n",
    "        self.all_params = self.params_array\n",
    "        self.all_pk = self.pk_sim\n",
    "        self.all_pdf = self.pdf_sim_linear\n",
    "        \n",
    "        # Split data according to documented strategy\n",
    "        self.train_params = self.params_array[:self.n_train]\n",
    "        self.train_pk = self.pk_sim[:self.n_train]\n",
    "        self.train_pdf = self.pdf_sim_linear[:self.n_train]\n",
    "        \n",
    "        self.test_params = self.params_array[self.n_train:self.n_train+self.n_test]\n",
    "        self.test_pk = self.pk_sim[self.n_train:self.n_train+self.n_test]\n",
    "        self.test_pdf = self.pdf_sim_linear[self.n_train:self.n_train+self.n_test]\n",
    "        \n",
    "        self.data_loaded = True\n",
    "        \n",
    "        print(f\"Data loaded: {len(self.params_sims)} total simulations\")\n",
    "        print(f\"Training set: {self.n_train} samples (indices 0:{self.n_train})\")\n",
    "        print(f\"Test set: {self.n_test} samples (indices {self.n_train}:{self.n_train+self.n_test})\")\n",
    "        print(f\"  - Calibration: {self.n_calibration} samples\")\n",
    "        print(f\"  - Validation: {self.n_test - self.n_calibration} samples\")\n",
    "        print(f\"Parameters being constrained: {', '.join(self.param_names)}\")\n",
    "        print(f\"Parameter ranges:\")\n",
    "        for i, name in enumerate(self.param_names):\n",
    "            print(f\"  {name}: [{self.params_array[:, i].min():.3f}, {self.params_array[:, i].max():.3f}]\")\n",
    "    \n",
    "    def _extract_parameters(self, params_sims: Any, param_file_keys: Optional[Dict[str, str]] = None) -> np.ndarray:\n",
    "        \"\"\"Extract specified parameters from simulation data.\"\"\"\n",
    "        if param_file_keys is None:\n",
    "            param_file_keys = {}\n",
    "        \n",
    "        params_list = []\n",
    "        \n",
    "        if hasattr(params_sims, 'dtype') and params_sims.dtype.names:\n",
    "            for sim_params in params_sims:\n",
    "                param_values = []\n",
    "                \n",
    "                for param_name in self.param_names:\n",
    "                    if param_name == \"sigma8\":\n",
    "                        if \"sigma_8\" in params_sims.dtype.names:\n",
    "                            value = sim_params[\"sigma_8\"]\n",
    "                        elif \"sigma8\" in params_sims.dtype.names:\n",
    "                            value = sim_params[\"sigma8\"]\n",
    "                        else:\n",
    "                            raise KeyError(f\"Could not find sigma8. Available: {params_sims.dtype.names}\")\n",
    "                    \n",
    "                    elif param_name == \"omega_m\":\n",
    "                        if \"omega_m\" in params_sims.dtype.names:\n",
    "                            value = sim_params[\"omega_m\"]\n",
    "                        elif \"Omega_m\" in params_sims.dtype.names:\n",
    "                            value = sim_params[\"Omega_m\"]\n",
    "                        else:\n",
    "                            raise KeyError(f\"Could not find omega_m. Available: {params_sims.dtype.names}\")\n",
    "                    \n",
    "                    else:\n",
    "                        file_key = param_file_keys.get(param_name, param_name)\n",
    "                        if file_key in params_sims.dtype.names:\n",
    "                            value = sim_params[file_key]\n",
    "                        elif param_name in params_sims.dtype.names:\n",
    "                            value = sim_params[param_name]\n",
    "                        else:\n",
    "                            raise KeyError(f\"Could not find '{param_name}'. Available: {params_sims.dtype.names}\")\n",
    "                    \n",
    "                    param_values.append(float(value))\n",
    "                \n",
    "                params_list.append(param_values)\n",
    "        else:\n",
    "            for sim_params in params_sims:\n",
    "                param_values = []\n",
    "                for param_name in self.param_names:\n",
    "                    file_key = param_file_keys.get(param_name, param_name)\n",
    "                    if file_key in sim_params:\n",
    "                        value = sim_params[file_key]\n",
    "                    elif param_name in sim_params:\n",
    "                        value = sim_params[param_name]\n",
    "                    else:\n",
    "                        raise KeyError(f\"Could not find parameter '{param_name}'\")\n",
    "                    param_values.append(value)\n",
    "                params_list.append(param_values)\n",
    "        \n",
    "        return np.array(params_list)\n",
    "    \n",
    "    def setup_limference(self, output_root: str, training_kwargs: Optional[Dict] = None):\n",
    "        \"\"\"Initialize LIMference with configuration.\"\"\"\n",
    "        if not self.data_loaded:\n",
    "            raise ValueError(\"Load data first using load_data()\")\n",
    "        \n",
    "        default_training = {\n",
    "            \"max_num_epochs\": 400,\n",
    "            \"stop_after_epochs\": 30,\n",
    "            \"training_batch_size\": 100,\n",
    "            \"learning_rate\": 5e-4,\n",
    "            \"validation_fraction\": 0.2,\n",
    "        }\n",
    "        \n",
    "        if training_kwargs:\n",
    "            default_training.update(training_kwargs)\n",
    "        \n",
    "        default_config = {\n",
    "            \"root\": output_root,\n",
    "            \"n_signal_sims\": self.n_train + self.n_test,\n",
    "            \"num_noise_simulations\": 1,\n",
    "            \"inference_methods\": self.inference_methods,\n",
    "            \"analysis_methods\": self.analysis_methods,\n",
    "            \"device\": \"cuda\" if torch.cuda.is_available() else \"cpu\",\n",
    "            **default_training\n",
    "        }\n",
    "        default_config.update(self.config_kwargs)\n",
    "        \n",
    "        self.config = LIMConfig(**default_config)\n",
    "        \n",
    "        param_ranges = {}\n",
    "        for i, name in enumerate(self.param_names):\n",
    "            param_ranges[name] = (\n",
    "                float(self.params_array[:, i].min()),\n",
    "                float(self.params_array[:, i].max())\n",
    "            )\n",
    "        \n",
    "        self.param_config = ParameterConfig(\n",
    "            param_names=self.param_names,\n",
    "            param_ranges=param_ranges,\n",
    "            param_labels=self.param_labels\n",
    "        )\n",
    "        \n",
    "        self.lim = LIMference(self.config, param_config=self.param_config)\n",
    "        \n",
    "        # Load ALL data (train + test) into LIMference\n",
    "        self.lim.parameters = np.vstack([self.train_params, self.test_params])\n",
    "        \n",
    "        simulations = {}\n",
    "        \n",
    "        # Handle combined PS+PDF\n",
    "        if \"combined_ps_pdf\" in self.analysis_methods:\n",
    "            # Ensure we have k array\n",
    "            if len(self.k_sim.shape) == 1:\n",
    "                k_array = self.k_sim\n",
    "            else:\n",
    "                k_array = self.k_sim[0] if len(self.k_sim.shape) > 1 else self.k_sim\n",
    "            \n",
    "            # Store individual components for later use\n",
    "            simulations[\"power_spectrum\"] = {\n",
    "                \"k\": k_array,\n",
    "                \"pk\": np.vstack([self.train_pk, self.test_pk])\n",
    "            }\n",
    "            \n",
    "            simulations[\"pdf\"] = {\n",
    "                \"bins_linear\": self.bin_sim_linear,\n",
    "                \"pdf_linear\": np.vstack([self.train_pdf, self.test_pdf])\n",
    "            }\n",
    "            \n",
    "            # Create combined data\n",
    "            combined_data = np.concatenate([\n",
    "                simulations[\"power_spectrum\"][\"pk\"],\n",
    "                simulations[\"pdf\"][\"pdf_linear\"]\n",
    "            ], axis=1)\n",
    "            \n",
    "            simulations[\"combined_ps_pdf\"] = combined_data\n",
    "        \n",
    "        # Load individual methods if requested\n",
    "        for method in self.analysis_methods:\n",
    "            if method == \"pdf\" and method not in simulations:\n",
    "                simulations[\"pdf\"] = {\n",
    "                    \"bins_linear\": self.bin_sim_linear,\n",
    "                    \"pdf_linear\": np.vstack([self.train_pdf, self.test_pdf])\n",
    "                }\n",
    "            elif method == \"power_spectrum\" and method not in simulations:\n",
    "                if len(self.k_sim.shape) == 1:\n",
    "                    k_array = self.k_sim\n",
    "                else:\n",
    "                    k_array = self.k_sim[0] if len(self.k_sim.shape) > 1 else self.k_sim\n",
    "                \n",
    "                simulations[\"power_spectrum\"] = {\n",
    "                    \"k\": k_array,\n",
    "                    \"pk\": np.vstack([self.train_pk, self.test_pk])\n",
    "                }\n",
    "        \n",
    "        self.lim.simulations = simulations\n",
    "        \n",
    "        print(f\"LIMference initialized for methods: {self.inference_methods}\")\n",
    "        print(f\"Analysis methods: {self.analysis_methods}\")\n",
    "        print(f\"Parameters to constrain: {', '.join(self.param_names)}\")\n",
    "    \n",
    "    def train_models(self):\n",
    "        \"\"\"Train SBI models.\"\"\"\n",
    "        if not hasattr(self, 'lim'):\n",
    "            raise ValueError(\"Setup LIMference first using setup_limference()\")\n",
    "        \n",
    "        print(\"\\n\" + \"=\"*70)\n",
    "        print(\"TRAINING MODELS\")\n",
    "        print(\"=\"*70)\n",
    "        \n",
    "        # FIXED: Use self.test_obs_idx instead of test_obs_idx\n",
    "        combined_test_idx = self.n_train + self.test_obs_idx\n",
    "        self.test_true_params = self.test_params[self.test_obs_idx]\n",
    "        \n",
    "        print(f\"\\nTest observation index: {self.test_obs_idx}\")\n",
    "        print(f\"Test observation true parameters:\")\n",
    "        for i, name in enumerate(self.param_names):\n",
    "            print(f\"  {name} = {self.test_true_params[i]:.3f}\")\n",
    "        \n",
    "        try:\n",
    "            self.lim_results = self.lim.run_inference_comparison(\n",
    "                observation_index=combined_test_idx,\n",
    "                analysis_methods=self.analysis_methods,\n",
    "                inference_methods=self.inference_methods,\n",
    "                n_posterior_samples=10000,\n",
    "                verbose=True\n",
    "            )\n",
    "            \n",
    "            self.models_trained = True\n",
    "            self.lim.results = self.lim_results\n",
    "            \n",
    "        except Exception as e:\n",
    "            print(f\"Error during training: {e}\")\n",
    "            import traceback\n",
    "            traceback.print_exc()\n",
    "            self.models_trained = False\n",
    "    \n",
    "    def compare_estimation_methods(self):\n",
    "        \"\"\"Compare different parameter estimation methods across all trained models\"\"\"\n",
    "        \n",
    "        if not self.models_trained:\n",
    "            print(\"No trained models to analyze\")\n",
    "            return None\n",
    "        \n",
    "        # Standardized test index usage\n",
    "        test_idx = self.test_obs_idx\n",
    "        \n",
    "        print(\"\\n\" + \"=\"*70)\n",
    "        print(\"COMPARING PARAMETER ESTIMATION METHODS\")\n",
    "        print(f\"Using test observation index: {test_idx}\")\n",
    "        print(\"=\"*70)\n",
    "        \n",
    "        comparison_results = {}\n",
    "        \n",
    "        for method_key, result in self.lim.results.items():\n",
    "            if \"error\" in result:\n",
    "                continue\n",
    "            \n",
    "            print(f\"\\n{method_key}:\")\n",
    "            print(\"-\"*50)\n",
    "            \n",
    "            # Get observation for this method\n",
    "            if \"combined\" in method_key:\n",
    "                test_obs = np.concatenate([self.test_pk[test_idx], self.test_pdf[test_idx]])\n",
    "            elif \"power\" in method_key:\n",
    "                test_obs = self.test_pk[test_idx]\n",
    "            elif \"pdf\" in method_key:\n",
    "                test_obs = self.test_pdf[test_idx]\n",
    "            else:\n",
    "                continue\n",
    "            \n",
    "            # Get comprehensive estimates\n",
    "            estimates, samples = self.estimate_parameters_comprehensive(\n",
    "                result['posterior'], test_obs, n_samples=10000\n",
    "            )\n",
    "            \n",
    "            # Store results\n",
    "            comparison_results[method_key] = estimates\n",
    "            \n",
    "            # Print comparison\n",
    "            true_params = self.test_params[test_idx]\n",
    "            \n",
    "            print(f\"\\nTrue values:     {self.param_names[0]}={true_params[0]:.4f}, \"\n",
    "                  f\"{self.param_names[1]}={true_params[1]:.4f}\")\n",
    "            \n",
    "            print(\"\\nPoint Estimates:\")\n",
    "            for estimator in ['mean', 'median', 'mode_kde', 'map']:\n",
    "                if estimates[estimator] is not None:\n",
    "                    est_vals = estimates[estimator]\n",
    "                    errors = est_vals - true_params\n",
    "                    print(f\"  {estimator:8s}: {self.param_names[0]}={est_vals[0]:.4f} (err={errors[0]:+.4f}), \"\n",
    "                          f\"{self.param_names[1]}={est_vals[1]:.4f} (err={errors[1]:+.4f})\")\n",
    "            \n",
    "            print(\"\\nUncertainties:\")\n",
    "            print(f\"  Std Dev:  {self.param_names[0]}={estimates['std'][0]:.4f}, \"\n",
    "                  f\"{self.param_names[1]}={estimates['std'][1]:.4f}\")\n",
    "            print(f\"  MAD:      {self.param_names[0]}={estimates['mad'][0]:.4f}, \"\n",
    "                  f\"{self.param_names[1]}={estimates['mad'][1]:.4f}\")\n",
    "            \n",
    "            print(\"\\n68% HPD Intervals:\")\n",
    "            for i, name in enumerate(self.param_names):\n",
    "                hpd = estimates['hpd_68'][i]\n",
    "                width = hpd[1] - hpd[0]\n",
    "                print(f\"  {name}: [{hpd[0]:.4f}, {hpd[1]:.4f}] (width={width:.4f})\")\n",
    "            \n",
    "            print(\"\\nMultimodality Check:\")\n",
    "            for i, name in enumerate(self.param_names):\n",
    "                status = \"Yes ⚠️\" if estimates['is_multimodal'][i] else \"No ✓\"\n",
    "                print(f\"  {name}: {status}\")\n",
    "            \n",
    "            # Calculate RMSE for each estimator\n",
    "            print(\"\\nRMSE by Estimator:\")\n",
    "            for estimator in ['mean', 'median', 'mode_kde', 'map']:\n",
    "                if estimates[estimator] is not None:\n",
    "                    rmse = np.sqrt(np.mean((estimates[estimator] - true_params)**2))\n",
    "                    print(f\"  {estimator:8s}: {rmse:.4f}\")\n",
    "        \n",
    "        return comparison_results\n",
    "    \n",
    "    def plot_estimation_comparison(self):\n",
    "        \"\"\"Visualize different estimation methods\"\"\"\n",
    "        \n",
    "        # Standardized test index usage\n",
    "        test_idx = self.test_obs_idx\n",
    "        \n",
    "        comparison = self.compare_estimation_methods()\n",
    "        if not comparison:\n",
    "            return\n",
    "        \n",
    "        n_methods = len(comparison)\n",
    "        n_params = len(self.param_names)\n",
    "        \n",
    "        # FIXED: Use constrained_layout in figure creation\n",
    "        fig, axes = plt.subplots(n_params, n_methods, \n",
    "                                 figsize=(5*n_methods, 4*n_params),\n",
    "                                 constrained_layout=True)\n",
    "        \n",
    "        if n_methods == 1:\n",
    "            axes = axes.reshape(-1, 1)\n",
    "        if n_params == 1:\n",
    "            axes = axes.reshape(1, -1)\n",
    "        \n",
    "        for j, (method_key, estimates) in enumerate(comparison.items()):\n",
    "            # Get samples for this method\n",
    "            if \"combined\" in method_key:\n",
    "                test_obs = np.concatenate([self.test_pk[test_idx], self.test_pdf[test_idx]])\n",
    "            elif \"power\" in method_key:\n",
    "                test_obs = self.test_pk[test_idx]\n",
    "            elif \"pdf\" in method_key:\n",
    "                test_obs = self.test_pdf[test_idx]\n",
    "            else:\n",
    "                continue\n",
    "            \n",
    "            x_obs_tensor = torch.tensor(test_obs, dtype=torch.float32)\n",
    "            samples = self.lim.results[method_key]['posterior'].sample(\n",
    "                (5000,), x=x_obs_tensor\n",
    "            ).numpy()\n",
    "            \n",
    "            for i, param_name in enumerate(self.param_names):\n",
    "                ax = axes[i, j] if n_params > 1 else axes[j]\n",
    "                \n",
    "                # Plot histogram\n",
    "                ax.hist(samples[:, i], bins=50, density=True, \n",
    "                       alpha=0.5, color='gray', edgecolor='black')\n",
    "                \n",
    "                # Add KDE\n",
    "                from scipy.stats import gaussian_kde\n",
    "                kde = gaussian_kde(samples[:, i])\n",
    "                x_grid = np.linspace(samples[:, i].min(), samples[:, i].max(), 200)\n",
    "                ax.plot(x_grid, kde(x_grid), 'k-', linewidth=2, label='KDE')\n",
    "                \n",
    "                # Mark different estimates\n",
    "                true_val = self.test_params[test_idx][i]\n",
    "                ax.axvline(true_val, color='red', linestyle='--', \n",
    "                          linewidth=2, label='True')\n",
    "                \n",
    "                colors = {'mean': 'blue', 'median': 'green', \n",
    "                         'mode_kde': 'orange', 'map': 'purple'}\n",
    "                \n",
    "                for est_name, color in colors.items():\n",
    "                    if estimates[est_name] is not None:\n",
    "                        ax.axvline(estimates[est_name][i], color=color, \n",
    "                                  linestyle=':', linewidth=1.5, label=est_name)\n",
    "                \n",
    "                ax.set_xlabel(self.param_labels[param_name])\n",
    "                ax.set_ylabel('Density')\n",
    "                ax.set_title(f'{method_key}\\n{param_name}')\n",
    "                \n",
    "                if i == 0 and j == 0:\n",
    "                    ax.legend(fontsize=8, loc='best')\n",
    "                \n",
    "                # Add text box with stats\n",
    "                multimodal = \"Multi\" if estimates['is_multimodal'][i] else \"Uni\"\n",
    "                textstr = f\"{multimodal}modal\"\n",
    "                ax.text(0.05, 0.95, textstr, transform=ax.transAxes, \n",
    "                       fontsize=9, verticalalignment='top',\n",
    "                       bbox=dict(boxstyle='round', facecolor='wheat', alpha=0.5))\n",
    "        \n",
    "        plt.suptitle('Parameter Estimation Methods Comparison', fontsize=14)\n",
    "        plt.show()\n",
    "    \n",
    "    def calibrate_posteriors(self, target_coverage: float = 0.68, method: str = \"temperature\"):\n",
    "        \"\"\"\n",
    "        Calibrate posteriors using temperature scaling and/or isotonic regression.\n",
    "\n",
    "        Parameters:\n",
    "        -----------\n",
    "        target_coverage : float\n",
    "            Target coverage level for calibration (default 0.68)\n",
    "        method : str\n",
    "            Calibration method:\n",
    "            - \"temperature\": Scale uncertainties using temperature parameter\n",
    "            - \"isotonic\": Use isotonic regression for calibration curve\n",
    "            - \"both\": Apply both methods sequentially (temperature first, then isotonic)\n",
    "            \n",
    "        Note: \"isotonic\" requires sklearn to be installed.\n",
    "        \"\"\"\n",
    "        if not self.models_trained:\n",
    "            raise ValueError(\"Train models first\")\n",
    "\n",
    "        print(\"\\n\" + \"=\"*50)\n",
    "        print(\"CALIBRATING POSTERIORS\")\n",
    "        print(f\"Method: {method}\")\n",
    "        print(\"=\"*50)\n",
    "\n",
    "        # Check isotonic availability\n",
    "        if method in [\"isotonic\", \"both\"]:\n",
    "            if not self.available_features.get('sklearn', False):\n",
    "                print(\"WARNING: sklearn not available. Falling back to temperature-only calibration.\")\n",
    "                method = \"temperature\"\n",
    "\n",
    "        # Helper function for temperature scaling\n",
    "        def calibrate_temperature(posterior, cal_data, cal_params, target=0.68):\n",
    "            def coverage_error(temp):\n",
    "                coverage = 0\n",
    "                n_cal = min(30, len(cal_data))\n",
    "\n",
    "                for i in range(n_cal):\n",
    "                    try:\n",
    "                        x_obs = torch.tensor(cal_data[i], dtype=torch.float32)\n",
    "                        samples = posterior.sample((300,), x=x_obs).numpy()\n",
    "\n",
    "                        mean = np.mean(samples, axis=0)\n",
    "                        scaled = mean + (samples - mean) * temp\n",
    "\n",
    "                        q16, q84 = np.percentile(scaled, [16, 84], axis=0)\n",
    "                        if np.all((cal_params[i] >= q16) & (cal_params[i] <= q84)):\n",
    "                            coverage += 1\n",
    "                    except:\n",
    "                        continue\n",
    "\n",
    "                return abs(coverage/n_cal - target) if n_cal > 0 else 1.0\n",
    "\n",
    "            result = minimize_scalar(coverage_error, bounds=(0.5, 3.0), method='bounded')\n",
    "            return result.x\n",
    "\n",
    "        # Helper function for isotonic regression\n",
    "        def calibrate_isotonic(posterior, cal_data, cal_params):\n",
    "            from sklearn.isotonic import IsotonicRegression\n",
    "\n",
    "            print(\"  Building isotonic calibration curve...\")\n",
    "\n",
    "            # Collect calibration data at different confidence levels\n",
    "            confidence_levels = np.linspace(0.1, 0.99, 20)\n",
    "            predicted_coverages = []\n",
    "            empirical_coverages = []\n",
    "\n",
    "            for conf_level in confidence_levels:\n",
    "                coverage_count = 0\n",
    "                n_valid = 0\n",
    "\n",
    "                for i in range(min(50, len(cal_data))):\n",
    "                    try:\n",
    "                        x_obs = torch.tensor(cal_data[i], dtype=torch.float32)\n",
    "                        samples = posterior.sample((500,), x=x_obs).numpy()\n",
    "\n",
    "                        # Calculate confidence interval\n",
    "                        lower_percentile = (1 - conf_level) / 2 * 100\n",
    "                        upper_percentile = (1 + conf_level) / 2 * 100\n",
    "                        ci_low = np.percentile(samples, lower_percentile, axis=0)\n",
    "                        ci_high = np.percentile(samples, upper_percentile, axis=0)\n",
    "\n",
    "                        # Check if true parameter is within CI\n",
    "                        if np.all((cal_params[i] >= ci_low) & (cal_params[i] <= ci_high)):\n",
    "                            coverage_count += 1\n",
    "                        n_valid += 1\n",
    "                    except:\n",
    "                        continue\n",
    "\n",
    "                if n_valid > 0:\n",
    "                    predicted_coverages.append(conf_level)\n",
    "                    empirical_coverages.append(coverage_count / n_valid)\n",
    "\n",
    "            # Fit isotonic regression\n",
    "            iso_reg = IsotonicRegression(out_of_bounds='clip', increasing=True)\n",
    "            iso_reg.fit(predicted_coverages, empirical_coverages)\n",
    "\n",
    "            # Create calibration function\n",
    "            def apply_isotonic_calibration(samples, confidence_level):\n",
    "                \"\"\"Apply isotonic calibration to adjust confidence intervals.\"\"\"\n",
    "                target_empirical = confidence_level\n",
    "\n",
    "                # Binary search for the right nominal level\n",
    "                low, high = 0.01, 0.99\n",
    "                for _ in range(20):\n",
    "                    mid = (low + high) / 2\n",
    "                    empirical = iso_reg.predict([mid])[0]\n",
    "                    if empirical < target_empirical:\n",
    "                        low = mid\n",
    "                    else:\n",
    "                        high = mid\n",
    "\n",
    "                # Use the calibrated confidence level\n",
    "                calibrated_level = mid\n",
    "                lower_percentile = (1 - calibrated_level) / 2 * 100\n",
    "                upper_percentile = (1 + calibrated_level) / 2 * 100\n",
    "\n",
    "                return np.percentile(samples, [lower_percentile, upper_percentile], axis=0)\n",
    "\n",
    "            return iso_reg, apply_isotonic_calibration\n",
    "\n",
    "        # Apply calibration to each method\n",
    "        for method_key, result in self.lim.results.items():\n",
    "            if \"error\" not in result:\n",
    "                # Prepare calibration data\n",
    "                if \"combined\" in method_key:\n",
    "                    cal_pk = self.test_pk[:self.n_calibration]\n",
    "                    cal_pdf = self.test_pdf[:self.n_calibration]\n",
    "                    cal_data = np.concatenate([cal_pk, cal_pdf], axis=1)\n",
    "                elif \"power\" in method_key:\n",
    "                    cal_data = self.test_pk[:self.n_calibration]\n",
    "                elif \"pdf\" in method_key:\n",
    "                    cal_data = self.test_pdf[:self.n_calibration]\n",
    "                else:\n",
    "                    continue\n",
    "\n",
    "                cal_params = self.test_params[:self.n_calibration]\n",
    "\n",
    "                # Apply temperature scaling\n",
    "                if method in [\"temperature\", \"both\"]:\n",
    "                    try:\n",
    "                        temp = calibrate_temperature(\n",
    "                            result['posterior'], cal_data, cal_params, target_coverage\n",
    "                        )\n",
    "                        result['calibration_temp'] = temp\n",
    "                        print(f\"{method_key} - Temperature scaling: T = {temp:.3f}\")\n",
    "\n",
    "                        if temp > 1.2:\n",
    "                            print(f\"  → Model was overconfident, widening by {(temp-1)*100:.1f}%\")\n",
    "                        elif temp < 0.8:\n",
    "                            print(f\"  → Model was underconfident, narrowing by {(1-temp)*100:.1f}%\")\n",
    "                        else:\n",
    "                            print(f\"  → Model was well-calibrated\")\n",
    "                    except Exception as e:\n",
    "                        print(f\"{method_key} - Temperature calibration failed: {e}\")\n",
    "                        result['calibration_temp'] = 1.0\n",
    "\n",
    "                # Apply isotonic regression\n",
    "                if method in [\"isotonic\", \"both\"]:\n",
    "                    try:\n",
    "                        iso_reg, iso_apply = calibrate_isotonic(\n",
    "                            result['posterior'], cal_data, cal_params\n",
    "                        )\n",
    "                        result['isotonic_calibrator'] = iso_reg\n",
    "                        result['isotonic_apply'] = iso_apply\n",
    "\n",
    "                        # Test the calibration\n",
    "                        test_levels = [0.68, 0.95]\n",
    "                        calibrated_levels = iso_reg.predict(test_levels)\n",
    "                        print(f\"{method_key} - Isotonic regression calibration:\")\n",
    "                        for nominal, empirical in zip(test_levels, calibrated_levels):\n",
    "                            print(f\"  → {nominal*100:.0f}% nominal → {empirical*100:.1f}% empirical\")\n",
    "\n",
    "                    except Exception as e:\n",
    "                        print(f\"{method_key} - Isotonic calibration failed: {e}\")\n",
    "                        result['isotonic_calibrator'] = None\n",
    "    \n",
    "    def test_recovery(self):\n",
    "        \"\"\"Test posterior recovery on test set.\"\"\"\n",
    "        if not self.models_trained:\n",
    "            raise ValueError(\"Train models first\")\n",
    "        \n",
    "        print(\"\\n\" + \"=\"*50)\n",
    "        print(\"TESTING POSTERIOR RECOVERY\")\n",
    "        print(\"=\"*50)\n",
    "        \n",
    "        recovery_results = {}\n",
    "        \n",
    "        for method_key, result in self.lim.results.items():\n",
    "            if \"error\" not in result:\n",
    "                print(f\"\\n{method_key}:\")\n",
    "                \n",
    "                if \"combined\" in method_key:\n",
    "                    test_pk = self.test_pk[self.n_calibration:]\n",
    "                    test_pdf = self.test_pdf[self.n_calibration:]\n",
    "                    test_data = np.concatenate([test_pk, test_pdf], axis=1)\n",
    "                elif \"power\" in method_key:\n",
    "                    test_data = self.test_pk[self.n_calibration:]\n",
    "                elif \"pdf\" in method_key:\n",
    "                    test_data = self.test_pdf[self.n_calibration:]\n",
    "                else:\n",
    "                    continue\n",
    "                \n",
    "                test_params_subset = self.test_params[self.n_calibration:]\n",
    "                \n",
    "                n_test_samples = min(50, len(test_data))\n",
    "                coverage_68 = 0\n",
    "                coverage_95 = 0\n",
    "                errors = []\n",
    "                \n",
    "                temp = result.get('calibration_temp', 1.0)\n",
    "                \n",
    "                for i in range(n_test_samples):\n",
    "                    try:\n",
    "                        x_obs = torch.tensor(test_data[i], dtype=torch.float32)\n",
    "                        samples = result['posterior'].sample((1000,), x=x_obs).numpy()\n",
    "                        \n",
    "                        mean = np.mean(samples, axis=0)\n",
    "                        samples = mean + (samples - mean) * temp\n",
    "                        \n",
    "                        post_mean = np.mean(samples, axis=0)\n",
    "                        errors.append(post_mean - test_params_subset[i])\n",
    "                        \n",
    "                        q16, q84 = np.percentile(samples, [16, 84], axis=0)\n",
    "                        q2_5, q97_5 = np.percentile(samples, [2.5, 97.5], axis=0)\n",
    "                        \n",
    "                        if np.all((test_params_subset[i] >= q16) & (test_params_subset[i] <= q84)):\n",
    "                            coverage_68 += 1\n",
    "                        if np.all((test_params_subset[i] >= q2_5) & (test_params_subset[i] <= q97_5)):\n",
    "                            coverage_95 += 1\n",
    "                            \n",
    "                    except Exception as e:\n",
    "                        continue\n",
    "                \n",
    "                if len(errors) > 0:\n",
    "                    errors = np.array(errors)\n",
    "                    metrics = {\n",
    "                        'coverage_68_rate': coverage_68 / n_test_samples,\n",
    "                        'coverage_95_rate': coverage_95 / n_test_samples,\n",
    "                        'mean_rmse': np.sqrt(np.mean(errors**2)),\n",
    "                        'mean_bias': np.mean(np.abs(errors)),\n",
    "                        'well_calibrated_68': abs(coverage_68/n_test_samples - 0.68) < 0.1,\n",
    "                        'well_calibrated_95': abs(coverage_95/n_test_samples - 0.95) < 0.1,\n",
    "                        'calibration_temp': temp\n",
    "                    }\n",
    "                    recovery_results[method_key] = metrics\n",
    "                    \n",
    "                    print(f\"  Temperature: {metrics['calibration_temp']:.3f}\")\n",
    "                    print(f\"  68% coverage: {metrics['coverage_68_rate']:.1%}\")\n",
    "                    print(f\"  95% coverage: {metrics['coverage_95_rate']:.1%}\")\n",
    "                    print(f\"  RMSE: {metrics['mean_rmse']:.4f}\")\n",
    "        \n",
    "        self.recovery_results = recovery_results\n",
    "    \n",
    "    def plot_results(self):\n",
    "        \"\"\"Create comprehensive visualization of results.\"\"\"\n",
    "        if not self.models_trained:\n",
    "            raise ValueError(\"Train models first\")\n",
    "        \n",
    "        self._plot_parameter_recovery()\n",
    "        self._plot_coverage_curves()\n",
    "    \n",
    "    def _plot_coverage_curves(self):\n",
    "        \"\"\"Plot coverage calibration curves.\"\"\"\n",
    "        confidence_levels = np.array([50, 60, 70, 80, 90, 95, 99])\n",
    "        \n",
    "        n_methods = len([k for k in self.lim.results.keys() if \"error\" not in self.lim.results[k]])\n",
    "        if n_methods == 0:\n",
    "            return\n",
    "        \n",
    "        # FIXED: Use constrained_layout\n",
    "        fig, axes = plt.subplots(1, n_methods, figsize=(5*n_methods, 4),\n",
    "                                constrained_layout=True)\n",
    "        if n_methods == 1:\n",
    "            axes = [axes]\n",
    "        \n",
    "        plot_idx = 0\n",
    "        \n",
    "        for method_key, result in self.lim.results.items():\n",
    "            if \"error\" not in result:\n",
    "                ax = axes[plot_idx]\n",
    "                \n",
    "                start_idx = self.n_calibration\n",
    "                end_idx = min(self.n_calibration + 30, self.n_test)\n",
    "                \n",
    "                if \"combined\" in method_key:\n",
    "                    test_pk = self.test_pk[start_idx:end_idx]\n",
    "                    test_pdf = self.test_pdf[start_idx:end_idx]\n",
    "                    test_data = np.concatenate([test_pk, test_pdf], axis=1)\n",
    "                elif \"power\" in method_key:\n",
    "                    test_data = self.test_pk[start_idx:end_idx]\n",
    "                elif \"pdf\" in method_key:\n",
    "                    test_data = self.test_pdf[start_idx:end_idx]\n",
    "                else:\n",
    "                    continue\n",
    "                \n",
    "                test_params_subset = self.test_params[start_idx:end_idx]\n",
    "                \n",
    "                coverage_rates_orig = []\n",
    "                coverage_rates_cal = []\n",
    "                \n",
    "                temp = result.get('calibration_temp', 1.0)\n",
    "                \n",
    "                for conf in confidence_levels:\n",
    "                    coverage_orig = 0\n",
    "                    coverage_cal = 0\n",
    "                    n_samples = len(test_data)\n",
    "                    \n",
    "                    for i in range(n_samples):\n",
    "                        try:\n",
    "                            x_obs = torch.tensor(test_data[i], dtype=torch.float32)\n",
    "                            samples = result['posterior'].sample((500,), x=x_obs).numpy()\n",
    "                            \n",
    "                            lower = (100-conf)/2\n",
    "                            upper = 100-lower\n",
    "                            \n",
    "                            ci_low_orig = np.percentile(samples, lower, axis=0)\n",
    "                            ci_high_orig = np.percentile(samples, upper, axis=0)\n",
    "                            \n",
    "                            mean = np.mean(samples, axis=0)\n",
    "                            samples_cal = mean + (samples - mean) * temp\n",
    "                            ci_low_cal = np.percentile(samples_cal, lower, axis=0)\n",
    "                            ci_high_cal = np.percentile(samples_cal, upper, axis=0)\n",
    "                            \n",
    "                            if np.all((test_params_subset[i] >= ci_low_orig) & \n",
    "                                     (test_params_subset[i] <= ci_high_orig)):\n",
    "                                coverage_orig += 1\n",
    "                            if np.all((test_params_subset[i] >= ci_low_cal) & \n",
    "                                     (test_params_subset[i] <= ci_high_cal)):\n",
    "                                coverage_cal += 1\n",
    "                        except:\n",
    "                            continue\n",
    "                    \n",
    "                    if n_samples > 0:\n",
    "                        coverage_rates_orig.append(100 * coverage_orig/n_samples)\n",
    "                        coverage_rates_cal.append(100 * coverage_cal/n_samples)\n",
    "                \n",
    "                if coverage_rates_orig:\n",
    "                    ax.plot(confidence_levels[:len(coverage_rates_orig)], coverage_rates_orig, 'o-', \n",
    "                           label='Original', linewidth=2, color='red')\n",
    "                    ax.plot(confidence_levels[:len(coverage_rates_cal)], coverage_rates_cal, 's-', \n",
    "                           label='Calibrated', linewidth=2, color='green')\n",
    "                    ax.plot([0, 100], [0, 100], 'k--', alpha=0.5, label='Perfect')\n",
    "                    \n",
    "                    ax.set_xlabel('Nominal Coverage (%)')\n",
    "                    ax.set_ylabel('Empirical Coverage (%)')\n",
    "                    ax.set_title(f'{method_key} (T={temp:.2f})')\n",
    "                    ax.legend(fontsize=8)\n",
    "                    ax.grid(True, alpha=0.3)\n",
    "                    ax.set_xlim(45, 100)\n",
    "                    ax.set_ylim(45, 100)\n",
    "                \n",
    "                plot_idx += 1\n",
    "        \n",
    "        if plot_idx > 0:\n",
    "            plt.suptitle('Coverage Calibration', fontsize=14)\n",
    "            plt.show()\n",
    "    \n",
    "    def _plot_parameter_recovery(self):\n",
    "        \"\"\"Plot parameter recovery scatter plots.\"\"\"\n",
    "        n_methods = len([k for k in self.lim.results.keys() if \"error\" not in self.lim.results[k]])\n",
    "        n_params = len(self.param_names)\n",
    "        \n",
    "        if n_methods == 0:\n",
    "            return\n",
    "        \n",
    "        # FIXED: Use constrained_layout\n",
    "        fig, axes = plt.subplots(n_methods, n_params, \n",
    "                                figsize=(5*n_params, 4*n_methods),\n",
    "                                constrained_layout=True)\n",
    "        \n",
    "        if n_methods == 1 and n_params == 1:\n",
    "            axes = np.array([[axes]])\n",
    "        elif n_methods == 1:\n",
    "            axes = axes.reshape(1, -1)\n",
    "        elif n_params == 1:\n",
    "            axes = axes.reshape(-1, 1)\n",
    "        \n",
    "        method_idx = 0\n",
    "        for method_key, result in self.lim.results.items():\n",
    "            if \"error\" not in result:\n",
    "                start_idx = self.n_calibration\n",
    "                end_idx = min(self.n_calibration + 50, self.n_test)\n",
    "                \n",
    "                if \"combined\" in method_key:\n",
    "                    test_pk = self.test_pk[start_idx:end_idx]\n",
    "                    test_pdf = self.test_pdf[start_idx:end_idx]\n",
    "                    test_data = np.concatenate([test_pk, test_pdf], axis=1)\n",
    "                elif \"power\" in method_key:\n",
    "                    test_data = self.test_pk[start_idx:end_idx]\n",
    "                elif \"pdf\" in method_key:\n",
    "                    test_data = self.test_pdf[start_idx:end_idx]\n",
    "                else:\n",
    "                    continue\n",
    "                \n",
    "                test_params_subset = self.test_params[start_idx:end_idx]\n",
    "                temp = result.get('calibration_temp', 1.0)\n",
    "                \n",
    "                predictions_mean = []\n",
    "                predictions_16 = []\n",
    "                predictions_84 = []\n",
    "                true_vals = []\n",
    "                \n",
    "                for i in range(len(test_data)):\n",
    "                    try:\n",
    "                        x_obs = torch.tensor(test_data[i], dtype=torch.float32)\n",
    "                        samples = result['posterior'].sample((1000,), x=x_obs).numpy()\n",
    "                        \n",
    "                        mean = np.mean(samples, axis=0)\n",
    "                        samples_cal = mean + (samples - mean) * temp\n",
    "                        \n",
    "                        predictions_mean.append(np.mean(samples_cal, axis=0))\n",
    "                        predictions_16.append(np.percentile(samples_cal, 16, axis=0))\n",
    "                        predictions_84.append(np.percentile(samples_cal, 84, axis=0))\n",
    "                        true_vals.append(test_params_subset[i])\n",
    "                    except:\n",
    "                        continue\n",
    "                \n",
    "                if len(predictions_mean) == 0:\n",
    "                    continue\n",
    "                \n",
    "                predictions_mean = np.array(predictions_mean)\n",
    "                predictions_16 = np.array(predictions_16)\n",
    "                predictions_84 = np.array(predictions_84)\n",
    "                true_vals = np.array(true_vals)\n",
    "                \n",
    "                for param_idx in range(n_params):\n",
    "                    ax = axes[method_idx, param_idx] if (n_methods > 1 or n_params > 1) else axes\n",
    "                    \n",
    "                    yerr_lower = predictions_mean[:, param_idx] - predictions_16[:, param_idx]\n",
    "                    yerr_upper = predictions_84[:, param_idx] - predictions_mean[:, param_idx]\n",
    "                    yerr = np.array([yerr_lower, yerr_upper])\n",
    "                    \n",
    "                    ax.errorbar(true_vals[:, param_idx], \n",
    "                               predictions_mean[:, param_idx],\n",
    "                               yerr=yerr,\n",
    "                               fmt='o', alpha=0.6, markersize=4,\n",
    "                               elinewidth=0.5, capsize=2, capthick=0.5)\n",
    "                    \n",
    "                    lims = [true_vals[:, param_idx].min(), true_vals[:, param_idx].max()]\n",
    "                    ax.plot(lims, lims, 'r--', alpha=0.7, linewidth=2)\n",
    "                    \n",
    "                    from scipy.stats import pearsonr\n",
    "                    if len(true_vals[:, param_idx]) > 1:\n",
    "                        r2 = pearsonr(true_vals[:, param_idx], predictions_mean[:, param_idx])[0]**2\n",
    "                        rmse = np.sqrt(np.mean((true_vals[:, param_idx] - predictions_mean[:, param_idx])**2))\n",
    "                    else:\n",
    "                        r2 = 0\n",
    "                        rmse = 0\n",
    "                    \n",
    "                    ax.set_xlabel(f'True {self.param_labels[self.param_names[param_idx]]}')\n",
    "                    ax.set_ylabel(f'Predicted {self.param_labels[self.param_names[param_idx]]}')\n",
    "                    ax.set_title(f'{method_key}\\nR²={r2:.3f}, RMSE={rmse:.4f}')\n",
    "                    ax.grid(True, alpha=0.3)\n",
    "                \n",
    "                method_idx += 1\n",
    "        \n",
    "        if method_idx > 0:\n",
    "            plt.suptitle('Parameter Recovery', fontsize=14)\n",
    "            plt.show()\n",
    "    \n",
    "    def estimate_parameters_comprehensive(self, posterior, x_obs, n_samples=10000):\n",
    "        \"\"\"Get multiple estimates for non-Gaussian posterior\"\"\"\n",
    "\n",
    "        # Sample from posterior\n",
    "        x_obs_tensor = torch.tensor(x_obs, dtype=torch.float32)\n",
    "        samples = posterior.sample((n_samples,), x=x_obs_tensor).numpy()\n",
    "\n",
    "        # Get various estimates\n",
    "        estimates = {\n",
    "            'mean': np.mean(samples, axis=0),\n",
    "            'median': np.median(samples, axis=0),\n",
    "            'mode_kde': self._get_mode_estimate(samples),\n",
    "            'map': self._get_map_estimate(posterior, x_obs),\n",
    "        }\n",
    "\n",
    "        # Add uncertainties\n",
    "        estimates['std'] = np.std(samples, axis=0)\n",
    "        estimates['mad'] = np.median(np.abs(samples - estimates['median']), axis=0)\n",
    "\n",
    "        # HPD intervals\n",
    "        try:\n",
    "            import arviz as az\n",
    "            estimates['hpd_68'] = az.hdi(samples, hdi_prob=0.68)\n",
    "            estimates['hpd_95'] = az.hdi(samples, hdi_prob=0.95)\n",
    "        except ImportError:\n",
    "            estimates['hpd_68'] = np.percentile(samples, [16, 84], axis=0).T\n",
    "            estimates['hpd_95'] = np.percentile(samples, [2.5, 97.5], axis=0).T\n",
    "\n",
    "        # Check for multimodality\n",
    "        estimates['is_multimodal'] = self._check_multimodality(samples)\n",
    "\n",
    "        return estimates, samples\n",
    "\n",
    "    def _get_map_estimate(self, posterior, x_obs, n_init=50):\n",
    "        \"\"\"Find MAP estimate using optimization\"\"\"\n",
    "        x_obs_tensor = torch.tensor(x_obs, dtype=torch.float32)\n",
    "\n",
    "        # Sample initial points\n",
    "        init_samples = posterior.sample((n_init,), x=x_obs_tensor)\n",
    "\n",
    "        best_log_prob = -np.inf\n",
    "        best_params = None\n",
    "\n",
    "        for i in range(n_init):\n",
    "            init = init_samples[i].clone().detach().requires_grad_(True)\n",
    "\n",
    "            try:\n",
    "                optimizer = torch.optim.LBFGS([init], lr=0.01, max_iter=100)\n",
    "\n",
    "                def closure():\n",
    "                    optimizer.zero_grad()\n",
    "                    log_prob = posterior.log_prob(init.unsqueeze(0), x=x_obs_tensor)\n",
    "                    loss = -log_prob\n",
    "                    loss.backward()\n",
    "                    return loss\n",
    "\n",
    "                for _ in range(10):\n",
    "                    optimizer.step(closure)\n",
    "\n",
    "                final_log_prob = posterior.log_prob(init.unsqueeze(0), x=x_obs_tensor).item()\n",
    "                if final_log_prob > best_log_prob:\n",
    "                    best_log_prob = final_log_prob\n",
    "                    best_params = init.detach().numpy()\n",
    "            except:\n",
    "                continue\n",
    "\n",
    "        return best_params if best_params is not None else init_samples[0].numpy()\n",
    "\n",
    "    def _get_mode_estimate(self, samples, n_grid=1000):\n",
    "        \"\"\"Estimate mode using kernel density estimation\"\"\"\n",
    "        from scipy.stats import gaussian_kde\n",
    "\n",
    "        modes = []\n",
    "        for param_idx in range(samples.shape[1]):\n",
    "            param_samples = samples[:, param_idx]\n",
    "\n",
    "            # Fit KDE\n",
    "            kde = gaussian_kde(param_samples)\n",
    "\n",
    "            # Create grid and evaluate\n",
    "            x_grid = np.linspace(param_samples.min(), param_samples.max(), n_grid)\n",
    "            density = kde(x_grid)\n",
    "\n",
    "            # Find mode\n",
    "            mode_idx = np.argmax(density)\n",
    "            modes.append(x_grid[mode_idx])\n",
    "\n",
    "        return np.array(modes)\n",
    "\n",
    "    def _check_multimodality(self, samples, threshold=0.1):\n",
    "        \"\"\"Check if posterior is multimodal\"\"\"\n",
    "        from scipy.stats import gaussian_kde\n",
    "        from scipy.signal import find_peaks\n",
    "\n",
    "        is_multimodal = []\n",
    "\n",
    "        for i in range(samples.shape[1]):\n",
    "            kde = gaussian_kde(samples[:, i])\n",
    "            x = np.linspace(samples[:, i].min(), samples[:, i].max(), 200)\n",
    "            density = kde(x)\n",
    "\n",
    "            # Find peaks\n",
    "            peaks, properties = find_peaks(density, height=threshold*np.max(density))\n",
    "            is_multimodal.append(len(peaks) > 1)\n",
    "\n",
    "        return is_multimodal\n",
    "    \n",
    "    def run_sbc_analysis(self, n_sbc_runs: int = 100, n_posterior_samples: int = 1000):\n",
    "        \"\"\"Run proper SBC analysis with rank statistics.\"\"\"\n",
    "        ranks = {method: [] for method in self.lim.results.keys() if \"error\" not in self.lim.results[method]}\n",
    "\n",
    "        for method_key, result in self.lim.results.items():\n",
    "            if \"error\" in result:\n",
    "                continue\n",
    "\n",
    "            for _ in range(n_sbc_runs):\n",
    "                # Sample from prior (using training data as approximation)\n",
    "                idx = np.random.randint(0, self.n_train)\n",
    "                true_param = self.train_params[idx]\n",
    "\n",
    "                # Get corresponding observation based on method type\n",
    "                if \"combined\" in method_key:\n",
    "                    pk_obs = self.train_pk[idx]\n",
    "                    pdf_obs = self.train_pdf[idx]\n",
    "                    observation = np.concatenate([pk_obs, pdf_obs])\n",
    "                elif \"power\" in method_key or \"ps\" in method_key:\n",
    "                    observation = self.train_pk[idx]\n",
    "                elif \"pdf\" in method_key:\n",
    "                    observation = self.train_pdf[idx]\n",
    "                else:\n",
    "                    continue\n",
    "\n",
    "                # Get posterior samples\n",
    "                x_obs = torch.tensor(observation, dtype=torch.float32)\n",
    "                samples = result['posterior'].sample((n_posterior_samples,), x=x_obs).numpy()\n",
    "\n",
    "                # Calculate ranks for each parameter\n",
    "                rank = np.sum(samples < true_param[None, :], axis=0) / n_posterior_samples\n",
    "                ranks[method_key].append(rank)\n",
    "    \n",
    "        # Convert to arrays\n",
    "        for method_key, method_ranks in ranks.items():\n",
    "            ranks[method_key] = np.array(method_ranks)\n",
    "\n",
    "        return ranks\n",
    "    \n",
    "    def plot_sbc_ranks(self, n_sbc_runs: int = 100, n_posterior_samples: int = 1000):\n",
    "        \"\"\"Run SBC analysis and create rank plots.\"\"\"\n",
    "\n",
    "        # First run the SBC analysis\n",
    "        ranks = self.run_sbc_analysis(n_sbc_runs, n_posterior_samples)\n",
    "\n",
    "        # Create plots for each method\n",
    "        for method_key, method_ranks in ranks.items():\n",
    "            if len(method_ranks) == 0:\n",
    "                continue\n",
    "\n",
    "            n_params = method_ranks.shape[1]\n",
    "            # FIXED: Use constrained_layout\n",
    "            fig, axes = plt.subplots(1, n_params, figsize=(6*n_params, 5),\n",
    "                                    constrained_layout=True)\n",
    "\n",
    "            if n_params == 1:\n",
    "                axes = [axes]\n",
    "\n",
    "            for param_idx, param_name in enumerate(self.param_names):\n",
    "                ax = axes[param_idx]\n",
    "\n",
    "                # Plot histogram of ranks\n",
    "                n_bins = int(np.sqrt(n_sbc_runs)) if n_sbc_runs > 100 else 10\n",
    "                counts, bins, _ = ax.hist(method_ranks[:, param_idx], \n",
    "                                         bins=n_bins, \n",
    "                                         density=True,\n",
    "                                         alpha=0.7, \n",
    "                                         edgecolor='black',\n",
    "                                         label='SBC ranks')\n",
    "\n",
    "                # Add uniform reference line\n",
    "                ax.axhline(1.0, color='red', linestyle='--', \n",
    "                          label='Expected (uniform)', linewidth=2)\n",
    "\n",
    "                # Add confidence bands for uniform distribution\n",
    "                n_samples = len(method_ranks[:, param_idx])\n",
    "                std_uniform = 1 / np.sqrt(12)\n",
    "                ci_width = 1.96 * std_uniform / np.sqrt(n_samples)\n",
    "                ax.axhspan(1.0 - ci_width, 1.0 + ci_width, \n",
    "                          alpha=0.2, color='red', label='95% CI')\n",
    "\n",
    "                # Run Kolmogorov-Smirnov test\n",
    "                ks_stat, p_value = stats.kstest(method_ranks[:, param_idx], 'uniform')\n",
    "\n",
    "                # Interpret the shape\n",
    "                mean_rank = np.mean(method_ranks[:, param_idx])\n",
    "                interpretation = \"\"\n",
    "                if p_value < 0.05:\n",
    "                    if mean_rank < 0.45:\n",
    "                        interpretation = \"Underconfident\"\n",
    "                    elif mean_rank > 0.55:\n",
    "                        interpretation = \"Overconfident\"\n",
    "                    else:\n",
    "                        q1 = np.percentile(method_ranks[:, param_idx], 25)\n",
    "                        q3 = np.percentile(method_ranks[:, param_idx], 75)\n",
    "                        if q1 < 0.2 and q3 > 0.8:\n",
    "                            interpretation = \"Overconfident (U-shape)\"\n",
    "                        elif q1 > 0.3 and q3 < 0.7:\n",
    "                            interpretation = \"Underconfident (∩-shape)\"\n",
    "                        else:\n",
    "                            interpretation = \"Miscalibrated\"\n",
    "                else:\n",
    "                    interpretation = \"Well calibrated ✓\"\n",
    "\n",
    "                ax.set_xlabel('Rank statistic')\n",
    "                ax.set_ylabel('Density')\n",
    "                ax.set_title(f'{self.param_labels[param_name]}\\nKS p={p_value:.3f}\\n{interpretation}')\n",
    "                ax.legend(loc='upper right')\n",
    "                ax.grid(True, alpha=0.3)\n",
    "                ax.set_xlim(0, 1)\n",
    "\n",
    "            plt.suptitle(f'SBC Rank Plot - {method_key}\\n(n={n_sbc_runs} runs)', \n",
    "                        fontsize=14)\n",
    "            plt.show()\n",
    "    \n",
    "    def run_mcmc_diagnostics(self, method_key: str = None, n_samples: int = 1000, \n",
    "                         n_chains: int = 4, thin: int = 5, warmup_steps: int = 100):\n",
    "        \"\"\"\n",
    "        Run MCMC diagnostics using arviz for likelihood-based methods.\n",
    "        \"\"\"\n",
    "        # Check dependencies\n",
    "        if not self.available_features.get('arviz', False):\n",
    "            print(\"ERROR: arviz not installed. Install with: pip install arviz\")\n",
    "            return None\n",
    "        \n",
    "        try:\n",
    "            import arviz as az\n",
    "            from sbi.inference import NLE, MCMCPosterior, likelihood_estimator_based_potential\n",
    "        except ImportError as e:\n",
    "            print(f\"ERROR: Required package not found: {e}\")\n",
    "            return None\n",
    "\n",
    "        # Get method to analyze\n",
    "        if method_key is None:\n",
    "            method_key = next(k for k in self.lim.results.keys() if \"error\" not in self.lim.results[k])\n",
    "\n",
    "        print(f\"\\nRunning MCMC diagnostics for {method_key}\")\n",
    "        print(\"=\"*50)\n",
    "        \n",
    "        # Standardized test index usage\n",
    "        test_idx = self.test_obs_idx\n",
    "\n",
    "        # Prepare training data\n",
    "        if \"combined\" in method_key:\n",
    "            train_data = np.concatenate([self.train_pk, self.train_pdf], axis=1)\n",
    "            test_obs = np.concatenate([self.test_pk[test_idx], self.test_pdf[test_idx]])\n",
    "        elif \"power\" in method_key or \"ps\" in method_key:\n",
    "            train_data = self.train_pk\n",
    "            test_obs = self.test_pk[test_idx]\n",
    "        elif \"pdf\" in method_key:\n",
    "            train_data = self.train_pdf\n",
    "            test_obs = self.test_pdf[test_idx]\n",
    "        else:\n",
    "            print(f\"Method {method_key} not supported for MCMC\")\n",
    "            return None\n",
    "\n",
    "        # Check for NaN/Inf values\n",
    "        if np.any(np.isnan(train_data)) or np.any(np.isinf(train_data)):\n",
    "            print(\"Warning: NaN or Inf values detected in training data\")\n",
    "            valid_mask = ~(np.any(np.isnan(train_data), axis=1) | np.any(np.isinf(train_data), axis=1))\n",
    "            train_data = train_data[valid_mask]\n",
    "            train_params_clean = self.train_params[valid_mask]\n",
    "        else:\n",
    "            train_params_clean = self.train_params\n",
    "\n",
    "        print(f\"Using {len(train_data)} valid training samples\")\n",
    "\n",
    "        # Train NLE\n",
    "        print(\"Training NLE for likelihood estimation...\")\n",
    "        from sbi.utils import BoxUniform\n",
    "\n",
    "        # Create prior from parameter bounds\n",
    "        min_vals = train_params_clean.min(axis=0)\n",
    "        max_vals = train_params_clean.max(axis=0)\n",
    "        prior = BoxUniform(\n",
    "            low=torch.tensor(min_vals, dtype=torch.float32),\n",
    "            high=torch.tensor(max_vals, dtype=torch.float32)\n",
    "        )\n",
    "\n",
    "        # Convert to tensors\n",
    "        theta_tensor = torch.tensor(train_params_clean, dtype=torch.float32)\n",
    "        x_tensor = torch.tensor(train_data, dtype=torch.float32)\n",
    "        x_obs_tensor = torch.tensor(test_obs, dtype=torch.float32).unsqueeze(0)\n",
    "\n",
    "        # Train NLE\n",
    "        trainer = NLE(prior, density_estimator=\"maf\")\n",
    "        trainer = trainer.append_simulations(theta_tensor, x_tensor)\n",
    "        likelihood_estimator = trainer.train(\n",
    "            max_num_epochs=200,\n",
    "            stop_after_epochs=20,\n",
    "            training_batch_size=50,\n",
    "            show_train_summary=True\n",
    "        )\n",
    "\n",
    "        # Set up MCMC\n",
    "        print(f\"\\nRunning MCMC with {n_chains} chains...\")\n",
    "        mcmc_parameters = dict(\n",
    "            num_chains=n_chains,\n",
    "            thin=thin,\n",
    "            warmup_steps=warmup_steps,\n",
    "            init_strategy=\"proposal\",\n",
    "            method=\"slice_np_vectorized\"\n",
    "        )\n",
    "\n",
    "        # Get potential function and parameter transform\n",
    "        potential_fn, parameter_transform = likelihood_estimator_based_potential(\n",
    "            likelihood_estimator, prior, x_obs_tensor\n",
    "        )\n",
    "\n",
    "        # Create MCMC posterior\n",
    "        mnle_posterior = MCMCPosterior(\n",
    "            potential_fn, \n",
    "            proposal=prior, \n",
    "            theta_transform=parameter_transform,\n",
    "            **mcmc_parameters\n",
    "        )\n",
    "\n",
    "        # Sample and get arviz InferenceData\n",
    "        mnle_samples = mnle_posterior.sample(\n",
    "            (n_samples,), \n",
    "            x=x_obs_tensor, \n",
    "            show_progress_bars=True\n",
    "        )\n",
    "\n",
    "        # Get arviz InferenceData object\n",
    "        inference_data = mnle_posterior.get_arviz_inference_data()\n",
    "\n",
    "        # Store for later use\n",
    "        self.mcmc_results = {\n",
    "            'inference_data': inference_data,\n",
    "            'samples': mnle_samples,\n",
    "            'posterior': mnle_posterior,\n",
    "            'method': method_key\n",
    "        }\n",
    "\n",
    "        # Create diagnostic plots\n",
    "        self._plot_mcmc_diagnostics(inference_data, method_key)\n",
    "\n",
    "        return inference_data\n",
    "    \n",
    "    def _plot_mcmc_diagnostics(self, inference_data, method_key: str):\n",
    "        \"\"\"Create comprehensive MCMC diagnostic plots using arviz.\"\"\"\n",
    "        try:\n",
    "            import arviz as az\n",
    "            az.style.use(\"arviz-darkgrid\")\n",
    "        except ImportError:\n",
    "            print(\"Cannot create plots without arviz\")\n",
    "            return\n",
    "\n",
    "        print(\"\\nGenerating MCMC diagnostic plots...\")\n",
    "\n",
    "        # 1. Rank plots\n",
    "        try:\n",
    "            axes = az.plot_rank(inference_data, var_names=[\"theta\"])\n",
    "            if axes is not None:\n",
    "                if isinstance(axes, np.ndarray):\n",
    "                    fig = axes.flat[0].get_figure()\n",
    "                else:\n",
    "                    fig = axes.get_figure()\n",
    "                fig.suptitle(f'Rank Plots - {method_key}', fontsize=14)\n",
    "                plt.show()\n",
    "        except Exception as e:\n",
    "            print(f\"Could not create rank plot: {e}\")\n",
    "\n",
    "        # 2. Trace plots\n",
    "        try:\n",
    "            axes = az.plot_trace(inference_data, var_names=[\"theta\"])\n",
    "            if axes is not None:\n",
    "                if isinstance(axes, np.ndarray):\n",
    "                    fig = axes.flat[0].get_figure()\n",
    "                else:\n",
    "                    fig = axes.get_figure()\n",
    "                fig.suptitle(f'Trace Plots - {method_key}', fontsize=14)\n",
    "                plt.show()\n",
    "        except Exception as e:\n",
    "            print(f\"Could not create trace plot: {e}\")\n",
    "\n",
    "        # 3. Posterior plots\n",
    "        try:\n",
    "            axes = az.plot_posterior(\n",
    "                inference_data, \n",
    "                var_names=[\"theta\"],\n",
    "                hdi_prob=0.95,\n",
    "                point_estimate=\"mean\"\n",
    "            )\n",
    "            if axes is not None:\n",
    "                if isinstance(axes, np.ndarray):\n",
    "                    fig = axes.flat[0].get_figure()\n",
    "                else:\n",
    "                    fig = axes.get_figure()\n",
    "                fig.suptitle(f'Posterior Distributions - {method_key}', fontsize=14)\n",
    "                plt.show()\n",
    "        except Exception as e:\n",
    "            print(f\"Could not create posterior plot: {e}\")\n",
    "\n",
    "        # 4. Autocorrelation plots\n",
    "        try:\n",
    "            axes = az.plot_autocorr(inference_data, var_names=[\"theta\"])\n",
    "            if axes is not None:\n",
    "                if isinstance(axes, np.ndarray):\n",
    "                    fig = axes.flat[0].get_figure()\n",
    "                else:\n",
    "                    fig = axes.get_figure()\n",
    "                fig.suptitle(f'Autocorrelation - {method_key}', fontsize=14)\n",
    "                plt.show()\n",
    "        except Exception as e:\n",
    "            print(f\"Could not create autocorrelation plot: {e}\")\n",
    "\n",
    "        # 5. Energy plot\n",
    "        try:\n",
    "            axes = az.plot_energy(inference_data)\n",
    "            if axes is not None:\n",
    "                if isinstance(axes, np.ndarray):\n",
    "                    fig = axes.flat[0].get_figure()\n",
    "                else:\n",
    "                    fig = axes.get_figure()\n",
    "                fig.suptitle(f'Energy Plot - {method_key}', fontsize=14)\n",
    "                plt.show()\n",
    "        except Exception as e:\n",
    "            print(f\"Energy plot not available: {e}\")\n",
    "\n",
    "        # 6. Print summary statistics\n",
    "        print(\"\\nMCMC Summary Statistics:\")\n",
    "        print(\"=\"*50)\n",
    "\n",
    "        try:\n",
    "            summary = az.summary(inference_data, var_names=[\"theta\"])\n",
    "\n",
    "            # Rename index for our parameters\n",
    "            if len(self.param_names) == summary.shape[0]:\n",
    "                summary.index = [f'theta[{i}] ({name})' for i, name in enumerate(self.param_names)]\n",
    "            print(summary)\n",
    "\n",
    "            # Check convergence criteria\n",
    "            print(\"\\nConvergence Diagnostics:\")\n",
    "            print(\"-\"*40)\n",
    "\n",
    "            # R-hat\n",
    "            if 'r_hat' in summary.columns:\n",
    "                r_hats = summary['r_hat'].values\n",
    "                for i, (param, r_hat) in enumerate(zip(self.param_names, r_hats)):\n",
    "                    if not np.isnan(r_hat):\n",
    "                        status = \"✅\" if r_hat < 1.01 else \"⚠️\"\n",
    "                        print(f\"{param}: R-hat = {r_hat:.3f} {status}\")\n",
    "                    else:\n",
    "                        print(f\"{param}: R-hat = NaN (single chain or insufficient samples)\")\n",
    "\n",
    "            # ESS\n",
    "            if 'ess_bulk' in summary.columns and 'ess_tail' in summary.columns:\n",
    "                ess_bulk = summary['ess_bulk'].values\n",
    "                ess_tail = summary['ess_tail'].values\n",
    "\n",
    "                try:\n",
    "                    n_chains = len(inference_data.posterior.chain) if hasattr(inference_data.posterior, 'chain') else 4\n",
    "                except:\n",
    "                    n_chains = 4\n",
    "\n",
    "                for i, param in enumerate(self.param_names):\n",
    "                    if not np.isnan(ess_bulk[i]) and not np.isnan(ess_tail[i]):\n",
    "                        bulk_ok = \"✅\" if ess_bulk[i] > 100 * n_chains else \"⚠️\"\n",
    "                        tail_ok = \"✅\" if ess_tail[i] > 100 * n_chains else \"⚠️\"\n",
    "                        print(f\"{param}: ESS_bulk = {ess_bulk[i]:.0f} {bulk_ok}, ESS_tail = {ess_tail[i]:.0f} {tail_ok}\")\n",
    "                    else:\n",
    "                        print(f\"{param}: ESS not available\")\n",
    "\n",
    "        except Exception as e:\n",
    "            print(f\"Could not generate summary statistics: {e}\")\n",
    "\n",
    "        # 7. Check for divergences\n",
    "        print(\"\\nDivergence Check:\")\n",
    "        print(\"-\"*40)\n",
    "\n",
    "        try:\n",
    "            divergences_found = False\n",
    "\n",
    "            if hasattr(inference_data, 'sample_stats'):\n",
    "                sample_stats = inference_data.sample_stats\n",
    "\n",
    "                if hasattr(sample_stats, 'diverging'):\n",
    "                    try:\n",
    "                        n_divergences = int(sample_stats.diverging.sum().values)\n",
    "                        divergences_found = True\n",
    "                        print(f\"Number of divergent transitions: {n_divergences}\")\n",
    "\n",
    "                        if n_divergences > 0:\n",
    "                            total_samples = sample_stats.diverging.size\n",
    "                            pct_divergent = 100 * n_divergences / total_samples\n",
    "                            print(f\"⚠️ Warning: {n_divergences}/{total_samples} ({pct_divergent:.1f}%) divergent transitions\")\n",
    "                        else:\n",
    "                            print(\"✅ No divergent transitions detected\")\n",
    "                    except Exception as e:\n",
    "                        print(f\"Could not process diverging data: {e}\")\n",
    "\n",
    "            if not divergences_found:\n",
    "                try:\n",
    "                    groups_list = inference_data.groups() if hasattr(inference_data, 'groups') else []\n",
    "\n",
    "                    if 'sample_stats' in groups_list:\n",
    "                        diverging = az.extract(inference_data, group=\"sample_stats\", var_names=[\"diverging\"])\n",
    "                        if diverging is not None:\n",
    "                            n_div = int(diverging.sum().values)\n",
    "                            print(f\"Number of divergent transitions: {n_div}\")\n",
    "                            divergences_found = True\n",
    "\n",
    "                            if n_div > 0:\n",
    "                                print(f\"⚠️ Warning: {n_div} divergent transitions detected\")\n",
    "                except:\n",
    "                    pass\n",
    "\n",
    "            if not divergences_found:\n",
    "                print(\"Divergence information not available for this sampler\")\n",
    "\n",
    "        except Exception as e:\n",
    "            print(f\"Could not check for divergences: {e}\")\n",
    "\n",
    "        print(\"\\n\" + \"=\"*50)\n",
    "        print(\"MCMC Diagnostics Complete\")\n",
    "        print(\"=\"*50)\n",
    "    \n",
    "    def generate_report(self):\n",
    "        \"\"\"Generate comprehensive summary report.\"\"\"\n",
    "        print(\"\\n\" + \"=\"*70)\n",
    "        print(f\"SBI CONVERGENCE TEST SUMMARY\")\n",
    "        print(f\"Methods tested: {', '.join(self.inference_methods)}\")\n",
    "        print(f\"Analysis types: {', '.join(self.analysis_methods)}\")\n",
    "        print(f\"Parameters constrained: {', '.join(self.param_names)}\")\n",
    "        print(\"=\"*70)\n",
    "        \n",
    "        for method_key in self.lim.results:\n",
    "            if \"error\" not in self.lim.results[method_key]:\n",
    "                print(f\"\\n{method_key}:\")\n",
    "                print(\"-\"*40)\n",
    "                \n",
    "                result = self.lim.results[method_key]\n",
    "                if 'calibration_temp' in result:\n",
    "                    print(f\"Calibration:\")\n",
    "                    print(f\"  Temperature: {result['calibration_temp']:.3f}\")\n",
    "                \n",
    "                if hasattr(self, 'recovery_results') and method_key in self.recovery_results:\n",
    "                    rec = self.recovery_results[method_key]\n",
    "                    print(f\"Performance:\")\n",
    "                    print(f\"  RMSE: {rec['mean_rmse']:.4f}\")\n",
    "                    print(f\"  68% coverage: {rec['coverage_68_rate']:.1%}\")\n",
    "                    print(f\"  95% coverage: {rec['coverage_95_rate']:.1%}\")\n",
    "                    \n",
    "                    if rec['well_calibrated_68'] and rec['well_calibrated_95']:\n",
    "                        print(\"  ✅ Well calibrated\")\n",
    "                    else:\n",
    "                        print(\"  ⚠️ Needs adjustment\")\n",
    "    \n",
    "    def run_lc2st_diagnostic(self, n_cal: int = None, n_eval: int = 10000, \n",
    "                         n_trials: int = 100, alpha: float = 0.05):\n",
    "        \"\"\"\n",
    "        Run proper LC2ST diagnostics following SBI implementation.\n",
    "        \"\"\"\n",
    "        # Check dependencies\n",
    "        if not self.available_features.get('sbi.diagnostics.lc2st', False):\n",
    "            print(\"ERROR: sbi.diagnostics.lc2st not available\")\n",
    "            return None\n",
    "        \n",
    "        from sbi.diagnostics.lc2st import LC2ST\n",
    "\n",
    "        if n_cal is None:\n",
    "            n_cal = int(0.1 * self.n_train)\n",
    "\n",
    "        print(\"\\n\" + \"=\"*70)\n",
    "        print(\"LOCAL CLASSIFIER TWO-SAMPLE TEST (L-C2ST)\")\n",
    "        print(\"=\"*70)\n",
    "\n",
    "        results = {}\n",
    "\n",
    "        for method_key, result in self.lim.results.items():\n",
    "            if \"error\" in result:\n",
    "                continue\n",
    "\n",
    "            print(f\"\\n{method_key}:\")\n",
    "            print(\"-\"*50)\n",
    "\n",
    "            # Get calibration data\n",
    "            cal_indices = np.random.choice(self.n_train, n_cal, replace=False)\n",
    "            theta_cal = self.train_params[cal_indices]\n",
    "\n",
    "            if \"combined\" in method_key:\n",
    "                x_cal = np.concatenate([\n",
    "                    self.train_pk[cal_indices],\n",
    "                    self.train_pdf[cal_indices]\n",
    "                ], axis=1)\n",
    "            elif \"power\" in method_key:\n",
    "                x_cal = self.train_pk[cal_indices]\n",
    "            elif \"pdf\" in method_key:\n",
    "                x_cal = self.train_pdf[cal_indices]\n",
    "            else:\n",
    "                continue\n",
    "\n",
    "            # Sample from posterior for calibration data\n",
    "            post_samples_cal = []\n",
    "            for x in x_cal:\n",
    "                x_tensor = torch.tensor(x, dtype=torch.float32)\n",
    "                samples = result['posterior'].sample((1,), x=x_tensor)\n",
    "                post_samples_cal.append(samples.numpy()[0])\n",
    "            post_samples_cal = np.array(post_samples_cal)\n",
    "\n",
    "            # Convert to tensors for LC2ST\n",
    "            theta_cal_tensor = torch.tensor(theta_cal, dtype=torch.float32)\n",
    "            x_cal_tensor = torch.tensor(x_cal, dtype=torch.float32)\n",
    "            post_samples_cal_tensor = torch.tensor(post_samples_cal, dtype=torch.float32)\n",
    "\n",
    "            # Initialize LC2ST\n",
    "            lc2st = LC2ST(\n",
    "                thetas=theta_cal_tensor,\n",
    "                xs=x_cal_tensor,\n",
    "                posterior_samples=post_samples_cal_tensor,\n",
    "                classifier=\"mlp\",\n",
    "                num_ensemble=5\n",
    "            )\n",
    "\n",
    "            # Train under null hypothesis and on observed data\n",
    "            print(\"Training classifiers...\")\n",
    "            lc2st.train_under_null_hypothesis()\n",
    "            lc2st.train_on_observed_data()\n",
    "\n",
    "            # Test on specific observations\n",
    "            # FIXED: Removed unnecessary None check\n",
    "            test_idx = self.test_obs_idx\n",
    "\n",
    "            if \"combined\" in method_key:\n",
    "                x_test = np.concatenate([self.test_pk[test_idx], self.test_pdf[test_idx]])\n",
    "            elif \"power\" in method_key:\n",
    "                x_test = self.test_pk[test_idx]\n",
    "            else:\n",
    "                x_test = self.test_pdf[test_idx]\n",
    "\n",
    "            x_test_tensor = torch.tensor(x_test, dtype=torch.float32)\n",
    "\n",
    "            # Sample from posterior for test observation\n",
    "            post_samples_test = result['posterior'].sample((n_eval,), x=x_test_tensor)\n",
    "\n",
    "            # Compute diagnostics\n",
    "            p_value = lc2st.p_value(post_samples_test, x_test_tensor)\n",
    "            reject = lc2st.reject_test(post_samples_test, x_test_tensor, alpha=alpha)\n",
    "\n",
    "            # Get statistics for visualization\n",
    "            T_obs = lc2st.get_statistic_on_observed_data(post_samples_test, x_test_tensor)\n",
    "            T_null = lc2st.get_statistics_under_null_hypothesis(\n",
    "                post_samples_test, x_test_tensor\n",
    "            )\n",
    "\n",
    "            results[method_key] = {\n",
    "                'p_value': p_value,\n",
    "                'reject': reject,\n",
    "                'T_obs': T_obs,\n",
    "                'T_null': T_null,\n",
    "                'lc2st': lc2st\n",
    "            }\n",
    "\n",
    "            print(f\"p-value: {p_value:.4f}\")\n",
    "            print(f\"Reject H0 (at α={alpha}): {reject}\")\n",
    "\n",
    "            if reject:\n",
    "                print(\"⚠️ Significant discrepancy detected between true and estimated posterior\")\n",
    "            else:\n",
    "                print(\"✅ No significant discrepancy detected\")\n",
    "\n",
    "        self.lc2st_results = results\n",
    "        return results\n",
    "\n",
    "    def plot_lc2st_diagnostics(self):\n",
    "        \"\"\"Create comprehensive diagnostic plots for LC2ST results.\"\"\"\n",
    "        # Check dependencies\n",
    "        if not self.available_features.get('sbi.analysis', False):\n",
    "            print(\"ERROR: sbi.analysis not available for plotting\")\n",
    "            return\n",
    "        \n",
    "        from sbi.analysis.plot import pp_plot_lc2st, marginal_plot_with_probs_intensity\n",
    "        from sbi.utils.analysis_utils import get_probs_per_marginal\n",
    "\n",
    "        if not hasattr(self, 'lc2st_results'):\n",
    "            print(\"Run LC2ST diagnostic first\")\n",
    "            return\n",
    "\n",
    "        for method_key, result in self.lc2st_results.items():\n",
    "            # FIXED: Use constrained_layout\n",
    "            fig = plt.figure(figsize=(18, 12), constrained_layout=True)\n",
    "\n",
    "            # Get test observation\n",
    "            test_idx = self.test_obs_idx\n",
    "\n",
    "            # Prepare test observation\n",
    "            if \"combined\" in method_key:\n",
    "                x_test = np.concatenate([self.test_pk[test_idx], self.test_pdf[test_idx]])\n",
    "            elif \"power\" in method_key:\n",
    "                x_test = self.test_pk[test_idx]\n",
    "            else:\n",
    "                x_test = self.test_pdf[test_idx]\n",
    "\n",
    "            x_test_tensor = torch.tensor(x_test, dtype=torch.float32)\n",
    "            lc2st = result['lc2st']\n",
    "\n",
    "            # Get posterior samples for visualization\n",
    "            post_samples = self.lim.results[method_key]['posterior'].sample(\n",
    "                (1000,), x=x_test_tensor\n",
    "            )\n",
    "\n",
    "            # 1. Test Statistic Distribution\n",
    "            ax1 = plt.subplot(3, 3, 1)\n",
    "            T_null = result['T_null']\n",
    "            T_obs = result['T_obs']\n",
    "\n",
    "            quantiles = np.quantile(T_null, [0.025, 0.975])\n",
    "            ax1.hist(T_null, bins=50, density=True, alpha=0.5, label=\"Null\")\n",
    "            ax1.axvline(T_obs, color=\"red\", label=\"Observed\", linewidth=2)\n",
    "            ax1.axvline(quantiles[0], color=\"black\", linestyle=\"--\", label=\"95% CI\")\n",
    "            ax1.axvline(quantiles[1], color=\"black\", linestyle=\"--\")\n",
    "            ax1.set_xlabel(\"Test statistic\")\n",
    "            ax1.set_ylabel(\"Density\")\n",
    "            ax1.set_xlim(-0.01, max(0.25, T_obs*1.2))\n",
    "            ax1.set_title(f\"Test Statistic\\np-value = {result['p_value']:.3f}, reject = {result['reject']}\")\n",
    "            ax1.legend(fontsize=8)\n",
    "\n",
    "            # 2. P-P Plot\n",
    "            ax2 = plt.subplot(3, 3, 2)\n",
    "\n",
    "            probs_obs, _ = lc2st.get_scores(\n",
    "                theta_o=post_samples,\n",
    "                x_o=x_test_tensor,\n",
    "                return_probs=True,\n",
    "                trained_clfs=lc2st.trained_clfs\n",
    "            )\n",
    "\n",
    "            probs_null, _ = lc2st.get_statistics_under_null_hypothesis(\n",
    "                theta_o=post_samples,\n",
    "                x_o=x_test_tensor,\n",
    "                return_probs=True\n",
    "            )\n",
    "\n",
    "            pp_plot_lc2st(\n",
    "                probs=[probs_obs],\n",
    "                probs_null=probs_null,\n",
    "                conf_alpha=0.05,\n",
    "                labels=[\"Observed\"],\n",
    "                colors=[\"red\"],\n",
    "                ax=ax2\n",
    "            )\n",
    "            ax2.set_title('P-P Plot\\n(Confidence Assessment)')\n",
    "\n",
    "            # 3. Probability Heatmaps\n",
    "            dict_probs_marginals = get_probs_per_marginal(\n",
    "                probs_obs[0],\n",
    "                post_samples.numpy()\n",
    "            )\n",
    "\n",
    "            # 2D heatmap (if 2 parameters)\n",
    "            if len(self.param_names) >= 2:\n",
    "                ax3 = plt.subplot(3, 3, 3)\n",
    "                marginal_plot_with_probs_intensity(\n",
    "                    dict_probs_marginals['0_1'],\n",
    "                    marginal_dim=2,\n",
    "                    ax=ax3,\n",
    "                    n_bins=50,\n",
    "                    label=\"Classifier Prob\"\n",
    "                )\n",
    "                ax3.set_xlabel(self.param_labels[self.param_names[0]])\n",
    "                ax3.set_ylabel(self.param_labels[self.param_names[1]])\n",
    "                ax3.set_title('2D Probability Heatmap')\n",
    "\n",
    "                # Add true value\n",
    "                true_params = self.test_params[test_idx]\n",
    "                ax3.scatter(true_params[0], true_params[1], \n",
    "                           color='red', s=100, marker='*', \n",
    "                           label='True', zorder=5)\n",
    "                ax3.legend(fontsize=8)\n",
    "\n",
    "            # Marginal 1 heatmap\n",
    "            ax4 = plt.subplot(3, 3, 4)\n",
    "            marginal_plot_with_probs_intensity(\n",
    "                dict_probs_marginals['0'],\n",
    "                marginal_dim=1,\n",
    "                ax=ax4,\n",
    "                n_bins=50,\n",
    "                label=\"Classifier Prob\"\n",
    "            )\n",
    "            ax4.set_xlabel(self.param_labels[self.param_names[0]])\n",
    "            ax4.set_title(f'{self.param_names[0]} Marginal')\n",
    "            ax4.axvline(self.test_params[test_idx][0], \n",
    "                       color='red', linestyle='--', label='True')\n",
    "            ax4.legend(fontsize=8)\n",
    "\n",
    "            # Marginal 2 heatmap\n",
    "            if len(self.param_names) > 1:\n",
    "                ax5 = plt.subplot(3, 3, 5)\n",
    "                marginal_plot_with_probs_intensity(\n",
    "                    dict_probs_marginals['1'],\n",
    "                    marginal_dim=1,\n",
    "                    ax=ax5,\n",
    "                    n_bins=50,\n",
    "                    label=\"Classifier Prob\"\n",
    "                )\n",
    "                ax5.set_xlabel(self.param_labels[self.param_names[1]])\n",
    "                ax5.set_title(f'{self.param_names[1]} Marginal')\n",
    "                ax5.axvline(self.test_params[test_idx][1], \n",
    "                           color='red', linestyle='--', label='True')\n",
    "                ax5.legend(fontsize=8)\n",
    "\n",
    "            # 4. Summary statistics box\n",
    "            ax6 = plt.subplot(3, 3, 6)\n",
    "            ax6.axis('off')\n",
    "\n",
    "            summary_text = f\"LC2ST Summary for {method_key}\\n\\n\"\n",
    "            summary_text += f\"Test observation index: {test_idx}\\n\"\n",
    "            summary_text += f\"True params: \"\n",
    "            for i, name in enumerate(self.param_names[:2]):\n",
    "                summary_text += f\"{name}={self.test_params[test_idx][i]:.3f}\"\n",
    "                if i < min(1, len(self.param_names)-1):\n",
    "                    summary_text += \", \"\n",
    "            summary_text += f\"\\n\\np-value: {result['p_value']:.4f}\\n\"\n",
    "            summary_text += f\"Reject H0 (α=0.05): {result['reject']}\\n\\n\"\n",
    "\n",
    "            # Interpret probabilities\n",
    "            mean_prob = np.mean(probs_obs[0])\n",
    "            if mean_prob > 0.55:\n",
    "                summary_text += \"⚠️ Overconfident posterior\\n(high classifier confidence)\"\n",
    "            elif mean_prob < 0.45:\n",
    "                summary_text += \"⚠️ Underconfident posterior\\n(low classifier confidence)\"\n",
    "            else:\n",
    "                summary_text += \"✓ Well-calibrated confidence\"\n",
    "\n",
    "            ax6.text(0.1, 0.5, summary_text, transform=ax6.transAxes,\n",
    "                    fontsize=11, va='center',\n",
    "                    bbox=dict(boxstyle='round', facecolor='wheat', alpha=0.5))\n",
    "\n",
    "            # 5. Probability distribution\n",
    "            ax7 = plt.subplot(3, 3, 7)\n",
    "            ax7.hist(probs_obs[0], bins=30, density=True, alpha=0.7, color='blue')\n",
    "            ax7.axvline(0.5, color='red', linestyle='--', label='Ideal (0.5)')\n",
    "            ax7.set_xlabel('Classifier Probability')\n",
    "            ax7.set_ylabel('Density')\n",
    "            ax7.set_title('Distribution of Classifier Probabilities')\n",
    "            ax7.legend()\n",
    "\n",
    "            plt.suptitle(f'LC2ST Complete Diagnostics - {method_key}', fontsize=14)\n",
    "            plt.show()\n",
    "    \n",
    "    def run_posterior_predictive_check(self, n_posterior_samples: int = 5000, add_noise: bool = False, noise_scale: float = 0.01):\n",
    "        \"\"\"\n",
    "        Run Posterior Predictive Check to verify if the inference is consistent.\n",
    "        \n",
    "        Parameters:\n",
    "        -----------\n",
    "        n_posterior_samples : int\n",
    "            Number of samples to draw from posterior\n",
    "        add_noise : bool\n",
    "            Whether to add noise to synthetic observations (FIXED: Now configurable)\n",
    "        noise_scale : float\n",
    "            Scale of noise relative to std dev (default 0.01 = 1%)\n",
    "        \"\"\"\n",
    "        print(\"\\n\" + \"=\"*70)\n",
    "        print(\"POSTERIOR PREDICTIVE CHECK (PPC)\")\n",
    "        print(\"=\"*70)\n",
    "\n",
    "        if not self.models_trained:\n",
    "            print(\"No trained models to check\")\n",
    "            return None\n",
    "\n",
    "        ppc_results = {}\n",
    "\n",
    "        for method_key, result in self.lim.results.items():\n",
    "            if \"error\" in result:\n",
    "                continue\n",
    "\n",
    "            print(f\"\\n{method_key}:\")\n",
    "            print(\"-\"*50)\n",
    "\n",
    "            # Standardized test index usage\n",
    "            test_idx = self.test_obs_idx\n",
    "\n",
    "            # Get observation data\n",
    "            if \"combined\" in method_key:\n",
    "                x_obs = np.concatenate([self.test_pk[test_idx], self.test_pdf[test_idx]])\n",
    "            elif \"power\" in method_key:\n",
    "                x_obs = self.test_pk[test_idx]\n",
    "            elif \"pdf\" in method_key:\n",
    "                x_obs = self.test_pdf[test_idx]\n",
    "            else:\n",
    "                continue\n",
    "\n",
    "            x_obs_tensor = torch.tensor(x_obs, dtype=torch.float32)\n",
    "\n",
    "            # Sample from posterior\n",
    "            print(f\"Sampling {n_posterior_samples} from posterior...\")\n",
    "            posterior_samples = result['posterior'].sample(\n",
    "                (n_posterior_samples,), x=x_obs_tensor\n",
    "            ).numpy()\n",
    "\n",
    "            # Generate synthetic observations using posterior samples\n",
    "            print(\"Generating synthetic observations from posterior samples...\")\n",
    "            x_pp = self._simulate_from_parameters(\n",
    "                posterior_samples, method_key, n_samples=min(1000, n_posterior_samples),\n",
    "                add_noise=add_noise, noise_scale=noise_scale\n",
    "            )\n",
    "\n",
    "            # Compute statistics for comparison\n",
    "            ppc_stats = self._compute_ppc_statistics(x_obs, x_pp)\n",
    "\n",
    "            ppc_results[method_key] = {\n",
    "                'posterior_samples': posterior_samples,\n",
    "                'x_observed': x_obs,\n",
    "                'x_predictive': x_pp,\n",
    "                'statistics': ppc_stats,\n",
    "                'true_params': self.test_params[test_idx]\n",
    "            }\n",
    "\n",
    "            # Print results\n",
    "            print(f\"PPC Statistics:\")\n",
    "            print(f\"  Observation within support: {ppc_stats['obs_in_support']}\")\n",
    "            print(f\"  Percentile of obs in predictive: {ppc_stats['obs_percentile']:.1f}%\")\n",
    "            print(f\"  KS test p-value: {ppc_stats['ks_pvalue']:.4f}\")\n",
    "\n",
    "            if ppc_stats['obs_in_support']:\n",
    "                print(\"✅ Observation falls within posterior predictive distribution\")\n",
    "            else:\n",
    "                print(\"⚠️ Observation outside typical posterior predictive range\")\n",
    "\n",
    "        self.ppc_results = ppc_results\n",
    "        return ppc_results\n",
    "\n",
    "    def _simulate_from_parameters(self, parameters, method_key, n_samples=1000, add_noise=False, noise_scale=0.01):\n",
    "        \"\"\"\n",
    "        Simulate observations from given parameters.\n",
    "        \n",
    "        FIXED: Added configurable noise addition\n",
    "        \"\"\"\n",
    "        from scipy.spatial import KDTree\n",
    "\n",
    "        # Build KDTree from training parameters\n",
    "        kdtree = KDTree(self.train_params)\n",
    "\n",
    "        # Find closest training simulations for each posterior sample\n",
    "        synthetic_obs = []\n",
    "        for i in range(min(n_samples, len(parameters))):\n",
    "            # Find nearest neighbor in training set\n",
    "            _, idx = kdtree.query(parameters[i])\n",
    "\n",
    "            # Get corresponding observation\n",
    "            if \"combined\" in method_key:\n",
    "                obs = np.concatenate([self.train_pk[idx], self.train_pdf[idx]])\n",
    "            elif \"power\" in method_key:\n",
    "                obs = self.train_pk[idx]\n",
    "            elif \"pdf\" in method_key:\n",
    "                obs = self.train_pdf[idx]\n",
    "            else:\n",
    "                continue\n",
    "\n",
    "            # FIXED: Made noise addition configurable\n",
    "            if add_noise:\n",
    "                obs = obs + np.random.normal(0, noise_scale * np.std(obs), obs.shape)\n",
    "            \n",
    "            synthetic_obs.append(obs)\n",
    "\n",
    "        return np.array(synthetic_obs)\n",
    "\n",
    "    def _compute_ppc_statistics(self, x_obs, x_pp):\n",
    "        \"\"\"Compute statistics comparing observed and predictive data.\"\"\"\n",
    "        from scipy import stats\n",
    "\n",
    "        # Check if observation is within support of predictive distribution\n",
    "        percentiles = []\n",
    "        for i in range(len(x_obs)):\n",
    "            percentile = stats.percentileofscore(x_pp[:, i], x_obs[i])\n",
    "            percentiles.append(percentile)\n",
    "\n",
    "        mean_percentile = np.mean(percentiles)\n",
    "\n",
    "        # KS test for each dimension\n",
    "        ks_pvalues = []\n",
    "        for i in range(min(10, len(x_obs))):\n",
    "            _, pval = stats.ks_2samp(x_pp[:, i], \n",
    "                                      np.repeat(x_obs[i], len(x_pp)))\n",
    "            ks_pvalues.append(pval)\n",
    "\n",
    "        return {\n",
    "            'obs_in_support': 5 < mean_percentile < 95,\n",
    "            'obs_percentile': mean_percentile,\n",
    "            'ks_pvalue': np.mean(ks_pvalues),\n",
    "            'dimension_percentiles': percentiles[:10]\n",
    "        }\n",
    "\n",
    "    def plot_ppc(self):\n",
    "        \"\"\"Create visualization for Posterior Predictive Check.\"\"\"\n",
    "        # Check dependencies\n",
    "        if not self.available_features.get('sbi.analysis', False):\n",
    "            print(\"ERROR: sbi.analysis not available for pairplot\")\n",
    "            return\n",
    "        \n",
    "        from sbi.analysis import pairplot\n",
    "\n",
    "        if not hasattr(self, 'ppc_results'):\n",
    "            print(\"Run PPC first\")\n",
    "            return\n",
    "\n",
    "        for method_key, result in self.ppc_results.items():\n",
    "            x_obs = result['x_observed']\n",
    "            x_pp = result['x_predictive']\n",
    "\n",
    "            # For high-dimensional data, plot first few dimensions\n",
    "            n_dims_to_plot = min(5, x_obs.shape[0])\n",
    "\n",
    "            # Reshape x_obs to be 2D if it's 1D\n",
    "            if x_obs.ndim == 1:\n",
    "                x_obs_reshaped = x_obs.reshape(1, -1)\n",
    "            else:\n",
    "                x_obs_reshaped = x_obs\n",
    "\n",
    "            # Create pairplot\n",
    "            fig = pairplot(\n",
    "                samples=torch.tensor(x_pp[:, :n_dims_to_plot], dtype=torch.float32),\n",
    "                points=torch.tensor(x_obs_reshaped[:, :n_dims_to_plot], dtype=torch.float32),\n",
    "                limits=None,\n",
    "                figsize=(10, 10),\n",
    "                upper=\"scatter\",\n",
    "                diag=\"kde\",\n",
    "                fig_kwargs=dict(\n",
    "                    points_offdiag=dict(marker=\"+\", markersize=20),\n",
    "                    points_colors=\"red\",\n",
    "                ),\n",
    "                labels=[f\"$x_{{{d}}}$\" for d in range(n_dims_to_plot)],\n",
    "            )\n",
    "\n",
    "            plt.suptitle(f'Posterior Predictive Check - {method_key}\\n'\n",
    "                        f'Red + shows observed data', fontsize=14)\n",
    "            plt.tight_layout()\n",
    "            plt.show()\n",
    "\n",
    "            # Additional summary plot\n",
    "            # FIXED: Use constrained_layout\n",
    "            fig, axes = plt.subplots(1, 2, figsize=(12, 5), constrained_layout=True)\n",
    "\n",
    "            # Plot 1: Percentiles\n",
    "            ax = axes[0]\n",
    "            percentiles = result['statistics']['dimension_percentiles']\n",
    "            ax.hist(percentiles, bins=20, alpha=0.7, edgecolor='black')\n",
    "            ax.axvline(50, color='red', linestyle='--', label='Ideal (50%)')\n",
    "            ax.axvspan(5, 95, alpha=0.2, color='green', label='Expected range')\n",
    "            ax.set_xlabel('Percentile of observed in predictive')\n",
    "            ax.set_ylabel('Count (dimensions)')\n",
    "            ax.set_title('Distribution of Observation Percentiles')\n",
    "            ax.legend()\n",
    "\n",
    "            # Plot 2: Summary\n",
    "            ax = axes[1]\n",
    "            ax.axis('off')\n",
    "\n",
    "            stats = result['statistics']\n",
    "            summary_text = f\"PPC Summary for {method_key}\\n\\n\"\n",
    "            summary_text += f\"Mean percentile: {stats['obs_percentile']:.1f}%\\n\"\n",
    "            summary_text += f\"Within support: {stats['obs_in_support']}\\n\"\n",
    "            summary_text += f\"KS p-value: {stats['ks_pvalue']:.4f}\\n\\n\"\n",
    "\n",
    "            if stats['obs_in_support']:\n",
    "                summary_text += \"✅ PPC PASSED\\nObservation consistent with posterior\"\n",
    "            else:\n",
    "                summary_text += \"⚠️ PPC WARNING\\nObservation may be inconsistent\"\n",
    "\n",
    "            ax.text(0.5, 0.5, summary_text, transform=ax.transAxes,\n",
    "                   fontsize=12, ha='center', va='center',\n",
    "                   bbox=dict(boxstyle='round', facecolor='wheat', alpha=0.5))\n",
    "\n",
    "            plt.suptitle(f'PPC Diagnostics - {method_key}', fontsize=14)\n",
    "            plt.show()\n",
    "    \n",
    "    def analyze_conditional_distributions(self, n_conditions: int = 5):\n",
    "        \"\"\"\n",
    "        Analyze conditional distributions to identify parameter compensation mechanisms.\n",
    "        \"\"\"\n",
    "        # Check dependencies\n",
    "        if not self.available_features.get('sbi.analysis', False):\n",
    "            print(\"ERROR: sbi.analysis not available\")\n",
    "            return None\n",
    "        \n",
    "        from sbi.analysis import conditional_corrcoeff, conditional_pairplot\n",
    "\n",
    "        print(\"\\n\" + \"=\"*70)\n",
    "        print(\"CONDITIONAL DISTRIBUTION ANALYSIS\")\n",
    "        print(\"=\"*70)\n",
    "\n",
    "        if not self.models_trained:\n",
    "            print(\"No trained models to analyze\")\n",
    "            return None\n",
    "\n",
    "        cond_results = {}\n",
    "\n",
    "        for method_key, result in self.lim.results.items():\n",
    "            if \"error\" in result:\n",
    "                continue\n",
    "\n",
    "            print(f\"\\n{method_key}:\")\n",
    "            print(\"-\"*50)\n",
    "\n",
    "            # Standardized test index usage\n",
    "            test_idx = self.test_obs_idx\n",
    "\n",
    "            if \"combined\" in method_key:\n",
    "                x_obs = np.concatenate([self.test_pk[test_idx], self.test_pdf[test_idx]])\n",
    "            elif \"power\" in method_key:\n",
    "                x_obs = self.test_pk[test_idx]\n",
    "            elif \"pdf\" in method_key:\n",
    "                x_obs = self.test_pdf[test_idx]\n",
    "            else:\n",
    "                continue\n",
    "\n",
    "            x_obs_tensor = torch.tensor(x_obs, dtype=torch.float32)\n",
    "\n",
    "            # Set observation for posterior\n",
    "            posterior = result['posterior']\n",
    "            posterior.set_default_x(x_obs_tensor)\n",
    "\n",
    "            # Sample conditions from posterior\n",
    "            conditions = posterior.sample((n_conditions,))\n",
    "\n",
    "            # Calculate conditional correlation matrices\n",
    "            print(f\"Computing conditional correlations at {n_conditions} conditions...\")\n",
    "\n",
    "            # Define parameter limits from prior\n",
    "            param_limits = []\n",
    "            for i, name in enumerate(self.param_names):\n",
    "                param_min = self.params_array[:, i].min()\n",
    "                param_max = self.params_array[:, i].max()\n",
    "                param_limits.append([param_min, param_max])\n",
    "            param_limits = torch.tensor(param_limits)\n",
    "\n",
    "            # Compute correlation matrices for each condition\n",
    "            cond_corr_matrices = []\n",
    "            for i, condition in enumerate(conditions):\n",
    "                try:\n",
    "                    cond_corr = conditional_corrcoeff(\n",
    "                        density=posterior,\n",
    "                        condition=condition.unsqueeze(0),\n",
    "                        limits=param_limits\n",
    "                    )\n",
    "                    cond_corr_matrices.append(cond_corr)\n",
    "                except Exception as e:\n",
    "                    print(f\"  Warning: Could not compute conditional correlation for condition {i}: {e}\")\n",
    "\n",
    "            if cond_corr_matrices:\n",
    "                # Average correlation matrix\n",
    "                avg_cond_corr = np.mean(cond_corr_matrices, axis=0)\n",
    "\n",
    "                # Marginal correlation from samples\n",
    "                samples = posterior.sample((5000,)).numpy()\n",
    "                marginal_corr = np.corrcoef(samples.T)\n",
    "\n",
    "                cond_results[method_key] = {\n",
    "                    'conditions': conditions,\n",
    "                    'cond_corr_matrices': cond_corr_matrices,\n",
    "                    'avg_cond_corr': avg_cond_corr,\n",
    "                    'marginal_corr': marginal_corr,\n",
    "                    'param_limits': param_limits\n",
    "                }\n",
    "\n",
    "                # Print summary\n",
    "                print(\"\\nCorrelation Analysis:\")\n",
    "                print(f\"  Marginal correlations:\")\n",
    "                for i in range(len(self.param_names)):\n",
    "                    for j in range(i+1, len(self.param_names)):\n",
    "                        print(f\"    {self.param_names[i]}-{self.param_names[j]}: \"\n",
    "                              f\"{marginal_corr[i,j]:.3f}\")\n",
    "\n",
    "                print(f\"  Average conditional correlations:\")\n",
    "                for i in range(len(self.param_names)):\n",
    "                    for j in range(i+1, len(self.param_names)):\n",
    "                        print(f\"    {self.param_names[i]}-{self.param_names[j]}: \"\n",
    "                              f\"{avg_cond_corr[i,j]:.3f}\")\n",
    "\n",
    "                # Check for compensation mechanisms\n",
    "                compensation_pairs = []\n",
    "                for i in range(len(self.param_names)):\n",
    "                    for j in range(i+1, len(self.param_names)):\n",
    "                        if abs(avg_cond_corr[i,j]) > 0.7:\n",
    "                            compensation_pairs.append((self.param_names[i], self.param_names[j]))\n",
    "\n",
    "                if compensation_pairs:\n",
    "                    print(\"\\n⚠️ Potential compensation mechanisms detected:\")\n",
    "                    for p1, p2 in compensation_pairs:\n",
    "                        print(f\"    {p1} ↔ {p2}\")\n",
    "                else:\n",
    "                    print(\"\\n✓ No strong compensation mechanisms detected\")\n",
    "\n",
    "        self.cond_results = cond_results\n",
    "        return cond_results\n",
    "\n",
    "    def plot_conditional_analysis(self):\n",
    "        \"\"\"Create visualizations for conditional distribution analysis.\"\"\"\n",
    "        # Check dependencies\n",
    "        if not self.available_features.get('sbi.analysis', False):\n",
    "            print(\"ERROR: sbi.analysis not available\")\n",
    "            return\n",
    "        \n",
    "        from sbi.analysis import conditional_pairplot\n",
    "\n",
    "        if not hasattr(self, 'cond_results'):\n",
    "            print(\"Run conditional analysis first\")\n",
    "            return\n",
    "\n",
    "        for method_key, result in self.cond_results.items():\n",
    "            # Plot 1: Compare marginal vs conditional correlations\n",
    "            # FIXED: Use constrained_layout\n",
    "            fig, axes = plt.subplots(1, 2, figsize=(12, 5), constrained_layout=True)\n",
    "\n",
    "            # Marginal correlation\n",
    "            ax = axes[0]\n",
    "            im1 = ax.imshow(result['marginal_corr'], clim=[-1, 1], cmap='PiYG')\n",
    "            ax.set_title('Marginal Correlations')\n",
    "            ax.set_xticks(range(len(self.param_names)))\n",
    "            ax.set_yticks(range(len(self.param_names)))\n",
    "            ax.set_xticklabels(self.param_names)\n",
    "            ax.set_yticklabels(self.param_names)\n",
    "            plt.colorbar(im1, ax=ax)\n",
    "\n",
    "            # Add correlation values\n",
    "            for i in range(len(self.param_names)):\n",
    "                for j in range(len(self.param_names)):\n",
    "                    text = ax.text(j, i, f'{result[\"marginal_corr\"][i, j]:.2f}',\n",
    "                                 ha=\"center\", va=\"center\", color=\"black\", fontsize=10)\n",
    "\n",
    "            # Average conditional correlation\n",
    "            ax = axes[1]\n",
    "            im2 = ax.imshow(result['avg_cond_corr'], clim=[-1, 1], cmap='PiYG')\n",
    "            ax.set_title('Average Conditional Correlations')\n",
    "            ax.set_xticks(range(len(self.param_names)))\n",
    "            ax.set_yticks(range(len(self.param_names)))\n",
    "            ax.set_xticklabels(self.param_names)\n",
    "            ax.set_yticklabels(self.param_names)\n",
    "            plt.colorbar(im2, ax=ax)\n",
    "\n",
    "            # Add correlation values\n",
    "            for i in range(len(self.param_names)):\n",
    "                for j in range(len(self.param_names)):\n",
    "                    text = ax.text(j, i, f'{result[\"avg_cond_corr\"][i, j]:.2f}',\n",
    "                                 ha=\"center\", va=\"center\", color=\"black\", fontsize=10)\n",
    "\n",
    "            plt.suptitle(f'Correlation Analysis - {method_key}', fontsize=14)\n",
    "            plt.show()\n",
    "\n",
    "            # Plot 2: Conditional pairplot at first condition\n",
    "            print(f\"\\nConditional pairplot for {method_key}:\")\n",
    "\n",
    "            # Get posterior and set observation\n",
    "            posterior = self.lim.results[method_key]['posterior']\n",
    "            test_idx = self.test_obs_idx\n",
    "\n",
    "            if \"combined\" in method_key:\n",
    "                x_obs = np.concatenate([self.test_pk[test_idx], self.test_pdf[test_idx]])\n",
    "            elif \"power\" in method_key:\n",
    "                x_obs = self.test_pk[test_idx]\n",
    "            else:\n",
    "                x_obs = self.test_pdf[test_idx]\n",
    "\n",
    "            x_obs_tensor = torch.tensor(x_obs, dtype=torch.float32)\n",
    "            posterior.set_default_x(x_obs_tensor)\n",
    "\n",
    "            # Plot conditional distributions\n",
    "            try:\n",
    "                _ = conditional_pairplot(\n",
    "                    density=posterior,\n",
    "                    condition=result['conditions'][0].unsqueeze(0),\n",
    "                    limits=result['param_limits'],\n",
    "                    figsize=(8, 8)\n",
    "                )\n",
    "                plt.suptitle(f'Conditional Distributions - {method_key}', fontsize=14)\n",
    "                plt.show()\n",
    "            except Exception as e:\n",
    "                print(f\"Could not create conditional pairplot: {e}\")\n",
    "    \n",
    "    def run_active_subspace_analysis(self, n_samples: int = 5000):\n",
    "        \"\"\"\n",
    "        Perform active subspace analysis to identify sensitive parameter directions.\n",
    "        \n",
    "        FIXED: Added eigenvalue ordering verification\n",
    "        \"\"\"\n",
    "        # Check dependencies\n",
    "        if not self.available_features.get('sbi.analysis', False):\n",
    "            print(\"ERROR: sbi.analysis not available\")\n",
    "            return None\n",
    "        \n",
    "        from sbi.analysis import ActiveSubspace\n",
    "\n",
    "        print(\"\\n\" + \"=\"*70)\n",
    "        print(\"ACTIVE SUBSPACE SENSITIVITY ANALYSIS\")\n",
    "        print(\"=\"*70)\n",
    "\n",
    "        if not self.models_trained:\n",
    "            print(\"No trained models to analyze\")\n",
    "            return None\n",
    "\n",
    "        active_results = {}\n",
    "\n",
    "        for method_key, result in self.lim.results.items():\n",
    "            if \"error\" in result:\n",
    "                continue\n",
    "\n",
    "            print(f\"\\n{method_key}:\")\n",
    "            print(\"-\"*50)\n",
    "\n",
    "            # Standardized test index usage\n",
    "            test_idx = self.test_obs_idx\n",
    "\n",
    "            if \"combined\" in method_key:\n",
    "                x_obs = np.concatenate([self.test_pk[test_idx], self.test_pdf[test_idx]])\n",
    "            elif \"power\" in method_key:\n",
    "                x_obs = self.test_pk[test_idx]\n",
    "            elif \"pdf\" in method_key:\n",
    "                x_obs = self.test_pdf[test_idx]\n",
    "            else:\n",
    "                continue\n",
    "\n",
    "            x_obs_tensor = torch.tensor(x_obs, dtype=torch.float32)\n",
    "\n",
    "            # Set observation for posterior\n",
    "            posterior = result['posterior']\n",
    "            posterior.set_default_x(x_obs_tensor)\n",
    "\n",
    "            # Initialize active subspace\n",
    "            sensitivity = ActiveSubspace(posterior)\n",
    "\n",
    "            # Find active directions\n",
    "            print(\"Computing active directions...\")\n",
    "            e_vals, e_vecs = sensitivity.find_directions(\n",
    "                posterior_log_prob_as_property=True,\n",
    "                num_monte_carlo_samples=1000\n",
    "            )\n",
    "\n",
    "            # Sample from posterior for projection\n",
    "            posterior_samples = posterior.sample((n_samples,))\n",
    "\n",
    "            # Project data onto active dimensions\n",
    "            projected_1d = sensitivity.project(posterior_samples, num_dimensions=1)\n",
    "\n",
    "            active_results[method_key] = {\n",
    "                'eigenvalues': e_vals.numpy(),\n",
    "                'eigenvectors': e_vecs.numpy(),\n",
    "                'posterior_samples': posterior_samples.numpy(),\n",
    "                'projected_1d': projected_1d.numpy(),\n",
    "                'sensitivity': sensitivity\n",
    "            }\n",
    "\n",
    "            # Analyze results\n",
    "            e_vals_np = e_vals.numpy()\n",
    "            print(f\"\\nEigenvalues (descending order): {e_vals_np}\")\n",
    "            print(f\"Eigenvectors:\\n{e_vecs.numpy()}\")\n",
    "\n",
    "            # FIXED: Verify eigenvalue ordering and interpret correctly\n",
    "            # Eigenvalues from sbi are typically in descending order\n",
    "            # Index 0 = largest (most sensitive), Index -1 = smallest (least sensitive)\n",
    "            if len(e_vals_np) > 1:\n",
    "                ratio = e_vals_np[0] / e_vals_np[-1] if e_vals_np[-1] > 0 else float('inf')\n",
    "                \n",
    "                if ratio > 10:\n",
    "                    print(f\"\\n⚠️ Strong sensitivity anisotropy (ratio: {ratio:.1f})\")\n",
    "                    print(f\"   Most sensitive direction (eigenvector 0): {e_vecs[0].numpy()}\")\n",
    "                    print(f\"   Least sensitive direction (eigenvector {len(e_vals_np)-1}): {e_vecs[-1].numpy()}\")\n",
    "                else:\n",
    "                    print(f\"\\n✓ Relatively isotropic sensitivity (ratio: {ratio:.1f})\")\n",
    "\n",
    "            # Map to parameter space - use largest eigenvalue direction\n",
    "            print(\"\\nParameter sensitivity interpretation (from most sensitive direction):\")\n",
    "            for i, param_name in enumerate(self.param_names):\n",
    "                contribution = np.abs(e_vecs[0, i].item())  # Most sensitive = index 0\n",
    "                if contribution > 0.7:\n",
    "                    print(f\"  {param_name}: HIGH sensitivity (contribution: {contribution:.2f})\")\n",
    "                elif contribution > 0.3:\n",
    "                    print(f\"  {param_name}: MEDIUM sensitivity (contribution: {contribution:.2f})\")\n",
    "                else:\n",
    "                    print(f\"  {param_name}: LOW sensitivity (contribution: {contribution:.2f})\")\n",
    "\n",
    "        self.active_results = active_results\n",
    "        return active_results\n",
    "    \n",
    "    def plot_active_subspace(self):\n",
    "        \"\"\"Visualize active subspace analysis results.\"\"\"\n",
    "\n",
    "        if not hasattr(self, 'active_results'):\n",
    "            print(\"Run active subspace analysis first\")\n",
    "            return\n",
    "\n",
    "        for method_key, result in self.active_results.items():\n",
    "            # FIXED: Use constrained_layout\n",
    "            fig, axes = plt.subplots(2, 2, figsize=(12, 10), constrained_layout=True)\n",
    "\n",
    "            # Plot 1: Eigenvalue spectrum\n",
    "            ax = axes[0, 0]\n",
    "            eigenvalues = result['eigenvalues']\n",
    "            ax.bar(range(len(eigenvalues)), eigenvalues)\n",
    "            ax.set_xlabel('Eigenvalue Index (0=largest)')\n",
    "            ax.set_ylabel('Eigenvalue')\n",
    "            ax.set_title('Eigenvalue Spectrum')\n",
    "            ax.set_yscale('log')\n",
    "\n",
    "            # Plot 2: Eigenvector components\n",
    "            ax = axes[0, 1]\n",
    "            eigenvectors = result['eigenvectors']\n",
    "            im = ax.imshow(eigenvectors.T, cmap='RdBu_r', aspect='auto', vmin=-1, vmax=1)\n",
    "            ax.set_xlabel('Eigenvector Index (0=most sensitive)')\n",
    "            ax.set_ylabel('Parameter')\n",
    "            ax.set_yticks(range(len(self.param_names)))\n",
    "            ax.set_yticklabels(self.param_names)\n",
    "            ax.set_title('Eigenvector Components')\n",
    "            plt.colorbar(im, ax=ax)\n",
    "\n",
    "            # Plot 3: 1D projection on most active direction\n",
    "            ax = axes[1, 0]\n",
    "            projected = result['projected_1d']\n",
    "            ax.hist(projected[:, 0], bins=50, alpha=0.7, edgecolor='black')\n",
    "            ax.set_xlabel('Projection on Most Active Direction')\n",
    "            ax.set_ylabel('Count')\n",
    "            ax.set_title('Distribution Along Most Sensitive Direction')\n",
    "\n",
    "            # Plot 4: Summary\n",
    "            ax = axes[1, 1]\n",
    "            ax.axis('off')\n",
    "\n",
    "            # FIXED: Corrected ratio calculation\n",
    "            ratio = eigenvalues[0] / eigenvalues[-1] if eigenvalues[-1] > 0 else float('inf')\n",
    "\n",
    "            summary_text = f\"Active Subspace Summary\\n\\n\"\n",
    "            summary_text += f\"Eigenvalue ratio (max/min): {ratio:.2f}\\n\"\n",
    "            summary_text += f\"Most sensitive direction:\\n\"\n",
    "\n",
    "            for i, param_name in enumerate(self.param_names):\n",
    "                contribution = eigenvectors[0, i]  # Most sensitive = index 0\n",
    "                summary_text += f\"  {param_name}: {contribution:+.3f}\\n\"\n",
    "\n",
    "            summary_text += f\"\\nInterpretation:\\n\"\n",
    "            if ratio > 10:\n",
    "                summary_text += \"Strong anisotropic sensitivity\\n\"\n",
    "                summary_text += \"System primarily sensitive along\\n\"\n",
    "                summary_text += \"one parameter combination\"\n",
    "            else:\n",
    "                summary_text += \"Relatively isotropic sensitivity\\n\"\n",
    "                summary_text += \"Similar sensitivity in all directions\"\n",
    "\n",
    "            ax.text(0.1, 0.5, summary_text, transform=ax.transAxes,\n",
    "                    fontsize=11, va='center',\n",
    "                    bbox=dict(boxstyle='round', facecolor='wheat', alpha=0.5))\n",
    "\n",
    "            plt.suptitle(f'Active Subspace Analysis - {method_key}', fontsize=14)\n",
    "            plt.show()\n",
    "    \n",
    "    def plot_parameter_effects(self, param_to_vary='sigma8', n_samples=10):\n",
    "        \"\"\"\n",
    "        Plot how PS and PDF change when varying one parameter while keeping others fixed.\n",
    "        \n",
    "        FIXED: Added robustness for edge cases\n",
    "        \"\"\"\n",
    "        if not self.data_loaded:\n",
    "            print(\"Load data first\")\n",
    "            return\n",
    "\n",
    "        import matplotlib.pyplot as plt\n",
    "        from matplotlib import cm\n",
    "\n",
    "        # Fix k_sim dimensionality issue\n",
    "        if len(self.k_sim.shape) > 1:\n",
    "            k_array = self.k_sim[0]\n",
    "        else:\n",
    "            k_array = self.k_sim\n",
    "\n",
    "        # Get parameter indices\n",
    "        try:\n",
    "            param_idx = self.param_names.index(param_to_vary)\n",
    "        except ValueError:\n",
    "            print(f\"ERROR: Parameter '{param_to_vary}' not in param_names: {self.param_names}\")\n",
    "            return\n",
    "        \n",
    "        # For more than 2 parameters, need to handle differently\n",
    "        if len(self.param_names) < 2:\n",
    "            print(\"ERROR: Need at least 2 parameters for this analysis\")\n",
    "            return\n",
    "        \n",
    "        # FIXED: Handle cases with > 2 parameters properly\n",
    "        if len(self.param_names) == 2:\n",
    "            other_idx = 1 - param_idx\n",
    "            other_param = self.param_names[other_idx]\n",
    "        else:\n",
    "            # For >2 params, fix all others at median\n",
    "            print(f\"Note: Fixing all parameters except '{param_to_vary}' at median values\")\n",
    "            other_param = \"all_others\"\n",
    "            \n",
    "        # Fix the other parameter(s) at median value\n",
    "        fixed_value = np.median(self.train_params[:, other_idx if len(self.param_names) == 2 else 0])\n",
    "\n",
    "        # Find samples where the other parameter(s) is/are close to fixed value\n",
    "        tolerance = 0.02\n",
    "        \n",
    "        if len(self.param_names) == 2:\n",
    "            mask = np.abs(self.train_params[:, other_idx] - fixed_value) < tolerance\n",
    "        else:\n",
    "            # For >2 params, require all others to be near median\n",
    "            mask = np.ones(len(self.train_params), dtype=bool)\n",
    "            for i in range(len(self.param_names)):\n",
    "                if i != param_idx:\n",
    "                    median_val = np.median(self.train_params[:, i])\n",
    "                    mask &= np.abs(self.train_params[:, i] - median_val) < tolerance\n",
    "                    \n",
    "        filtered_indices = np.where(mask)[0]\n",
    "\n",
    "        # FIXED: Add robust handling for insufficient samples\n",
    "        if len(filtered_indices) < n_samples:\n",
    "            print(f\"WARNING: Only {len(filtered_indices)} samples match filter (need {n_samples})\")\n",
    "            print(f\"Relaxing tolerance from {tolerance} to 0.05...\")\n",
    "            tolerance = 0.05\n",
    "            \n",
    "            if len(self.param_names) == 2:\n",
    "                mask = np.abs(self.train_params[:, other_idx] - fixed_value) < tolerance\n",
    "            else:\n",
    "                mask = np.ones(len(self.train_params), dtype=bool)\n",
    "                for i in range(len(self.param_names)):\n",
    "                    if i != param_idx:\n",
    "                        median_val = np.median(self.train_params[:, i])\n",
    "                        mask &= np.abs(self.train_params[:, i] - median_val) < tolerance\n",
    "            \n",
    "            filtered_indices = np.where(mask)[0]\n",
    "            \n",
    "            # Final check\n",
    "            if len(filtered_indices) < n_samples:\n",
    "                print(f\"ERROR: Still only {len(filtered_indices)} samples after relaxing tolerance\")\n",
    "                print(f\"Cannot generate plot with {n_samples} requested samples\")\n",
    "                print(f\"Try reducing n_samples or adjusting parameter selection\")\n",
    "                return\n",
    "\n",
    "        # Sort by the parameter we're varying\n",
    "        sorted_idx = filtered_indices[np.argsort(self.train_params[filtered_indices, param_idx])]\n",
    "\n",
    "        # Select evenly spaced samples\n",
    "        if len(sorted_idx) > n_samples:\n",
    "            step = len(sorted_idx) // n_samples\n",
    "            selected_idx = sorted_idx[::step][:n_samples]\n",
    "        else:\n",
    "            selected_idx = sorted_idx\n",
    "\n",
    "        # Create color map\n",
    "        param_values = self.train_params[selected_idx, param_idx]\n",
    "        norm = plt.Normalize(param_values.min(), param_values.max())\n",
    "        colors = cm.viridis(norm(param_values))\n",
    "\n",
    "        # Create figure - FIXED: Use constrained_layout\n",
    "        fig, axes = plt.subplots(2, 2, figsize=(14, 10), constrained_layout=True)\n",
    "\n",
    "        # Plot 1: Power Spectrum\n",
    "        ax = axes[0, 0]\n",
    "        for i, idx in enumerate(selected_idx):\n",
    "            param_val = self.train_params[idx, param_idx]\n",
    "            ax.loglog(k_array, self.pk_sim[idx], \n",
    "                      color=colors[i], alpha=0.7,\n",
    "                      label=f'{param_to_vary}={param_val:.3f}')\n",
    "        ax.set_xlabel('k [h/Mpc]')\n",
    "        ax.set_ylabel('P(k) [(Mpc/h)³]')\n",
    "        ax.set_title(f'Power Spectrum vs {param_to_vary}\\n({other_param} fixed)')\n",
    "        ax.grid(True, alpha=0.3)\n",
    "        if len(selected_idx) <= 5:\n",
    "            ax.legend(fontsize=8)\n",
    "\n",
    "        # Plot 2: PS ratio relative to median\n",
    "        ax = axes[0, 1]\n",
    "        median_idx = selected_idx[len(selected_idx)//2]\n",
    "        pk_reference = self.pk_sim[median_idx]\n",
    "        for i, idx in enumerate(selected_idx):\n",
    "            param_val = self.train_params[idx, param_idx]\n",
    "            ratio = self.pk_sim[idx] / pk_reference\n",
    "            ax.semilogx(k_array, ratio, \n",
    "                       color=colors[i], alpha=0.7,\n",
    "                       label=f'{param_to_vary}={param_val:.3f}')\n",
    "        ax.axhline(1.0, color='black', linestyle='--', alpha=0.5)\n",
    "        ax.set_xlabel('k [h/Mpc]')\n",
    "        ax.set_ylabel('P(k) / P(k)_median')\n",
    "        ax.set_title(f'PS Ratio vs {param_to_vary}')\n",
    "        ax.grid(True, alpha=0.3)\n",
    "\n",
    "        # Plot 3: PDF\n",
    "        ax = axes[1, 0]\n",
    "        if len(self.bin_sim_linear.shape) > 1:\n",
    "            bin_edges = self.bin_sim_linear[0]\n",
    "        else:\n",
    "            bin_edges = self.bin_sim_linear\n",
    "        bin_centers = (bin_edges[:-1] + bin_edges[1:]) / 2\n",
    "\n",
    "        for i, idx in enumerate(selected_idx):\n",
    "            param_val = self.train_params[idx, param_idx]\n",
    "            ax.semilogy(bin_centers, self.pdf_sim_linear[idx], \n",
    "                       color=colors[i], alpha=0.7,\n",
    "                       label=f'{param_to_vary}={param_val:.3f}')\n",
    "        ax.set_xlabel('Line Intensity')\n",
    "        ax.set_ylabel('PDF')\n",
    "        ax.set_title(f'PDF vs {param_to_vary}\\n({other_param} fixed)')\n",
    "        ax.grid(True, alpha=0.3)\n",
    "        if len(selected_idx) <= 5:\n",
    "            ax.legend(fontsize=8)\n",
    "\n",
    "        # Plot 4: PDF ratio\n",
    "        ax = axes[1, 1]\n",
    "        pdf_reference = self.pdf_sim_linear[median_idx]\n",
    "        for i, idx in enumerate(selected_idx):\n",
    "            param_val = self.train_params[idx, param_idx]\n",
    "            mask_valid = pdf_reference > 1e-10\n",
    "            ratio = np.ones_like(self.pdf_sim_linear[idx])\n",
    "            ratio[mask_valid] = self.pdf_sim_linear[idx][mask_valid] / pdf_reference[mask_valid]\n",
    "            ax.plot(bin_centers, ratio, \n",
    "                   color=colors[i], alpha=0.7,\n",
    "                   label=f'{param_to_vary}={param_val:.3f}')\n",
    "        ax.axhline(1.0, color='black', linestyle='--', alpha=0.5)\n",
    "        ax.set_xlabel('Line Intensity')\n",
    "        ax.set_ylabel('PDF / PDF_median')\n",
    "        ax.set_title(f'PDF Ratio vs {param_to_vary}')\n",
    "        ax.grid(True, alpha=0.3)\n",
    "        ax.set_ylim(0.5, 2.0)\n",
    "\n",
    "        # Add colorbar\n",
    "        sm = plt.cm.ScalarMappable(cmap=cm.viridis, norm=norm)\n",
    "        sm.set_array([])\n",
    "        cbar = plt.colorbar(sm, ax=axes.ravel().tolist(), pad=0.02, aspect=30)\n",
    "        cbar.set_label(f'{param_to_vary}', fontsize=10)\n",
    "\n",
    "        plt.suptitle(f'Effect of {param_to_vary} on Observables', fontsize=14)\n",
    "        plt.show()\n",
    "\n",
    "        # Print statistics\n",
    "        print(f\"\\nParameter ranges in selected samples:\")\n",
    "        print(f\"{param_to_vary}: [{param_values.min():.3f}, {param_values.max():.3f}]\")\n",
    "        if len(self.param_names) == 2:\n",
    "            print(f\"{other_param}: fixed at {fixed_value:.3f} ± {tolerance:.3f}\")\n",
    "        else:\n",
    "            print(f\"All other parameters: fixed near median ± {tolerance:.3f}\")\n",
    "\n",
    "        # Calculate sensitivity\n",
    "        pk_change = (self.pk_sim[selected_idx[-1]].mean() / \n",
    "                     self.pk_sim[selected_idx[0]].mean())\n",
    "        pdf_peak_change = (self.pdf_sim_linear[selected_idx[-1]].max() / \n",
    "                           self.pdf_sim_linear[selected_idx[0]].max())\n",
    "\n",
    "        print(f\"\\nSensitivity to {param_to_vary}:\")\n",
    "        print(f\"  PS mean change: {pk_change:.2f}x\")\n",
    "        print(f\"  PDF peak change: {pdf_peak_change:.2f}x\")\n",
    "\n",
    "\n",
    "def setup_gpu():\n",
    "    \"\"\"\n",
    "    Check and setup GPU availability\n",
    "    \"\"\"\n",
    "    cuda_available = torch.cuda.is_available()\n",
    "    \n",
    "    if cuda_available:\n",
    "        device = \"cuda\"\n",
    "        gpu_name = torch.cuda.get_device_name(0)\n",
    "        gpu_count = torch.cuda.device_count()\n",
    "        print(f\"✓ CUDA is available\")\n",
    "        print(f\"  Device: {gpu_name}\")\n",
    "        print(f\"  Number of GPUs: {gpu_count}\")\n",
    "        print(f\"  CUDA Version: {torch.version.cuda}\")\n",
    "        \n",
    "        # Print GPU memory info\n",
    "        for i in range(gpu_count):\n",
    "            props = torch.cuda.get_device_properties(i)\n",
    "            print(f\"  GPU {i} Memory: {props.total_memory / 1e9:.2f} GB\")\n",
    "    else:\n",
    "        device = \"cpu\"\n",
    "        print(\"⚠ CUDA is NOT available, using CPU\")\n",
    "        print(\"  This will be significantly slower!\")\n",
    "    \n",
    "    return device\n",
    "\n",
    "\n",
    "def compute_calibration_error(tester, n_calibration_samples=50):\n",
    "    \"\"\"\n",
    "    Compute calibration error from the tester object.\n",
    "    Returns mean squared error from perfect calibration.\n",
    "    \n",
    "    Args:\n",
    "        tester: SBIConvergenceTester object\n",
    "        n_calibration_samples: Number of calibration samples to use\n",
    "    \n",
    "    Returns:\n",
    "        float: Calibration error (lower is better)\n",
    "    \"\"\"\n",
    "    try:\n",
    "        # Get calibration data (true parameters and observations)\n",
    "        # Adjust these based on your actual SBIConvergenceTester API\n",
    "        cal_theta = tester.calibration_theta  # True parameters for calibration set\n",
    "        cal_x = tester.calibration_x          # Observations for calibration set\n",
    "        \n",
    "        n_samples = min(n_calibration_samples, len(cal_theta))\n",
    "        \n",
    "        # Arrays to store coverage results\n",
    "        coverage_68_list = []\n",
    "        coverage_95_list = []\n",
    "        \n",
    "        print(f\"    Computing calibration on {n_samples} samples...\")\n",
    "        \n",
    "        for i in range(n_samples):\n",
    "            # Get true parameter values\n",
    "            true_params = cal_theta[i]\n",
    "            obs = cal_x[i]\n",
    "            \n",
    "            # Get posterior for this observation\n",
    "            # Adjust this based on your API\n",
    "            posterior = tester.get_posterior_for_observation(obs)\n",
    "            \n",
    "            # Sample from posterior\n",
    "            posterior_samples = posterior.sample((1000,))\n",
    "            \n",
    "            # Check coverage for each parameter\n",
    "            n_params = len(tester.param_names)\n",
    "            \n",
    "            for param_idx in range(n_params):\n",
    "                true_val = true_params[param_idx]\n",
    "                param_samples = posterior_samples[:, param_idx].cpu().numpy()\n",
    "                \n",
    "                # Compute 68% credible interval (16th to 84th percentile)\n",
    "                ci_68 = np.percentile(param_samples, [16, 84])\n",
    "                in_ci_68 = (ci_68[0] <= true_val <= ci_68[1])\n",
    "                coverage_68_list.append(int(in_ci_68))\n",
    "                \n",
    "                # Compute 95% credible interval (2.5th to 97.5th percentile)\n",
    "                ci_95 = np.percentile(param_samples, [2.5, 97.5])\n",
    "                in_ci_95 = (ci_95[0] <= true_val <= ci_95[1])\n",
    "                coverage_95_list.append(int(in_ci_95))\n",
    "        \n",
    "        # Compute empirical coverage\n",
    "        empirical_coverage_68 = np.mean(coverage_68_list)\n",
    "        empirical_coverage_95 = np.mean(coverage_95_list)\n",
    "        \n",
    "        print(f\"    Empirical coverage 68%: {empirical_coverage_68:.3f}\")\n",
    "        print(f\"    Empirical coverage 95%: {empirical_coverage_95:.3f}\")\n",
    "        \n",
    "        # Compute calibration error (MSE from ideal coverage)\n",
    "        error_68 = (0.68 - empirical_coverage_68) ** 2\n",
    "        error_95 = (0.95 - empirical_coverage_95) ** 2\n",
    "        \n",
    "        total_error = error_68 + error_95\n",
    "        \n",
    "        return total_error\n",
    "        \n",
    "    except Exception as e:\n",
    "        print(f\"    ⚠ Error computing calibration: {e}\")\n",
    "        import traceback\n",
    "        traceback.print_exc()\n",
    "        return 1.0  # Return high error if calibration fails\n",
    "\n",
    "\n",
    "def objective(trial, config):\n",
    "    \"\"\"\n",
    "    Optuna objective function to minimize calibration error.\n",
    "    \n",
    "    Args:\n",
    "        trial: Optuna trial object\n",
    "        config: Dictionary with configuration (paths, constants, etc.)\n",
    "    \n",
    "    Returns:\n",
    "        float: Calibration error to minimize\n",
    "    \"\"\"\n",
    "    \n",
    "    # Suggest hyperparameters\n",
    "    learning_rate = trial.suggest_float(\"learning_rate\", 1e-5, 5e-3, log=True)\n",
    "    batch_size = trial.suggest_categorical(\"training_batch_size\", [32, 50, 100, 150, 200])\n",
    "    stop_after_epochs = trial.suggest_int(\"stop_after_epochs\", 10, 30)\n",
    "    max_num_epochs = trial.suggest_int(\"max_num_epochs\", 300, 1500)\n",
    "    validation_fraction = trial.suggest_float(\"validation_fraction\", 0.15, 0.35)\n",
    "    \n",
    "    # Build training dictionary\n",
    "    input_training_dict = {\n",
    "        \"max_num_epochs\": max_num_epochs,\n",
    "        \"stop_after_epochs\": stop_after_epochs,\n",
    "        \"training_batch_size\": batch_size,\n",
    "        \"learning_rate\": learning_rate,\n",
    "        \"validation_fraction\": validation_fraction,\n",
    "    }\n",
    "    \n",
    "    # Print trial info\n",
    "    print(f\"\\n{'='*70}\")\n",
    "    print(f\"Trial {trial.number}: Testing hyperparameters\")\n",
    "    print(f\"{'='*70}\")\n",
    "    print(f\"  Learning rate:        {learning_rate:.2e}\")\n",
    "    print(f\"  Batch size:           {batch_size}\")\n",
    "    print(f\"  Stop after epochs:    {stop_after_epochs}\")\n",
    "    print(f\"  Max epochs:           {max_num_epochs}\")\n",
    "    print(f\"  Validation fraction:  {validation_fraction:.3f}\")\n",
    "    print(f\"{'='*70}\")\n",
    "    \n",
    "    try:\n",
    "        # Create trial-specific output directory\n",
    "        trial_output = os.path.join(config['output_root'], f\"trial_{trial.number}\")\n",
    "        os.makedirs(trial_output, exist_ok=True)\n",
    "        \n",
    "        # Create and setup tester\n",
    "        print(f\"  Creating SBIConvergenceTester...\")\n",
    "        tester_ps = SBIConvergenceTester(\n",
    "            param_names=config['param_names'],\n",
    "            inference_methods=config['inference_methods'],\n",
    "            analysis_methods=config['analysis_methods'],\n",
    "            n_train=config['n_train'],\n",
    "            n_test=config['n_test'],\n",
    "            n_calibration=config['n_calibration'],\n",
    "            test_obs_idx=config['test_obs_idx'],\n",
    "            check_dependencies=False\n",
    "        )\n",
    "        \n",
    "        # Load data\n",
    "        print(f\"  Loading data from {config['sim_root']}...\")\n",
    "        tester_ps.load_data(config['sim_root'], config['seed'])\n",
    "        \n",
    "        # Setup limference with trial hyperparameters\n",
    "        print(f\"  Setting up LIMference...\")\n",
    "        tester_ps.setup_limference(trial_output, training_kwargs=input_training_dict)\n",
    "        \n",
    "        # Train models\n",
    "        print(f\"  Training models...\")\n",
    "        start_time = datetime.now()\n",
    "        tester_ps.train_models()\n",
    "        training_time = (datetime.now() - start_time).total_seconds()\n",
    "        print(f\"  Training completed in {training_time:.1f} seconds\")\n",
    "        \n",
    "        # Compute calibration error\n",
    "        print(f\"  Computing calibration error...\")\n",
    "        cal_error = compute_calibration_error(tester_ps, n_calibration_samples=config['n_calibration'])\n",
    "        \n",
    "        # Report intermediate value for pruning\n",
    "        trial.report(cal_error, step=0)\n",
    "        \n",
    "        # Check if trial should be pruned\n",
    "        if trial.should_prune():\n",
    "            print(f\"  Trial {trial.number} pruned!\")\n",
    "            raise optuna.TrialPruned()\n",
    "        \n",
    "        print(f\"  ✓ Calibration error: {cal_error:.6f}\")\n",
    "        print(f\"{'='*70}\\n\")\n",
    "        \n",
    "        return cal_error\n",
    "        \n",
    "    except optuna.TrialPruned:\n",
    "        raise\n",
    "    except Exception as e:\n",
    "        print(f\"  ✗ Trial {trial.number} failed with error: {e}\")\n",
    "        import traceback\n",
    "        traceback.print_exc()\n",
    "        print(f\"{'='*70}\\n\")\n",
    "        return 1.0  # Return high error for failed trials\n",
    "\n",
    "\n",
    "def visualize_optimization(study, output_dir):\n",
    "    \"\"\"\n",
    "    Create and save optimization visualizations\n",
    "    \n",
    "    Args:\n",
    "        study: Optuna study object\n",
    "        output_dir: Directory to save plots\n",
    "    \"\"\"\n",
    "    print(f\"\\n{'='*70}\")\n",
    "    print(\"Creating Optimization Visualizations\")\n",
    "    print(f\"{'='*70}\")\n",
    "    \n",
    "    os.makedirs(output_dir, exist_ok=True)\n",
    "    \n",
    "    # 1. Optimization history\n",
    "    try:\n",
    "        print(\"  Creating optimization history plot...\")\n",
    "        fig = plot_optimization_history(study)\n",
    "        fig.write_image(os.path.join(output_dir, \"optimization_history.png\"))\n",
    "        print(\"    ✓ Saved: optimization_history.png\")\n",
    "    except Exception as e:\n",
    "        print(f\"    ✗ Failed: {e}\")\n",
    "    \n",
    "    # 2. Parameter importances\n",
    "    try:\n",
    "        print(\"  Creating parameter importance plot...\")\n",
    "        fig = plot_param_importances(study)\n",
    "        fig.write_image(os.path.join(output_dir, \"param_importances.png\"))\n",
    "        print(\"    ✓ Saved: param_importances.png\")\n",
    "    except Exception as e:\n",
    "        print(f\"    ✗ Failed: {e}\")\n",
    "    \n",
    "    # 3. Contour plots for parameter pairs\n",
    "    try:\n",
    "        print(\"  Creating contour plots...\")\n",
    "        param_pairs = [\n",
    "            [\"learning_rate\", \"training_batch_size\"],\n",
    "            [\"learning_rate\", \"validation_fraction\"],\n",
    "            [\"stop_after_epochs\", \"max_num_epochs\"]\n",
    "        ]\n",
    "        \n",
    "        for params in param_pairs:\n",
    "            try:\n",
    "                fig = plot_contour(study, params=params)\n",
    "                filename = f\"contour_{'_vs_'.join(params)}.png\"\n",
    "                fig.write_image(os.path.join(output_dir, filename))\n",
    "                print(f\"    ✓ Saved: {filename}\")\n",
    "            except Exception as e:\n",
    "                print(f\"    ✗ Failed for {params}: {e}\")\n",
    "    except Exception as e:\n",
    "        print(f\"    ✗ Failed: {e}\")\n",
    "    \n",
    "    print(f\"{'='*70}\\n\")\n",
    "\n",
    "\n",
    "def train_final_model(config, best_params):\n",
    "    \"\"\"\n",
    "    Train final model with best hyperparameters\n",
    "    \n",
    "    Args:\n",
    "        config: Configuration dictionary\n",
    "        best_params: Best hyperparameters from Optuna\n",
    "    \n",
    "    Returns:\n",
    "        SBIConvergenceTester: Trained tester object\n",
    "    \"\"\"\n",
    "    print(f\"\\n{'='*70}\")\n",
    "    print(\"Training Final Model with Best Hyperparameters\")\n",
    "    print(f\"{'='*70}\")\n",
    "    \n",
    "    # Build training dictionary with best params\n",
    "    best_training_dict = {\n",
    "        \"max_num_epochs\": best_params[\"max_num_epochs\"],\n",
    "        \"stop_after_epochs\": best_params[\"stop_after_epochs\"],\n",
    "        \"training_batch_size\": best_params[\"training_batch_size\"],\n",
    "        \"learning_rate\": best_params[\"learning_rate\"],\n",
    "        \"validation_fraction\": best_params[\"validation_fraction\"],\n",
    "    }\n",
    "    \n",
    "    print(\"Best hyperparameters:\")\n",
    "    for key, value in best_training_dict.items():\n",
    "        print(f\"  {key}: {value}\")\n",
    "    print(f\"{'='*70}\")\n",
    "    \n",
    "    # Create final output directory\n",
    "    final_output = os.path.join(config['output_root'], \"best_model\")\n",
    "    os.makedirs(final_output, exist_ok=True)\n",
    "    \n",
    "    # Create and setup tester\n",
    "    print(\"Creating final tester...\")\n",
    "    tester_final = SBIConvergenceTester(\n",
    "        param_names=config['param_names'],\n",
    "        inference_methods=config['inference_methods'],\n",
    "        analysis_methods=config['analysis_methods'],\n",
    "        n_train=config['n_train'],\n",
    "        n_test=config['n_test'],\n",
    "        n_calibration=config['n_calibration'],\n",
    "        test_obs_idx=config['test_obs_idx'],\n",
    "        check_dependencies=False\n",
    "    )\n",
    "    \n",
    "    print(\"Loading data...\")\n",
    "    tester_final.load_data(config['sim_root'], config['seed'])\n",
    "    \n",
    "    print(\"Setting up LIMference with best hyperparameters...\")\n",
    "    tester_final.setup_limference(final_output, training_kwargs=best_training_dict)\n",
    "    \n",
    "    print(\"Training final model...\")\n",
    "    start_time = datetime.now()\n",
    "    tester_final.train_models()\n",
    "    training_time = (datetime.now() - start_time).total_seconds()\n",
    "    print(f\"✓ Training completed in {training_time:.1f} seconds\")\n",
    "    \n",
    "    print(\"Running calibration...\")\n",
    "    try:\n",
    "        tester_final.calibrate_posteriors()\n",
    "        print(\"✓ Calibration completed\")\n",
    "    except Exception as e:\n",
    "        print(f\"⚠ Calibration failed: {e}\")\n",
    "    \n",
    "    print(\"Running test recovery...\")\n",
    "    try:\n",
    "        tester_final.test_recovery()\n",
    "        print(\"✓ Test recovery completed\")\n",
    "    except Exception as e:\n",
    "        print(f\"⚠ Test recovery failed: {e}\")\n",
    "    \n",
    "    print(\"Creating plots...\")\n",
    "    try:\n",
    "        tester_final.plot_results()\n",
    "        print(\"✓ Plots created\")\n",
    "    except Exception as e:\n",
    "        print(f\"⚠ Plot creation failed: {e}\")\n",
    "    \n",
    "    print(f\"{'='*70}\\n\")\n",
    "    \n",
    "    return tester_final\n",
    "\n",
    "\n",
    "def save_results(study, config, output_dir):\n",
    "    \"\"\"\n",
    "    Save optimization results and summary\n",
    "    \n",
    "    Args:\n",
    "        study: Optuna study object\n",
    "        config: Configuration dictionary\n",
    "        output_dir: Directory to save results\n",
    "    \"\"\"\n",
    "    print(f\"\\n{'='*70}\")\n",
    "    print(\"Saving Results\")\n",
    "    print(f\"{'='*70}\")\n",
    "    \n",
    "    # Save study object\n",
    "    study_path = os.path.join(output_dir, \"optuna_study.pkl\")\n",
    "    joblib.dump(study, study_path)\n",
    "    print(f\"✓ Study saved to: {study_path}\")\n",
    "    \n",
    "    # Save best parameters as text file\n",
    "    best_params_path = os.path.join(output_dir, \"best_hyperparameters.txt\")\n",
    "    with open(best_params_path, 'w') as f:\n",
    "        f.write(\"=\"*70 + \"\\n\")\n",
    "        f.write(\"OPTUNA HYPERPARAMETER OPTIMIZATION RESULTS\\n\")\n",
    "        f.write(\"=\"*70 + \"\\n\\n\")\n",
    "        f.write(f\"Date: {datetime.now().strftime('%Y-%m-%d %H:%M:%S')}\\n\\n\")\n",
    "        \n",
    "        f.write(f\"Best calibration error: {study.best_value:.6f}\\n\\n\")\n",
    "        \n",
    "        f.write(\"Best hyperparameters:\\n\")\n",
    "        for key, value in study.best_params.items():\n",
    "            f.write(f\"  {key}: {value}\\n\")\n",
    "        \n",
    "        f.write(\"\\n\" + \"=\"*70 + \"\\n\")\n",
    "        f.write(\"Configuration\\n\")\n",
    "        f.write(\"=\"*70 + \"\\n\")\n",
    "        for key, value in config.items():\n",
    "            f.write(f\"  {key}: {value}\\n\")\n",
    "        \n",
    "        f.write(\"\\n\" + \"=\"*70 + \"\\n\")\n",
    "        f.write(\"All Trials Summary\\n\")\n",
    "        f.write(\"=\"*70 + \"\\n\")\n",
    "        \n",
    "        df = study.trials_dataframe()\n",
    "        f.write(df.to_string())\n",
    "    \n",
    "    print(f\"✓ Best parameters saved to: {best_params_path}\")\n",
    "    \n",
    "    # Save trials dataframe as CSV\n",
    "    csv_path = os.path.join(output_dir, \"optuna_trials.csv\")\n",
    "    df = study.trials_dataframe()\n",
    "    df.to_csv(csv_path, index=False)\n",
    "    print(f\"✓ Trials data saved to: {csv_path}\")\n",
    "    \n",
    "    print(f\"{'='*70}\\n\")\n",
    "\n",
    "\n",
    "def main():\n",
    "    \"\"\"\n",
    "    Main function to run Optuna optimization\n",
    "    \"\"\"\n",
    "    \n",
    "    # Parse command line arguments\n",
    "    parser = argparse.ArgumentParser(\n",
    "        description=\"Optuna hyperparameter optimization for LIMference\"\n",
    "    )\n",
    "    parser.add_argument(\n",
    "        '--sim-root',\n",
    "        type=str,\n",
    "        default=\"/Users/anirbanroy/Desktop/test_maps_all_params/\",\n",
    "        help='Root directory for simulation data'\n",
    "    )\n",
    "    parser.add_argument(\n",
    "        '--output-root',\n",
    "        type=str,\n",
    "        default=\"/Users/anirbanroy/Desktop/output_optuna\",\n",
    "        help='Root directory for output files'\n",
    "    )\n",
    "    parser.add_argument(\n",
    "        '--seed',\n",
    "        type=int,\n",
    "        default=51,\n",
    "        help='Random seed'\n",
    "    )\n",
    "    parser.add_argument(\n",
    "        '--test-obs-idx',\n",
    "        type=int,\n",
    "        default=0,\n",
    "        help='Test observation index'\n",
    "    )\n",
    "    parser.add_argument(\n",
    "        '--n-trials',\n",
    "        type=int,\n",
    "        default=30,\n",
    "        help='Number of Optuna trials'\n",
    "    )\n",
    "    parser.add_argument(\n",
    "        '--n-train',\n",
    "        type=int,\n",
    "        default=2500,\n",
    "        help='Number of training samples'\n",
    "    )\n",
    "    parser.add_argument(\n",
    "        '--n-test',\n",
    "        type=int,\n",
    "        default=500,\n",
    "        help='Number of test samples'\n",
    "    )\n",
    "    parser.add_argument(\n",
    "        '--n-calibration',\n",
    "        type=int,\n",
    "        default=50,\n",
    "        help='Number of calibration samples'\n",
    "    )\n",
    "    parser.add_argument(\n",
    "        '--timeout',\n",
    "        type=int,\n",
    "        default=None,\n",
    "        help='Timeout in seconds (None for no limit)'\n",
    "    )\n",
    "    parser.add_argument(\n",
    "        '--storage',\n",
    "        type=str,\n",
    "        default=None,\n",
    "        help='Database URL for distributed optimization (e.g., sqlite:///optuna.db)'\n",
    "    )\n",
    "    parser.add_argument(\n",
    "        '--study-name',\n",
    "        type=str,\n",
    "        default='limference_optuna',\n",
    "        help='Name of the Optuna study'\n",
    "    )\n",
    "    parser.add_argument(\n",
    "        '--load-if-exists',\n",
    "        action='store_true',\n",
    "        help='Load existing study if it exists'\n",
    "    )\n",
    "    \n",
    "    args = parser.parse_args()\n",
    "    \n",
    "    # Print header\n",
    "    print(\"\\n\" + \"=\"*70)\n",
    "    print(\"OPTUNA HYPERPARAMETER OPTIMIZATION FOR LIMFERENCE\")\n",
    "    print(\"=\"*70)\n",
    "    print(f\"Start time: {datetime.now().strftime('%Y-%m-%d %H:%M:%S')}\")\n",
    "    print(\"=\"*70 + \"\\n\")\n",
    "    \n",
    "    # Setup GPU\n",
    "    device = setup_gpu()\n",
    "    print()\n",
    "    \n",
    "    # Create output directory\n",
    "    os.makedirs(args.output_root, exist_ok=True)\n",
    "    \n",
    "    # Configuration dictionary\n",
    "    config = {\n",
    "        'sim_root': args.sim_root,\n",
    "        'output_root': args.output_root,\n",
    "        'seed': args.seed,\n",
    "        'test_obs_idx': args.test_obs_idx,\n",
    "        'param_names': [\"sigma8\", \"omega_m\", \"a_off\", \"b_off\"],\n",
    "        'inference_methods': [\"NPE\"],\n",
    "        'analysis_methods': [\"pdf\"],\n",
    "        'n_train': args.n_train,\n",
    "        'n_test': args.n_test,\n",
    "        'n_calibration': args.n_calibration,\n",
    "    }\n",
    "    \n",
    "    print(\"Configuration:\")\n",
    "    for key, value in config.items():\n",
    "        print(f\"  {key}: {value}\")\n",
    "    print(f\"  n_trials: {args.n_trials}\")\n",
    "    print(f\"  timeout: {args.timeout}\")\n",
    "    print(f\"  storage: {args.storage if args.storage else 'In-memory'}\")\n",
    "    print(\"=\"*70 + \"\\n\")\n",
    "    \n",
    "    # Create or load Optuna study\n",
    "    print(\"Setting up Optuna study...\")\n",
    "    \n",
    "    study_kwargs = {\n",
    "        'direction': 'minimize',\n",
    "        'study_name': args.study_name,\n",
    "        'pruner': optuna.pruners.MedianPruner(\n",
    "            n_startup_trials=5,\n",
    "            n_warmup_steps=3\n",
    "        )\n",
    "    }\n",
    "    \n",
    "    if args.storage:\n",
    "        study_kwargs['storage'] = args.storage\n",
    "        study_kwargs['load_if_exists'] = args.load_if_exists\n",
    "    \n",
    "    study = optuna.create_study(**study_kwargs)\n",
    "    \n",
    "    print(f\"✓ Study created: {args.study_name}\")\n",
    "    print(f\"  Direction: minimize\")\n",
    "    print(f\"  Pruner: MedianPruner\")\n",
    "    if args.storage:\n",
    "        print(f\"  Storage: {args.storage}\")\n",
    "    print(\"=\"*70 + \"\\n\")\n",
    "    \n",
    "    # Run optimization\n",
    "    print(\"Starting optimization...\")\n",
    "    print(f\"Running {args.n_trials} trials...\")\n",
    "    print(\"=\"*70 + \"\\n\")\n",
    "    \n",
    "    try:\n",
    "        study.optimize(\n",
    "            lambda trial: objective(trial, config),\n",
    "            n_trials=args.n_trials,\n",
    "            timeout=args.timeout,\n",
    "            show_progress_bar=True\n",
    "        )\n",
    "    except KeyboardInterrupt:\n",
    "        print(\"\\n⚠ Optimization interrupted by user\")\n",
    "    \n",
    "    # Print results\n",
    "    print(\"\\n\" + \"=\"*70)\n",
    "    print(\"OPTIMIZATION COMPLETE\")\n",
    "    print(\"=\"*70)\n",
    "    print(f\"End time: {datetime.now().strftime('%Y-%m-%d %H:%M:%S')}\")\n",
    "    print(f\"\\nNumber of finished trials: {len(study.trials)}\")\n",
    "    print(f\"Best trial: {study.best_trial.number}\")\n",
    "    print(f\"Best calibration error: {study.best_value:.6f}\")\n",
    "    print(\"\\nBest hyperparameters:\")\n",
    "    for key, value in study.best_params.items():\n",
    "        if isinstance(value, float):\n",
    "            print(f\"  {key}: {value:.2e}\" if value < 0.01 else f\"  {key}: {value:.4f}\")\n",
    "        else:\n",
    "            print(f\"  {key}: {value}\")\n",
    "    print(\"=\"*70 + \"\\n\")\n",
    "    \n",
    "    # Save results\n",
    "    save_results(study, config, args.output_root)\n",
    "    \n",
    "    # Create visualizations\n",
    "    visualize_optimization(study, os.path.join(args.output_root, \"plots\"))\n",
    "    \n",
    "    # Train final model with best hyperparameters\n",
    "    print(\"Training final model with best hyperparameters...\")\n",
    "    tester_final = train_final_model(config, study.best_params)\n",
    "    \n",
    "    # Final summary\n",
    "    print(\"\\n\" + \"=\"*70)\n",
    "    print(\"ALL TASKS COMPLETE!\")\n",
    "    print(\"=\"*70)\n",
    "    print(f\"Results saved to: {args.output_root}\")\n",
    "    print(f\"Best model saved to: {os.path.join(args.output_root, 'best_model')}\")\n",
    "    print(\"=\"*70 + \"\\n\")\n",
    "\n",
    "\n",
    "if __name__ == \"__main__\":\n",
    "    main()"
   ]
  }
 ],
 "metadata": {
  "kernelspec": {
   "display_name": "Python 3 (ipykernel)",
   "language": "python",
   "name": "python3"
  },
  "language_info": {
   "codemirror_mode": {
    "name": "ipython",
    "version": 3
   },
   "file_extension": ".py",
   "mimetype": "text/x-python",
   "name": "python",
   "nbconvert_exporter": "python",
   "pygments_lexer": "ipython3",
   "version": "3.10.16"
  }
 },
 "nbformat": 4,
 "nbformat_minor": 5
}
